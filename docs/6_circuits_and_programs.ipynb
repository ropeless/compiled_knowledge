{
 "cells": [
  {
   "cell_type": "markdown",
   "metadata": {
    "collapsed": false
   },
   "source": [
    "# Circuits and Programs"
   ]
  },
  {
   "cell_type": "markdown",
   "metadata": {
    "collapsed": false
   },
   "source": [
    "## Overview of Circuits\n",
    "\n",
    "In CK the circuit and program functionality are directly available, independently of a PGM.\n",
    "\n",
    "An arithmetic circuit defines an arithmetic function from input variables (`VarNode` objects)\n",
    "and constant values (`ConstNode` objects) to one or more result values. Computation is defined\n",
    "over a mathematical ring, with two operations: addition and multiplication (represented\n",
    "by `OpNode` objects).\n",
    "\n",
    "An arithmetic circuit needs to be compiled to a program to execute the function.\n",
    "\n",
    "Every `ConstNode` has a value (`float`, `int` or `bool`) that is immutable. A `ConstNode`\n",
    "is identified in a `Circuit` by its value and the values are unique within the circuit.\n",
    "\n",
    "Every `VarNode` has an index (`idx`) which is a sequence number, starting from zero,\n",
    "indicating when that `VarNode` was added to its `Circuit`.\n",
    "\n",
    "A `VarNode` may be temporarily be set to a constant value. This is useful when compiling\n",
    "a circuit as compilers can make optimisations knowing that certain values are constant.\n",
    "\n",
    "A `OpNode` represents an arithmetic operation. The arguments of an `OpNode` belong to the\n",
    "same circuit as the `OpNode`.\n",
    "\n",
    "All nodes belong to a circuit. All nodes are immutable, with the exception that a\n",
    "`VarNode` may be temporarily be set to a constant value.\n"
   ]
  },
  {
   "cell_type": "markdown",
   "metadata": {},
   "source": [
    "## Overview of Programs\n",
    "\n",
    "A program represents an arithmetic a function from input values to output values.\n",
    "\n",
    "A `Program` object wraps a `RawProgram` object which is returned by a circuit compiler. The purpose of\n",
    "a `Program` is to make calling a `RawProgram` more convenient for interactive use, and it provides\n",
    "some backwards compatibility with older versions of CK.\n",
    "\n",
    "A `RawProgram` can also be wrapped by a `ProgramBuffer`, which provides pre-allocated buffers for input, output, and temporary values. `ProgramBuffer` objects are used extensively for PGM queries to enable\n",
    "efficient and convenient computation.\n",
    "\n",
    "Every `RawProgram` has a numpy `dtype` which defines the numeric data type for input and output\n",
    "values. Typically, the `dtype` of a program is a C style double.\n",
    "\n",
    "Internally, a `RawProgram` delegates to a `RawProgramFunction` which is a `Callable` with the signature:\n",
    "```\n",
    "    f(in: Pointer, tmp: Pointer, out: Pointer) -> None\n",
    "```\n",
    "\n",
    "The three arguments are `ctypes` pointers to arrays of the specified `dtype`. The arguments are\n",
    "(1) input values, (2) temporary working memory, and (3) output values.\n",
    "A `RawProgram` records the required sizes for the arguments and records the mapping from the\n",
    "input parameters to the circuit variables (as provided to the circuit compiler).\n",
    "\n",
    "A `RawProgramFunction` is expected to place result in the output array (argument 3) and not write\n",
    "to the input array (argument 1). The memory provided by argument 2 can be used at the function's\n",
    "discretion.\n",
    "\n",
    "Note that use of `RawProgram` and `Program` functions are thread-safe. However, a `ProgramBuffer` object\n",
    "is not thread-safe due to the buffers that are pre-allocated and reused by the object.\n"
   ]
  },
  {
   "cell_type": "markdown",
   "metadata": {
    "collapsed": false
   },
   "source": [
    "## Circuits\n",
    "\n",
    "Here we create a simple demonstration circuit representing the expression: $x0 * x1 + 123$."
   ]
  },
  {
   "cell_type": "code",
   "execution_count": 1,
   "metadata": {
    "ExecuteTime": {
     "end_time": "2025-05-12T23:21:49.501613Z",
     "start_time": "2025-05-12T23:21:49.485584Z"
    },
    "collapsed": false,
    "execution": {
     "iopub.execute_input": "2025-05-22T21:37:57.019242Z",
     "iopub.status.busy": "2025-05-22T21:37:57.019242Z",
     "iopub.status.idle": "2025-05-22T21:37:57.030265Z",
     "shell.execute_reply": "2025-05-22T21:37:57.030265Z"
    }
   },
   "outputs": [],
   "source": [
    "from ck.circuit import Circuit\n",
    "\n",
    "cct = Circuit()\n",
    "\n",
    "x0 = cct.new_var()  # this var will have index 0\n",
    "x1 = cct.new_var()  # this var will have index 1\n",
    "c123 = cct.const(123)\n",
    "m = cct.mul(x0, x1)\n",
    "a = cct.add(c123, m)"
   ]
  },
  {
   "cell_type": "markdown",
   "metadata": {
    "collapsed": false
   },
   "source": [
    "Every circuit variable has an index, starting from zero and counting in the order that the variables were created."
   ]
  },
  {
   "cell_type": "code",
   "execution_count": 2,
   "metadata": {
    "ExecuteTime": {
     "end_time": "2025-05-12T23:21:49.508484Z",
     "start_time": "2025-05-12T23:21:49.501613Z"
    },
    "collapsed": false,
    "execution": {
     "iopub.execute_input": "2025-05-22T21:37:57.030265Z",
     "iopub.status.busy": "2025-05-22T21:37:57.030265Z",
     "iopub.status.idle": "2025-05-22T21:37:57.035023Z",
     "shell.execute_reply": "2025-05-22T21:37:57.035023Z"
    }
   },
   "outputs": [
    {
     "name": "stdout",
     "output_type": "stream",
     "text": [
      "0 1\n"
     ]
    }
   ],
   "source": [
    "print(x0.idx, x1.idx)"
   ]
  },
  {
   "cell_type": "markdown",
   "metadata": {
    "collapsed": false
   },
   "source": [
    "Circuit variables can be accessed from the circuit by their index."
   ]
  },
  {
   "cell_type": "code",
   "execution_count": 3,
   "metadata": {
    "ExecuteTime": {
     "end_time": "2025-05-12T23:21:49.684189Z",
     "start_time": "2025-05-12T23:21:49.679096Z"
    },
    "collapsed": false,
    "execution": {
     "iopub.execute_input": "2025-05-22T21:37:57.050683Z",
     "iopub.status.busy": "2025-05-22T21:37:57.050683Z",
     "iopub.status.idle": "2025-05-22T21:37:57.068444Z",
     "shell.execute_reply": "2025-05-22T21:37:57.068444Z"
    }
   },
   "outputs": [
    {
     "data": {
      "text/plain": [
       "<ck.circuit.circuit.VarNode at 0x26cf097cb00>"
      ]
     },
     "execution_count": 3,
     "metadata": {},
     "output_type": "execute_result"
    }
   ],
   "source": [
    "cct.vars[0]"
   ]
  },
  {
   "cell_type": "code",
   "execution_count": 4,
   "metadata": {
    "ExecuteTime": {
     "end_time": "2025-05-12T23:21:49.693586Z",
     "start_time": "2025-05-12T23:21:49.690119Z"
    },
    "collapsed": false,
    "execution": {
     "iopub.execute_input": "2025-05-22T21:37:57.068444Z",
     "iopub.status.busy": "2025-05-22T21:37:57.068444Z",
     "iopub.status.idle": "2025-05-22T21:37:57.073488Z",
     "shell.execute_reply": "2025-05-22T21:37:57.073488Z"
    }
   },
   "outputs": [
    {
     "data": {
      "text/plain": [
       "True"
      ]
     },
     "execution_count": 4,
     "metadata": {},
     "output_type": "execute_result"
    }
   ],
   "source": [
    "x0 == cct.vars[0]"
   ]
  },
  {
   "cell_type": "code",
   "execution_count": 5,
   "metadata": {
    "ExecuteTime": {
     "end_time": "2025-05-12T23:21:49.703026Z",
     "start_time": "2025-05-12T23:21:49.699366Z"
    },
    "collapsed": false,
    "execution": {
     "iopub.execute_input": "2025-05-22T21:37:57.073488Z",
     "iopub.status.busy": "2025-05-22T21:37:57.073488Z",
     "iopub.status.idle": "2025-05-22T21:37:57.078377Z",
     "shell.execute_reply": "2025-05-22T21:37:57.078377Z"
    }
   },
   "outputs": [
    {
     "data": {
      "text/plain": [
       "False"
      ]
     },
     "execution_count": 5,
     "metadata": {},
     "output_type": "execute_result"
    }
   ],
   "source": [
    "x0 == cct.vars[1]"
   ]
  },
  {
   "cell_type": "markdown",
   "metadata": {},
   "source": [
    "A circuit details can be dumped to a human-readable form.\n",
    "\n",
    "Op nodes are printed in the form: {operation}<{ref-number}>: {arguments}\n",
    "\n",
    "Var nodes are printed in the form: var[\\{idx\\}]\n",
    "\n",
    "Const nodes are printed merely as constant values.\n"
   ]
  },
  {
   "cell_type": "code",
   "execution_count": 6,
   "metadata": {
    "ExecuteTime": {
     "end_time": "2025-05-12T23:21:49.712205Z",
     "start_time": "2025-05-12T23:21:49.707960Z"
    },
    "execution": {
     "iopub.execute_input": "2025-05-22T21:37:57.078377Z",
     "iopub.status.busy": "2025-05-22T21:37:57.078377Z",
     "iopub.status.idle": "2025-05-22T21:37:57.082921Z",
     "shell.execute_reply": "2025-05-22T21:37:57.082921Z"
    }
   },
   "outputs": [
    {
     "name": "stdout",
     "output_type": "stream",
     "text": [
      "number of vars: 2\n",
      "number of const nodes: 3\n",
      "number of op nodes: 2\n",
      "number of operations: 2\n",
      "number of arcs: 4\n",
      "var nodes: 2\n",
      "op nodes: 2 (arcs: 4, ops: 2)\n",
      "  add<1>: 123 mul<0>\n",
      "  mul<0>: var[0] var[1]\n"
     ]
    }
   ],
   "source": [
    "cct.dump()"
   ]
  },
  {
   "cell_type": "markdown",
   "metadata": {
    "collapsed": false
   },
   "source": [
    "## Programs\n",
    "\n",
    "A circuit can be compiled to a program by using a `CircuitCompiler`. A default circuit compiler is\n",
    "available as `ck.circuit_compiler.DEFAULT_CIRCUIT_COMPILER`. A circuit compiler\n",
    "takes a collection of `CircuitNode` objects and returns a `RawProgram` to calculate the values of the given circuit nodes.\n",
    "\n",
    "The following example compiles the circuit above."
   ]
  },
  {
   "cell_type": "code",
   "execution_count": 7,
   "metadata": {
    "ExecuteTime": {
     "end_time": "2025-05-12T23:21:49.859037Z",
     "start_time": "2025-05-12T23:21:49.717348Z"
    },
    "collapsed": false,
    "execution": {
     "iopub.execute_input": "2025-05-22T21:37:57.082921Z",
     "iopub.status.busy": "2025-05-22T21:37:57.082921Z",
     "iopub.status.idle": "2025-05-22T21:37:57.211215Z",
     "shell.execute_reply": "2025-05-22T21:37:57.211215Z"
    }
   },
   "outputs": [],
   "source": [
    "from ck.circuit_compiler import DEFAULT_CIRCUIT_COMPILER\n",
    "from ck.program import RawProgram\n",
    "\n",
    "\n",
    "raw_program: RawProgram = DEFAULT_CIRCUIT_COMPILER(a)  # `a` is the top \"addition\" node of the circuit."
   ]
  },
  {
   "cell_type": "markdown",
   "metadata": {},
   "source": [
    "Every program has a numpy `dtype` which defines the numeric data type for input and output values.\n",
    "\n",
    "In this case, the default type was used, which is a C style double."
   ]
  },
  {
   "cell_type": "code",
   "execution_count": 8,
   "metadata": {
    "ExecuteTime": {
     "end_time": "2025-05-12T23:21:49.868495Z",
     "start_time": "2025-05-12T23:21:49.865130Z"
    },
    "collapsed": false,
    "execution": {
     "iopub.execute_input": "2025-05-22T21:37:57.211215Z",
     "iopub.status.busy": "2025-05-22T21:37:57.211215Z",
     "iopub.status.idle": "2025-05-22T21:37:57.216466Z",
     "shell.execute_reply": "2025-05-22T21:37:57.216466Z"
    }
   },
   "outputs": [
    {
     "data": {
      "text/plain": [
       "ctypes.c_double"
      ]
     },
     "execution_count": 8,
     "metadata": {},
     "output_type": "execute_result"
    }
   ],
   "source": [
    "raw_program.dtype"
   ]
  },
  {
   "cell_type": "markdown",
   "metadata": {},
   "source": [
    "The raw program is a function from an input array to an output array."
   ]
  },
  {
   "cell_type": "code",
   "execution_count": 9,
   "metadata": {
    "ExecuteTime": {
     "end_time": "2025-05-12T23:21:49.883212Z",
     "start_time": "2025-05-12T23:21:49.878809Z"
    },
    "execution": {
     "iopub.execute_input": "2025-05-22T21:37:57.216466Z",
     "iopub.status.busy": "2025-05-22T21:37:57.216466Z",
     "iopub.status.idle": "2025-05-22T21:37:57.221344Z",
     "shell.execute_reply": "2025-05-22T21:37:57.221344Z"
    }
   },
   "outputs": [
    {
     "name": "stdout",
     "output_type": "stream",
     "text": [
      "[123.]\n"
     ]
    }
   ],
   "source": [
    "print(raw_program([0, 1]))"
   ]
  },
  {
   "cell_type": "markdown",
   "metadata": {},
   "source": [
    "A raw program is typically referenced and used by other objects. For example a raw program can be wrapped in a `ProgramBuffer` which provides pre-allocated buffers for input, output, and temporary values for more efficient and convenient computations."
   ]
  },
  {
   "cell_type": "code",
   "execution_count": 10,
   "metadata": {
    "ExecuteTime": {
     "end_time": "2025-05-12T23:21:49.891646Z",
     "start_time": "2025-05-12T23:21:49.883212Z"
    },
    "collapsed": false,
    "execution": {
     "iopub.execute_input": "2025-05-22T21:37:57.221344Z",
     "iopub.status.busy": "2025-05-22T21:37:57.221344Z",
     "iopub.status.idle": "2025-05-22T21:37:57.226296Z",
     "shell.execute_reply": "2025-05-22T21:37:57.226296Z"
    }
   },
   "outputs": [
    {
     "name": "stdout",
     "output_type": "stream",
     "text": [
      "123.0 456.0\n"
     ]
    }
   ],
   "source": [
    "from ck.program import ProgramBuffer\n",
    "\n",
    "program = ProgramBuffer(raw_program)\n",
    "\n",
    "program[0] = 123   # set the first program argument\n",
    "program[1] = 456   # set the second program argument\n",
    "\n",
    "\n",
    "print(program[0], program[1])\n"
   ]
  },
  {
   "cell_type": "markdown",
   "metadata": {
    "collapsed": false
   },
   "source": [
    "The result of a program buffer is obtained by calling `compute`."
   ]
  },
  {
   "cell_type": "code",
   "execution_count": 11,
   "metadata": {
    "ExecuteTime": {
     "end_time": "2025-05-12T23:21:49.901534Z",
     "start_time": "2025-05-12T23:21:49.897067Z"
    },
    "collapsed": false,
    "execution": {
     "iopub.execute_input": "2025-05-22T21:37:57.226296Z",
     "iopub.status.busy": "2025-05-22T21:37:57.226296Z",
     "iopub.status.idle": "2025-05-22T21:37:57.231313Z",
     "shell.execute_reply": "2025-05-22T21:37:57.231313Z"
    }
   },
   "outputs": [
    {
     "data": {
      "text/plain": [
       "array([56211.])"
      ]
     },
     "execution_count": 11,
     "metadata": {},
     "output_type": "execute_result"
    }
   ],
   "source": [
    "program.compute()"
   ]
  },
  {
   "cell_type": "markdown",
   "metadata": {
    "collapsed": false
   },
   "source": [
    "The last computed results are always available in the results buffer."
   ]
  },
  {
   "cell_type": "code",
   "execution_count": 12,
   "metadata": {
    "ExecuteTime": {
     "end_time": "2025-05-12T23:21:49.912049Z",
     "start_time": "2025-05-12T23:21:49.906507Z"
    },
    "collapsed": false,
    "execution": {
     "iopub.execute_input": "2025-05-22T21:37:57.231313Z",
     "iopub.status.busy": "2025-05-22T21:37:57.231313Z",
     "iopub.status.idle": "2025-05-22T21:37:57.236353Z",
     "shell.execute_reply": "2025-05-22T21:37:57.236353Z"
    }
   },
   "outputs": [
    {
     "data": {
      "text/plain": [
       "array([56211.])"
      ]
     },
     "execution_count": 12,
     "metadata": {},
     "output_type": "execute_result"
    }
   ],
   "source": [
    "program.results"
   ]
  },
  {
   "cell_type": "markdown",
   "metadata": {
    "collapsed": false
   },
   "source": [
    "In general, a program can have multiple results, which is why results are available as a numpy array.\n",
    "\n",
    "The following example returns two values. These are from circuit nodes `m` and `a`."
   ]
  },
  {
   "cell_type": "code",
   "execution_count": 13,
   "metadata": {
    "ExecuteTime": {
     "end_time": "2025-05-12T23:21:49.928513Z",
     "start_time": "2025-05-12T23:21:49.917472Z"
    },
    "collapsed": false,
    "execution": {
     "iopub.execute_input": "2025-05-22T21:37:57.236353Z",
     "iopub.status.busy": "2025-05-22T21:37:57.236353Z",
     "iopub.status.idle": "2025-05-22T21:37:57.247892Z",
     "shell.execute_reply": "2025-05-22T21:37:57.247892Z"
    }
   },
   "outputs": [],
   "source": [
    "program2 = ProgramBuffer(DEFAULT_CIRCUIT_COMPILER(m, a))"
   ]
  },
  {
   "cell_type": "code",
   "execution_count": 14,
   "metadata": {
    "ExecuteTime": {
     "end_time": "2025-05-12T23:21:49.937943Z",
     "start_time": "2025-05-12T23:21:49.933578Z"
    },
    "collapsed": false,
    "execution": {
     "iopub.execute_input": "2025-05-22T21:37:57.247892Z",
     "iopub.status.busy": "2025-05-22T21:37:57.247892Z",
     "iopub.status.idle": "2025-05-22T21:37:57.252980Z",
     "shell.execute_reply": "2025-05-22T21:37:57.252980Z"
    }
   },
   "outputs": [
    {
     "data": {
      "text/plain": [
       "2"
      ]
     },
     "execution_count": 14,
     "metadata": {},
     "output_type": "execute_result"
    }
   ],
   "source": [
    "program2.number_of_results"
   ]
  },
  {
   "cell_type": "code",
   "execution_count": 15,
   "metadata": {
    "ExecuteTime": {
     "end_time": "2025-05-12T23:21:49.946800Z",
     "start_time": "2025-05-12T23:21:49.943205Z"
    },
    "collapsed": false,
    "execution": {
     "iopub.execute_input": "2025-05-22T21:37:57.252980Z",
     "iopub.status.busy": "2025-05-22T21:37:57.252980Z",
     "iopub.status.idle": "2025-05-22T21:37:57.257176Z",
     "shell.execute_reply": "2025-05-22T21:37:57.257176Z"
    }
   },
   "outputs": [],
   "source": [
    "program2[0] = 30\n",
    "program2[1] = 50"
   ]
  },
  {
   "cell_type": "code",
   "execution_count": 16,
   "metadata": {
    "ExecuteTime": {
     "end_time": "2025-05-12T23:21:49.956771Z",
     "start_time": "2025-05-12T23:21:49.951848Z"
    },
    "collapsed": false,
    "execution": {
     "iopub.execute_input": "2025-05-22T21:37:57.257176Z",
     "iopub.status.busy": "2025-05-22T21:37:57.257176Z",
     "iopub.status.idle": "2025-05-22T21:37:57.262016Z",
     "shell.execute_reply": "2025-05-22T21:37:57.262016Z"
    }
   },
   "outputs": [
    {
     "data": {
      "text/plain": [
       "array([1500., 1623.])"
      ]
     },
     "execution_count": 16,
     "metadata": {},
     "output_type": "execute_result"
    }
   ],
   "source": [
    "program2.compute()"
   ]
  },
  {
   "cell_type": "markdown",
   "metadata": {
    "collapsed": false
   },
   "source": [
    "Whether a program is producing a single result or an array of results, the results are always available as an array, using 'results'."
   ]
  },
  {
   "cell_type": "code",
   "execution_count": 17,
   "metadata": {
    "ExecuteTime": {
     "end_time": "2025-05-12T23:21:49.972164Z",
     "start_time": "2025-05-12T23:21:49.961942Z"
    },
    "collapsed": false,
    "execution": {
     "iopub.execute_input": "2025-05-22T21:37:57.262016Z",
     "iopub.status.busy": "2025-05-22T21:37:57.262016Z",
     "iopub.status.idle": "2025-05-22T21:37:57.266947Z",
     "shell.execute_reply": "2025-05-22T21:37:57.266947Z"
    }
   },
   "outputs": [
    {
     "data": {
      "text/plain": [
       "array([56211.])"
      ]
     },
     "execution_count": 17,
     "metadata": {},
     "output_type": "execute_result"
    }
   ],
   "source": [
    "program.results"
   ]
  },
  {
   "cell_type": "code",
   "execution_count": 18,
   "metadata": {
    "ExecuteTime": {
     "end_time": "2025-05-12T23:21:50.044148Z",
     "start_time": "2025-05-12T23:21:50.039942Z"
    },
    "collapsed": false,
    "execution": {
     "iopub.execute_input": "2025-05-22T21:37:57.266947Z",
     "iopub.status.busy": "2025-05-22T21:37:57.266947Z",
     "iopub.status.idle": "2025-05-22T21:37:57.271874Z",
     "shell.execute_reply": "2025-05-22T21:37:57.271874Z"
    }
   },
   "outputs": [
    {
     "data": {
      "text/plain": [
       "array([1500., 1623.])"
      ]
     },
     "execution_count": 18,
     "metadata": {},
     "output_type": "execute_result"
    }
   ],
   "source": [
    "program2.results"
   ]
  },
  {
   "cell_type": "markdown",
   "metadata": {
    "collapsed": false
   },
   "source": [
    "A program buffer is not thread safe because access to the buffers is unprotected. However, you can easily clone a program buffer which uses the same raw program but different memory allocations for buffers. Consequently, cloned program buffers can be safely set and computed in different threads."
   ]
  },
  {
   "cell_type": "code",
   "execution_count": 19,
   "metadata": {
    "ExecuteTime": {
     "end_time": "2025-05-12T23:21:50.120028Z",
     "start_time": "2025-05-12T23:21:50.108721Z"
    },
    "collapsed": false,
    "execution": {
     "iopub.execute_input": "2025-05-22T21:37:57.272879Z",
     "iopub.status.busy": "2025-05-22T21:37:57.272879Z",
     "iopub.status.idle": "2025-05-22T21:37:57.277098Z",
     "shell.execute_reply": "2025-05-22T21:37:57.277098Z"
    }
   },
   "outputs": [
    {
     "data": {
      "text/plain": [
       "array([1500., 1623.])"
      ]
     },
     "execution_count": 19,
     "metadata": {},
     "output_type": "execute_result"
    }
   ],
   "source": [
    "program3 = program2.clone()\n",
    "\n",
    "program3.compute()"
   ]
  }
 ],
 "metadata": {
  "kernelspec": {
   "display_name": "Python 3",
   "language": "python",
   "name": "python3"
  },
  "language_info": {
   "codemirror_mode": {
    "name": "ipython",
    "version": 3
   },
   "file_extension": ".py",
   "mimetype": "text/x-python",
   "name": "python",
   "nbconvert_exporter": "python",
   "pygments_lexer": "ipython3",
   "version": "3.12.10"
  }
 },
 "nbformat": 4,
 "nbformat_minor": 0
}
