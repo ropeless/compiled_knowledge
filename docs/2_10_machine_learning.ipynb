{
 "cells": [
  {
   "cell_type": "markdown",
   "metadata": {},
   "source": [
    "# Machine Learning\n",
    "\n",
    "In general, _machine learning_ is the automatic creation of a model using training data.\n",
    "A common kind of model is a _classifier_ which provides a predicted value for a _target_ random variable, given values for some _source_ random variables. Within CK the most common kind of model is a probabilistic graphical model (PGM).\n",
    "\n",
    "Considering probabilistic graphical models, two kinds of learning are possible: parameter learning and structure learning."
   ]
  },
  {
   "cell_type": "markdown",
   "metadata": {},
   "source": [
    "# <a name=\"ParameterLearning\"></a>Parameter Learning\n",
    "\n",
    "Parameter learning describes a process where the values of the parameters of a model are set using training data.\n",
    "\n",
    "To perform parameter learning, first a model structure needs to be defined. This can be done in CK by creating a `PGM` object with random variables and factors. There is no need to set the potential functions of the factors - just leave the default potential functions, which is the `ZeroPotentialFunction`.\n",
    "\n",
    "The following code creates a PGM with the structure of the Student Bayesian network."
   ]
  },
  {
   "cell_type": "code",
   "execution_count": 1,
   "metadata": {
    "ExecuteTime": {
     "end_time": "2025-07-21T05:42:58.484542Z",
     "start_time": "2025-07-21T05:42:58.400577Z"
    },
    "execution": {
     "iopub.execute_input": "2025-07-29T02:59:04.617856Z",
     "iopub.status.busy": "2025-07-29T02:59:04.617856Z",
     "iopub.status.idle": "2025-07-29T02:59:04.631327Z",
     "shell.execute_reply": "2025-07-29T02:59:04.631327Z"
    }
   },
   "outputs": [
    {
     "name": "stdout",
     "output_type": "stream",
     "text": [
      "PGM id=2665835177328\n",
      "  name: Student\n",
      "  number of random variables: 5\n",
      "  number of indicators: 11\n",
      "  number of states: 48\n",
      "  log 2 of states: 5.585\n",
      "  number of factors: 5\n",
      "  number of functions: 5\n",
      "  number of non-zero functions: 0\n",
      "  number of parameters: 26\n",
      "  number of functions (excluding ZeroPotentialFunction): 0\n",
      "  number of parameters (excluding ZeroPotentialFunction): 0\n",
      "  Bayesian structure: True\n",
      "  CPT factors: True\n",
      "random variables (5)\n",
      "    0 'difficult' (2) ['y', 'n']\n",
      "    1 'intelligent' (2) ['y', 'n']\n",
      "    2 'grade' (3) ['low', 'medium', 'high']\n",
      "    3 'award' (2) ['y', 'n']\n",
      "    4 'letter' (2) ['y', 'n']\n",
      "factors (5)\n",
      "    0 rvs=('difficult') function=<ZeroPotentialFunction>\n",
      "    1 rvs=('intelligent') function=<ZeroPotentialFunction>\n",
      "    2 rvs=('grade', 'intelligent', 'difficult') function=<ZeroPotentialFunction>\n",
      "    3 rvs=('award', 'intelligent') function=<ZeroPotentialFunction>\n",
      "    4 rvs=('letter', 'grade') function=<ZeroPotentialFunction>\n",
      "functions, excluding ZeroPotentialFunction (0)\n",
      "end PGM id=2665835177328\n"
     ]
    }
   ],
   "source": [
    "from ck.pgm import PGM\n",
    "\n",
    "pgm = PGM('Student')\n",
    "\n",
    "difficult = pgm.new_rv('difficult', ['y', 'n'])\n",
    "intelligent = pgm.new_rv('intelligent', ['y', 'n'])\n",
    "grade = pgm.new_rv('grade', ['low', 'medium', 'high'])\n",
    "award = pgm.new_rv('award', ['y', 'n'])\n",
    "letter = pgm.new_rv('letter', ['y', 'n'])\n",
    "\n",
    "pgm.new_factor(difficult)\n",
    "pgm.new_factor(intelligent)\n",
    "pgm.new_factor(grade, intelligent, difficult)\n",
    "pgm.new_factor(award, intelligent)\n",
    "pgm.new_factor(letter, grade)\n",
    "\n",
    "pgm.dump()"
   ]
  },
  {
   "cell_type": "markdown",
   "metadata": {},
   "source": [
    "Next we create an example training dataset, using the PGM random variables as the random variables of the dataset."
   ]
  },
  {
   "cell_type": "code",
   "execution_count": 2,
   "metadata": {
    "ExecuteTime": {
     "end_time": "2025-07-21T05:42:58.724262Z",
     "start_time": "2025-07-21T05:42:58.717736Z"
    },
    "execution": {
     "iopub.execute_input": "2025-07-29T02:59:04.659365Z",
     "iopub.status.busy": "2025-07-29T02:59:04.658365Z",
     "iopub.status.idle": "2025-07-29T02:59:04.664850Z",
     "shell.execute_reply": "2025-07-29T02:59:04.664850Z"
    }
   },
   "outputs": [
    {
     "name": "stdout",
     "output_type": "stream",
     "text": [
      "rvs: [difficult, intelligent, grade, award, letter]\n",
      "instances (9, with total weight 9.0):\n",
      "(0, 1, 2, 0, 1) * 1.0\n",
      "(1, 1, 2, 0, 1) * 1.0\n",
      "(1, 1, 2, 0, 1) * 1.0\n",
      "(0, 0, 2, 0, 0) * 1.0\n",
      "(0, 1, 1, 1, 0) * 1.0\n",
      "(1, 1, 1, 1, 1) * 1.0\n",
      "(1, 1, 0, 0, 0) * 1.0\n",
      "(1, 1, 0, 0, 1) * 1.0\n",
      "(1, 0, 0, 0, 0) * 1.0\n"
     ]
    }
   ],
   "source": [
    "from ck.dataset.dataset_from_csv import hard_dataset_from_csv\n",
    "\n",
    "rvs = (difficult, intelligent, grade, award, letter)\n",
    "\n",
    "csv = \"\"\"\n",
    "0,1,2,0,1\n",
    "1,1,2,0,1\n",
    "1,1,2,0,1\n",
    "0,0,2,0,0\n",
    "0,1,1,1,0\n",
    "1,1,1,1,1\n",
    "1,1,0,0,0\n",
    "1,1,0,0,1\n",
    "1,0,0,0,0\n",
    "\"\"\"\n",
    "\n",
    "dataset = hard_dataset_from_csv(rvs, csv.splitlines())\n",
    "\n",
    "dataset.dump()"
   ]
  },
  {
   "cell_type": "markdown",
   "metadata": {},
   "source": [
    "## Bayesian Network Maximum-likelihood Training"
   ]
  },
  {
   "cell_type": "markdown",
   "metadata": {},
   "source": [
    "Parameter training for a PGM involves determining the parameter values for its potential functions.\n",
    "\n",
    "In particular, `train_generative_bn` will assume the PGM represents a Bayesian network and provides\n",
    "parameter values representing conditional probability tables (CPTs).\n",
    "\n",
    "The returned parameter values can then be used to update the PGMs potential functions."
   ]
  },
  {
   "cell_type": "code",
   "execution_count": 3,
   "metadata": {
    "ExecuteTime": {
     "end_time": "2025-07-21T05:42:58.738815Z",
     "start_time": "2025-07-21T05:42:58.731903Z"
    },
    "execution": {
     "iopub.execute_input": "2025-07-29T02:59:04.666930Z",
     "iopub.status.busy": "2025-07-29T02:59:04.666930Z",
     "iopub.status.idle": "2025-07-29T02:59:04.673373Z",
     "shell.execute_reply": "2025-07-29T02:59:04.673373Z"
    }
   },
   "outputs": [],
   "source": [
    "from ck.learning.train_generative_bn import train_generative_bn\n",
    "\n",
    "# Learn parameters values for `pgm` using the training data `dataset`.\n",
    "# This updates the PGMs potential functions.\n",
    "train_generative_bn(pgm, dataset)\n"
   ]
  },
  {
   "cell_type": "markdown",
   "metadata": {},
   "source": [
    "Here is the updated PGM and parameter values..."
   ]
  },
  {
   "cell_type": "code",
   "execution_count": 4,
   "metadata": {
    "ExecuteTime": {
     "end_time": "2025-07-21T05:50:18.100476Z",
     "start_time": "2025-07-21T05:50:18.096664Z"
    },
    "execution": {
     "iopub.execute_input": "2025-07-29T02:59:04.675393Z",
     "iopub.status.busy": "2025-07-29T02:59:04.674392Z",
     "iopub.status.idle": "2025-07-29T02:59:04.678774Z",
     "shell.execute_reply": "2025-07-29T02:59:04.678774Z"
    }
   },
   "outputs": [
    {
     "name": "stdout",
     "output_type": "stream",
     "text": [
      "Factor: ('difficult') <class 'ck.pgm.DensePotentialFunction'>\n",
      "Factor(0,) = 0.3333333333333333\n",
      "Factor(1,) = 0.6666666666666666\n",
      "\n",
      "Factor: ('intelligent') <class 'ck.pgm.DensePotentialFunction'>\n",
      "Factor(0,) = 0.2222222222222222\n",
      "Factor(1,) = 0.7777777777777778\n",
      "\n",
      "Factor: ('grade', 'intelligent', 'difficult') <class 'ck.pgm.DensePotentialFunction'>\n",
      "Factor(0, 0, 0) = 0.0\n",
      "Factor(0, 0, 1) = 1.0\n",
      "Factor(0, 1, 0) = 0.0\n",
      "Factor(0, 1, 1) = 0.4\n",
      "Factor(1, 0, 0) = 0.0\n",
      "Factor(1, 0, 1) = 0.0\n",
      "Factor(1, 1, 0) = 0.5\n",
      "Factor(1, 1, 1) = 0.2\n",
      "Factor(2, 0, 0) = 1.0\n",
      "Factor(2, 0, 1) = 0.0\n",
      "Factor(2, 1, 0) = 0.5\n",
      "Factor(2, 1, 1) = 0.4\n",
      "\n",
      "Factor: ('award', 'intelligent') <class 'ck.pgm.DensePotentialFunction'>\n",
      "Factor(0, 0) = 1.0\n",
      "Factor(0, 1) = 0.7142857142857143\n",
      "Factor(1, 0) = 0.0\n",
      "Factor(1, 1) = 0.2857142857142857\n",
      "\n",
      "Factor: ('letter', 'grade') <class 'ck.pgm.DensePotentialFunction'>\n",
      "Factor(0, 0) = 0.6666666666666666\n",
      "Factor(0, 1) = 0.5\n",
      "Factor(0, 2) = 0.25\n",
      "Factor(1, 0) = 0.3333333333333333\n",
      "Factor(1, 1) = 0.5\n",
      "Factor(1, 2) = 0.75\n",
      "\n"
     ]
    }
   ],
   "source": [
    "for factor in pgm.factors:\n",
    "    potential_function = factor.function\n",
    "    print(f'Factor: {factor} {type(potential_function)}')\n",
    "    for instance, _, param_value in potential_function.keys_with_param:\n",
    "        print(f'Factor{instance} = {param_value}')\n",
    "    print()"
   ]
  },
  {
   "cell_type": "markdown",
   "metadata": {},
   "source": [
    "Here is an example of using the resulting trained model. (Don't try to interpret the probabilities as per the real world. The training data is fictitious.)"
   ]
  },
  {
   "cell_type": "code",
   "execution_count": 5,
   "metadata": {
    "ExecuteTime": {
     "end_time": "2025-07-21T05:42:58.873601Z",
     "start_time": "2025-07-21T05:42:58.790543Z"
    },
    "execution": {
     "iopub.execute_input": "2025-07-29T02:59:04.680779Z",
     "iopub.status.busy": "2025-07-29T02:59:04.680779Z",
     "iopub.status.idle": "2025-07-29T02:59:04.762438Z",
     "shell.execute_reply": "2025-07-29T02:59:04.762438Z"
    }
   },
   "outputs": [
    {
     "name": "stdout",
     "output_type": "stream",
     "text": [
      "Probabilities from trained PGM:\n",
      "Pr(grade | difficult=y, intelligent=y) = [0. 0. 1.]\n",
      "Pr(grade | difficult=n, intelligent=y) = [1. 0. 0.]\n",
      "Pr(grade | difficult=y, intelligent=n) = [0.  0.5 0.5]\n",
      "Pr(grade | difficult=n, intelligent=n) = [0.4 0.2 0.4]\n"
     ]
    }
   ],
   "source": [
    "from ck.pgm_circuit.wmc_program import WMCProgram\n",
    "from ck.pgm_compiler import DEFAULT_PGM_COMPILER\n",
    "\n",
    "wmc = WMCProgram(DEFAULT_PGM_COMPILER(pgm))\n",
    "\n",
    "print('Probabilities from trained PGM:')\n",
    "for i in intelligent.indicators:\n",
    "    for d in difficult.indicators:\n",
    "        w = wmc.marginal_distribution(grade, condition=(d, i))\n",
    "        print(f'Pr({grade} | {pgm.indicator_str(d, i)}) = {w}')\n"
   ]
  }
 ],
 "metadata": {
  "kernelspec": {
   "display_name": "Python 3 (ipykernel)",
   "language": "python",
   "name": "python3"
  },
  "language_info": {
   "codemirror_mode": {
    "name": "ipython",
    "version": 3
   },
   "file_extension": ".py",
   "mimetype": "text/x-python",
   "name": "python",
   "nbconvert_exporter": "python",
   "pygments_lexer": "ipython3",
   "version": "3.12.10"
  }
 },
 "nbformat": 4,
 "nbformat_minor": 1
}
