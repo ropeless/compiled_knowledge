{
 "cells": [
  {
   "cell_type": "markdown",
   "source": [
    "# PGM Basics"
   ],
   "metadata": {
    "collapsed": false
   }
  },
  {
   "cell_type": "markdown",
   "source": [
    "A probabilistic graphical model in Compiled Knowledge (CK) is represented by an object of type `PGM`."
   ],
   "metadata": {
    "collapsed": false
   }
  },
  {
   "metadata": {
    "ExecuteTime": {
     "end_time": "2025-05-19T01:17:08.892323Z",
     "start_time": "2025-05-19T01:17:08.740668Z"
    }
   },
   "cell_type": "code",
   "source": [
    "from ck.pgm import PGM\n",
    "\n",
    "pgm = PGM()"
   ],
   "outputs": [],
   "execution_count": 1
  },
  {
   "cell_type": "markdown",
   "source": [
    "## Random variables ##\n",
    "\n",
    "Random variables are added to a PGM. Each random variable has a name and number of states. The states are indexed from zero.\n",
    "\n",
    "A random variable in CK is represented by an object of type `RandomVariable`. A random variable of a PGM is created with a name and a number of states."
   ],
   "metadata": {
    "collapsed": false
   }
  },
  {
   "cell_type": "code",
   "source": [
    "rain      = pgm.new_rv('rain', 2)       # 0=not raining  1=raining\n",
    "sprinkler = pgm.new_rv('sprinkler', 2)  # 0=sprinkler off  1=sprinkler on\n",
    "grass     = pgm.new_rv('grass', 3)      # 0=grass dry  1=grass damp  2=grass wet"
   ],
   "metadata": {
    "collapsed": false,
    "ExecuteTime": {
     "end_time": "2025-05-19T01:17:08.892707Z",
     "start_time": "2025-05-19T01:17:08.769820Z"
    }
   },
   "outputs": [],
   "execution_count": 2
  },
  {
   "cell_type": "markdown",
   "source": [
    "The name of a random variable is access by its `name` property, and the number of states by `len`."
   ],
   "metadata": {
    "collapsed": false
   }
  },
  {
   "cell_type": "code",
   "source": [
    "print('Random variable', rain.name, 'has', len(rain), 'states.')"
   ],
   "metadata": {
    "collapsed": false,
    "ExecuteTime": {
     "end_time": "2025-05-19T01:17:08.893253Z",
     "start_time": "2025-05-19T01:17:08.772054Z"
    }
   },
   "outputs": [
    {
     "name": "stdout",
     "output_type": "stream",
     "text": [
      "Random variable rain has 2 states.\n"
     ]
    }
   ],
   "execution_count": 3
  },
  {
   "cell_type": "markdown",
   "source": [
    "Every random variable has an index (`idx`), which is its location in the PGM array of random variables."
   ],
   "metadata": {
    "collapsed": false
   }
  },
  {
   "cell_type": "code",
   "source": [
    "print(rain.idx, sprinkler.idx, grass.idx)"
   ],
   "metadata": {
    "collapsed": false,
    "ExecuteTime": {
     "end_time": "2025-05-19T01:17:08.893386Z",
     "start_time": "2025-05-19T01:17:08.774128Z"
    }
   },
   "outputs": [
    {
     "name": "stdout",
     "output_type": "stream",
     "text": [
      "0 1 2\n"
     ]
    }
   ],
   "execution_count": 4
  },
  {
   "cell_type": "markdown",
   "source": [
    "The array of PGM random variables is called `rvs`."
   ],
   "metadata": {
    "collapsed": false
   }
  },
  {
   "cell_type": "code",
   "source": [
    "print(pgm.rvs[0], pgm.rvs[1], pgm.rvs[2])"
   ],
   "metadata": {
    "collapsed": false,
    "ExecuteTime": {
     "end_time": "2025-05-19T01:17:08.893532Z",
     "start_time": "2025-05-19T01:17:08.777013Z"
    }
   },
   "outputs": [
    {
     "name": "stdout",
     "output_type": "stream",
     "text": [
      "rain sprinkler grass\n"
     ]
    }
   ],
   "execution_count": 5
  },
  {
   "cell_type": "markdown",
   "source": [
    "A random variable can be treated as a tuple of indicators. Each indicator is of type `Indicator`. An indicator represent the proposition that a particular random variable is in a particular state.\n",
    "\n",
    "For example, the indicator for 'sprinkler' = 'on' ..."
   ],
   "metadata": {
    "collapsed": false
   }
  },
  {
   "cell_type": "code",
   "source": [
    "sprinkler[1]"
   ],
   "metadata": {
    "collapsed": false,
    "ExecuteTime": {
     "end_time": "2025-05-19T01:17:08.905038Z",
     "start_time": "2025-05-19T01:17:08.779777Z"
    }
   },
   "outputs": [
    {
     "data": {
      "text/plain": "Indicator(rv_idx=1, state_idx=1)"
     },
     "execution_count": 6,
     "metadata": {},
     "output_type": "execute_result"
    }
   ],
   "execution_count": 6
  },
  {
   "cell_type": "markdown",
   "source": [
    "An indicator in CK is a simple, hashable object. However, a PGM provides a way to render an indicator as a human-readable string."
   ],
   "metadata": {
    "collapsed": false
   }
  },
  {
   "cell_type": "code",
   "source": [
    "pgm.indicator_str(sprinkler[1])"
   ],
   "metadata": {
    "collapsed": false,
    "ExecuteTime": {
     "end_time": "2025-05-19T01:17:08.905258Z",
     "start_time": "2025-05-19T01:17:08.782695Z"
    }
   },
   "outputs": [
    {
     "data": {
      "text/plain": "'sprinkler=1'"
     },
     "execution_count": 7,
     "metadata": {},
     "output_type": "execute_result"
    }
   ],
   "execution_count": 7
  },
  {
   "cell_type": "markdown",
   "source": [
    "This works for multiple indicators too."
   ],
   "metadata": {
    "collapsed": false
   }
  },
  {
   "cell_type": "code",
   "source": [
    "pgm.indicator_str(sprinkler[1], grass[2], rain[0])"
   ],
   "metadata": {
    "collapsed": false,
    "ExecuteTime": {
     "end_time": "2025-05-19T01:17:08.905397Z",
     "start_time": "2025-05-19T01:17:08.785018Z"
    }
   },
   "outputs": [
    {
     "data": {
      "text/plain": "'sprinkler=1, grass=2, rain=0'"
     },
     "execution_count": 8,
     "metadata": {},
     "output_type": "execute_result"
    }
   ],
   "execution_count": 8
  },
  {
   "cell_type": "markdown",
   "source": [
    "## Instances ##\n",
    "\n",
    "Once PGM random variables are defined, it is possible to iterate over all possible worlds. Each possible world is called an _instance_. An instance is an array of states indices, where the array is co-indexed with the array of random variables."
   ],
   "metadata": {
    "collapsed": false
   }
  },
  {
   "cell_type": "code",
   "source": [
    "print(*pgm.rvs)\n",
    "\n",
    "for inst in pgm.instances():\n",
    "    print(inst)"
   ],
   "metadata": {
    "collapsed": false,
    "ExecuteTime": {
     "end_time": "2025-05-19T01:17:08.905535Z",
     "start_time": "2025-05-19T01:17:08.787140Z"
    }
   },
   "outputs": [
    {
     "name": "stdout",
     "output_type": "stream",
     "text": [
      "rain sprinkler grass\n",
      "(0, 0, 0)\n",
      "(0, 0, 1)\n",
      "(0, 0, 2)\n",
      "(0, 1, 0)\n",
      "(0, 1, 1)\n",
      "(0, 1, 2)\n",
      "(1, 0, 0)\n",
      "(1, 0, 1)\n",
      "(1, 0, 2)\n",
      "(1, 1, 0)\n",
      "(1, 1, 1)\n",
      "(1, 1, 2)\n"
     ]
    }
   ],
   "execution_count": 9
  },
  {
   "cell_type": "markdown",
   "source": [
    "We can also iterate over the instances as indicators."
   ],
   "metadata": {
    "collapsed": false
   }
  },
  {
   "cell_type": "code",
   "source": [
    "for inst in pgm.instances_as_indicators():\n",
    "    print(inst)"
   ],
   "metadata": {
    "collapsed": false,
    "ExecuteTime": {
     "end_time": "2025-05-19T01:17:08.905807Z",
     "start_time": "2025-05-19T01:17:08.789401Z"
    }
   },
   "outputs": [
    {
     "name": "stdout",
     "output_type": "stream",
     "text": [
      "(Indicator(rv_idx=0, state_idx=0), Indicator(rv_idx=1, state_idx=0), Indicator(rv_idx=2, state_idx=0))\n",
      "(Indicator(rv_idx=0, state_idx=0), Indicator(rv_idx=1, state_idx=0), Indicator(rv_idx=2, state_idx=1))\n",
      "(Indicator(rv_idx=0, state_idx=0), Indicator(rv_idx=1, state_idx=0), Indicator(rv_idx=2, state_idx=2))\n",
      "(Indicator(rv_idx=0, state_idx=0), Indicator(rv_idx=1, state_idx=1), Indicator(rv_idx=2, state_idx=0))\n",
      "(Indicator(rv_idx=0, state_idx=0), Indicator(rv_idx=1, state_idx=1), Indicator(rv_idx=2, state_idx=1))\n",
      "(Indicator(rv_idx=0, state_idx=0), Indicator(rv_idx=1, state_idx=1), Indicator(rv_idx=2, state_idx=2))\n",
      "(Indicator(rv_idx=0, state_idx=1), Indicator(rv_idx=1, state_idx=0), Indicator(rv_idx=2, state_idx=0))\n",
      "(Indicator(rv_idx=0, state_idx=1), Indicator(rv_idx=1, state_idx=0), Indicator(rv_idx=2, state_idx=1))\n",
      "(Indicator(rv_idx=0, state_idx=1), Indicator(rv_idx=1, state_idx=0), Indicator(rv_idx=2, state_idx=2))\n",
      "(Indicator(rv_idx=0, state_idx=1), Indicator(rv_idx=1, state_idx=1), Indicator(rv_idx=2, state_idx=0))\n",
      "(Indicator(rv_idx=0, state_idx=1), Indicator(rv_idx=1, state_idx=1), Indicator(rv_idx=2, state_idx=1))\n",
      "(Indicator(rv_idx=0, state_idx=1), Indicator(rv_idx=1, state_idx=1), Indicator(rv_idx=2, state_idx=2))\n"
     ]
    }
   ],
   "execution_count": 10
  },
  {
   "cell_type": "markdown",
   "source": [
    "We can pretty-print the instances using `indicator_str`."
   ],
   "metadata": {
    "collapsed": false
   }
  },
  {
   "cell_type": "code",
   "source": [
    "for inst in pgm.instances_as_indicators():\n",
    "    print(pgm.indicator_str(*inst))"
   ],
   "metadata": {
    "collapsed": false,
    "ExecuteTime": {
     "end_time": "2025-05-19T01:17:08.905946Z",
     "start_time": "2025-05-19T01:17:08.791268Z"
    }
   },
   "outputs": [
    {
     "name": "stdout",
     "output_type": "stream",
     "text": [
      "rain=0, sprinkler=0, grass=0\n",
      "rain=0, sprinkler=0, grass=1\n",
      "rain=0, sprinkler=0, grass=2\n",
      "rain=0, sprinkler=1, grass=0\n",
      "rain=0, sprinkler=1, grass=1\n",
      "rain=0, sprinkler=1, grass=2\n",
      "rain=1, sprinkler=0, grass=0\n",
      "rain=1, sprinkler=0, grass=1\n",
      "rain=1, sprinkler=0, grass=2\n",
      "rain=1, sprinkler=1, grass=0\n",
      "rain=1, sprinkler=1, grass=1\n",
      "rain=1, sprinkler=1, grass=2\n"
     ]
    }
   ],
   "execution_count": 11
  },
  {
   "cell_type": "markdown",
   "source": [
    "## Factors ##\n",
    "\n",
    "Factors are added to a PGM by creating objects of type `Factor` using method `PGM.new_factor`.\n",
    "\n",
    "When a PGM is to represent a Bayesian network, each factor is a conditional probability table (CPT). By convention, the child random variable of a CPT as first in the list of a factor's random variables."
   ],
   "metadata": {
    "collapsed": false
   }
  },
  {
   "cell_type": "code",
   "source": [
    "factor_g = pgm.new_factor(grass, rain, sprinkler)          # same as a CPT with child ‘grass’\n",
    "factor_r = pgm.new_factor(rain)\n",
    "factor_s = pgm.new_factor(sprinkler)"
   ],
   "metadata": {
    "collapsed": false,
    "ExecuteTime": {
     "end_time": "2025-05-19T01:17:08.906009Z",
     "start_time": "2025-05-19T01:17:08.794032Z"
    }
   },
   "outputs": [],
   "execution_count": 12
  },
  {
   "cell_type": "markdown",
   "source": [
    "In general, a factor defines a real number for each possible combination of states of the factor's random variables. In CK, the function from the combination of states to real number is represented by an object of type `PotentialFunction`. There are many kinds of `PotentialFunction` in CK.\n",
    "\n",
    "When a factor is first created it is supplied with a `ZeroPotentialFunction` which returns zero of every possible combination of states. This can easily be replaced with a `DensePotentialFunction` using `set_dense()`. A `DensePotentialFunction` is a (multidimensional) array of parameter values, one for each possible combination of states."
   ],
   "metadata": {
    "collapsed": false
   }
  },
  {
   "cell_type": "code",
   "source": [
    "from ck.pgm import DensePotentialFunction  # included merely to show types\n",
    "\n",
    "f_g: DensePotentialFunction = factor_g.set_dense()\n",
    "f_r: DensePotentialFunction = factor_r.set_dense()\n",
    "f_s: DensePotentialFunction = factor_s.set_dense()\n",
    "\n",
    "f_r[0] = 0.8\n",
    "f_r[1] = 0.2\n",
    "\n",
    "f_s[0] = 0.9\n",
    "f_s[1] = 0.1\n",
    "\n",
    "f_g[0, 0, 0] = 0.90\n",
    "f_g[0, 0, 1] = 0.01\n",
    "f_g[0, 1, 0] = 0.02\n",
    "f_g[0, 1, 1] = 0.01\n",
    "# and so on..."
   ],
   "metadata": {
    "collapsed": false,
    "ExecuteTime": {
     "end_time": "2025-05-19T01:17:08.906085Z",
     "start_time": "2025-05-19T01:17:08.796188Z"
    }
   },
   "outputs": [],
   "execution_count": 13
  },
  {
   "cell_type": "markdown",
   "source": [
    "Alternatively, the parameters of a dense potential function may be set all at once, using `set_flat(...)`."
   ],
   "metadata": {
    "collapsed": false
   }
  },
  {
   "cell_type": "code",
   "source": [
    "f_r.set_flat(0.8, 0.2)\n",
    "f_s.set_flat(0.9, 0.1)\n",
    "f_g.set_flat(\n",
    "    # not raining,  raining       # rain\n",
    "    # off, on,      off,   on     # sprinkler\n",
    "    0.90, 0.01,     0.02, 0.01,   # grass dry\n",
    "    0.09, 0.01,     0.08, 0.04,   # grass damp\n",
    "    0.01, 0.98,     0.90, 0.95,   # grass wet\n",
    ")\n",
    "\n",
    "# Here is an example of the set value\n",
    "print(f_g[2, 1, 1])"
   ],
   "metadata": {
    "collapsed": false,
    "ExecuteTime": {
     "end_time": "2025-05-19T01:17:08.906212Z",
     "start_time": "2025-05-19T01:17:08.799121Z"
    }
   },
   "outputs": [
    {
     "name": "stdout",
     "output_type": "stream",
     "text": [
      "0.95\n"
     ]
    }
   ],
   "execution_count": 14
  },
  {
   "cell_type": "markdown",
   "source": [
    "## Weight of an instance ##\n",
    "\n",
    "A PGM provides a weight for each instance. It is the value of the product of all factors for that instance, hence is the method `PGM.value_product`. Note that the instance is co-indexed with the PGM random variables."
   ],
   "metadata": {
    "collapsed": false
   }
  },
  {
   "cell_type": "code",
   "source": [
    "pgm.value_product([1, 0, 1])  # rain=1 sprinkler=0 grass=1"
   ],
   "metadata": {
    "collapsed": false,
    "ExecuteTime": {
     "end_time": "2025-05-19T01:17:08.906357Z",
     "start_time": "2025-05-19T01:17:08.802075Z"
    }
   },
   "outputs": [
    {
     "data": {
      "text/plain": "0.014400000000000001"
     },
     "execution_count": 15,
     "metadata": {},
     "output_type": "execute_result"
    }
   ],
   "execution_count": 15
  },
  {
   "cell_type": "markdown",
   "source": [
    "You can also calculate the weight of an instance by passing indicators instead. When using indicators, the order of the indicators is not important."
   ],
   "metadata": {
    "collapsed": false
   }
  },
  {
   "cell_type": "code",
   "source": [
    "\n",
    "pgm.value_product_indicators(rain[1], sprinkler[0], grass[1])"
   ],
   "metadata": {
    "collapsed": false,
    "ExecuteTime": {
     "end_time": "2025-05-19T01:17:08.906470Z",
     "start_time": "2025-05-19T01:17:08.804495Z"
    }
   },
   "outputs": [
    {
     "data": {
      "text/plain": "0.014400000000000001"
     },
     "execution_count": 16,
     "metadata": {},
     "output_type": "execute_result"
    }
   ],
   "execution_count": 16
  },
  {
   "cell_type": "markdown",
   "source": [
    "Here are the weights for all instances"
   ],
   "metadata": {
    "collapsed": false
   }
  },
  {
   "cell_type": "code",
   "source": [
    "for inst in pgm.instances_as_indicators():\n",
    "    weight = pgm.value_product_indicators(*inst)\n",
    "    print(pgm.indicator_str(*inst), 'has weight', weight)"
   ],
   "metadata": {
    "collapsed": false,
    "ExecuteTime": {
     "end_time": "2025-05-19T01:17:08.906800Z",
     "start_time": "2025-05-19T01:17:08.807229Z"
    }
   },
   "outputs": [
    {
     "name": "stdout",
     "output_type": "stream",
     "text": [
      "rain=0, sprinkler=0, grass=0 has weight 0.6480000000000001\n",
      "rain=0, sprinkler=0, grass=1 has weight 0.0648\n",
      "rain=0, sprinkler=0, grass=2 has weight 0.007200000000000001\n",
      "rain=0, sprinkler=1, grass=0 has weight 0.0008\n",
      "rain=0, sprinkler=1, grass=1 has weight 0.0008\n",
      "rain=0, sprinkler=1, grass=2 has weight 0.07840000000000001\n",
      "rain=1, sprinkler=0, grass=0 has weight 0.0036000000000000003\n",
      "rain=1, sprinkler=0, grass=1 has weight 0.014400000000000001\n",
      "rain=1, sprinkler=0, grass=2 has weight 0.16200000000000003\n",
      "rain=1, sprinkler=1, grass=0 has weight 0.0002\n",
      "rain=1, sprinkler=1, grass=1 has weight 0.0008\n",
      "rain=1, sprinkler=1, grass=2 has weight 0.019000000000000003\n"
     ]
    }
   ],
   "execution_count": 17
  },
  {
   "cell_type": "markdown",
   "source": [
    "If random variable is not mentioned in the arguments to `value_product_indicators` then the result is the sum of the value product for each possible combination of states of the unmentioned random variables.\n",
    "\n",
    "Warning: this is potentially computationally expensive if the state space of the unmentioned random variables is large.\n",
    "\n",
    "In this example, `sprinkler` is not mentioned."
   ],
   "metadata": {
    "collapsed": false
   }
  },
  {
   "cell_type": "code",
   "source": [
    "pgm.value_product_indicators(rain[1], grass[1])"
   ],
   "metadata": {
    "collapsed": false,
    "ExecuteTime": {
     "end_time": "2025-05-19T01:17:08.906962Z",
     "start_time": "2025-05-19T01:17:08.808621Z"
    }
   },
   "outputs": [
    {
     "data": {
      "text/plain": "0.015200000000000002"
     },
     "execution_count": 18,
     "metadata": {},
     "output_type": "execute_result"
    }
   ],
   "execution_count": 18
  },
  {
   "cell_type": "markdown",
   "source": [
    "That is equivalent to summing over the states of `sprinker`."
   ],
   "metadata": {
    "collapsed": false
   }
  },
  {
   "cell_type": "code",
   "source": [
    "sum (\n",
    "    pgm.value_product_indicators(rain[1], grass[1], sprinkler[i])\n",
    "    for i in sprinkler.state_range()\n",
    ")"
   ],
   "metadata": {
    "collapsed": false,
    "ExecuteTime": {
     "end_time": "2025-05-19T01:17:08.907080Z",
     "start_time": "2025-05-19T01:17:08.811552Z"
    }
   },
   "outputs": [
    {
     "data": {
      "text/plain": "0.015200000000000002"
     },
     "execution_count": 19,
     "metadata": {},
     "output_type": "execute_result"
    }
   ],
   "execution_count": 19
  },
  {
   "metadata": {},
   "cell_type": "markdown",
   "source": [
    "If no indicators are mentioned, then this is equivalent to computing the partition function ($z$) of the PGM."
   ]
  },
  {
   "metadata": {
    "ExecuteTime": {
     "end_time": "2025-05-19T01:17:08.907188Z",
     "start_time": "2025-05-19T01:17:08.814179Z"
    }
   },
   "cell_type": "code",
   "source": [
    "pgm.value_product_indicators()  # compute the value of the partition function"
   ],
   "outputs": [
    {
     "data": {
      "text/plain": "1.0000000000000002"
     },
     "execution_count": 20,
     "metadata": {},
     "output_type": "execute_result"
    }
   ],
   "execution_count": 20
  },
  {
   "cell_type": "markdown",
   "source": [
    "## Compiling a PGM ##\n",
    "\n",
    "To perform complex queries on a probabilistic graphical model, CK requires that it be compiled into an object that can be queried. The most common object is a `WMCProgram` object, which is constructed in two steps.\n",
    "\n",
    "1. First the PGM is compiled into a circuit, using a PGM compiler, creating a `PGMCircuit` object.\n",
    "2. Second, the circuit is compiled into a program, using a circuit compiler, with is usually wrapped into some inferencing object to enable probabilistic queries.\n",
    "\n",
    "There are many different implementations of PGM compiler and circuit compiler.\n",
    "\n",
    "The default PGM compiler is available as `ck.pgm_compiler.DEFAULT_PGM_COMPILER`.\n",
    "\n",
    "Often, compilation of a circuit into a program is done automatically when an inferencing object is constructed. This will use the default circuit compiler, available as `ck.circuit_compiler.DEFAULT_CIRCUIT_COMPILER`.\n",
    "\n",
    "In the following sample code, a `WMCProgram` object is created for probabilistic queries. It uses the default circuit compiler."
   ],
   "metadata": {
    "collapsed": false
   }
  },
  {
   "cell_type": "code",
   "source": [
    "from ck.pgm_compiler import DEFAULT_PGM_COMPILER as pgm_compiler\n",
    "from ck.pgm_circuit.wmc_program import WMCProgram\n",
    "from ck.pgm_circuit import PGMCircuit\n",
    "\n",
    "pgm_cct: PGMCircuit = pgm_compiler(pgm)  # Compile the PGM into an arithmetic circuit.\n",
    "\n",
    "wmc = WMCProgram(pgm_cct)     # Make a WMCProgram object, using the default circuit compiler"
   ],
   "metadata": {
    "collapsed": false,
    "ExecuteTime": {
     "end_time": "2025-05-19T01:17:08.907324Z",
     "start_time": "2025-05-19T01:17:08.816475Z"
    }
   },
   "outputs": [],
   "execution_count": 21
  },
  {
   "cell_type": "markdown",
   "source": [
    "Now efficient probability queries are possible. Consider this query using the original PGM..."
   ],
   "metadata": {
    "collapsed": false
   }
  },
  {
   "cell_type": "code",
   "source": [
    "pgm.value_product_indicators(rain[1], grass[1])"
   ],
   "metadata": {
    "collapsed": false,
    "ExecuteTime": {
     "end_time": "2025-05-19T01:17:08.907444Z",
     "start_time": "2025-05-19T01:17:08.859232Z"
    }
   },
   "outputs": [
    {
     "data": {
      "text/plain": "0.015200000000000002"
     },
     "execution_count": 22,
     "metadata": {},
     "output_type": "execute_result"
    }
   ],
   "execution_count": 22
  },
  {
   "cell_type": "markdown",
   "source": [
    "Here is the equivalent query using a `WMCProgram`."
   ],
   "metadata": {
    "collapsed": false
   }
  },
  {
   "cell_type": "code",
   "source": [
    "wmc.wmc(rain[1], grass[1])"
   ],
   "metadata": {
    "collapsed": false,
    "ExecuteTime": {
     "end_time": "2025-05-19T01:17:08.907566Z",
     "start_time": "2025-05-19T01:17:08.862302Z"
    }
   },
   "outputs": [
    {
     "data": {
      "text/plain": "0.015200000000000002"
     },
     "execution_count": 23,
     "metadata": {},
     "output_type": "execute_result"
    }
   ],
   "execution_count": 23
  },
  {
   "metadata": {},
   "cell_type": "markdown",
   "source": [
    "Here is the value of the parition function using the `WMCProgram`."
   ]
  },
  {
   "metadata": {
    "ExecuteTime": {
     "end_time": "2025-05-19T01:17:08.907676Z",
     "start_time": "2025-05-19T01:17:08.864518Z"
    }
   },
   "cell_type": "code",
   "source": [
    "wmc.z"
   ],
   "outputs": [
    {
     "data": {
      "text/plain": "1.0"
     },
     "execution_count": 24,
     "metadata": {},
     "output_type": "execute_result"
    }
   ],
   "execution_count": 24
  },
  {
   "metadata": {},
   "cell_type": "markdown",
   "source": [
    "For a small PGM there may be little difference in computation time. The difference can be significant for a large PGM."
   ]
  },
  {
   "cell_type": "markdown",
   "source": [
    "## Calculating probabilities ##\n",
    "\n",
    "A `WMCProgram` provides many kinds of probabilistic query. Here are some examples."
   ],
   "metadata": {
    "collapsed": false
   }
  },
  {
   "metadata": {},
   "cell_type": "markdown",
   "source": [
    "What is the probability of 'not raining' and 'sprinkler off' and 'grass damp'?\n"
   ]
  },
  {
   "cell_type": "code",
   "source": [
    "wmc.probability(rain[0], sprinkler[0], grass[1])"
   ],
   "metadata": {
    "collapsed": false,
    "ExecuteTime": {
     "end_time": "2025-05-19T01:17:08.907799Z",
     "start_time": "2025-05-19T01:17:08.866461Z"
    }
   },
   "outputs": [
    {
     "data": {
      "text/plain": "0.0648"
     },
     "execution_count": 25,
     "metadata": {},
     "output_type": "execute_result"
    }
   ],
   "execution_count": 25
  },
  {
   "cell_type": "markdown",
   "source": [
    "To make things clearer to read, we will define some states."
   ],
   "metadata": {
    "collapsed": false
   }
  },
  {
   "cell_type": "code",
   "source": [
    "# for rain\n",
    "not_raining = 0\n",
    "raining = 1\n",
    "\n",
    "# for sprinkler\n",
    "off = 0\n",
    "on = 1\n",
    "\n",
    "# for grass\n",
    "dry = 0\n",
    "damp = 1\n",
    "wet = 2"
   ],
   "metadata": {
    "collapsed": false,
    "ExecuteTime": {
     "end_time": "2025-05-19T01:17:08.907863Z",
     "start_time": "2025-05-19T01:17:08.869238Z"
    }
   },
   "outputs": [],
   "execution_count": 26
  },
  {
   "cell_type": "markdown",
   "source": [
    "What is the probability of 'not raining' and 'sprinkler off' and 'grass damp'?"
   ],
   "metadata": {
    "collapsed": false
   }
  },
  {
   "cell_type": "code",
   "source": [
    "wmc.probability(rain[not_raining], sprinkler[off], grass[damp])"
   ],
   "metadata": {
    "collapsed": false,
    "ExecuteTime": {
     "end_time": "2025-05-19T01:17:08.907974Z",
     "start_time": "2025-05-19T01:17:08.871265Z"
    }
   },
   "outputs": [
    {
     "data": {
      "text/plain": "0.0648"
     },
     "execution_count": 27,
     "metadata": {},
     "output_type": "execute_result"
    }
   ],
   "execution_count": 27
  },
  {
   "cell_type": "markdown",
   "source": [
    "Here is how we can calculate a marginal probability.\n",
    "\n",
    "What is the marginal probability of 'grass damp'?"
   ],
   "metadata": {
    "collapsed": false
   }
  },
  {
   "cell_type": "code",
   "source": [
    "wmc.probability(grass[wet])"
   ],
   "metadata": {
    "collapsed": false,
    "ExecuteTime": {
     "end_time": "2025-05-19T01:17:08.908553Z",
     "start_time": "2025-05-19T01:17:08.873995Z"
    }
   },
   "outputs": [
    {
     "data": {
      "text/plain": "0.2666"
     },
     "execution_count": 28,
     "metadata": {},
     "output_type": "execute_result"
    }
   ],
   "execution_count": 28
  },
  {
   "cell_type": "markdown",
   "source": [
    "We can calculate a marginal probability distribution.\n",
    "\n",
    "What is the marginal probability distribution over sprinkler?"
   ],
   "metadata": {
    "collapsed": false
   }
  },
  {
   "cell_type": "code",
   "source": [
    "marginal = wmc.marginal_distribution(sprinkler)\n",
    "print(marginal)"
   ],
   "metadata": {
    "collapsed": false,
    "ExecuteTime": {
     "end_time": "2025-05-19T01:17:08.908673Z",
     "start_time": "2025-05-19T01:17:08.876461Z"
    }
   },
   "outputs": [
    {
     "name": "stdout",
     "output_type": "stream",
     "text": [
      "[0.9 0.1]\n"
     ]
    }
   ],
   "execution_count": 29
  },
  {
   "cell_type": "markdown",
   "source": [
    "The result is a numpy array with probabilities co-indexed with the states of the given random variable.\n",
    "\n",
    "Therefore, we can pretty-print the result if desired."
   ],
   "metadata": {
    "collapsed": false
   }
  },
  {
   "cell_type": "code",
   "source": [
    "for state, pr in zip(sprinkler.states, marginal):\n",
    "    print(pgm.indicator_str(sprinkler[state]), 'marginal probability is', pr)"
   ],
   "metadata": {
    "collapsed": false,
    "ExecuteTime": {
     "end_time": "2025-05-19T01:17:08.908790Z",
     "start_time": "2025-05-19T01:17:08.878771Z"
    }
   },
   "outputs": [
    {
     "name": "stdout",
     "output_type": "stream",
     "text": [
      "sprinkler=0 marginal probability is 0.9\n",
      "sprinkler=1 marginal probability is 0.1\n"
     ]
    }
   ],
   "execution_count": 30
  },
  {
   "cell_type": "markdown",
   "source": [
    "## Conditional probabilities ##\n",
    "\n",
    "Here is how you can calculate conditional probabilities with CK.\n",
    "\n",
    "What is the probability distribution of sprinkler 'on', given 'not raining' and 'grass wet'?\n",
    "\n",
    "A condition in CK is either an Indicator or a list/tuple of Indicators.\n"
   ],
   "metadata": {
    "collapsed": false
   }
  },
  {
   "cell_type": "code",
   "source": [
    "wmc.probability(sprinkler[on], condition=(rain[not_raining], grass[wet]))"
   ],
   "metadata": {
    "collapsed": false,
    "ExecuteTime": {
     "end_time": "2025-05-19T01:17:08.908916Z",
     "start_time": "2025-05-19T01:17:08.881079Z"
    }
   },
   "outputs": [
    {
     "data": {
      "text/plain": "0.9158878504672897"
     },
     "execution_count": 31,
     "metadata": {},
     "output_type": "execute_result"
    }
   ],
   "execution_count": 31
  },
  {
   "metadata": {},
   "cell_type": "markdown",
   "source": [
    "Semantically, the indicators of the given condition are grouped by random variable. The condition is interpreted as the conjunction of the groups, and the disjunction of the states within each group. For example, given condition for the Student PGM,\n",
    "```\n",
    "    grade('1'), intelligent('Yes'), grade(3)\n",
    "```\n",
    "then the condition interpretation is: (grade = 1 or grade = 3) and intelligent = Yes."
   ]
  },
  {
   "cell_type": "markdown",
   "source": [
    "Marginal distributions can also be conditioned.\n",
    "\n",
    "What is the marginal probability distribution over sprinkler, given 'not raining' and 'grass wet'?"
   ],
   "metadata": {
    "collapsed": false
   }
  },
  {
   "cell_type": "code",
   "source": [
    "marginal = wmc.marginal_distribution(sprinkler, condition=(rain[not_raining], grass[wet]))\n",
    "print(marginal)"
   ],
   "metadata": {
    "collapsed": false,
    "ExecuteTime": {
     "end_time": "2025-05-19T01:17:08.909029Z",
     "start_time": "2025-05-19T01:17:08.883226Z"
    }
   },
   "outputs": [
    {
     "name": "stdout",
     "output_type": "stream",
     "text": [
      "[0.08411215 0.91588785]\n"
     ]
    }
   ],
   "execution_count": 32
  },
  {
   "cell_type": "markdown",
   "source": [
    "## Sampling a model ##\n",
    "\n",
    "Samples may be drawn from a PGM using a sampler, created from a `WMCProgram`.\n",
    "\n",
    "First create a sampler..."
   ],
   "metadata": {
    "collapsed": false
   }
  },
  {
   "cell_type": "code",
   "source": [
    "sampler = wmc.sample_direct()"
   ],
   "metadata": {
    "collapsed": false,
    "ExecuteTime": {
     "end_time": "2025-05-19T01:17:08.909097Z",
     "start_time": "2025-05-19T01:17:08.885243Z"
    }
   },
   "outputs": [],
   "execution_count": 33
  },
  {
   "cell_type": "markdown",
   "source": [
    "A sampler provides an infinite iterator over instances.\n",
    "\n",
    "In this example we limit ourselves to 8 samples."
   ],
   "metadata": {
    "collapsed": false
   }
  },
  {
   "cell_type": "code",
   "source": [
    "for i, inst in enumerate(sampler, start=1):\n",
    "    print(i, inst)\n",
    "    if i == 8:\n",
    "        break"
   ],
   "metadata": {
    "collapsed": false,
    "ExecuteTime": {
     "end_time": "2025-05-19T01:17:08.909228Z",
     "start_time": "2025-05-19T01:17:08.887178Z"
    }
   },
   "outputs": [
    {
     "name": "stdout",
     "output_type": "stream",
     "text": [
      "1 [0, 0, 0]\n",
      "2 [0, 1, 2]\n",
      "3 [0, 0, 2]\n",
      "4 [1, 0, 2]\n",
      "5 [1, 0, 2]\n",
      "6 [0, 0, 0]\n",
      "7 [1, 0, 2]\n",
      "8 [0, 0, 0]\n"
     ]
    }
   ],
   "execution_count": 34
  },
  {
   "cell_type": "markdown",
   "source": [
    "A simple way to take a limited number of samples is to use `take`."
   ],
   "metadata": {
    "collapsed": false
   }
  },
  {
   "cell_type": "code",
   "source": [
    "for inst in sampler.take(8):\n",
    "    print(inst)"
   ],
   "metadata": {
    "collapsed": false,
    "ExecuteTime": {
     "end_time": "2025-05-19T01:17:08.909332Z",
     "start_time": "2025-05-19T01:17:08.889782Z"
    }
   },
   "outputs": [
    {
     "name": "stdout",
     "output_type": "stream",
     "text": [
      "[0, 0, 0]\n",
      "[0, 0, 0]\n",
      "[1, 0, 2]\n",
      "[0, 0, 0]\n",
      "[0, 0, 0]\n",
      "[1, 0, 2]\n",
      "[0, 0, 0]\n",
      "[1, 0, 1]\n"
     ]
    }
   ],
   "execution_count": 35
  },
  {
   "cell_type": "markdown",
   "source": [
    "## MAP queries ##\n",
    "\n",
    "We can perform MAP queries (maximum _a posteriori_), however, they are not efficient for large models with a `WMCProgram`. This is because the implementation typically performs an exhaustive search over the state space."
   ],
   "metadata": {
    "collapsed": false
   }
  },
  {
   "cell_type": "code",
   "source": [
    "pr, states = wmc.map(grass, sprinkler)\n",
    "print(f'MAP(grass, sprinkler) = {states}, with probability {pr}')"
   ],
   "metadata": {
    "collapsed": false,
    "ExecuteTime": {
     "end_time": "2025-05-19T01:17:08.909444Z",
     "start_time": "2025-05-19T01:17:08.892623Z"
    }
   },
   "outputs": [
    {
     "name": "stdout",
     "output_type": "stream",
     "text": [
      "MAP(grass, sprinkler) = (0, 0), with probability 0.6516000000000001\n"
     ]
    }
   ],
   "execution_count": 36
  },
  {
   "cell_type": "markdown",
   "source": [
    "## MPE queries ##\n",
    "\n",
    "We can efficiently answer MPE queries using an `MPEProgram` object, also created from a `PGMCircuit` object. This can be practical even for large models."
   ],
   "metadata": {
    "collapsed": false
   }
  },
  {
   "cell_type": "code",
   "source": [
    "from ck.pgm_circuit.mpe_program import MPEProgram\n",
    "\n",
    "mpe_program = MPEProgram(pgm_cct)\n",
    "\n",
    "mpe_result = mpe_program.mpe()\n",
    "states = mpe_result.mpe\n",
    "pr = mpe_result.wmc / wmc.z\n",
    "\n",
    "print(f'MPE = {states}, with probability {pr}')\n"
   ],
   "metadata": {
    "collapsed": false,
    "ExecuteTime": {
     "end_time": "2025-05-19T01:17:08.909550Z",
     "start_time": "2025-05-19T01:17:08.897985Z"
    }
   },
   "outputs": [
    {
     "name": "stdout",
     "output_type": "stream",
     "text": [
      "MPE = (0, 0, 0), with probability 0.6480000000000001\n"
     ]
    }
   ],
   "execution_count": 37
  },
  {
   "cell_type": "markdown",
   "source": [
    "Here is the MPE, conditioned on grass = wet"
   ],
   "metadata": {
    "collapsed": false
   }
  },
  {
   "cell_type": "code",
   "source": [
    "condition = grass[wet]\n",
    "mpe_result = mpe_program.mpe(condition)\n",
    "states = mpe_result.mpe\n",
    "pr = mpe_result.wmc / wmc.wmc(condition)\n",
    "\n",
    "print(f'MPE(grass wet) = {states}, with probability {pr}')"
   ],
   "metadata": {
    "collapsed": false,
    "ExecuteTime": {
     "end_time": "2025-05-19T01:17:08.909650Z",
     "start_time": "2025-05-19T01:17:08.901451Z"
    }
   },
   "outputs": [
    {
     "name": "stdout",
     "output_type": "stream",
     "text": [
      "MPE(grass wet) = (1, 0, 2), with probability 0.6076519129782447\n"
     ]
    }
   ],
   "execution_count": 38
  }
 ],
 "metadata": {
  "kernelspec": {
   "display_name": "Python 3",
   "language": "python",
   "name": "python3"
  },
  "language_info": {
   "codemirror_mode": {
    "name": "ipython",
    "version": 2
   },
   "file_extension": ".py",
   "mimetype": "text/x-python",
   "name": "python",
   "nbconvert_exporter": "python",
   "pygments_lexer": "ipython2",
   "version": "2.7.6"
  }
 },
 "nbformat": 4,
 "nbformat_minor": 0
}
