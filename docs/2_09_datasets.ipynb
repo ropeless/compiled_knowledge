{
 "cells": [
  {
   "cell_type": "markdown",
   "metadata": {},
   "source": [
    "# Datasets\n",
    "\n",
    "Within CK, data for machine learning and other analyses are represented using a `Dataset`.\n",
    "\n",
    "Logically a dataset is a table of data where columns represent random variables and each row represents an _instance_ (also known as a _sample_, _record_, _row_, _datapoint_, or _joint states_).\n",
    "\n",
    "The _length_ of a dataset is the number of instances in the dataset. In CK, the length of a dataset is determined at construction time, and cannot be modified. Random variables can be added to and removed from a dataset.\n",
    "\n",
    "Each instance in a dataset has an instance weight. An instance weight represents a _weight of evidence_.\n",
    "The value of an instance weight is notionally 1, but can be set to other values to represent multiple or fractional evidence.\n",
    "This is explained in detail below.\n",
    "\n",
    "The values and weights of a dataset are mutable and can be updated.\n",
    "\n",
    "A CK dataset is either a `HardDataset` or `SoftDataset`. These are explained in the following sections, with reference to the following simple PGM."
   ]
  },
  {
   "cell_type": "code",
   "metadata": {
    "execution": {
     "iopub.execute_input": "2025-07-18T00:51:49.236561Z",
     "iopub.status.busy": "2025-07-18T00:51:49.236561Z",
     "iopub.status.idle": "2025-07-18T00:51:49.249983Z",
     "shell.execute_reply": "2025-07-18T00:51:49.249238Z"
    },
    "ExecuteTime": {
     "end_time": "2025-07-21T02:15:48.484746Z",
     "start_time": "2025-07-21T02:15:48.405150Z"
    }
   },
   "source": [
    "from ck.pgm import PGM, RandomVariable\n",
    "\n",
    "pgm: PGM = PGM()\n",
    "difficult: RandomVariable = pgm.new_rv('difficult', ('Yes', 'No'))\n",
    "intelligent: RandomVariable = pgm.new_rv('intelligent', ('Yes', 'No'))\n",
    "grade: RandomVariable = pgm.new_rv('grade', ('1', '2', '3'))\n",
    "sat: RandomVariable = pgm.new_rv('sat', ('High', 'Low'))\n",
    "letter: RandomVariable = pgm.new_rv('letter', ('Yes', 'No'))\n"
   ],
   "outputs": [],
   "execution_count": 1
  },
  {
   "cell_type": "markdown",
   "metadata": {},
   "source": [
    "## Hard Datasets\n",
    "\n",
    "A hard dataset represents instances of hard evidence for a collection of random variables. That is, for each instance, each random variable is in a specific state.\n",
    "\n",
    "There are multiple ways to initialise a dataset. Here we create a dataset of length 5, with no random variables."
   ]
  },
  {
   "cell_type": "code",
   "metadata": {
    "execution": {
     "iopub.execute_input": "2025-07-18T00:51:49.251988Z",
     "iopub.status.busy": "2025-07-18T00:51:49.250988Z",
     "iopub.status.idle": "2025-07-18T00:51:49.258123Z",
     "shell.execute_reply": "2025-07-18T00:51:49.258123Z"
    },
    "ExecuteTime": {
     "end_time": "2025-07-21T02:15:48.731745Z",
     "start_time": "2025-07-21T02:15:48.724248Z"
    }
   },
   "source": [
    "from ck.dataset import HardDataset\n",
    "\n",
    "# Create and empty dataset - no instances and no random variables.\n",
    "dataset: HardDataset = HardDataset(length=5)\n",
    "\n",
    "len(dataset)\n"
   ],
   "outputs": [
    {
     "data": {
      "text/plain": [
       "5"
      ]
     },
     "execution_count": 2,
     "metadata": {},
     "output_type": "execute_result"
    }
   ],
   "execution_count": 2
  },
  {
   "cell_type": "markdown",
   "metadata": {},
   "source": [
    "This dataset has no random variables."
   ]
  },
  {
   "cell_type": "code",
   "metadata": {
    "execution": {
     "iopub.execute_input": "2025-07-18T00:51:49.286231Z",
     "iopub.status.busy": "2025-07-18T00:51:49.286231Z",
     "iopub.status.idle": "2025-07-18T00:51:49.289923Z",
     "shell.execute_reply": "2025-07-18T00:51:49.289923Z"
    },
    "ExecuteTime": {
     "end_time": "2025-07-21T02:15:48.775166Z",
     "start_time": "2025-07-21T02:15:48.770518Z"
    }
   },
   "source": [
    "dataset.rvs"
   ],
   "outputs": [
    {
     "data": {
      "text/plain": [
       "()"
      ]
     },
     "execution_count": 3,
     "metadata": {},
     "output_type": "execute_result"
    }
   ],
   "execution_count": 3
  },
  {
   "cell_type": "markdown",
   "metadata": {},
   "source": [
    "## Updating Datasets\n",
    "Each random variable of a hard dataset is associated with a series, which is a 1D numpy array.\n",
    "\n",
    "The length of the series is the same as the length of the dataset, and the *i*th element that holds the state index of the random variable for the *i*th instance.\n",
    "\n",
    "One way to add a random variable to a dataset is to have the dataset allocate memory for the series, and initialise it to zero."
   ]
  },
  {
   "cell_type": "code",
   "metadata": {
    "execution": {
     "iopub.execute_input": "2025-07-18T00:51:49.291927Z",
     "iopub.status.busy": "2025-07-18T00:51:49.291927Z",
     "iopub.status.idle": "2025-07-18T00:51:49.294795Z",
     "shell.execute_reply": "2025-07-18T00:51:49.294795Z"
    },
    "ExecuteTime": {
     "end_time": "2025-07-21T02:15:48.801826Z",
     "start_time": "2025-07-21T02:15:48.797822Z"
    }
   },
   "source": [
    "letter_series = dataset.add_rv(letter)\n",
    "\n",
    "print(*dataset.rvs)"
   ],
   "outputs": [
    {
     "name": "stdout",
     "output_type": "stream",
     "text": [
      "letter\n"
     ]
    }
   ],
   "execution_count": 4
  },
  {
   "cell_type": "code",
   "metadata": {
    "execution": {
     "iopub.execute_input": "2025-07-18T00:51:49.296799Z",
     "iopub.status.busy": "2025-07-18T00:51:49.295799Z",
     "iopub.status.idle": "2025-07-18T00:51:49.299883Z",
     "shell.execute_reply": "2025-07-18T00:51:49.299883Z"
    },
    "ExecuteTime": {
     "end_time": "2025-07-21T02:15:48.822175Z",
     "start_time": "2025-07-21T02:15:48.818150Z"
    }
   },
   "source": [
    "letter_series"
   ],
   "outputs": [
    {
     "data": {
      "text/plain": [
       "array([0, 0, 0, 0, 0], dtype=uint8)"
      ]
     },
     "execution_count": 5,
     "metadata": {},
     "output_type": "execute_result"
    }
   ],
   "execution_count": 5
  },
  {
   "cell_type": "markdown",
   "metadata": {},
   "source": [
    "A dataset series is mutable."
   ]
  },
  {
   "cell_type": "code",
   "metadata": {
    "execution": {
     "iopub.execute_input": "2025-07-18T00:51:49.301887Z",
     "iopub.status.busy": "2025-07-18T00:51:49.301887Z",
     "iopub.status.idle": "2025-07-18T00:51:49.304223Z",
     "shell.execute_reply": "2025-07-18T00:51:49.304223Z"
    },
    "ExecuteTime": {
     "end_time": "2025-07-21T02:15:48.851995Z",
     "start_time": "2025-07-21T02:15:48.848579Z"
    }
   },
   "source": [
    "letter_series[2] = 1\n",
    "letter_series[3] = 1"
   ],
   "outputs": [],
   "execution_count": 6
  },
  {
   "cell_type": "markdown",
   "metadata": {},
   "source": [
    "The series for a random variable can be accessed using the `state_idxs` method."
   ]
  },
  {
   "cell_type": "code",
   "metadata": {
    "execution": {
     "iopub.execute_input": "2025-07-18T00:51:49.306227Z",
     "iopub.status.busy": "2025-07-18T00:51:49.306227Z",
     "iopub.status.idle": "2025-07-18T00:51:49.309256Z",
     "shell.execute_reply": "2025-07-18T00:51:49.309256Z"
    },
    "ExecuteTime": {
     "end_time": "2025-07-21T02:15:48.872795Z",
     "start_time": "2025-07-21T02:15:48.868158Z"
    }
   },
   "source": [
    "dataset.state_idxs(letter)"
   ],
   "outputs": [
    {
     "data": {
      "text/plain": [
       "array([0, 0, 1, 1, 0], dtype=uint8)"
      ]
     },
     "execution_count": 7,
     "metadata": {},
     "output_type": "execute_result"
    }
   ],
   "execution_count": 7
  },
  {
   "cell_type": "markdown",
   "metadata": {},
   "source": [
    "A random variable can be added with state , by state indexes. If a numpy array is given, then the dataset will keep a reference to the data, otherwise it will be copied into a new numpy array."
   ]
  },
  {
   "cell_type": "code",
   "metadata": {
    "execution": {
     "iopub.execute_input": "2025-07-18T00:51:49.311260Z",
     "iopub.status.busy": "2025-07-18T00:51:49.311260Z",
     "iopub.status.idle": "2025-07-18T00:51:49.314262Z",
     "shell.execute_reply": "2025-07-18T00:51:49.314262Z"
    },
    "ExecuteTime": {
     "end_time": "2025-07-21T02:15:48.892901Z",
     "start_time": "2025-07-21T02:15:48.889664Z"
    }
   },
   "source": [
    "import numpy as np\n",
    "\n",
    "difficult_data = np.array([1, 1, 0, 1, 0])\n",
    "dataset.add_rv_from_state_idxs(difficult, difficult_data)\n",
    "\n",
    "print(*dataset.rvs)"
   ],
   "outputs": [
    {
     "name": "stdout",
     "output_type": "stream",
     "text": [
      "letter difficult\n"
     ]
    }
   ],
   "execution_count": 8
  },
  {
   "cell_type": "code",
   "metadata": {
    "execution": {
     "iopub.execute_input": "2025-07-18T00:51:49.316266Z",
     "iopub.status.busy": "2025-07-18T00:51:49.316266Z",
     "iopub.status.idle": "2025-07-18T00:51:49.319425Z",
     "shell.execute_reply": "2025-07-18T00:51:49.319425Z"
    },
    "ExecuteTime": {
     "end_time": "2025-07-21T02:15:48.923804Z",
     "start_time": "2025-07-21T02:15:48.919973Z"
    }
   },
   "source": [
    "dataset.state_idxs(difficult)"
   ],
   "outputs": [
    {
     "data": {
      "text/plain": [
       "array([1, 1, 0, 1, 0])"
      ]
     },
     "execution_count": 9,
     "metadata": {},
     "output_type": "execute_result"
    }
   ],
   "execution_count": 9
  },
  {
   "cell_type": "code",
   "metadata": {
    "execution": {
     "iopub.execute_input": "2025-07-18T00:51:49.321429Z",
     "iopub.status.busy": "2025-07-18T00:51:49.320429Z",
     "iopub.status.idle": "2025-07-18T00:51:49.324276Z",
     "shell.execute_reply": "2025-07-18T00:51:49.324276Z"
    },
    "ExecuteTime": {
     "end_time": "2025-07-21T02:15:48.951570Z",
     "start_time": "2025-07-21T02:15:48.947682Z"
    }
   },
   "source": [
    "difficult_data[0] = 0\n",
    "\n",
    "dataset.state_idxs(difficult)"
   ],
   "outputs": [
    {
     "data": {
      "text/plain": [
       "array([0, 1, 0, 1, 0])"
      ]
     },
     "execution_count": 10,
     "metadata": {},
     "output_type": "execute_result"
    }
   ],
   "execution_count": 10
  },
  {
   "cell_type": "markdown",
   "metadata": {},
   "source": [
    "A random variable can also be added using the states of a random variable, rather than state indices."
   ]
  },
  {
   "cell_type": "code",
   "metadata": {
    "execution": {
     "iopub.execute_input": "2025-07-18T00:51:49.326279Z",
     "iopub.status.busy": "2025-07-18T00:51:49.325279Z",
     "iopub.status.idle": "2025-07-18T00:51:49.329539Z",
     "shell.execute_reply": "2025-07-18T00:51:49.329539Z"
    },
    "ExecuteTime": {
     "end_time": "2025-07-21T02:15:48.996810Z",
     "start_time": "2025-07-21T02:15:48.992010Z"
    }
   },
   "source": [
    "sat_series = dataset.add_rv_from_states(sat, ['High', 'Low', 'High', 'Low', 'High'])\n",
    "\n",
    "sat_series"
   ],
   "outputs": [
    {
     "data": {
      "text/plain": [
       "array([0, 1, 0, 1, 0], dtype=uint8)"
      ]
     },
     "execution_count": 11,
     "metadata": {},
     "output_type": "execute_result"
    }
   ],
   "execution_count": 11
  },
  {
   "cell_type": "code",
   "metadata": {
    "execution": {
     "iopub.execute_input": "2025-07-18T00:51:49.331543Z",
     "iopub.status.busy": "2025-07-18T00:51:49.330543Z",
     "iopub.status.idle": "2025-07-18T00:51:49.333978Z",
     "shell.execute_reply": "2025-07-18T00:51:49.333978Z"
    },
    "ExecuteTime": {
     "end_time": "2025-07-21T02:15:49.038390Z",
     "start_time": "2025-07-21T02:15:49.035629Z"
    }
   },
   "source": [
    "print(*dataset.rvs)"
   ],
   "outputs": [
    {
     "name": "stdout",
     "output_type": "stream",
     "text": [
      "letter difficult sat\n"
     ]
    }
   ],
   "execution_count": 12
  },
  {
   "cell_type": "markdown",
   "metadata": {},
   "source": [
    "A random variable can be removed from a dataset."
   ]
  },
  {
   "cell_type": "code",
   "metadata": {
    "execution": {
     "iopub.execute_input": "2025-07-18T00:51:49.335981Z",
     "iopub.status.busy": "2025-07-18T00:51:49.334982Z",
     "iopub.status.idle": "2025-07-18T00:51:49.338428Z",
     "shell.execute_reply": "2025-07-18T00:51:49.338428Z"
    },
    "ExecuteTime": {
     "end_time": "2025-07-21T02:15:49.081500Z",
     "start_time": "2025-07-21T02:15:49.077947Z"
    }
   },
   "source": [
    "dataset.remove_rv(difficult)\n",
    "\n",
    "print(*dataset.rvs)"
   ],
   "outputs": [
    {
     "name": "stdout",
     "output_type": "stream",
     "text": [
      "letter sat\n"
     ]
    }
   ],
   "execution_count": 13
  },
  {
   "cell_type": "markdown",
   "metadata": {},
   "source": [
    "## Instance Weights\n",
    "\n",
    "If two or more instances in a dataset are identical, then mathematically this may be represented in a dataset equally well by combining identical instances and noting how many of that instance was present.\n",
    "\n",
    "For example, this dataset\n",
    "\n",
    "| difficult | intelligent | grade | sat | letter |\n",
    "|-----------|-------------|-------|-----|--------|\n",
    "| 0         | 1           | 2     | 0   | 1      |\n",
    "| 1         | 1           | 2     | 0   | 1      |\n",
    "| 1         | 1           | 2     | 0   | 1      |\n",
    "| 0         | 1           | 1     | 1   | 0      |\n",
    "| 1         | 1           | 0     | 0   | 0      |\n",
    "| 1         | 1           | 0     | 0   | 0      |\n",
    "\n",
    "may be represented using weighted instances as\n",
    "\n",
    "| difficult | intelligent | grade | sat | letter | _weight_ |\n",
    "|-----------|-------------|-------|-----|--------|----------|\n",
    "| 0         | 1           | 2     | 0   | 1      | 1        |\n",
    "| 1         | 1           | 2     | 0   | 1      | 2        |\n",
    "| 0         | 1           | 1     | 1   | 0      | 1        |\n",
    "| 1         | 1           | 0     | 0   | 0      | 2        |\n",
    "\n",
    "Instances of weight zero have no effect on the meaning of a dataset and can be removed. So this example dataset is also equivalent to the above.\n",
    "\n",
    "| difficult | intelligent | grade | sat | letter | _weight_ |\n",
    "|-----------|-------------|-------|-----|--------|----------|\n",
    "| 0         | 1           | 2     | 0   | 1      | 1        |\n",
    "| 1         | 1           | 2     | 0   | 1      | 2        |\n",
    "| 0         | 1           | 1     | 1   | 0      | 1        |\n",
    "| 1         | 0           | 0     | 0   | 1      | 0        |\n",
    "| 1         | 1           | 0     | 0   | 0      | 2        |\n"
   ]
  },
  {
   "cell_type": "markdown",
   "metadata": {},
   "source": [
    "The instance weights of a dataset are access using the `weights` method, with returns a 1D numpy array with the same length as the dataset."
   ]
  },
  {
   "cell_type": "code",
   "metadata": {
    "execution": {
     "iopub.execute_input": "2025-07-18T00:51:49.340432Z",
     "iopub.status.busy": "2025-07-18T00:51:49.340432Z",
     "iopub.status.idle": "2025-07-18T00:51:49.343548Z",
     "shell.execute_reply": "2025-07-18T00:51:49.343548Z"
    },
    "ExecuteTime": {
     "end_time": "2025-07-21T02:15:49.102197Z",
     "start_time": "2025-07-21T02:15:49.097936Z"
    }
   },
   "source": [
    "dataset.weights"
   ],
   "outputs": [
    {
     "data": {
      "text/plain": [
       "array([1., 1., 1., 1., 1.])"
      ]
     },
     "execution_count": 14,
     "metadata": {},
     "output_type": "execute_result"
    }
   ],
   "execution_count": 14
  },
  {
   "cell_type": "markdown",
   "metadata": {},
   "source": [
    "The instance weights of a dataset are directly modifiable"
   ]
  },
  {
   "cell_type": "code",
   "metadata": {
    "execution": {
     "iopub.execute_input": "2025-07-18T00:51:49.345552Z",
     "iopub.status.busy": "2025-07-18T00:51:49.345552Z",
     "iopub.status.idle": "2025-07-18T00:51:49.348658Z",
     "shell.execute_reply": "2025-07-18T00:51:49.348658Z"
    },
    "ExecuteTime": {
     "end_time": "2025-07-21T02:15:49.132559Z",
     "start_time": "2025-07-21T02:15:49.127854Z"
    }
   },
   "source": [
    "dataset.weights[3] = 2\n",
    "\n",
    "dataset.weights"
   ],
   "outputs": [
    {
     "data": {
      "text/plain": [
       "array([1., 1., 1., 2., 1.])"
      ]
     },
     "execution_count": 15,
     "metadata": {},
     "output_type": "execute_result"
    }
   ],
   "execution_count": 15
  },
  {
   "cell_type": "markdown",
   "metadata": {
    "collapsed": false
   },
   "source": [
    "The notion of an instance weight may be generalised further by introducing the concept of _weight of evidence_. A dataset represents a _weight of evidence_ that is the count of observations which lead to the data.\n",
    "\n",
    "Multiplying the instance weights of a dataset by a constant value does not change the empirical joint probability distribution, it only changes the weight of evidence. We use this principle to define fractional weights.\n",
    "\n",
    "For a dataset with fractional weighted instances, there is some constant such that when the instance weights of a dataset are multiplied by the constant, then all instance weights are integer. The dataset with fractional weighted instances is equivalent to the dataset with integer weighted instances, but with a weight of evidence proportionally reduced by the constant.\n",
    "\n",
    "There is a Bayesian interpretation for re-weighting evidence based on conditioning events. Intuitively, it may be understood as discounting evidence represented by a dataset due to some relative misgivings about the collection process.\n",
    "\n",
    "Note that for CK, negative weights have no interpretation.\n"
   ]
  },
  {
   "cell_type": "markdown",
   "metadata": {},
   "source": [
    "The total instance weight can be calculated. Naturally, if the instance weights are all 1, then the total weight is the same as the length of the dataset."
   ]
  },
  {
   "cell_type": "code",
   "metadata": {
    "execution": {
     "iopub.execute_input": "2025-07-18T00:51:49.350663Z",
     "iopub.status.busy": "2025-07-18T00:51:49.350663Z",
     "iopub.status.idle": "2025-07-18T00:51:49.353581Z",
     "shell.execute_reply": "2025-07-18T00:51:49.353581Z"
    },
    "ExecuteTime": {
     "end_time": "2025-07-21T02:15:49.168454Z",
     "start_time": "2025-07-21T02:15:49.164271Z"
    }
   },
   "source": [
    "dataset.total_weight()"
   ],
   "outputs": [
    {
     "data": {
      "text/plain": [
       "6.0"
      ]
     },
     "execution_count": 16,
     "metadata": {},
     "output_type": "execute_result"
    }
   ],
   "execution_count": 16
  },
  {
   "cell_type": "markdown",
   "metadata": {},
   "source": [
    "## Dataset Dump\n",
    "\n",
    "A dump of a dataset can be printed, showing state indexes and weights. This is intended for debugging, ad hoc testing and pedagogical purposes."
   ]
  },
  {
   "cell_type": "code",
   "metadata": {
    "execution": {
     "iopub.execute_input": "2025-07-18T00:51:49.355577Z",
     "iopub.status.busy": "2025-07-18T00:51:49.354577Z",
     "iopub.status.idle": "2025-07-18T00:51:49.357927Z",
     "shell.execute_reply": "2025-07-18T00:51:49.357927Z"
    },
    "ExecuteTime": {
     "end_time": "2025-07-21T02:15:49.199163Z",
     "start_time": "2025-07-21T02:15:49.195642Z"
    }
   },
   "source": [
    "dataset.dump()"
   ],
   "outputs": [
    {
     "name": "stdout",
     "output_type": "stream",
     "text": [
      "rvs: [letter, sat]\n",
      "instances (5, with total weight 6.0):\n",
      "(0, 0) * 1.0\n",
      "(0, 1) * 1.0\n",
      "(1, 0) * 1.0\n",
      "(1, 1) * 2.0\n",
      "(0, 0) * 1.0\n"
     ]
    }
   ],
   "execution_count": 17
  },
  {
   "cell_type": "markdown",
   "metadata": {},
   "source": [
    "A hard dataset dump can show the states directly, using the `as_states` keyword argument.\n"
   ]
  },
  {
   "cell_type": "code",
   "metadata": {
    "execution": {
     "iopub.execute_input": "2025-07-18T00:51:49.359921Z",
     "iopub.status.busy": "2025-07-18T00:51:49.359921Z",
     "iopub.status.idle": "2025-07-18T00:51:49.362546Z",
     "shell.execute_reply": "2025-07-18T00:51:49.362546Z"
    },
    "ExecuteTime": {
     "end_time": "2025-07-21T02:15:49.218415Z",
     "start_time": "2025-07-21T02:15:49.214604Z"
    }
   },
   "source": [
    "dataset.dump(as_states=True)"
   ],
   "outputs": [
    {
     "name": "stdout",
     "output_type": "stream",
     "text": [
      "rvs: [letter, sat]\n",
      "instances (5, with total weight 6.0):\n",
      "('Yes', 'High') * 1.0\n",
      "('Yes', 'Low') * 1.0\n",
      "('No', 'High') * 1.0\n",
      "('No', 'Low') * 2.0\n",
      "('Yes', 'High') * 1.0\n"
     ]
    }
   ],
   "execution_count": 18
  },
  {
   "cell_type": "markdown",
   "metadata": {},
   "source": [
    "## Soft Datasets\n",
    "\n",
    "A soft dataset represents instances of soft evidence for a set of random variables.\n",
    "For each instance, there is a distribution over the states for each random variable.\n",
    "\n",
    "Traditionally, each instance in a dataset records a single state for each random variable. In CK, a value of a random variable may be a distribution over the possible states of a random variable. When a random variable has a single state value for an instance, then the distribution has probability = 1 for one state, and all other states have zero probability.\n",
    "\n",
    "As with a hard dataset, the \"length\" of a dataset is the number of instances in the dataset. The length is determined at construction time, and cannot be modified.\n",
    "Random variables can be added to and removed from a soft dataset.\n",
    "\n",
    "There are multiple ways to initialise a soft dataset. Here we create a dataset with two random variables included at construction time."
   ]
  },
  {
   "cell_type": "code",
   "metadata": {
    "execution": {
     "iopub.execute_input": "2025-07-18T00:51:49.364544Z",
     "iopub.status.busy": "2025-07-18T00:51:49.363543Z",
     "iopub.status.idle": "2025-07-18T00:51:49.368544Z",
     "shell.execute_reply": "2025-07-18T00:51:49.368544Z"
    },
    "ExecuteTime": {
     "end_time": "2025-07-21T02:15:49.266933Z",
     "start_time": "2025-07-21T02:15:49.261836Z"
    }
   },
   "source": [
    "from ck.dataset import SoftDataset\n",
    "\n",
    "letter_data = [\n",
    "    [0.6, 0.4],\n",
    "    [1.0, 0.0],\n",
    "    [0.0, 1.0],\n",
    "    [0.3, 0.7],\n",
    "    [0.9, 0.1],\n",
    "]\n",
    "\n",
    "grade_data = [\n",
    "    [0.6, 0.3, 0.1],\n",
    "    [0.0, 0.0, 1.0],\n",
    "    [0.0, 1.0, 0.0],\n",
    "    [0.3, 0.4, 0.3],\n",
    "    [0.8, 0.1, 0.1],\n",
    "]\n",
    "\n",
    "\n",
    "dataset: SoftDataset = SoftDataset([\n",
    "    (letter, letter_data),\n",
    "    (grade, grade_data),\n",
    "])\n",
    "\n",
    "len(dataset)"
   ],
   "outputs": [
    {
     "data": {
      "text/plain": [
       "5"
      ]
     },
     "execution_count": 19,
     "metadata": {},
     "output_type": "execute_result"
    }
   ],
   "execution_count": 19
  },
  {
   "cell_type": "markdown",
   "metadata": {
    "collapsed": false
   },
   "source": [
    "As with a hard dataset, a soft dataset has weighted instances."
   ]
  },
  {
   "cell_type": "code",
   "metadata": {
    "collapsed": false,
    "execution": {
     "iopub.execute_input": "2025-07-18T00:51:49.370544Z",
     "iopub.status.busy": "2025-07-18T00:51:49.369543Z",
     "iopub.status.idle": "2025-07-18T00:51:49.373524Z",
     "shell.execute_reply": "2025-07-18T00:51:49.373524Z"
    },
    "ExecuteTime": {
     "end_time": "2025-07-21T02:15:49.287079Z",
     "start_time": "2025-07-21T02:15:49.283692Z"
    }
   },
   "source": [
    "dataset.weights"
   ],
   "outputs": [
    {
     "data": {
      "text/plain": [
       "array([1., 1., 1., 1., 1.])"
      ]
     },
     "execution_count": 20,
     "metadata": {},
     "output_type": "execute_result"
    }
   ],
   "execution_count": 20
  },
  {
   "cell_type": "markdown",
   "metadata": {
    "collapsed": false
   },
   "source": [
    "The instance weights can be updated."
   ]
  },
  {
   "cell_type": "code",
   "metadata": {
    "collapsed": false,
    "execution": {
     "iopub.execute_input": "2025-07-18T00:51:49.375528Z",
     "iopub.status.busy": "2025-07-18T00:51:49.374528Z",
     "iopub.status.idle": "2025-07-18T00:51:49.378707Z",
     "shell.execute_reply": "2025-07-18T00:51:49.378707Z"
    },
    "ExecuteTime": {
     "end_time": "2025-07-21T02:15:49.308634Z",
     "start_time": "2025-07-21T02:15:49.304975Z"
    }
   },
   "source": [
    "dataset.weights[1] = 2\n",
    "dataset.weights[3] = 0\n",
    "dataset.weights[4] = 2\n",
    "\n",
    "dataset.weights"
   ],
   "outputs": [
    {
     "data": {
      "text/plain": [
       "array([1., 2., 1., 0., 2.])"
      ]
     },
     "execution_count": 21,
     "metadata": {},
     "output_type": "execute_result"
    }
   ],
   "execution_count": 21
  },
  {
   "cell_type": "markdown",
   "metadata": {
    "collapsed": false
   },
   "source": [
    "And the total instance weight can be calculated"
   ]
  },
  {
   "cell_type": "code",
   "metadata": {
    "collapsed": false,
    "execution": {
     "iopub.execute_input": "2025-07-18T00:51:49.380711Z",
     "iopub.status.busy": "2025-07-18T00:51:49.379711Z",
     "iopub.status.idle": "2025-07-18T00:51:49.383447Z",
     "shell.execute_reply": "2025-07-18T00:51:49.383447Z"
    },
    "ExecuteTime": {
     "end_time": "2025-07-21T02:15:49.346699Z",
     "start_time": "2025-07-21T02:15:49.342241Z"
    }
   },
   "source": [
    "dataset.total_weight()"
   ],
   "outputs": [
    {
     "data": {
      "text/plain": [
       "6.0"
      ]
     },
     "execution_count": 22,
     "metadata": {},
     "output_type": "execute_result"
    }
   ],
   "execution_count": 22
  },
  {
   "cell_type": "markdown",
   "metadata": {},
   "source": [
    "When dumping a soft dataset, the state weights are printed."
   ]
  },
  {
   "cell_type": "code",
   "metadata": {
    "execution": {
     "iopub.execute_input": "2025-07-18T00:51:49.385451Z",
     "iopub.status.busy": "2025-07-18T00:51:49.384451Z",
     "iopub.status.idle": "2025-07-18T00:51:49.388445Z",
     "shell.execute_reply": "2025-07-18T00:51:49.388445Z"
    },
    "ExecuteTime": {
     "end_time": "2025-07-21T02:15:49.388381Z",
     "start_time": "2025-07-21T02:15:49.384197Z"
    }
   },
   "source": [
    "dataset.dump()"
   ],
   "outputs": [
    {
     "name": "stdout",
     "output_type": "stream",
     "text": [
      "rvs: [letter, grade]\n",
      "instances (5, with total weight 6.0):\n",
      "([0.6 0.4], [0.6 0.3 0.1]) * 1.0\n",
      "([1. 0.], [0. 0. 1.]) * 2.0\n",
      "([0. 1.], [0. 1. 0.]) * 1.0\n",
      "([0.3 0.7], [0.3 0.4 0.3]) * 0.0\n",
      "([0.9 0.1], [0.8 0.1 0.1]) * 2.0\n"
     ]
    }
   ],
   "execution_count": 23
  },
  {
   "cell_type": "markdown",
   "metadata": {
    "collapsed": false
   },
   "source": [
    "The state weights for a random variable and instance represent _soft evidence_. The intuitive interpretation of soft evidence is that it represents uncertainty in the true value of the random variable for that instance.\n",
    "\n",
    "Formally, a soft evidence value is equivalent to replicating the instance, once for each possible value of the attribute, then multiplying the weight of the instance by the probability of the value.\n",
    "\n",
    "For example,\n",
    "\n",
    "| difficult | intelligent | grade | sat | letter | _weight_ |\n",
    "|-----------|-------------|-------|-----|--------|----------|\n",
    "| 0         | (0.2, 0.8)  | 2     | 0   | 1      | _w_      |\n",
    "\n",
    "is equivalent to\n",
    "\n",
    "| difficult | intelligent | grade | sat | letter | _weight_  |\n",
    "|-----------|-------------|-------|-----|--------|-----------|\n",
    "| 0         | 0           | 2     | 0   | 1      | _w_ × 0.2 |\n",
    "| 0         | 1           | 2     | 0   | 1      | _w_ × 0.8 |\n",
    "\n",
    "This interpretation is consistent for any non-negative weighting of values, not just probability distributions.\n",
    "However, it is not recommended to use soft evidence except as distributions over attribute values as it may make the weight of evidence difficult to see, even though the semantics is well-defined.\n",
    "\n",
    "For example,\n",
    "\n",
    "| difficult | intelligent | grade | sat | letter | _weight_ |\n",
    "|-----------|-------------|-------|-----|--------|----------|\n",
    "| 0         | (2.4, 0.1)  | 2     | 0   | 1      | _w_      |\n",
    "\n",
    "is equivalent to\n",
    "\n",
    "| difficult | intelligent | grade | sat | letter | _weight_  |\n",
    "|-----------|-------------|-------|-----|--------|-----------|\n",
    "| 0         | 0           | 2     | 0   | 1      | _w_ × 2.4 |\n",
    "| 0         | 1           | 2     | 0   | 1      | _w_ × 0.1 |\n"
   ]
  },
  {
   "cell_type": "markdown",
   "metadata": {
    "collapsed": false
   },
   "source": [
    "The formulation of soft evidence remains consistent when there are multiple attributes with soft evidence.\n",
    "\n",
    "For example,\n",
    "\n",
    "| difficult | intelligent | grade  | sat        | letter  | _weight_ |\n",
    "|-----------|-------------|--------|------------|---------|----------|\n",
    "| 0         | (0.6, 0.4)  | 2      | (0.1, 0.9) | 1       | _w_      |\n",
    "\n",
    "is equivalent to\n",
    "\n",
    "| difficult | intelligent | grade  | sat | letter  | _weight_        |\n",
    "|-----------|-------------|--------|-----|---------|-----------------|\n",
    "| 0         | 0           | 2      | 0   | 1       | _w_ × 0.6 × 0.1 |\n",
    "| 0         | 0           | 2      | 1   | 1       | _w_ × 0.6 × 0.9 |\n",
    "| 0         | 1           | 2      | 0   | 1       | _w_ × 0.4 × 0.1 |\n",
    "| 0         | 1           | 2      | 1   | 1       | _w_ × 0.4 × 0.9 |\n"
   ]
  },
  {
   "cell_type": "markdown",
   "metadata": {
    "collapsed": false
   },
   "source": [
    "Here is how we can create a dataset with soft evidence (with a single instance weight of 10)"
   ]
  },
  {
   "cell_type": "code",
   "metadata": {
    "execution": {
     "iopub.execute_input": "2025-07-18T00:51:49.390448Z",
     "iopub.status.busy": "2025-07-18T00:51:49.390448Z",
     "iopub.status.idle": "2025-07-18T00:51:49.394130Z",
     "shell.execute_reply": "2025-07-18T00:51:49.394130Z"
    },
    "ExecuteTime": {
     "end_time": "2025-07-21T02:15:49.412190Z",
     "start_time": "2025-07-21T02:15:49.407391Z"
    }
   },
   "source": [
    "dataset: SoftDataset = SoftDataset(weights=[10])\n",
    "\n",
    "dataset.add_rv(difficult)[0,:] = (1, 0)         # difficult = 'Yes'\n",
    "dataset.add_rv(intelligent)[0,:] = (2.4, 0.1)   # intelligent = (2.4, 0.1)\n",
    "dataset.add_rv(grade)[0,:] = (0, 0, 1)          # grade = '3'\n",
    "dataset.add_rv(sat)[0,:] = (0.1, 0.9)           # sat = (0.1, 0.9)\n",
    "dataset.add_rv(letter)[0,:] = (0, 1)            # letter = 'No'\n",
    "\n",
    "dataset.dump()"
   ],
   "outputs": [
    {
     "name": "stdout",
     "output_type": "stream",
     "text": [
      "rvs: [difficult, intelligent, grade, sat, letter]\n",
      "instances (1, with total weight 10.0):\n",
      "([1. 0.], [2.4 0.1], [0. 0. 1.], [0.1 0.9], [0. 1.]) * 10.0\n"
     ]
    }
   ],
   "execution_count": 24
  },
  {
   "cell_type": "markdown",
   "metadata": {
    "collapsed": false
   },
   "source": [
    "## Normalisation\n",
    "A soft dataset is considered _normalised_ when, for each instance, either:\n",
    "1. the instance weight is zero and the state weights for every random variable are zero, or\n",
    "2. the instance weight is positive and the state weights for each random variable sum to one.\n",
    "\n",
    "For example,\n",
    "\n",
    "| difficult | intelligent | grade | sat        | letter | _weight_ |\n",
    "|-----------|-------------|-------|------------|--------|----------|\n",
    "| 0         | (2.4, 0.1)  | 2     | (0.1, 0.9) | 1      | 10       |\n",
    "\n",
    "is equivalent to the normalised dataset\n",
    "\n",
    "| difficult | intelligent  | grade  | sat        | letter  | _weight_ |\n",
    "|-----------|--------------|--------|------------|---------|----------|\n",
    "| 0         | (0.96, 0.04) | 2      | (0.1, 0.9) | 1       | 10 × 2.5 |\n"
   ]
  },
  {
   "cell_type": "code",
   "metadata": {
    "execution": {
     "iopub.execute_input": "2025-07-18T00:51:49.396136Z",
     "iopub.status.busy": "2025-07-18T00:51:49.396136Z",
     "iopub.status.idle": "2025-07-18T00:51:49.399401Z",
     "shell.execute_reply": "2025-07-18T00:51:49.399401Z"
    },
    "ExecuteTime": {
     "end_time": "2025-07-21T02:15:49.426841Z",
     "start_time": "2025-07-21T02:15:49.422900Z"
    }
   },
   "source": [
    "dataset.dump()\n",
    "print()\n",
    "\n",
    "dataset.normalise()\n",
    "\n",
    "dataset.dump()"
   ],
   "outputs": [
    {
     "name": "stdout",
     "output_type": "stream",
     "text": [
      "rvs: [difficult, intelligent, grade, sat, letter]\n",
      "instances (1, with total weight 10.0):\n",
      "([1. 0.], [2.4 0.1], [0. 0. 1.], [0.1 0.9], [0. 1.]) * 10.0\n",
      "\n",
      "rvs: [difficult, intelligent, grade, sat, letter]\n",
      "instances (1, with total weight 25.0):\n",
      "([1. 0.], [0.96 0.04], [0. 0. 1.], [0.1 0.9], [0. 1.]) * 25.0\n"
     ]
    }
   ],
   "execution_count": 25
  },
  {
   "cell_type": "markdown",
   "metadata": {},
   "source": [
    "## Dataset Builder\n",
    "\n",
    "CK Datasets are optimised for efficiency which can make constructing ad hoc datasets a little cumbersome.\n",
    "\n",
    "A `DatasetBuilder` solves this issue by providing a flexible API for defining a dataset, which can then be converted to a `HardDataset` or `SoftDataset` as needed.\n",
    "\n",
    "A dataset builder holds all values in memory and can be a mixture of hard, soft or missing evidence.\n",
    "\n",
    "The following example uses a `DatasetBuilder` to define a dataset for two random variables."
   ]
  },
  {
   "cell_type": "code",
   "metadata": {
    "execution": {
     "iopub.execute_input": "2025-07-18T00:51:49.401405Z",
     "iopub.status.busy": "2025-07-18T00:51:49.400405Z",
     "iopub.status.idle": "2025-07-18T00:51:49.404900Z",
     "shell.execute_reply": "2025-07-18T00:51:49.404900Z"
    },
    "ExecuteTime": {
     "end_time": "2025-07-21T02:15:49.477164Z",
     "start_time": "2025-07-21T02:15:49.468449Z"
    }
   },
   "source": [
    "from ck.dataset.dataset_builder import DatasetBuilder, Record\n",
    "from ck.pgm import PGM\n",
    "\n",
    "pgm = PGM()\n",
    "x = pgm.new_rv('x', (True, False))\n",
    "y = pgm.new_rv('y', ('yes', 'no', 'maybe'))\n",
    "\n",
    "builder = DatasetBuilder([x, y])"
   ],
   "outputs": [],
   "execution_count": 26
  },
  {
   "cell_type": "markdown",
   "metadata": {},
   "source": [
    "This dataset builder currently has no records."
   ]
  },
  {
   "cell_type": "code",
   "metadata": {
    "execution": {
     "iopub.execute_input": "2025-07-18T00:51:49.406904Z",
     "iopub.status.busy": "2025-07-18T00:51:49.406904Z",
     "iopub.status.idle": "2025-07-18T00:51:49.409767Z",
     "shell.execute_reply": "2025-07-18T00:51:49.409767Z"
    },
    "ExecuteTime": {
     "end_time": "2025-07-21T02:15:49.500920Z",
     "start_time": "2025-07-21T02:15:49.496507Z"
    }
   },
   "source": [
    "len(builder)"
   ],
   "outputs": [
    {
     "data": {
      "text/plain": [
       "0"
      ]
     },
     "execution_count": 27,
     "metadata": {},
     "output_type": "execute_result"
    }
   ],
   "execution_count": 27
  },
  {
   "cell_type": "markdown",
   "metadata": {},
   "source": [
    "Just like a `Dataset`, a `DatasetBuilder` knows the random variables it is for."
   ]
  },
  {
   "cell_type": "code",
   "metadata": {
    "execution": {
     "iopub.execute_input": "2025-07-18T00:51:49.411771Z",
     "iopub.status.busy": "2025-07-18T00:51:49.410771Z",
     "iopub.status.idle": "2025-07-18T00:51:49.414135Z",
     "shell.execute_reply": "2025-07-18T00:51:49.414135Z"
    },
    "ExecuteTime": {
     "end_time": "2025-07-21T02:15:49.534879Z",
     "start_time": "2025-07-21T02:15:49.531617Z"
    }
   },
   "source": [
    "print(*builder.rvs)"
   ],
   "outputs": [
    {
     "name": "stdout",
     "output_type": "stream",
     "text": [
      "x y\n"
     ]
    }
   ],
   "execution_count": 28
  },
  {
   "cell_type": "code",
   "metadata": {
    "execution": {
     "iopub.execute_input": "2025-07-18T00:51:49.416139Z",
     "iopub.status.busy": "2025-07-18T00:51:49.415138Z",
     "iopub.status.idle": "2025-07-18T00:51:49.418814Z",
     "shell.execute_reply": "2025-07-18T00:51:49.418814Z"
    },
    "ExecuteTime": {
     "end_time": "2025-07-21T02:15:49.565820Z",
     "start_time": "2025-07-21T02:15:49.562014Z"
    }
   },
   "source": [
    "record: Record = builder.append()\n",
    "\n",
    "len(record)"
   ],
   "outputs": [
    {
     "data": {
      "text/plain": [
       "2"
      ]
     },
     "execution_count": 29,
     "metadata": {},
     "output_type": "execute_result"
    }
   ],
   "execution_count": 29
  },
  {
   "cell_type": "markdown",
   "metadata": {},
   "source": [
    "A record can be appended to the builder. The record is a sequence of values, co-indexed with the builder's random variables. Each value in a new record is \"missing\" represented by `None`."
   ]
  },
  {
   "cell_type": "code",
   "metadata": {
    "execution": {
     "iopub.execute_input": "2025-07-18T00:51:49.420819Z",
     "iopub.status.busy": "2025-07-18T00:51:49.420819Z",
     "iopub.status.idle": "2025-07-18T00:51:49.423879Z",
     "shell.execute_reply": "2025-07-18T00:51:49.423879Z"
    },
    "ExecuteTime": {
     "end_time": "2025-07-21T02:15:49.587216Z",
     "start_time": "2025-07-21T02:15:49.583264Z"
    }
   },
   "source": [
    "record[0], record[1]"
   ],
   "outputs": [
    {
     "data": {
      "text/plain": [
       "(None, None)"
      ]
     },
     "execution_count": 30,
     "metadata": {},
     "output_type": "execute_result"
    }
   ],
   "execution_count": 30
  },
  {
   "cell_type": "markdown",
   "metadata": {},
   "source": [
    "A record also has a weight (notionally 1)."
   ]
  },
  {
   "cell_type": "code",
   "metadata": {
    "execution": {
     "iopub.execute_input": "2025-07-18T00:51:49.425883Z",
     "iopub.status.busy": "2025-07-18T00:51:49.424882Z",
     "iopub.status.idle": "2025-07-18T00:51:49.428623Z",
     "shell.execute_reply": "2025-07-18T00:51:49.428623Z"
    },
    "ExecuteTime": {
     "end_time": "2025-07-21T02:15:49.615266Z",
     "start_time": "2025-07-21T02:15:49.610752Z"
    }
   },
   "source": [
    "record.weight"
   ],
   "outputs": [
    {
     "data": {
      "text/plain": [
       "1"
      ]
     },
     "execution_count": 31,
     "metadata": {},
     "output_type": "execute_result"
    }
   ],
   "execution_count": 31
  },
  {
   "cell_type": "markdown",
   "metadata": {},
   "source": [
    "A value can be set to hard evidence (by state index)."
   ]
  },
  {
   "cell_type": "code",
   "metadata": {
    "execution": {
     "iopub.execute_input": "2025-07-18T00:51:49.430626Z",
     "iopub.status.busy": "2025-07-18T00:51:49.429626Z",
     "iopub.status.idle": "2025-07-18T00:51:49.433315Z",
     "shell.execute_reply": "2025-07-18T00:51:49.433315Z"
    },
    "ExecuteTime": {
     "end_time": "2025-07-21T02:15:49.665823Z",
     "start_time": "2025-07-21T02:15:49.661402Z"
    }
   },
   "source": [
    "record[0] = 1\n",
    "\n",
    "record[0], record[1]\n"
   ],
   "outputs": [
    {
     "data": {
      "text/plain": [
       "(1, None)"
      ]
     },
     "execution_count": 32,
     "metadata": {},
     "output_type": "execute_result"
    }
   ],
   "execution_count": 32
  },
  {
   "cell_type": "markdown",
   "metadata": {},
   "source": [
    "A value can also be set to soft evidence."
   ]
  },
  {
   "cell_type": "code",
   "metadata": {
    "execution": {
     "iopub.execute_input": "2025-07-18T00:51:49.435318Z",
     "iopub.status.busy": "2025-07-18T00:51:49.434318Z",
     "iopub.status.idle": "2025-07-18T00:51:49.438282Z",
     "shell.execute_reply": "2025-07-18T00:51:49.438282Z"
    },
    "ExecuteTime": {
     "end_time": "2025-07-21T02:15:49.698245Z",
     "start_time": "2025-07-21T02:15:49.694311Z"
    }
   },
   "source": [
    "record[1] = (0.2, 0.3, 0.5)\n",
    "\n",
    "record[0], record[1]"
   ],
   "outputs": [
    {
     "data": {
      "text/plain": [
       "(1, (0.2, 0.3, 0.5))"
      ]
     },
     "execution_count": 33,
     "metadata": {},
     "output_type": "execute_result"
    }
   ],
   "execution_count": 33
  },
  {
   "cell_type": "markdown",
   "metadata": {},
   "source": [
    "A record weight can also be updated."
   ]
  },
  {
   "cell_type": "code",
   "metadata": {
    "execution": {
     "iopub.execute_input": "2025-07-18T00:51:49.440286Z",
     "iopub.status.busy": "2025-07-18T00:51:49.439286Z",
     "iopub.status.idle": "2025-07-18T00:51:49.442621Z",
     "shell.execute_reply": "2025-07-18T00:51:49.442621Z"
    },
    "ExecuteTime": {
     "end_time": "2025-07-21T02:15:49.720509Z",
     "start_time": "2025-07-21T02:15:49.716713Z"
    }
   },
   "source": [
    "record.weight = 3\n",
    "\n",
    "print(record.weight)"
   ],
   "outputs": [
    {
     "name": "stdout",
     "output_type": "stream",
     "text": [
      "3\n"
     ]
    }
   ],
   "execution_count": 34
  },
  {
   "cell_type": "markdown",
   "metadata": {},
   "source": "A record's string representation is similar to that of a `Dataset` dump, allowing for a mixture of hard and soft evidence."
  },
  {
   "cell_type": "code",
   "metadata": {
    "execution": {
     "iopub.execute_input": "2025-07-18T00:51:49.444625Z",
     "iopub.status.busy": "2025-07-18T00:51:49.443625Z",
     "iopub.status.idle": "2025-07-18T00:51:49.446895Z",
     "shell.execute_reply": "2025-07-18T00:51:49.446895Z"
    },
    "ExecuteTime": {
     "end_time": "2025-07-21T02:15:49.765741Z",
     "start_time": "2025-07-21T02:15:49.761935Z"
    }
   },
   "source": [
    "print(record)"
   ],
   "outputs": [
    {
     "name": "stdout",
     "output_type": "stream",
     "text": [
      "(1, (0.2, 0.3, 0.5)) * 3\n"
     ]
    }
   ],
   "execution_count": 35
  },
  {
   "cell_type": "markdown",
   "metadata": {},
   "source": "When appending records, values may be provided. The following adds three more records."
  },
  {
   "cell_type": "code",
   "metadata": {
    "execution": {
     "iopub.execute_input": "2025-07-18T00:51:49.448899Z",
     "iopub.status.busy": "2025-07-18T00:51:49.447898Z",
     "iopub.status.idle": "2025-07-18T00:51:49.451232Z",
     "shell.execute_reply": "2025-07-18T00:51:49.451232Z"
    },
    "ExecuteTime": {
     "end_time": "2025-07-21T02:15:49.798717Z",
     "start_time": "2025-07-21T02:15:49.794829Z"
    }
   },
   "source": [
    "builder.append(1, 2)\n",
    "builder.append(None, [0.7, 0.1, 0.2])\n",
    "builder.append(0, 1).weight = 2\n"
   ],
   "outputs": [],
   "execution_count": 36
  },
  {
   "cell_type": "markdown",
   "metadata": {},
   "source": [
    "Here is a dump of the data so far..."
   ]
  },
  {
   "cell_type": "code",
   "metadata": {
    "execution": {
     "iopub.execute_input": "2025-07-18T00:51:49.453236Z",
     "iopub.status.busy": "2025-07-18T00:51:49.452236Z",
     "iopub.status.idle": "2025-07-18T00:51:49.455659Z",
     "shell.execute_reply": "2025-07-18T00:51:49.455659Z"
    },
    "ExecuteTime": {
     "end_time": "2025-07-21T02:15:49.819988Z",
     "start_time": "2025-07-21T02:15:49.817166Z"
    }
   },
   "source": [
    "builder.dump()"
   ],
   "outputs": [
    {
     "name": "stdout",
     "output_type": "stream",
     "text": [
      "rvs: [x, y]\n",
      "instances (4, with total weight 7):\n",
      "(1, (0.2, 0.3, 0.5)) * 3\n",
      "(1, 2) * 1\n",
      "(None, [0.7, 0.1, 0.2]) * 1\n",
      "(0, 1) * 2\n"
     ]
    }
   ],
   "execution_count": 37
  },
  {
   "cell_type": "markdown",
   "metadata": {},
   "source": [
    "Records can also be inserted. The insert `index` has same semantics as `list.insert`."
   ]
  },
  {
   "cell_type": "code",
   "metadata": {
    "execution": {
     "iopub.execute_input": "2025-07-18T00:51:49.457656Z",
     "iopub.status.busy": "2025-07-18T00:51:49.456656Z",
     "iopub.status.idle": "2025-07-18T00:51:49.460158Z",
     "shell.execute_reply": "2025-07-18T00:51:49.460158Z"
    },
    "ExecuteTime": {
     "end_time": "2025-07-21T02:15:49.847648Z",
     "start_time": "2025-07-21T02:15:49.844005Z"
    }
   },
   "source": [
    "builder.insert(0)  # insert at the start, all values missing\n",
    "builder.insert(2, [0, 0]) # insert before index position 2, using the given values\n",
    "\n",
    "builder.dump()"
   ],
   "outputs": [
    {
     "name": "stdout",
     "output_type": "stream",
     "text": [
      "rvs: [x, y]\n",
      "instances (6, with total weight 9):\n",
      "(None, None) * 1\n",
      "(1, (0.2, 0.3, 0.5)) * 3\n",
      "(0, 0) * 1\n",
      "(1, 2) * 1\n",
      "(None, [0.7, 0.1, 0.2]) * 1\n",
      "(0, 1) * 2\n"
     ]
    }
   ],
   "execution_count": 38
  },
  {
   "cell_type": "markdown",
   "metadata": {},
   "source": [
    "Record values can also be set using random variable states."
   ]
  },
  {
   "cell_type": "code",
   "metadata": {
    "execution": {
     "iopub.execute_input": "2025-07-18T00:51:49.462156Z",
     "iopub.status.busy": "2025-07-18T00:51:49.461156Z",
     "iopub.status.idle": "2025-07-18T00:51:49.464809Z",
     "shell.execute_reply": "2025-07-18T00:51:49.464809Z"
    },
    "ExecuteTime": {
     "end_time": "2025-07-21T02:15:49.870032Z",
     "start_time": "2025-07-21T02:15:49.866653Z"
    }
   },
   "source": [
    "builder[0].set_states(True, 'maybe')\n",
    "builder.append().set_states(False, 'no')\n",
    "\n",
    "builder.dump(as_states=True, missing='?')"
   ],
   "outputs": [
    {
     "name": "stdout",
     "output_type": "stream",
     "text": [
      "rvs: [x, y]\n",
      "instances (7, with total weight 10):\n",
      "(True, 'maybe') * 1\n",
      "(False, (0.2, 0.3, 0.5)) * 3\n",
      "(True, 'yes') * 1\n",
      "(False, 'maybe') * 1\n",
      "(?, [0.7, 0.1, 0.2]) * 1\n",
      "(True, 'no') * 2\n",
      "(False, 'no') * 1\n"
     ]
    }
   ],
   "execution_count": 39
  },
  {
   "cell_type": "markdown",
   "metadata": {},
   "source": [
    "## Convertion Between Datasets\n",
    "\n"
   ]
  },
  {
   "metadata": {},
   "cell_type": "markdown",
   "source": [
    "### using a dataset builder\n",
    "\n",
    "A dataset builder can be converted to a hard or soft dataset.\n",
    "\n",
    "When converting to a hard dataset, the state of a random variable with soft evidence will be the state with the highest weight. Ties broken arbitrarily.\n",
    "\n",
    "Missing values are set to the number of states of the random variable. That is an invalid state index for the random variable. Alternative values can be specified. In this example the value 99 is used to make the effect clearly visible.\n",
    "\n",
    "The following examples use the dataset builder from above"
   ]
  },
  {
   "cell_type": "code",
   "metadata": {
    "execution": {
     "iopub.execute_input": "2025-07-18T00:51:49.466809Z",
     "iopub.status.busy": "2025-07-18T00:51:49.465808Z",
     "iopub.status.idle": "2025-07-18T00:51:49.469808Z",
     "shell.execute_reply": "2025-07-18T00:51:49.469808Z"
    },
    "ExecuteTime": {
     "end_time": "2025-07-21T02:15:49.888990Z",
     "start_time": "2025-07-21T02:15:49.885831Z"
    }
   },
   "source": [
    "from ck.dataset.dataset_builder import hard_dataset_from_builder\n",
    "\n",
    "dataset: HardDataset = hard_dataset_from_builder(builder, missing=99)\n",
    "dataset.dump()"
   ],
   "outputs": [
    {
     "name": "stdout",
     "output_type": "stream",
     "text": [
      "rvs: [x, y]\n",
      "instances (7, with total weight 10.0):\n",
      "(0, 2) * 1.0\n",
      "(1, 2) * 3.0\n",
      "(0, 0) * 1.0\n",
      "(1, 2) * 1.0\n",
      "(99, 0) * 1.0\n",
      "(0, 1) * 2.0\n",
      "(1, 1) * 1.0\n"
     ]
    }
   ],
   "execution_count": 40
  },
  {
   "metadata": {},
   "cell_type": "markdown",
   "source": "When converting to a soft dataset, by default missing values have state weights set to NaN."
  },
  {
   "cell_type": "code",
   "metadata": {
    "execution": {
     "iopub.execute_input": "2025-07-18T00:51:49.471808Z",
     "iopub.status.busy": "2025-07-18T00:51:49.470808Z",
     "iopub.status.idle": "2025-07-18T00:51:49.475358Z",
     "shell.execute_reply": "2025-07-18T00:51:49.475358Z"
    },
    "ExecuteTime": {
     "end_time": "2025-07-21T02:15:49.940262Z",
     "start_time": "2025-07-21T02:15:49.935406Z"
    }
   },
   "source": [
    "from ck.dataset.dataset_builder import soft_dataset_from_builder\n",
    "\n",
    "dataset: SoftDataset = soft_dataset_from_builder(builder)\n",
    "dataset.dump()"
   ],
   "outputs": [
    {
     "name": "stdout",
     "output_type": "stream",
     "text": [
      "rvs: [x, y]\n",
      "instances (7, with total weight 10.0):\n",
      "([1. 0.], [0. 0. 1.]) * 1.0\n",
      "([0. 1.], [0.2 0.3 0.5]) * 3.0\n",
      "([1. 0.], [1. 0. 0.]) * 1.0\n",
      "([0. 1.], [0. 0. 1.]) * 1.0\n",
      "([nan nan], [0.7 0.1 0.2]) * 1.0\n",
      "([1. 0.], [0. 1. 0.]) * 2.0\n",
      "([0. 1.], [0. 1. 0.]) * 1.0\n"
     ]
    }
   ],
   "execution_count": 41
  },
  {
   "cell_type": "markdown",
   "metadata": {},
   "source": "To add records to a dataset builder from a hard or soft dataset, use `DatasetBuilder.append_dataset`."
  },
  {
   "cell_type": "code",
   "metadata": {
    "execution": {
     "iopub.execute_input": "2025-07-18T00:51:49.477363Z",
     "iopub.status.busy": "2025-07-18T00:51:49.476363Z",
     "iopub.status.idle": "2025-07-18T00:51:49.481603Z",
     "shell.execute_reply": "2025-07-18T00:51:49.481603Z"
    },
    "ExecuteTime": {
     "end_time": "2025-07-21T02:15:49.979319Z",
     "start_time": "2025-07-21T02:15:49.974599Z"
    }
   },
   "source": [
    "hard_dataset: HardDataset = HardDataset([\n",
    "    (letter, [0, 0, 1, 1]),\n",
    "    (grade, [0, 1, 1, 0]),\n",
    "])\n",
    "\n",
    "soft_dataset: SoftDataset = SoftDataset(\n",
    "    [\n",
    "        (letter, [[0.6, 0.4], [1.0, 0.0], [0.0, 1.0], [0.3, 0.7]]),\n",
    "        (grade, [[0.6, 0.2, 0.2], [0.0, 0.0, 1.0], [0.0, 1.0, 0.0], [0.3, 0.4, 0.3]]),\n",
    "    ],\n",
    "    weights=[2.2, 1.0, 5.8, 1.0],\n",
    ")\n",
    "\n",
    "builder: DatasetBuilder = DatasetBuilder([letter, grade])\n",
    "\n",
    "builder.append_dataset(hard_dataset)\n",
    "builder.append_dataset(soft_dataset)\n",
    "\n",
    "builder.dump()"
   ],
   "outputs": [
    {
     "name": "stdout",
     "output_type": "stream",
     "text": [
      "rvs: [grade, letter]\n",
      "instances (8, with total weight 14.0):\n",
      "(0, 0) * 1.0\n",
      "(1, 0) * 1.0\n",
      "(1, 1) * 1.0\n",
      "(0, 1) * 1.0\n",
      "([0.6 0.2 0.2], [0.6 0.4]) * 2.2\n",
      "([0. 0. 1.], [1. 0.]) * 1.0\n",
      "([0. 1. 0.], [0. 1.]) * 5.8\n",
      "([0.3 0.4 0.3], [0.3 0.7]) * 1.0\n"
     ]
    }
   ],
   "execution_count": 42
  },
  {
   "cell_type": "markdown",
   "metadata": {},
   "source": [
    "### direct dataset conversion\n",
    "\n",
    "While a `DatasetBuilder` can be used to convert between datasets, it is possible to directly convert between `HardDataset` and `SoftDataset` objects.\n",
    "\n",
    "When converting to a hard dataset from a soft dataset, the state of a random variable will be the state with the highest weight. Ties broken arbitrarily."
   ]
  },
  {
   "cell_type": "code",
   "metadata": {
    "execution": {
     "iopub.execute_input": "2025-07-18T00:51:49.483607Z",
     "iopub.status.busy": "2025-07-18T00:51:49.482607Z",
     "iopub.status.idle": "2025-07-18T00:51:49.486730Z",
     "shell.execute_reply": "2025-07-18T00:51:49.486730Z"
    },
    "ExecuteTime": {
     "end_time": "2025-07-21T02:15:50.014698Z",
     "start_time": "2025-07-21T02:15:50.010446Z"
    }
   },
   "source": [
    "soft_dataset: SoftDataset = SoftDataset.from_hard_dataset(hard_dataset)\n",
    "soft_dataset.dump()"
   ],
   "outputs": [
    {
     "name": "stdout",
     "output_type": "stream",
     "text": [
      "rvs: [letter, grade]\n",
      "instances (4, with total weight 4.0):\n",
      "([1. 0.], [1. 0. 0.]) * 1.0\n",
      "([1. 0.], [0. 1. 0.]) * 1.0\n",
      "([0. 1.], [0. 1. 0.]) * 1.0\n",
      "([0. 1.], [1. 0. 0.]) * 1.0\n"
     ]
    }
   ],
   "execution_count": 43
  },
  {
   "cell_type": "code",
   "metadata": {
    "execution": {
     "iopub.execute_input": "2025-07-18T00:51:49.488734Z",
     "iopub.status.busy": "2025-07-18T00:51:49.487734Z",
     "iopub.status.idle": "2025-07-18T00:51:49.491244Z",
     "shell.execute_reply": "2025-07-18T00:51:49.491244Z"
    },
    "ExecuteTime": {
     "end_time": "2025-07-21T02:15:50.066563Z",
     "start_time": "2025-07-21T02:15:50.062758Z"
    }
   },
   "source": [
    "hard_dataset: HardDataset = HardDataset.from_soft_dataset(soft_dataset)\n",
    "hard_dataset.dump()"
   ],
   "outputs": [
    {
     "name": "stdout",
     "output_type": "stream",
     "text": [
      "rvs: [letter, grade]\n",
      "instances (4, with total weight 4.0):\n",
      "(0, 0) * 1.0\n",
      "(0, 1) * 1.0\n",
      "(1, 1) * 1.0\n",
      "(1, 0) * 1.0\n"
     ]
    }
   ],
   "execution_count": 44
  },
  {
   "metadata": {},
   "cell_type": "markdown",
   "source": [
    "### expanding a soft dataset\n",
    "\n",
    "A hard dataset can be constructed with the same data semantics as a given soft dataset\n",
    "by expanding and cross-multiplying soft evidence (discussed above).\n",
    "\n",
    "Any state weights in the soft dataset that represents uncertainty over states\n",
    "of a random variable will be converted to an equivalent set of weighted hard\n",
    "instances. This means that the returned dataset may have a number of instances\n",
    "different to that of the given soft dataset.\n",
    "\n",
    "This implementation works by constructing a cross-table from the given soft dataset.\n",
    "(Cross-tables are explained below.) This means that the resulting hard dataset\n",
    "will have no duplicated instances and no instances with weight zero.\n",
    "\n",
    "The ordering of instances in the returned dataset is not guaranteed."
   ]
  },
  {
   "metadata": {
    "ExecuteTime": {
     "end_time": "2025-07-21T02:15:50.105680Z",
     "start_time": "2025-07-21T02:15:50.098900Z"
    }
   },
   "cell_type": "code",
   "source": [
    "from ck.dataset.dataset_from_crosstable import expand_soft_dataset\n",
    "\n",
    "weights = [2.0, 0.0, 3.0, 5.0]\n",
    "x_data = [\n",
    "    [1.0, 0.0],\n",
    "    [0.0, 1.0],\n",
    "    [0.1, 0.8],\n",
    "    [0.2, 0.3],\n",
    "]\n",
    "y_data = [\n",
    "    [1.0, 0.0, 0.0],\n",
    "    [0.3, 0.4, 0.7],\n",
    "    [0.0, 0.0, 1.0],\n",
    "    [0.4, 0.0, 0.7],\n",
    "]\n",
    "soft_dataset = SoftDataset(\n",
    "    [\n",
    "        (x, x_data),\n",
    "        (y, y_data)\n",
    "    ],\n",
    "    weights=weights,\n",
    ")\n",
    "\n",
    "\n",
    "hard_dataset = expand_soft_dataset(soft_dataset)\n",
    "hard_dataset.dump()"
   ],
   "outputs": [
    {
     "name": "stdout",
     "output_type": "stream",
     "text": [
      "rvs: [x, y]\n",
      "instances (4, with total weight 7.449999999999999):\n",
      "(0, 0) * 2.4\n",
      "(0, 2) * 1.0\n",
      "(1, 2) * 3.45\n",
      "(1, 0) * 0.6\n"
     ]
    }
   ],
   "execution_count": 45
  },
  {
   "cell_type": "markdown",
   "metadata": {},
   "source": [
    "## Dataset from CSV\n",
    "\n",
    "A module is provided to create a dataset from CSV lines.\n",
    "\n",
    "Each CSV line should contain comma-separated state indices for a nominated sequence of random variables.\n",
    "(Other separators apart from commas can be used.)\n",
    "\n",
    "Whitespace around values are ignored. Blank lines and comments are ignored. By default, comments start with a hash (#).\n",
    "\n",
    "Optionally, a column of the input can be read as instance weights.\n",
    "\n",
    "Here is an example."
   ]
  },
  {
   "cell_type": "code",
   "metadata": {
    "execution": {
     "iopub.execute_input": "2025-07-18T00:51:49.493248Z",
     "iopub.status.busy": "2025-07-18T00:51:49.492248Z",
     "iopub.status.idle": "2025-07-18T00:51:49.496966Z",
     "shell.execute_reply": "2025-07-18T00:51:49.496966Z"
    },
    "ExecuteTime": {
     "end_time": "2025-07-21T02:15:50.141059Z",
     "start_time": "2025-07-21T02:15:50.136854Z"
    }
   },
   "source": [
    "from ck.dataset.dataset_from_csv import hard_dataset_from_csv\n",
    "from ck.pgm import PGM\n",
    "\n",
    "pgm: PGM = PGM()\n",
    "x = pgm.new_rv('x', 2)\n",
    "y = pgm.new_rv('y', 3)\n",
    "z = pgm.new_rv('z', 4)\n",
    "\n",
    "lines  = [\n",
    "    '1, 2, 3  # this is a comment',\n",
    "    '', # a blank line\n",
    "    '0, 1, 2',\n",
    "    '# this is also a comment',\n",
    "    '0, 0, 1',\n",
    "]\n",
    "dataset: HardDataset = hard_dataset_from_csv(pgm.rvs, lines)\n",
    "dataset.dump()"
   ],
   "outputs": [
    {
     "name": "stdout",
     "output_type": "stream",
     "text": [
      "rvs: [x, y, z]\n",
      "instances (3, with total weight 3.0):\n",
      "(1, 2, 3) * 1.0\n",
      "(0, 1, 2) * 1.0\n",
      "(0, 0, 1) * 1.0\n"
     ]
    }
   ],
   "execution_count": 46
  },
  {
   "cell_type": "markdown",
   "metadata": {},
   "source": [
    "If the CSV data is as a single string, simply use `splitlines`."
   ]
  },
  {
   "cell_type": "code",
   "metadata": {
    "execution": {
     "iopub.execute_input": "2025-07-18T00:51:49.498970Z",
     "iopub.status.busy": "2025-07-18T00:51:49.497970Z",
     "iopub.status.idle": "2025-07-18T00:51:49.501638Z",
     "shell.execute_reply": "2025-07-18T00:51:49.501638Z"
    },
    "ExecuteTime": {
     "end_time": "2025-07-21T02:15:50.165676Z",
     "start_time": "2025-07-21T02:15:50.161211Z"
    }
   },
   "source": [
    "csv  = \"\"\"\n",
    "    1, 1, 0  # this is a comment\n",
    "    1, 1, 2\n",
    "    0, 2, 1\n",
    "    \"\"\"\n",
    "dataset: HardDataset = hard_dataset_from_csv(pgm.rvs, csv.splitlines())\n",
    "dataset.dump()"
   ],
   "outputs": [
    {
     "name": "stdout",
     "output_type": "stream",
     "text": [
      "rvs: [x, y, z]\n",
      "instances (3, with total weight 3.0):\n",
      "(1, 1, 0) * 1.0\n",
      "(1, 1, 2) * 1.0\n",
      "(0, 2, 1) * 1.0\n"
     ]
    }
   ],
   "execution_count": 47
  },
  {
   "cell_type": "markdown",
   "metadata": {},
   "source": [
    "If a header line appears in the data, then only columns matching the random variable names will be loaded."
   ]
  },
  {
   "cell_type": "code",
   "metadata": {
    "execution": {
     "iopub.execute_input": "2025-07-18T00:51:49.503642Z",
     "iopub.status.busy": "2025-07-18T00:51:49.502641Z",
     "iopub.status.idle": "2025-07-18T00:51:49.506256Z",
     "shell.execute_reply": "2025-07-18T00:51:49.506256Z"
    },
    "ExecuteTime": {
     "end_time": "2025-07-21T02:15:50.208147Z",
     "start_time": "2025-07-21T02:15:50.195062Z"
    }
   },
   "source": [
    "csv  = \"\"\"\n",
    "    z, Q, y, x\n",
    "    3, 7, 2, 1\n",
    "    2, 6, 1, 0\n",
    "    \"\"\"\n",
    "dataset: HardDataset = hard_dataset_from_csv(pgm.rvs, csv.splitlines())\n",
    "dataset.dump()"
   ],
   "outputs": [
    {
     "name": "stdout",
     "output_type": "stream",
     "text": [
      "rvs: [x, y, z]\n",
      "instances (2, with total weight 2.0):\n",
      "(1, 2, 3) * 1.0\n",
      "(0, 1, 2) * 1.0\n"
     ]
    }
   ],
   "execution_count": 48
  },
  {
   "cell_type": "markdown",
   "metadata": {},
   "source": [
    "Here is an example with a weight column, nominated using a column index. (Positive and negative column indices are permitted.)"
   ]
  },
  {
   "cell_type": "code",
   "metadata": {
    "execution": {
     "iopub.execute_input": "2025-07-18T00:51:49.508260Z",
     "iopub.status.busy": "2025-07-18T00:51:49.507260Z",
     "iopub.status.idle": "2025-07-18T00:51:49.510791Z",
     "shell.execute_reply": "2025-07-18T00:51:49.510791Z"
    },
    "ExecuteTime": {
     "end_time": "2025-07-21T02:15:50.241917Z",
     "start_time": "2025-07-21T02:15:50.238008Z"
    }
   },
   "source": [
    "csv  = \"\"\"\n",
    "    0, 2, 3, 1.3\n",
    "    1, 1, 2, 4.5\n",
    "    \"\"\"\n",
    "dataset: HardDataset = hard_dataset_from_csv(pgm.rvs, csv.splitlines(), weights=-1)\n",
    "dataset.dump()\n"
   ],
   "outputs": [
    {
     "name": "stdout",
     "output_type": "stream",
     "text": [
      "rvs: [x, y, z]\n",
      "instances (2, with total weight 5.8):\n",
      "(0, 2, 3) * 1.3\n",
      "(1, 1, 2) * 4.5\n"
     ]
    }
   ],
   "execution_count": 49
  },
  {
   "cell_type": "markdown",
   "metadata": {},
   "source": [
    "A weight column can also be nominated by name, if the CSV data has a header line."
   ]
  },
  {
   "cell_type": "code",
   "metadata": {
    "execution": {
     "iopub.execute_input": "2025-07-18T00:51:49.512795Z",
     "iopub.status.busy": "2025-07-18T00:51:49.511795Z",
     "iopub.status.idle": "2025-07-18T00:51:49.515505Z",
     "shell.execute_reply": "2025-07-18T00:51:49.515505Z"
    },
    "ExecuteTime": {
     "end_time": "2025-07-21T02:15:50.269964Z",
     "start_time": "2025-07-21T02:15:50.254283Z"
    }
   },
   "source": [
    "csv  = \"\"\"\n",
    "    Weight, z, Q, y, x\n",
    "    2.3,    3, 7, 2, 1\n",
    "    5.5,    2, 6, 1, 0\n",
    "    \"\"\"\n",
    "dataset: HardDataset = hard_dataset_from_csv(pgm.rvs, csv.splitlines(), weights='Weight')\n",
    "dataset.dump()\n"
   ],
   "outputs": [
    {
     "name": "stdout",
     "output_type": "stream",
     "text": [
      "rvs: [x, y, z]\n",
      "instances (2, with total weight 7.8):\n",
      "(1, 2, 3) * 2.3\n",
      "(0, 1, 2) * 5.5\n"
     ]
    }
   ],
   "execution_count": 50
  },
  {
   "cell_type": "markdown",
   "metadata": {},
   "source": [
    "Because a text file is an iterable of lines, one can be used directly as the data source for `hard_dataset_from_csv`. Typical usage may be something like:\n",
    "\n",
    "```\n",
    "with open('my_data.csv', 'r') as file:\n",
    "    dataset = hard_dataset_from_csv(rvs, file)\n",
    "```\n",
    "\n",
    "Here we create an in-memory file using `StringIO`."
   ]
  },
  {
   "cell_type": "code",
   "metadata": {
    "execution": {
     "iopub.execute_input": "2025-07-18T00:51:49.517510Z",
     "iopub.status.busy": "2025-07-18T00:51:49.517510Z",
     "iopub.status.idle": "2025-07-18T00:51:49.520275Z",
     "shell.execute_reply": "2025-07-18T00:51:49.520275Z"
    },
    "ExecuteTime": {
     "end_time": "2025-07-21T02:15:50.286343Z",
     "start_time": "2025-07-21T02:15:50.282432Z"
    }
   },
   "source": [
    "from io import StringIO\n",
    "\n",
    "file = StringIO('''\n",
    "    1, 2, 3\n",
    "    0, 1, 2\n",
    "''')\n",
    "dataset: HardDataset = hard_dataset_from_csv(pgm.rvs, file)\n",
    "dataset.dump()\n"
   ],
   "outputs": [
    {
     "name": "stdout",
     "output_type": "stream",
     "text": [
      "rvs: [x, y, z]\n",
      "instances (2, with total weight 2.0):\n",
      "(1, 2, 3) * 1.0\n",
      "(0, 1, 2) * 1.0\n"
     ]
    }
   ],
   "execution_count": 51
  },
  {
   "cell_type": "markdown",
   "metadata": {},
   "source": [
    "## Sampled Datasets\n",
    "\n",
    "A hard dataset can be created from a sampler.\n",
    "\n",
    "In this example, a sampled dataset is created using the \"Student\" PGM."
   ]
  },
  {
   "cell_type": "code",
   "metadata": {
    "execution": {
     "iopub.execute_input": "2025-07-18T00:51:49.522279Z",
     "iopub.status.busy": "2025-07-18T00:51:49.521279Z",
     "iopub.status.idle": "2025-07-18T00:51:49.628220Z",
     "shell.execute_reply": "2025-07-18T00:51:49.628204Z"
    },
    "ExecuteTime": {
     "end_time": "2025-07-21T02:15:50.434037Z",
     "start_time": "2025-07-21T02:15:50.318695Z"
    }
   },
   "source": [
    "from ck.example import Student\n",
    "from ck.pgm_compiler import DEFAULT_PGM_COMPILER\n",
    "from ck.pgm_circuit.wmc_program import WMCProgram\n",
    "\n",
    "pgm = Student()\n",
    "wmc = WMCProgram(DEFAULT_PGM_COMPILER(pgm))\n",
    "sampler = wmc.sample_direct()\n",
    "\n",
    "print(*sampler.rvs)"
   ],
   "outputs": [
    {
     "name": "stdout",
     "output_type": "stream",
     "text": [
      "difficult intelligent grade sat letter\n"
     ]
    }
   ],
   "execution_count": 52
  },
  {
   "cell_type": "code",
   "metadata": {
    "execution": {
     "iopub.execute_input": "2025-07-18T00:51:49.630221Z",
     "iopub.status.busy": "2025-07-18T00:51:49.629221Z",
     "iopub.status.idle": "2025-07-18T00:51:49.634799Z",
     "shell.execute_reply": "2025-07-18T00:51:49.634799Z"
    },
    "ExecuteTime": {
     "end_time": "2025-07-21T02:15:50.455957Z",
     "start_time": "2025-07-21T02:15:50.451141Z"
    }
   },
   "source": [
    "from ck.dataset.sampled_dataset import dataset_from_sampler\n",
    "\n",
    "dataset = dataset_from_sampler(sampler, 10)\n",
    "\n",
    "dataset.dump()"
   ],
   "outputs": [
    {
     "name": "stdout",
     "output_type": "stream",
     "text": [
      "rvs: [difficult, intelligent, grade, sat, letter]\n",
      "instances (10, with total weight 10.0):\n",
      "(0, 1, 2, 1, 0) * 1.0\n",
      "(1, 0, 0, 0, 1) * 1.0\n",
      "(1, 0, 0, 0, 0) * 1.0\n",
      "(1, 1, 0, 1, 1) * 1.0\n",
      "(1, 0, 0, 0, 1) * 1.0\n",
      "(0, 0, 2, 0, 0) * 1.0\n",
      "(0, 0, 0, 0, 1) * 1.0\n",
      "(0, 0, 0, 0, 0) * 1.0\n",
      "(0, 1, 2, 1, 0) * 1.0\n",
      "(0, 0, 1, 0, 1) * 1.0\n"
     ]
    }
   ],
   "execution_count": 53
  },
  {
   "cell_type": "markdown",
   "metadata": {},
   "source": [
    "## Cross-tables\n",
    "\n",
    "A cross-table records the total weight for possible combinations of states for some random variables. Its primary purpose is to represent empirical distributions over joint states of the random variables.\n",
    "\n",
    "Practically, a cross-table is a mutable mapping from states of the cross-table random variables (as a tuple of state indices) to a weight (as a float). Instances with weight zero are not explicitly represented in a cross-table.\n",
    "\n",
    "Here is an example of a manually created cross-table."
   ]
  },
  {
   "cell_type": "code",
   "metadata": {
    "execution": {
     "iopub.execute_input": "2025-07-18T00:51:49.636803Z",
     "iopub.status.busy": "2025-07-18T00:51:49.635803Z",
     "iopub.status.idle": "2025-07-18T00:51:49.639756Z",
     "shell.execute_reply": "2025-07-18T00:51:49.639756Z"
    },
    "ExecuteTime": {
     "end_time": "2025-07-21T02:15:50.476637Z",
     "start_time": "2025-07-21T02:15:50.472347Z"
    }
   },
   "source": [
    "from ck.dataset.cross_table import CrossTable, cross_table_from_dataset\n",
    "\n",
    "crosstab = CrossTable(rvs=[difficult, intelligent, grade, sat, letter])\n",
    "\n",
    "crosstab[(0, 0, 0, 0, 0)] = 3.4\n",
    "crosstab[(0, 0, 0, 0, 1)] = 2.1\n",
    "crosstab[(0, 1, 1, 0, 0)] = 9.3\n",
    "\n",
    "for instance, weight in crosstab.items():\n",
    "    print(instance, weight)"
   ],
   "outputs": [
    {
     "name": "stdout",
     "output_type": "stream",
     "text": [
      "(0, 0, 0, 0, 0) 3.4\n",
      "(0, 0, 0, 0, 1) 2.1\n",
      "(0, 1, 1, 0, 0) 9.3\n"
     ]
    }
   ],
   "execution_count": 54
  },
  {
   "cell_type": "markdown",
   "metadata": {},
   "source": [
    " A cross-table can be constructed from a dataset.\n",
    "\n",
    "This example uses the dataset created above using a sampler."
   ]
  },
  {
   "cell_type": "code",
   "metadata": {
    "execution": {
     "iopub.execute_input": "2025-07-18T00:51:49.641761Z",
     "iopub.status.busy": "2025-07-18T00:51:49.640761Z",
     "iopub.status.idle": "2025-07-18T00:51:49.644651Z",
     "shell.execute_reply": "2025-07-18T00:51:49.644651Z"
    },
    "ExecuteTime": {
     "end_time": "2025-07-21T02:15:50.497244Z",
     "start_time": "2025-07-21T02:15:50.492916Z"
    }
   },
   "source": [
    "crosstab = cross_table_from_dataset(dataset)\n",
    "\n",
    "print(*crosstab.rvs)\n",
    "for instance, weight in crosstab.items():\n",
    "    print(instance, weight)\n",
    "\n",
    "print('total weight:', crosstab.total_weight())"
   ],
   "outputs": [
    {
     "name": "stdout",
     "output_type": "stream",
     "text": [
      "difficult intelligent grade sat letter\n",
      "(0, 1, 2, 1, 0) 2.0\n",
      "(1, 0, 0, 0, 1) 2.0\n",
      "(1, 0, 0, 0, 0) 1.0\n",
      "(1, 1, 0, 1, 1) 1.0\n",
      "(0, 0, 2, 0, 0) 1.0\n",
      "(0, 0, 0, 0, 1) 1.0\n",
      "(0, 0, 0, 0, 0) 1.0\n",
      "(0, 0, 1, 0, 1) 1.0\n",
      "total weight: 10.0\n"
     ]
    }
   ],
   "execution_count": 55
  },
  {
   "cell_type": "markdown",
   "metadata": {},
   "source": [
    "Even though zero weighted instances are not directly represented, they can still be queried."
   ]
  },
  {
   "cell_type": "code",
   "metadata": {
    "execution": {
     "iopub.execute_input": "2025-07-18T00:51:49.646657Z",
     "iopub.status.busy": "2025-07-18T00:51:49.646657Z",
     "iopub.status.idle": "2025-07-18T00:51:49.649701Z",
     "shell.execute_reply": "2025-07-18T00:51:49.649701Z"
    },
    "ExecuteTime": {
     "end_time": "2025-07-21T02:15:50.546015Z",
     "start_time": "2025-07-21T02:15:50.541920Z"
    }
   },
   "source": [
    "crosstab[(1, 0, 0, 0, 0)]"
   ],
   "outputs": [
    {
     "data": {
      "text/plain": [
       "np.float64(1.0)"
      ]
     },
     "execution_count": 56,
     "metadata": {},
     "output_type": "execute_result"
    }
   ],
   "execution_count": 56
  },
  {
   "cell_type": "markdown",
   "metadata": {},
   "source": [
    "Observe that a cross-table is logically equivalent to a dataset. A hard dataset can be created directly from cross-table using `dataset_from_cross_table`, like the following."
   ]
  },
  {
   "cell_type": "code",
   "metadata": {
    "execution": {
     "iopub.execute_input": "2025-07-18T00:51:49.651706Z",
     "iopub.status.busy": "2025-07-18T00:51:49.650706Z",
     "iopub.status.idle": "2025-07-18T00:51:49.655017Z",
     "shell.execute_reply": "2025-07-18T00:51:49.655017Z"
    },
    "ExecuteTime": {
     "end_time": "2025-07-21T02:15:50.602137Z",
     "start_time": "2025-07-21T02:15:50.598189Z"
    }
   },
   "source": [
    "from ck.dataset.dataset_from_crosstable import dataset_from_cross_table\n",
    "\n",
    "dataset_2 = dataset_from_cross_table(crosstab)\n",
    "\n",
    "dataset_2.dump()"
   ],
   "outputs": [
    {
     "name": "stdout",
     "output_type": "stream",
     "text": [
      "rvs: [difficult, intelligent, grade, sat, letter]\n",
      "instances (8, with total weight 10.0):\n",
      "(0, 1, 2, 1, 0) * 2.0\n",
      "(1, 0, 0, 0, 1) * 2.0\n",
      "(1, 0, 0, 0, 0) * 1.0\n",
      "(1, 1, 0, 1, 1) * 1.0\n",
      "(0, 0, 2, 0, 0) * 1.0\n",
      "(0, 0, 0, 0, 1) * 1.0\n",
      "(0, 0, 0, 0, 0) * 1.0\n",
      "(0, 0, 1, 0, 1) * 1.0\n"
     ]
    }
   ],
   "execution_count": 57
  },
  {
   "cell_type": "markdown",
   "metadata": {},
   "source": [
    "A cross-table can also be sampled, using a `CrossTableSampler`. Instances will be drawn from the sampler according to their weight in the given cross-table.\n",
    "\n",
    "Note that if the given cross-table is modified after constructing the sampler, the sampler will not be affected."
   ]
  },
  {
   "cell_type": "code",
   "metadata": {
    "execution": {
     "iopub.execute_input": "2025-07-18T00:51:49.657015Z",
     "iopub.status.busy": "2025-07-18T00:51:49.656015Z",
     "iopub.status.idle": "2025-07-18T00:51:49.659938Z",
     "shell.execute_reply": "2025-07-18T00:51:49.659938Z"
    },
    "ExecuteTime": {
     "end_time": "2025-07-21T02:15:50.631887Z",
     "start_time": "2025-07-21T02:15:50.628501Z"
    }
   },
   "source": [
    "from ck.dataset.sampled_dataset import CrossTableSampler\n",
    "\n",
    "crosstab_sampler = CrossTableSampler(crosstab)\n",
    "\n",
    "for inst in crosstab_sampler.take(8):\n",
    "    print(inst)\n"
   ],
   "outputs": [
    {
     "name": "stdout",
     "output_type": "stream",
     "text": [
      "(0, 0, 0, 0, 1)\n",
      "(0, 0, 0, 0, 0)\n",
      "(1, 0, 0, 0, 1)\n",
      "(0, 0, 2, 0, 0)\n",
      "(0, 1, 2, 1, 0)\n",
      "(1, 0, 0, 0, 0)\n",
      "(1, 0, 0, 0, 1)\n",
      "(1, 0, 0, 0, 1)\n"
     ]
    }
   ],
   "execution_count": 58
  }
 ],
 "metadata": {
  "kernelspec": {
   "display_name": "Python 3 (ipykernel)",
   "language": "python",
   "name": "python3"
  },
  "language_info": {
   "codemirror_mode": {
    "name": "ipython",
    "version": 3
   },
   "file_extension": ".py",
   "mimetype": "text/x-python",
   "name": "python",
   "nbconvert_exporter": "python",
   "pygments_lexer": "ipython3",
   "version": "3.12.10"
  }
 },
 "nbformat": 4,
 "nbformat_minor": 1
}
