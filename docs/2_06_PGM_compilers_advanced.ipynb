{
 "cells": [
  {
   "cell_type": "markdown",
   "id": "e9a3ae6606fb0fcb",
   "metadata": {},
   "source": [
    "# PGM Compilers Advanced Topics"
   ]
  },
  {
   "cell_type": "markdown",
   "id": "89f92cacace40009",
   "metadata": {},
   "source": [
    "Recall a PGM compiler is a function that takes a PGM and compiles it into an arithmetic circuit, specifically a `PGMCircuit` object.\n",
    "\n",
    "There are several PGM compilers provided by CK, and it is possible to write custom PGM compilers. A PGM compiler is a callable with the signature:\n",
    "\n",
    "`def y_pgm_compiler(pgm: PGM, *, const_parameters: bool = True) -> PGMCircuit:`\n",
    "\n",
    "That is, the callable takes one argument, a PGM to compile, and an optional keyword argument `const_parameters` which should default to True.\n",
    "\n",
    "If `const_parameters` is True, then the potential function parameters will be circuit constants, otherwise they will be circuit variables.\n",
    "\n",
    "If the potential function parameters are represented as constants, then there are various optimisations that are available to subsequent processes. If the potential function parameters are represented as circuit variables, then potential functions can be changed dynamically without needing to recompile.\n"
   ]
  },
  {
   "cell_type": "markdown",
   "id": "9a7483b3f972fdac",
   "metadata": {},
   "source": [
    "CK provides many PGM compilers using different algorithms: Variable Elimination, Factor Elimination, and Recursive Conditioning. These algorithms can use different heuristics for the process order of random variables, thus there are many different PGM compilers provided.\n",
    "\n",
    "CK also provides a way to use the ACE Bayesian network compiler as a PGM compiler. To use ACE you must have a working copy of ACE (see http://reasoning.cs.ucla.edu/ace/).\n",
    "\n",
    "You can enable CK to access ACE either by setting the OS environment variable `CK_ACE_LOCATION` to configure the path of\n",
    "the default ACE installation directory, or you can copy ACE to the default ACE installation directory using the method `ck.pgm_compiler.ace.copy_ace_to_default_location`.\n",
    "\n",
    "See the module `ck.utils.local_config` to understand more about configuration variable management.\n",
    "\n",
    "Standard PGM compilers are members of the `NamedPGMCompiler` enum.\n",
    "\n",
    "Here are the available named PGM compilers:"
   ]
  },
  {
   "cell_type": "code",
   "execution_count": 1,
   "id": "2239dc5b44eb5ce",
   "metadata": {
    "ExecuteTime": {
     "end_time": "2025-05-27T01:27:48.300144Z",
     "start_time": "2025-05-27T01:27:48.198666Z"
    },
    "execution": {
     "iopub.execute_input": "2025-07-04T05:00:50.982912Z",
     "iopub.status.busy": "2025-07-04T05:00:50.982912Z",
     "iopub.status.idle": "2025-07-04T05:00:51.017038Z",
     "shell.execute_reply": "2025-07-04T05:00:51.017038Z"
    }
   },
   "outputs": [
    {
     "name": "stdout",
     "output_type": "stream",
     "text": [
      "VE_MIN_DEGREE\n",
      "VE_MIN_DEGREE_THEN_FILL\n",
      "VE_MIN_FILL\n",
      "VE_MIN_FILL_THEN_DEGREE\n",
      "VE_MIN_WEIGHTED_DEGREE\n",
      "VE_MIN_WEIGHTED_FILL\n",
      "VE_MIN_TRADITIONAL_WEIGHTED_FILL\n",
      "FE_MIN_DEGREE\n",
      "FE_MIN_DEGREE_THEN_FILL\n",
      "FE_MIN_FILL\n",
      "FE_MIN_FILL_THEN_DEGREE\n",
      "FE_MIN_WEIGHTED_DEGREE\n",
      "FE_MIN_WEIGHTED_FILL\n",
      "FE_MIN_TRADITIONAL_WEIGHTED_FILL\n",
      "FE_BEST_JOINTREE\n",
      "RC_MIN_DEGREE\n",
      "RC_MIN_DEGREE_THEN_FILL\n",
      "RC_MIN_FILL\n",
      "RC_MIN_FILL_THEN_DEGREE\n",
      "RC_MIN_WEIGHTED_DEGREE\n",
      "RC_MIN_WEIGHTED_FILL\n",
      "RC_MIN_TRADITIONAL_WEIGHTED_FILL\n",
      "ACE\n"
     ]
    }
   ],
   "source": [
    "from ck.pgm_compiler import NamedPGMCompiler\n",
    "\n",
    "for compiler in NamedPGMCompiler:\n",
    "    print(compiler.name)"
   ]
  },
  {
   "cell_type": "markdown",
   "id": "61d98799797b2095",
   "metadata": {},
   "source": [
    "Named compilers with names that start with \"VE\" use variable elimination, that start with \"FE\" use factor elimination, and that start with \"RC\" use recursive conditioning. The ordering heuristics are:\n",
    "\n",
    "| Order Heuristic Name          | Explanation                                        |\n",
    "|-------------------------------|----------------------------------------------------|\n",
    "| MIN_DEGREE                    | \"minimum degree\", ties broken arbitrarily          |\n",
    "| MIN_DEGREE_THEN_FILL          | \"minimum degree\", ties broken using \"minimum fill\" |\n",
    "| MIN_FILL                      | \"minimum fill\", ties broken arbitrarily            |\n",
    "| MIN_FILL_THEN_DEGREE          | \"minimum fill\", ties broken using \"minimum degree\" |\n",
    "| MIN_WEIGHTED_DEGREE           | \"minimum weighted degree\"                          |\n",
    "| MIN_WEIGHTED_FILL             | a CK custom version of \"minimum weighted fill\"     |\n",
    "| MIN_TRADITIONAL_WEIGHTED_FILL | the traditional version of \"minimum weighted fill\" |\n"
   ]
  },
  {
   "cell_type": "markdown",
   "id": "fe16195bb0e39fb0",
   "metadata": {},
   "source": [
    "Many text books are available that explain the VE, FE and RC algorithms, as well as the main ordering heuristics. For example, see:\n",
    "[\"Modeling and Reasoning with Bayesian Networks Book\", Adnan Darwiche (2009)](\n",
    "https://www.cambridge.org/core/books/modeling-and-reasoning-with-bayesian-networks/8A3769B81540EA93B525C4C2700C9DE6).\n",
    "\n",
    "Compiler \"FE_BEST_JOINTREE\" tries factor elimination with multiple ordering heuristics and uses the result where the join tree has the smallest maximum cluster size.\n",
    "\n",
    "Compiler \"ACE\" is the ACE compiler, but needs ACE installed and copied to CK (see http://reasoning.cs.ucla.edu/ace/ and `ck.pgm_compiler.ace.copy_ace_to_default_location`).\n",
    "\n",
    "The default PGM compiler is available as `DEFAULT_PGM_COMPILER`, which is a `NamedPGMCompiler` enum member."
   ]
  },
  {
   "cell_type": "code",
   "execution_count": 2,
   "id": "530d15c965915208",
   "metadata": {
    "ExecuteTime": {
     "end_time": "2025-05-27T01:27:48.543619Z",
     "start_time": "2025-05-27T01:27:48.538120Z"
    },
    "execution": {
     "iopub.execute_input": "2025-07-04T05:00:51.019071Z",
     "iopub.status.busy": "2025-07-04T05:00:51.019071Z",
     "iopub.status.idle": "2025-07-04T05:00:51.023248Z",
     "shell.execute_reply": "2025-07-04T05:00:51.023248Z"
    }
   },
   "outputs": [
    {
     "data": {
      "text/plain": [
       "'FE_BEST_JOINTREE'"
      ]
     },
     "execution_count": 2,
     "metadata": {},
     "output_type": "execute_result"
    }
   ],
   "source": [
    "from ck.pgm_compiler import DEFAULT_PGM_COMPILER\n",
    "\n",
    "DEFAULT_PGM_COMPILER.name"
   ]
  },
  {
   "cell_type": "markdown",
   "id": "552c434a0bf4dc08",
   "metadata": {},
   "source": [
    "A named compiler is directly callable as a PGM compiler:"
   ]
  },
  {
   "cell_type": "code",
   "execution_count": 3,
   "id": "1ddcb5d8889e25e8",
   "metadata": {
    "ExecuteTime": {
     "end_time": "2025-05-27T01:27:48.602441Z",
     "start_time": "2025-05-27T01:27:48.561064Z"
    },
    "execution": {
     "iopub.execute_input": "2025-07-04T05:00:51.025282Z",
     "iopub.status.busy": "2025-07-04T05:00:51.024282Z",
     "iopub.status.idle": "2025-07-04T05:00:51.065404Z",
     "shell.execute_reply": "2025-07-04T05:00:51.065404Z"
    }
   },
   "outputs": [],
   "source": [
    "from ck.example import Alarm\n",
    "\n",
    "pgm = Alarm()\n",
    "pgm_cct = DEFAULT_PGM_COMPILER(pgm)"
   ]
  },
  {
   "cell_type": "markdown",
   "id": "8051cd36760b6a0e",
   "metadata": {},
   "source": [
    "Note the different compilers will have different performance characteristics. The following code shows the number of arithmetic operations for each circuit resulting from each named compiler (from the given PGM).\n"
   ]
  },
  {
   "cell_type": "code",
   "execution_count": 4,
   "id": "7edb5e68e816c6d7",
   "metadata": {
    "ExecuteTime": {
     "end_time": "2025-05-27T01:27:49.103967Z",
     "start_time": "2025-05-27T01:27:48.610936Z"
    },
    "execution": {
     "iopub.execute_input": "2025-07-04T05:00:51.067409Z",
     "iopub.status.busy": "2025-07-04T05:00:51.067409Z",
     "iopub.status.idle": "2025-07-04T05:00:51.531507Z",
     "shell.execute_reply": "2025-07-04T05:00:51.531507Z"
    }
   },
   "outputs": [
    {
     "name": "stdout",
     "output_type": "stream",
     "text": [
      "                   VE_MIN_DEGREE 2554\n",
      "         VE_MIN_DEGREE_THEN_FILL 2554\n",
      "                     VE_MIN_FILL 2471\n",
      "         VE_MIN_FILL_THEN_DEGREE 2471\n",
      "          VE_MIN_WEIGHTED_DEGREE 2268\n",
      "            VE_MIN_WEIGHTED_FILL 2423\n",
      "VE_MIN_TRADITIONAL_WEIGHTED_FILL 2423\n",
      "                   FE_MIN_DEGREE 2447\n",
      "         FE_MIN_DEGREE_THEN_FILL 2447\n",
      "                     FE_MIN_FILL 2459\n",
      "         FE_MIN_FILL_THEN_DEGREE 2459\n",
      "          FE_MIN_WEIGHTED_DEGREE 2304\n",
      "            FE_MIN_WEIGHTED_FILL 2330\n",
      "FE_MIN_TRADITIONAL_WEIGHTED_FILL 2330\n",
      "                FE_BEST_JOINTREE 2304\n",
      "                   RC_MIN_DEGREE 3882\n",
      "         RC_MIN_DEGREE_THEN_FILL 3882\n",
      "                     RC_MIN_FILL 3883\n",
      "         RC_MIN_FILL_THEN_DEGREE 3883\n",
      "          RC_MIN_WEIGHTED_DEGREE 3260\n",
      "            RC_MIN_WEIGHTED_FILL 3763\n"
     ]
    },
    {
     "name": "stdout",
     "output_type": "stream",
     "text": [
      "RC_MIN_TRADITIONAL_WEIGHTED_FILL 3763\n"
     ]
    },
    {
     "name": "stdout",
     "output_type": "stream",
     "text": [
      "                             ACE 1433\n"
     ]
    }
   ],
   "source": [
    "for compiler in NamedPGMCompiler:\n",
    "    try:\n",
    "        pgm_cct = compiler(pgm)\n",
    "    except Exception as err:\n",
    "        print(compiler.name, 'FAILED:', err)\n",
    "        continue\n",
    "\n",
    "    cct_size = pgm_cct.circuit_top.circuit.number_of_operations\n",
    "    print(f'{compiler.name:>32} {cct_size}')"
   ]
  }
 ],
 "metadata": {
  "kernelspec": {
   "display_name": "Python 3",
   "language": "python",
   "name": "python3"
  },
  "language_info": {
   "codemirror_mode": {
    "name": "ipython",
    "version": 3
   },
   "file_extension": ".py",
   "mimetype": "text/x-python",
   "name": "python",
   "nbconvert_exporter": "python",
   "pygments_lexer": "ipython3",
   "version": "3.12.10"
  }
 },
 "nbformat": 4,
 "nbformat_minor": 5
}
