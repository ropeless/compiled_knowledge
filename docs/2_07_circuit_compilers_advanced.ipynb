{
 "cells": [
  {
   "cell_type": "markdown",
   "id": "8f29b522c2c2aa91",
   "metadata": {},
   "source": [
    "# Circuit Compilers Advanced Topics"
   ]
  },
  {
   "cell_type": "markdown",
   "id": "a20485070f585fee",
   "metadata": {},
   "source": [
    "Recall a circuit compiler is a function that takes an arithmetic circuit and compiles it into a program, specifically a `RawProgram` object.\n",
    "\n",
    "There are several circuit compilers provided by CK, and it is possible to write custom circuit compilers. A circuit compiler is a callable with the signature:\n",
    "```\n",
    "def my_circuit_compiler(\n",
    "    *result: CircuitNode,\n",
    "    input_vars: InputVars = InferVars.ALL,\n",
    "    circuit: Optional[Circuit] = None,\n",
    ") -> RawProgram:\n",
    "```\n",
    "\n",
    "That is, the callable takes zero or more arguments, the circuit result nodes, and optional keyword arguments. The results nodes must be from the same circuit.\n",
    "\n",
    "Parameter `input_vars` specifies how to determine the function input variables. Default is to use all circuit variables, in index order. Other options are documented in the module `ck.circuit_compiler.support.input_vars`.\n",
    "\n",
    "Parameter `circuit` is rarely needed as each result node keeps track of the circuit it belongs to. However, in some circumstances, when there are no result nodes, the circuit needs to be provided. If the `circuit` parameter is used, then the supplied circuit must be the same as that of the result nodes.\n"
   ]
  },
  {
   "cell_type": "markdown",
   "id": "5c4c03553c390e93",
   "metadata": {},
   "source": [
    "CK provides many circuit compilers, each using different algorithms. Each provided circuit compiler is a `NamedCircuitCompiler` enum member.\n",
    "\n",
    "Here are the named circuit compilers, which are explained in the next sections."
   ]
  },
  {
   "cell_type": "code",
   "execution_count": 1,
   "id": "765f26c747c1aaa3",
   "metadata": {
    "ExecuteTime": {
     "end_time": "2025-07-03T23:39:01.771874Z",
     "start_time": "2025-07-03T23:39:01.607403Z"
    },
    "execution": {
     "iopub.execute_input": "2025-07-14T07:27:38.916975Z",
     "iopub.status.busy": "2025-07-14T07:27:38.916975Z",
     "iopub.status.idle": "2025-07-14T07:27:38.971627Z",
     "shell.execute_reply": "2025-07-14T07:27:38.971627Z"
    }
   },
   "outputs": [
    {
     "name": "stdout",
     "output_type": "stream",
     "text": [
      "LLVM_STACK\n",
      "LLVM_TMPS\n",
      "LLVM_VM\n",
      "CYTHON_VM\n",
      "INTERPRET\n"
     ]
    }
   ],
   "source": [
    "from ck.circuit_compiler import NamedCircuitCompiler\n",
    "\n",
    "for compiler in NamedCircuitCompiler:\n",
    "    print(compiler.name)"
   ]
  },
  {
   "cell_type": "markdown",
   "id": "d0bba7d7d4b71fa1",
   "metadata": {},
   "source": [
    "## LLVM_STACK\n",
    "Use the LLVM compiler to compile to a native binary function, where no temporary working memory is explicitly allocated at compile time or requested at run time. All temporary variables are allocated on the stack as determined by the LLVM compiler.\n",
    "\n",
    "This compiler creates an extremely efficient run time. However, the compile time can be prohibitive for even moderately sized circuits.\n",
    "\n",
    "## LLVM_TMPS\n",
    "Use the LLVM compiler to compile to a native binary function, where  temporary working memory is allocated at compile time.\n",
    "\n",
    "##  LLVM_VM\n",
    "Use the LLVM compiler to compile a virtual CPU as native binary function, where  instructions for the virtual CPU are determined by traversing the circuit and stored as a constant array by the LLVM compiler.\n",
    "\n",
    "This compiler creates a moderately efficient run time. The compile times can be significantly better than `LLVM_STACK` and `LLVM_TMPS`.\n",
    "\n",
    "##  CYTHON_VM\n",
    "Use a Cython implementation of a virtual CPU as native binary function, where  instructions for the virtual CPU are determined by traversing the circuit and provided to the Cythonised virtual CPU by the raw program.\n",
    "\n",
    "This compiler creates a moderately efficient run time. The compile times are generally very fast, and are significantly better than LLVM compilers.\n",
    "\n",
    "##  INTERPRET\n",
    "Use a Python implementation of a virtual CPU as native binary function, where  instructions for the virtual CPU are determined by traversing the circuit and provided to the virtual CPU by the raw program.\n",
    "\n",
    "This compiler creates an inefficient run time, but is easy to inspect and debug (As it is Python). The compile times are generally very fast."
   ]
  },
  {
   "cell_type": "markdown",
   "id": "26028e22e4fc5c22",
   "metadata": {},
   "source": [
    "Here is a demonstration of the named circuit compilers. This code shows the compile time and program execution time for each compiler, using a circuit created from an example PGM."
   ]
  },
  {
   "cell_type": "code",
   "execution_count": 2,
   "id": "6f7f50778532973f",
   "metadata": {
    "ExecuteTime": {
     "end_time": "2025-07-03T23:39:08.432910Z",
     "start_time": "2025-07-03T23:39:01.777192Z"
    },
    "execution": {
     "iopub.execute_input": "2025-07-14T07:27:38.973633Z",
     "iopub.status.busy": "2025-07-14T07:27:38.973633Z",
     "iopub.status.idle": "2025-07-14T07:27:45.037344Z",
     "shell.execute_reply": "2025-07-14T07:27:45.037344Z"
    }
   },
   "outputs": [
    {
     "name": "stdout",
     "output_type": "stream",
     "text": [
      "  Compiler  Compile-time   Run-time\n",
      "  --------  ------------   --------\n"
     ]
    },
    {
     "name": "stdout",
     "output_type": "stream",
     "text": [
      "LLVM_STACK    2655.639ms    0.014ms\n"
     ]
    },
    {
     "name": "stdout",
     "output_type": "stream",
     "text": [
      " LLVM_TMPS    3057.663ms    0.071ms\n",
      "   LLVM_VM      92.588ms    0.178ms\n",
      " CYTHON_VM      49.203ms    0.155ms\n"
     ]
    },
    {
     "name": "stdout",
     "output_type": "stream",
     "text": [
      " INTERPRET      39.676ms   18.790ms\n"
     ]
    }
   ],
   "source": [
    "import timeit\n",
    "from ck.example import Insurance\n",
    "from ck.pgm_compiler import DEFAULT_PGM_COMPILER\n",
    "from ck.pgm_circuit import PGMCircuit\n",
    "from ck.circuit import CircuitNode\n",
    "from ck.program.program_buffer import ProgramBuffer\n",
    "\n",
    "pgm = Insurance()\n",
    "pgm_cct: PGMCircuit = DEFAULT_PGM_COMPILER(pgm)\n",
    "top: CircuitNode = pgm_cct.circuit_top\n",
    "\n",
    "print('  Compiler  Compile-time   Run-time')\n",
    "print('  --------  ------------   --------')\n",
    "for compiler in NamedCircuitCompiler:\n",
    "    # Time compilation\n",
    "    start_time = timeit.default_timer()\n",
    "    raw_program = compiler(top)\n",
    "    stop_time = timeit.default_timer()\n",
    "    compile_time = (stop_time - start_time) * 1000  # as milliseconds\n",
    "\n",
    "    # Time c running the program\n",
    "    program = ProgramBuffer(raw_program)\n",
    "    start_time = timeit.default_timer()\n",
    "    program.compute()\n",
    "    stop_time = timeit.default_timer()\n",
    "    run_time = (stop_time - start_time) * 1000  # as milliseconds\n",
    "\n",
    "    print(f'{compiler.name:>10}  {compile_time:10.3f}ms {run_time:8.3f}ms')\n"
   ]
  },
  {
   "cell_type": "markdown",
   "id": "b416bfcafe39f06a",
   "metadata": {},
   "source": [
    "It is possible to dump a raw program for debugging and demonstration purposes. Here are some simple examples."
   ]
  },
  {
   "cell_type": "code",
   "execution_count": 3,
   "id": "a30bc28f6ba238f1",
   "metadata": {
    "ExecuteTime": {
     "end_time": "2025-07-03T23:39:08.682765Z",
     "start_time": "2025-07-03T23:39:08.674052Z"
    },
    "execution": {
     "iopub.execute_input": "2025-07-14T07:27:45.039349Z",
     "iopub.status.busy": "2025-07-14T07:27:45.039349Z",
     "iopub.status.idle": "2025-07-14T07:27:45.045939Z",
     "shell.execute_reply": "2025-07-14T07:27:45.045939Z"
    }
   },
   "outputs": [
    {
     "name": "stdout",
     "output_type": "stream",
     "text": [
      "LLVMRawProgram\n",
      "signature = [4] -> [1]\n",
      "temps = 0\n",
      "dtype = <class 'ctypes.c_double'>\n",
      "var_indices = (0, 1, 2, 3)\n",
      "optimisation level = 2\n",
      "LLVM program size = 24\n",
      "LLVM program:\n",
      "  ; ModuleID = \"\"\n",
      "  target triple = \"unknown-unknown-unknown\"\n",
      "  target datalayout = \"\"\n",
      "  \n",
      "  define void @\"main\"(double* %\".1\", double* %\".2\", double* %\".3\")\n",
      "  {\n",
      "  entry:\n",
      "    %\".5\" = getelementptr double, double* %\".1\", i32 0\n",
      "    %\".6\" = load double, double* %\".5\"\n",
      "    %\".7\" = getelementptr double, double* %\".1\", i32 1\n",
      "    %\".8\" = load double, double* %\".7\"\n",
      "    %\".9\" = fmul double %\".6\", %\".8\"\n",
      "    %\".10\" = getelementptr double, double* %\".1\", i32 2\n",
      "    %\".11\" = load double, double* %\".10\"\n",
      "    %\".12\" = getelementptr double, double* %\".1\", i32 3\n",
      "    %\".13\" = load double, double* %\".12\"\n",
      "    %\".14\" = fmul double %\".11\", %\".13\"\n",
      "    %\".15\" = fadd double %\".9\", %\".14\"\n",
      "    %\".16\" = fadd double %\".15\", 0x404c1d70a3d70a3d\n",
      "    %\".17\" = getelementptr double, double* %\".3\", i32 0\n",
      "    store double %\".16\", double* %\".17\"\n",
      "    ret void\n",
      "  }\n",
      "  \n"
     ]
    }
   ],
   "source": [
    "from ck.circuit import Circuit\n",
    "\n",
    "cct = Circuit()\n",
    "a, b, c, d = cct.new_vars(4)\n",
    "top = a * b + c * d + 56.23\n",
    "\n",
    "raw_program = NamedCircuitCompiler.LLVM_STACK(top)\n",
    "raw_program.dump()"
   ]
  },
  {
   "cell_type": "code",
   "execution_count": 4,
   "id": "c349034ed73b713b",
   "metadata": {
    "ExecuteTime": {
     "end_time": "2025-07-03T23:39:08.813854Z",
     "start_time": "2025-07-03T23:39:08.806313Z"
    },
    "execution": {
     "iopub.execute_input": "2025-07-14T07:27:45.047978Z",
     "iopub.status.busy": "2025-07-14T07:27:45.047978Z",
     "iopub.status.idle": "2025-07-14T07:27:45.052889Z",
     "shell.execute_reply": "2025-07-14T07:27:45.052889Z"
    }
   },
   "outputs": [
    {
     "name": "stdout",
     "output_type": "stream",
     "text": [
      "LLVMRawProgram\n",
      "signature = [4] -> [1]\n",
      "temps = 3\n",
      "dtype = <class 'ctypes.c_double'>\n",
      "var_indices = (0, 1, 2, 3)\n",
      "optimisation level = 0\n",
      "LLVM program size = 36\n",
      "LLVM program:\n",
      "  ; ModuleID = \"\"\n",
      "  target triple = \"unknown-unknown-unknown\"\n",
      "  target datalayout = \"\"\n",
      "  \n",
      "  define void @\"main\"(double* %\".1\", double* %\".2\", double* %\".3\")\n",
      "  {\n",
      "  entry:\n",
      "    %\".5\" = getelementptr double, double* %\".1\", i32 0\n",
      "    %\".6\" = load double, double* %\".5\"\n",
      "    %\".7\" = getelementptr double, double* %\".1\", i32 1\n",
      "    %\".8\" = load double, double* %\".7\"\n",
      "    %\".9\" = fmul double %\".6\", %\".8\"\n",
      "    %\".10\" = getelementptr double, double* %\".2\", i32 0\n",
      "    store double %\".9\", double* %\".10\"\n",
      "    %\".12\" = getelementptr double, double* %\".1\", i32 2\n",
      "    %\".13\" = load double, double* %\".12\"\n",
      "    %\".14\" = getelementptr double, double* %\".1\", i32 3\n",
      "    %\".15\" = load double, double* %\".14\"\n",
      "    %\".16\" = fmul double %\".13\", %\".15\"\n",
      "    %\".17\" = getelementptr double, double* %\".2\", i32 1\n",
      "    store double %\".16\", double* %\".17\"\n",
      "    %\".19\" = getelementptr double, double* %\".2\", i32 0\n",
      "    %\".20\" = load double, double* %\".19\"\n",
      "    %\".21\" = getelementptr double, double* %\".2\", i32 1\n",
      "    %\".22\" = load double, double* %\".21\"\n",
      "    %\".23\" = fadd double %\".20\", %\".22\"\n",
      "    %\".24\" = getelementptr double, double* %\".2\", i32 2\n",
      "    store double %\".23\", double* %\".24\"\n",
      "    %\".26\" = getelementptr double, double* %\".2\", i32 2\n",
      "    %\".27\" = load double, double* %\".26\"\n",
      "    %\".28\" = fadd double %\".27\", 0x404c1d70a3d70a3d\n",
      "    %\".29\" = getelementptr double, double* %\".3\", i32 0\n",
      "    store double %\".28\", double* %\".29\"\n",
      "    ret void\n",
      "  }\n",
      "  \n"
     ]
    }
   ],
   "source": [
    "raw_program = NamedCircuitCompiler.LLVM_TMPS(top)\n",
    "raw_program.dump()"
   ]
  },
  {
   "cell_type": "code",
   "execution_count": 5,
   "id": "dc2a48c8e97b114c",
   "metadata": {
    "ExecuteTime": {
     "end_time": "2025-07-03T23:39:08.877587Z",
     "start_time": "2025-07-03T23:39:08.864281Z"
    },
    "execution": {
     "iopub.execute_input": "2025-07-14T07:27:45.054893Z",
     "iopub.status.busy": "2025-07-14T07:27:45.053893Z",
     "iopub.status.idle": "2025-07-14T07:27:45.066561Z",
     "shell.execute_reply": "2025-07-14T07:27:45.066561Z"
    }
   },
   "outputs": [
    {
     "name": "stdout",
     "output_type": "stream",
     "text": [
      "LLVMRawProgramWithArrays\n",
      "signature = [4] -> [1]\n",
      "temps = 3\n",
      "dtype = <class 'ctypes.c_double'>\n",
      "var_indices = (0, 1, 2, 3)\n",
      "optimisation level = 2\n",
      "LLVM program size = 130\n",
      "LLVM program:\n",
      "  ; ModuleID = \"\"\n",
      "  target triple = \"unknown-unknown-unknown\"\n",
      "  target datalayout = \"\"\n",
      "  \n",
      "  define void @\"main\"(double* %\".1\", double* %\".2\", double* %\".3\")\n",
      "  {\n",
      "  entry:\n",
      "    %\".5\" = load double*, double** @\"consts\"\n",
      "    %\".6\" = load i8*, i8** @\"instructions\"\n",
      "    %\"idx\" = alloca i8\n",
      "    %\"num_args\" = alloca i8\n",
      "    %\"accumulator\" = alloca double\n",
      "    %\"arrays\" = alloca double*, i32 4\n",
      "    %\".7\" = getelementptr double*, double** %\"arrays\", i8 0\n",
      "    store double* %\".1\", double** %\".7\"\n",
      "    %\".9\" = getelementptr double*, double** %\"arrays\", i8 1\n",
      "    store double* %\".2\", double** %\".9\"\n",
      "    %\".11\" = getelementptr double*, double** %\"arrays\", i8 2\n",
      "    store double* %\".3\", double** %\".11\"\n",
      "    %\".13\" = getelementptr double*, double** %\"arrays\", i8 3\n",
      "    store double* %\".5\", double** %\".13\"\n",
      "    store i8 0, i8* %\"idx\"\n",
      "    br label %\"while\"\n",
      "  while:\n",
      "    %\".17\" = load i8, i8* %\"idx\"\n",
      "    %\".18\" = getelementptr i8, i8* %\".6\", i8 %\".17\"\n",
      "    %\".19\" = load i8, i8* %\".18\"\n",
      "    %\".20\" = add i8 %\".17\", 1\n",
      "    %\".21\" = icmp eq i8 %\".19\", 2\n",
      "    br i1 %\".21\", label %\"finish\", label %\"body\"\n",
      "  body:\n",
      "    %\".23\" = getelementptr i8, i8* %\".6\", i8 %\".20\"\n",
      "    %\".24\" = load i8, i8* %\".23\"\n",
      "    %\".25\" = add i8 %\".20\", 1\n",
      "    store i8 %\".24\", i8* %\"num_args\"\n",
      "    %\".27\" = getelementptr i8, i8* %\".6\", i8 %\".25\"\n",
      "    %\".28\" = load i8, i8* %\".27\"\n",
      "    %\".29\" = add i8 %\".25\", 1\n",
      "    %\".30\" = getelementptr i8, i8* %\".6\", i8 %\".29\"\n",
      "    %\".31\" = load i8, i8* %\".30\"\n",
      "    %\".32\" = add i8 %\".29\", 1\n",
      "    %\".33\" = getelementptr double*, double** %\"arrays\", i8 %\".28\"\n",
      "    %\".34\" = load double*, double** %\".33\"\n",
      "    %\".35\" = getelementptr double, double* %\".34\", i8 %\".31\"\n",
      "    %\".36\" = load double, double* %\".35\"\n",
      "    store double %\".36\", double* %\"accumulator\"\n",
      "    store i8 %\".32\", i8* %\"idx\"\n",
      "    %\".39\" = icmp eq i8 %\".19\", 1\n",
      "    br i1 %\".39\", label %\"mul\", label %\"add\"\n",
      "  mul:\n",
      "    %\".41\" = load i8, i8* %\"num_args\"\n",
      "    %\".42\" = sub i8 %\".41\", 1\n",
      "    store i8 %\".42\", i8* %\"num_args\"\n",
      "    %\".44\" = icmp ugt i8 %\".42\", 0\n",
      "    br i1 %\".44\", label %\"mul_op\", label %\"op_continue\"\n",
      "  mul_op:\n",
      "    %\".46\" = load i8, i8* %\"idx\"\n",
      "    %\".47\" = getelementptr i8, i8* %\".6\", i8 %\".46\"\n",
      "    %\".48\" = load i8, i8* %\".47\"\n",
      "    %\".49\" = add i8 %\".46\", 1\n",
      "    %\".50\" = getelementptr i8, i8* %\".6\", i8 %\".49\"\n",
      "    %\".51\" = load i8, i8* %\".50\"\n",
      "    %\".52\" = add i8 %\".49\", 1\n",
      "    %\".53\" = getelementptr double*, double** %\"arrays\", i8 %\".48\"\n",
      "    %\".54\" = load double*, double** %\".53\"\n",
      "    %\".55\" = getelementptr double, double* %\".54\", i8 %\".51\"\n",
      "    %\".56\" = load double, double* %\".55\"\n",
      "    %\".57\" = load double, double* %\"accumulator\"\n",
      "    %\".58\" = fmul double %\".57\", %\".56\"\n",
      "    store double %\".58\", double* %\"accumulator\"\n",
      "    store i8 %\".52\", i8* %\"idx\"\n",
      "    br label %\"mul\"\n",
      "  add:\n",
      "    %\".62\" = load i8, i8* %\"num_args\"\n",
      "    %\".63\" = sub i8 %\".62\", 1\n",
      "    store i8 %\".63\", i8* %\"num_args\"\n",
      "    %\".65\" = icmp ugt i8 %\".63\", 0\n",
      "    br i1 %\".65\", label %\"add_op\", label %\"op_continue\"\n",
      "  add_op:\n",
      "    %\".67\" = load i8, i8* %\"idx\"\n",
      "    %\".68\" = getelementptr i8, i8* %\".6\", i8 %\".67\"\n",
      "    %\".69\" = load i8, i8* %\".68\"\n",
      "    %\".70\" = add i8 %\".67\", 1\n",
      "    %\".71\" = getelementptr i8, i8* %\".6\", i8 %\".70\"\n",
      "    %\".72\" = load i8, i8* %\".71\"\n",
      "    %\".73\" = add i8 %\".70\", 1\n",
      "    %\".74\" = getelementptr double*, double** %\"arrays\", i8 %\".69\"\n",
      "    %\".75\" = load double*, double** %\".74\"\n",
      "    %\".76\" = getelementptr double, double* %\".75\", i8 %\".72\"\n",
      "    %\".77\" = load double, double* %\".76\"\n",
      "    %\".78\" = load double, double* %\"accumulator\"\n",
      "    %\".79\" = fadd double %\".78\", %\".77\"\n",
      "    store double %\".79\", double* %\"accumulator\"\n",
      "    store i8 %\".73\", i8* %\"idx\"\n",
      "    br label %\"add\"\n",
      "  op_continue:\n",
      "    %\".83\" = load i8, i8* %\"idx\"\n",
      "    %\".84\" = getelementptr i8, i8* %\".6\", i8 %\".83\"\n",
      "    %\".85\" = load i8, i8* %\".84\"\n",
      "    %\".86\" = add i8 %\".83\", 1\n",
      "    %\".87\" = getelementptr i8, i8* %\".6\", i8 %\".86\"\n",
      "    %\".88\" = load i8, i8* %\".87\"\n",
      "    %\".89\" = add i8 %\".86\", 1\n",
      "    %\".90\" = getelementptr double*, double** %\"arrays\", i8 %\".85\"\n",
      "    %\".91\" = load double*, double** %\".90\"\n",
      "    %\".92\" = getelementptr double, double* %\".91\", i8 %\".88\"\n",
      "    store i8 %\".89\", i8* %\"idx\"\n",
      "    %\".94\" = load double, double* %\"accumulator\"\n",
      "    store double %\".94\", double* %\".92\"\n",
      "    br label %\"while\"\n",
      "  finish:\n",
      "    ret void\n",
      "  }\n",
      "  \n",
      "  @\"consts\" = global double* null\n",
      "  @\"instructions\" = global i8* null\n",
      "  define void @\"set_consts\"(double* %\".1\")\n",
      "  {\n",
      "  entry:\n",
      "    store double* %\".1\", double** @\"consts\"\n",
      "    ret void\n",
      "  }\n",
      "  \n",
      "  define void @\"set_instructions\"(i8* %\".1\")\n",
      "  {\n",
      "  entry:\n",
      "    store i8* %\".1\", i8** @\"instructions\"\n",
      "    ret void\n",
      "  }\n",
      "  \n",
      "LLVM byte code size = 33\n",
      "LLVM program size = 130\n",
      "LLVM program:\n",
      "  ; ModuleID = \"\"\n",
      "  target triple = \"unknown-unknown-unknown\"\n",
      "  target datalayout = \"\"\n",
      "  \n",
      "  define void @\"main\"(double* %\".1\", double* %\".2\", double* %\".3\")\n",
      "  {\n",
      "  entry:\n",
      "    %\".5\" = load double*, double** @\"consts\"\n",
      "    %\".6\" = load i8*, i8** @\"instructions\"\n",
      "    %\"idx\" = alloca i8\n",
      "    %\"num_args\" = alloca i8\n",
      "    %\"accumulator\" = alloca double\n",
      "    %\"arrays\" = alloca double*, i32 4\n",
      "    %\".7\" = getelementptr double*, double** %\"arrays\", i8 0\n",
      "    store double* %\".1\", double** %\".7\"\n",
      "    %\".9\" = getelementptr double*, double** %\"arrays\", i8 1\n",
      "    store double* %\".2\", double** %\".9\"\n",
      "    %\".11\" = getelementptr double*, double** %\"arrays\", i8 2\n",
      "    store double* %\".3\", double** %\".11\"\n",
      "    %\".13\" = getelementptr double*, double** %\"arrays\", i8 3\n",
      "    store double* %\".5\", double** %\".13\"\n",
      "    store i8 0, i8* %\"idx\"\n",
      "    br label %\"while\"\n",
      "  while:\n",
      "    %\".17\" = load i8, i8* %\"idx\"\n",
      "    %\".18\" = getelementptr i8, i8* %\".6\", i8 %\".17\"\n",
      "    %\".19\" = load i8, i8* %\".18\"\n",
      "    %\".20\" = add i8 %\".17\", 1\n",
      "    %\".21\" = icmp eq i8 %\".19\", 2\n",
      "    br i1 %\".21\", label %\"finish\", label %\"body\"\n",
      "  body:\n",
      "    %\".23\" = getelementptr i8, i8* %\".6\", i8 %\".20\"\n",
      "    %\".24\" = load i8, i8* %\".23\"\n",
      "    %\".25\" = add i8 %\".20\", 1\n",
      "    store i8 %\".24\", i8* %\"num_args\"\n",
      "    %\".27\" = getelementptr i8, i8* %\".6\", i8 %\".25\"\n",
      "    %\".28\" = load i8, i8* %\".27\"\n",
      "    %\".29\" = add i8 %\".25\", 1\n",
      "    %\".30\" = getelementptr i8, i8* %\".6\", i8 %\".29\"\n",
      "    %\".31\" = load i8, i8* %\".30\"\n",
      "    %\".32\" = add i8 %\".29\", 1\n",
      "    %\".33\" = getelementptr double*, double** %\"arrays\", i8 %\".28\"\n",
      "    %\".34\" = load double*, double** %\".33\"\n",
      "    %\".35\" = getelementptr double, double* %\".34\", i8 %\".31\"\n",
      "    %\".36\" = load double, double* %\".35\"\n",
      "    store double %\".36\", double* %\"accumulator\"\n",
      "    store i8 %\".32\", i8* %\"idx\"\n",
      "    %\".39\" = icmp eq i8 %\".19\", 1\n",
      "    br i1 %\".39\", label %\"mul\", label %\"add\"\n",
      "  mul:\n",
      "    %\".41\" = load i8, i8* %\"num_args\"\n",
      "    %\".42\" = sub i8 %\".41\", 1\n",
      "    store i8 %\".42\", i8* %\"num_args\"\n",
      "    %\".44\" = icmp ugt i8 %\".42\", 0\n",
      "    br i1 %\".44\", label %\"mul_op\", label %\"op_continue\"\n",
      "  mul_op:\n",
      "    %\".46\" = load i8, i8* %\"idx\"\n",
      "    %\".47\" = getelementptr i8, i8* %\".6\", i8 %\".46\"\n",
      "    %\".48\" = load i8, i8* %\".47\"\n",
      "    %\".49\" = add i8 %\".46\", 1\n",
      "    %\".50\" = getelementptr i8, i8* %\".6\", i8 %\".49\"\n",
      "    %\".51\" = load i8, i8* %\".50\"\n",
      "    %\".52\" = add i8 %\".49\", 1\n",
      "    %\".53\" = getelementptr double*, double** %\"arrays\", i8 %\".48\"\n",
      "    %\".54\" = load double*, double** %\".53\"\n",
      "    %\".55\" = getelementptr double, double* %\".54\", i8 %\".51\"\n",
      "    %\".56\" = load double, double* %\".55\"\n",
      "    %\".57\" = load double, double* %\"accumulator\"\n",
      "    %\".58\" = fmul double %\".57\", %\".56\"\n",
      "    store double %\".58\", double* %\"accumulator\"\n",
      "    store i8 %\".52\", i8* %\"idx\"\n",
      "    br label %\"mul\"\n",
      "  add:\n",
      "    %\".62\" = load i8, i8* %\"num_args\"\n",
      "    %\".63\" = sub i8 %\".62\", 1\n",
      "    store i8 %\".63\", i8* %\"num_args\"\n",
      "    %\".65\" = icmp ugt i8 %\".63\", 0\n",
      "    br i1 %\".65\", label %\"add_op\", label %\"op_continue\"\n",
      "  add_op:\n",
      "    %\".67\" = load i8, i8* %\"idx\"\n",
      "    %\".68\" = getelementptr i8, i8* %\".6\", i8 %\".67\"\n",
      "    %\".69\" = load i8, i8* %\".68\"\n",
      "    %\".70\" = add i8 %\".67\", 1\n",
      "    %\".71\" = getelementptr i8, i8* %\".6\", i8 %\".70\"\n",
      "    %\".72\" = load i8, i8* %\".71\"\n",
      "    %\".73\" = add i8 %\".70\", 1\n",
      "    %\".74\" = getelementptr double*, double** %\"arrays\", i8 %\".69\"\n",
      "    %\".75\" = load double*, double** %\".74\"\n",
      "    %\".76\" = getelementptr double, double* %\".75\", i8 %\".72\"\n",
      "    %\".77\" = load double, double* %\".76\"\n",
      "    %\".78\" = load double, double* %\"accumulator\"\n",
      "    %\".79\" = fadd double %\".78\", %\".77\"\n",
      "    store double %\".79\", double* %\"accumulator\"\n",
      "    store i8 %\".73\", i8* %\"idx\"\n",
      "    br label %\"add\"\n",
      "  op_continue:\n",
      "    %\".83\" = load i8, i8* %\"idx\"\n",
      "    %\".84\" = getelementptr i8, i8* %\".6\", i8 %\".83\"\n",
      "    %\".85\" = load i8, i8* %\".84\"\n",
      "    %\".86\" = add i8 %\".83\", 1\n",
      "    %\".87\" = getelementptr i8, i8* %\".6\", i8 %\".86\"\n",
      "    %\".88\" = load i8, i8* %\".87\"\n",
      "    %\".89\" = add i8 %\".86\", 1\n",
      "    %\".90\" = getelementptr double*, double** %\"arrays\", i8 %\".85\"\n",
      "    %\".91\" = load double*, double** %\".90\"\n",
      "    %\".92\" = getelementptr double, double* %\".91\", i8 %\".88\"\n",
      "    store i8 %\".89\", i8* %\"idx\"\n",
      "    %\".94\" = load double, double* %\"accumulator\"\n",
      "    store double %\".94\", double* %\".92\"\n",
      "    br label %\"while\"\n",
      "  finish:\n",
      "    ret void\n",
      "  }\n",
      "  \n",
      "  @\"consts\" = global double* null\n",
      "  @\"instructions\" = global i8* null\n",
      "  define void @\"set_consts\"(double* %\".1\")\n",
      "  {\n",
      "  entry:\n",
      "    store double* %\".1\", double** @\"consts\"\n",
      "    ret void\n",
      "  }\n",
      "  \n",
      "  define void @\"set_instructions\"(i8* %\".1\")\n",
      "  {\n",
      "  entry:\n",
      "    store i8* %\".1\", i8** @\"instructions\"\n",
      "    ret void\n",
      "  }\n",
      "  \n"
     ]
    }
   ],
   "source": [
    "raw_program = NamedCircuitCompiler.LLVM_VM(top)\n",
    "raw_program.dump()"
   ]
  },
  {
   "cell_type": "code",
   "execution_count": 6,
   "id": "51c161072dcb66ea",
   "metadata": {
    "ExecuteTime": {
     "end_time": "2025-07-03T23:39:08.936448Z",
     "start_time": "2025-07-03T23:39:08.931380Z"
    },
    "execution": {
     "iopub.execute_input": "2025-07-14T07:27:45.068566Z",
     "iopub.status.busy": "2025-07-14T07:27:45.068566Z",
     "iopub.status.idle": "2025-07-14T07:27:45.072092Z",
     "shell.execute_reply": "2025-07-14T07:27:45.072092Z"
    }
   },
   "outputs": [
    {
     "name": "stdout",
     "output_type": "stream",
     "text": [
      "CythonRawProgram\n",
      "signature = [4] -> [1]\n",
      "temps = 3\n",
      "dtype = <class 'numpy.float64'>\n",
      "var_indices = (0, 1, 2, 3)\n",
      "number of instructions = 4\n"
     ]
    }
   ],
   "source": [
    "raw_program = NamedCircuitCompiler.CYTHON_VM(top)\n",
    "raw_program.dump()"
   ]
  },
  {
   "cell_type": "code",
   "execution_count": 7,
   "id": "d48a12241706ca55",
   "metadata": {
    "ExecuteTime": {
     "end_time": "2025-07-03T23:39:08.994231Z",
     "start_time": "2025-07-03T23:39:08.989071Z"
    },
    "execution": {
     "iopub.execute_input": "2025-07-14T07:27:45.074097Z",
     "iopub.status.busy": "2025-07-14T07:27:45.073098Z",
     "iopub.status.idle": "2025-07-14T07:27:45.076610Z",
     "shell.execute_reply": "2025-07-14T07:27:45.076610Z"
    }
   },
   "outputs": [
    {
     "name": "stdout",
     "output_type": "stream",
     "text": [
      "InterpreterRawProgram\n",
      "signature = [4] -> [1]\n",
      "temps = 4\n",
      "dtype = <class 'numpy.float64'>\n",
      "var_indices = (0, 1, 2, 3)\n",
      "number of instructions = 4\n",
      "instructions:\n",
      "  tmp[0] = mul var[0] var[1]\n",
      "  tmp[1] = mul var[2] var[3]\n",
      "  tmp[2] = sum tmp[0] tmp[1]\n",
      "  result[0] = sum tmp[2] 56.23\n"
     ]
    }
   ],
   "source": [
    "raw_program = NamedCircuitCompiler.INTERPRET(top)\n",
    "raw_program.dump()"
   ]
  },
  {
   "cell_type": "markdown",
   "id": "33b7edbd08b6b27d",
   "metadata": {},
   "source": [
    "The default circuit compiler is available as `DEFAULT_CIRCUIT_COMPILER`, which is a `NamedCircuitCompiler` enum member."
   ]
  },
  {
   "cell_type": "code",
   "execution_count": 8,
   "id": "87ee01242173dcca",
   "metadata": {
    "ExecuteTime": {
     "end_time": "2025-07-03T23:39:09.036104Z",
     "start_time": "2025-07-03T23:39:09.030695Z"
    },
    "execution": {
     "iopub.execute_input": "2025-07-14T07:27:45.078615Z",
     "iopub.status.busy": "2025-07-14T07:27:45.077615Z",
     "iopub.status.idle": "2025-07-14T07:27:45.082701Z",
     "shell.execute_reply": "2025-07-14T07:27:45.082701Z"
    }
   },
   "outputs": [
    {
     "data": {
      "text/plain": [
       "'CYTHON_VM'"
      ]
     },
     "execution_count": 8,
     "metadata": {},
     "output_type": "execute_result"
    }
   ],
   "source": [
    "from ck.circuit_compiler import DEFAULT_CIRCUIT_COMPILER\n",
    "\n",
    "DEFAULT_CIRCUIT_COMPILER.name"
   ]
  }
 ],
 "metadata": {
  "kernelspec": {
   "display_name": "Python 3",
   "language": "python",
   "name": "python3"
  },
  "language_info": {
   "codemirror_mode": {
    "name": "ipython",
    "version": 3
   },
   "file_extension": ".py",
   "mimetype": "text/x-python",
   "name": "python",
   "nbconvert_exporter": "python",
   "pygments_lexer": "ipython3",
   "version": "3.12.10"
  }
 },
 "nbformat": 4,
 "nbformat_minor": 5
}
