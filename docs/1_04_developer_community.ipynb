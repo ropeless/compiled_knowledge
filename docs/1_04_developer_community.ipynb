{
 "cells": [
  {
   "cell_type": "markdown",
   "metadata": {
    "collapsed": false
   },
   "source": [
    "# Developer Community"
   ]
  },
  {
   "cell_type": "markdown",
   "metadata": {},
   "source": [
    "Compiled Knowledge is a community-driven open source project. You are very welcome to join the Compiled Knowledge developer community.\n",
    "If you want to join in, please read the [CONTRIBUTING.md](https://github.com/ropeless/compiled_knowledge/blob/main/CONTRIBUTING.md) guidelines\n",
    "and the [CODE_OF_CONDUCT.md](https://github.com/ropeless/compiled_knowledge/blob/main/CODE_OF_CONDUCT.md).\n",
    "\n",
    "Software and documentation issues may be raised using the GitHub issue tracker, [github.com/ropeless/compiled_knowledge/issues](https://github.com/ropeless/compiled_knowledge/issues).\n"
   ]
  },
  {
   "cell_type": "markdown",
   "metadata": {
    "collapsed": false
   },
   "source": [
    "## Developer Installation\n",
    "\n",
    "A developer installation will normally clone the origin repository. The project source code is available at https://github.com/ropeless/compiled_knowledge.\n",
    "\n",
    "The project uses [poetry](https://python-poetry.org/docs/) to manage Python dependencies.\n",
    "\n",
    "To get started...\n",
    "\n",
    "1. Clone the repository, e.g., using `git clone https://github.com/ropeless/compiled_knowledge.git` or `git clone git@github.com:ropeless/compiled_knowledge.git`.\n",
    "2. Install Python dependencies using poetry: `poetry sync`.\n",
    "   If poetry fails you may need to first run `python -m ensurepip --upgrade` for some versions of Python, to ensure `pip` is operational.\n",
    "3. Build the Cython packages using `python setup.py build_ext --inplace`.\n",
    "4. Optionally: integrate ACE into CK by running `ck.pgm_compiler.ace.copy_ace_to_default_location(ace_dir)`.\n",
    "\n",
    "A Python script called `ck_demos/all_demos.py` is available to run most demo scripts in CK (with some exclusions for practical reasons). This can be used as a smoke test.\n",
    "\n",
    "A Python script called `tests/all_test.py` is available to run all unit tests in CK. The script `tests/all_coverage.py` is available to run all unit tests with code coverage analysis.\n",
    "Unit tests are in the package `tests` and are named _something_`_test.py`, where _something_ typically is a direct reference to a `ck` module.\n",
    "\n",
    "Compiling Cython modules for developer's clone:<br>\n",
    "`python setup.py build_ext --inplace`\n",
    "\n",
    "Building a copy of the Jupyter Book documentation:<br>\n",
    "`build_docs.py`\n",
    "\n",
    "\n"
   ]
  }
 ],
 "metadata": {
  "kernelspec": {
   "display_name": "Python 3",
   "language": "python",
   "name": "python3"
  },
  "language_info": {
   "codemirror_mode": {
    "name": "ipython",
    "version": 3
   },
   "file_extension": ".py",
   "mimetype": "text/x-python",
   "name": "python",
   "nbconvert_exporter": "python",
   "pygments_lexer": "ipython3",
   "version": "3.12.10"
  }
 },
 "nbformat": 4,
 "nbformat_minor": 0
}
