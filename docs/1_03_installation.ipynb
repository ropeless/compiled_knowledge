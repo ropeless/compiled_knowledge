{
 "cells": [
  {
   "cell_type": "markdown",
   "metadata": {
    "collapsed": false
   },
   "source": [
    "# Installation"
   ]
  },
  {
   "cell_type": "markdown",
   "metadata": {
    "collapsed": false
   },
   "source": [
    "## Quick Start\n",
    "\n",
    "Compiled Knowledge is hosted on [PyPI](https://pypi.org/project/compiled-knowledge/) so can be\n",
    "installed into your Python environment using `pip` or other Python package manager, e.g.,\n",
    "```console\n",
    "pip install compiled-knowledge\n",
    "```\n",
    "\n",
    "You can then create, compile, and use a probabilistic graphical model (PGM), e.g.,\n"
   ]
  },
  {
   "cell_type": "code",
   "execution_count": 1,
   "metadata": {
    "ExecuteTime": {
     "end_time": "2025-07-04T02:19:07.364837Z",
     "start_time": "2025-07-04T02:19:07.357589Z"
    },
    "execution": {
     "iopub.execute_input": "2025-07-18T00:24:14.844637Z",
     "iopub.status.busy": "2025-07-18T00:24:14.843637Z",
     "iopub.status.idle": "2025-07-18T00:24:14.964604Z",
     "shell.execute_reply": "2025-07-18T00:24:14.964604Z"
    }
   },
   "outputs": [
    {
     "data": {
      "text/plain": [
       "0.029000000000000005"
      ]
     },
     "execution_count": 1,
     "metadata": {},
     "output_type": "execute_result"
    }
   ],
   "source": [
    "from ck.pgm import RVMap\n",
    "from ck import example\n",
    "from ck.pgm_circuit.wmc_program import WMCProgram\n",
    "from ck.pgm_compiler import DEFAULT_PGM_COMPILER\n",
    "\n",
    "# create the example \"Cancer\" Bayesian network\n",
    "pgm = example.Cancer()\n",
    "\n",
    "# compile the PGM and construct an object for probabilistic queries\n",
    "wmc = WMCProgram(DEFAULT_PGM_COMPILER(pgm))\n",
    "\n",
    "# provide easy access to the random variables - not needed but simplifies this demo\n",
    "rvs = RVMap(pgm)\n",
    "\n",
    "# get the probability of having cancer given that pollution is high\n",
    "wmc.probability(rvs.cancer('True'), condition=rvs.pollution('high'))"
   ]
  },
  {
   "cell_type": "markdown",
   "metadata": {},
   "source": [
    "You can run the standard demo scripts as a check of the installation using the following Python script.\n",
    "```python\n",
    "from ck_demos.all_demos import main\n",
    "main()\n",
    "```"
   ]
  },
  {
   "cell_type": "markdown",
   "metadata": {},
   "source": [
    "## Integrating ACE into CK\n",
    "\n",
    "CK offers many different methods to compile a PGM, including using the ACE compiler provided by the Automated Reasoning Group, University of California Los Angeles. See http://reasoning.cs.ucla.edu/ace/ for more information about ACE.\n",
    "\n",
    "ACE cannot be distributed with CK so if you want to use the ACE compiler with CK you will need to integrate it manually.\n",
    "If integrating ACE into CK, you will need:\n",
    "* ACE jars and executables (see http://reasoning.cs.ucla.edu/ace/),\n",
    "* Java Runtime Environment (JRE) version 8 or higher.\n",
    "\n",
    "For CK to access ACE it needs to know where ACE is installed. There are multiple options for that. Here are two simple options.\n",
    "\n",
    "1. You can direct CK to access ACE by setting the OS environment variable `CK_ACE_LOCATION` to the path of an ACE installation directory.\n",
    "How you do this depends on your computer operating system.\n",
    "\n",
    "2. You can copy ACE to a default location using the following Python script.\n",
    "If `CK_ACE_LOCATION` is not set, then the default ACE installation directory is within the CK package itself. Otherwise, the default location is as per `CK_ACE_LOCATION`.\n",
    "\n",
    "Here is an example Python script to copy ACE to the default CK location.\n",
    "```python\n",
    "from ck.pgm_compiler.ace import copy_ace_to_default_location\n",
    "\n",
    "SOURCE_ACE: str = r'C:\\Research\\Ace\\ace_v3.0_windows'\n",
    "copy_ace_to_default_location(SOURCE_ACE)\n",
    "```\n",
    "\n",
    "Once configured, ACE can be used to compile a PGM, e.g.,"
   ]
  },
  {
   "cell_type": "code",
   "execution_count": 2,
   "metadata": {
    "ExecuteTime": {
     "end_time": "2025-07-04T02:29:51.094590Z",
     "start_time": "2025-07-04T02:29:50.795493Z"
    },
    "execution": {
     "iopub.execute_input": "2025-07-18T00:24:15.000986Z",
     "iopub.status.busy": "2025-07-18T00:24:15.000986Z",
     "iopub.status.idle": "2025-07-18T00:24:15.332011Z",
     "shell.execute_reply": "2025-07-18T00:24:15.332011Z"
    }
   },
   "outputs": [
    {
     "data": {
      "text/plain": [
       "0.029"
      ]
     },
     "execution_count": 2,
     "metadata": {},
     "output_type": "execute_result"
    }
   ],
   "source": [
    "from ck.pgm_compiler import NamedPGMCompiler\n",
    "\n",
    "# compile the PGM using ACE\n",
    "wmc = WMCProgram(NamedPGMCompiler.ACE(pgm))\n",
    "\n",
    "# get the probability of having cancer given that pollution is high\n",
    "wmc.probability(rvs.cancer('True'), condition=rvs.pollution('high'))"
   ]
  }
 ],
 "metadata": {
  "kernelspec": {
   "display_name": "Python 3",
   "language": "python",
   "name": "python3"
  },
  "language_info": {
   "codemirror_mode": {
    "name": "ipython",
    "version": 3
   },
   "file_extension": ".py",
   "mimetype": "text/x-python",
   "name": "python",
   "nbconvert_exporter": "python",
   "pygments_lexer": "ipython3",
   "version": "3.12.10"
  }
 },
 "nbformat": 4,
 "nbformat_minor": 0
}
