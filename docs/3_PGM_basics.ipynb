{
 "cells": [
  {
   "cell_type": "markdown",
   "metadata": {
    "collapsed": false
   },
   "source": [
    "# PGM Basics"
   ]
  },
  {
   "cell_type": "markdown",
   "metadata": {
    "collapsed": false
   },
   "source": [
    "A probabilistic graphical model in Compiled Knowledge (CK) is represented by an object of type `PGM`."
   ]
  },
  {
   "cell_type": "code",
   "execution_count": 1,
   "metadata": {
    "execution": {
     "iopub.execute_input": "2025-06-11T22:51:57.920908Z",
     "iopub.status.busy": "2025-06-11T22:51:57.919893Z",
     "iopub.status.idle": "2025-06-11T22:51:57.932133Z",
     "shell.execute_reply": "2025-06-11T22:51:57.932133Z"
    }
   },
   "outputs": [],
   "source": [
    "from ck.pgm import PGM\n",
    "\n",
    "pgm = PGM()"
   ]
  },
  {
   "cell_type": "markdown",
   "metadata": {
    "collapsed": false
   },
   "source": [
    "## Random variables ##\n",
    "\n",
    "Random variables are added to a PGM. Each random variable has a name and number of states. The states are indexed from zero.\n",
    "\n",
    "A random variable in CK is represented by an object of type `RandomVariable`. A random variable of a PGM is created with a name and a number of states."
   ]
  },
  {
   "cell_type": "code",
   "execution_count": 2,
   "metadata": {
    "collapsed": false,
    "execution": {
     "iopub.execute_input": "2025-06-11T22:51:57.934143Z",
     "iopub.status.busy": "2025-06-11T22:51:57.934143Z",
     "iopub.status.idle": "2025-06-11T22:51:57.936952Z",
     "shell.execute_reply": "2025-06-11T22:51:57.936952Z"
    }
   },
   "outputs": [],
   "source": [
    "rain      = pgm.new_rv('rain', 2)       # 0=not raining  1=raining\n",
    "sprinkler = pgm.new_rv('sprinkler', 2)  # 0=sprinkler off  1=sprinkler on\n",
    "grass     = pgm.new_rv('grass', 3)      # 0=grass dry  1=grass damp  2=grass wet"
   ]
  },
  {
   "cell_type": "markdown",
   "metadata": {
    "collapsed": false
   },
   "source": [
    "The name of a random variable is access by its `name` property, and the number of states by `len`."
   ]
  },
  {
   "cell_type": "code",
   "execution_count": 3,
   "metadata": {
    "collapsed": false,
    "execution": {
     "iopub.execute_input": "2025-06-11T22:51:57.938990Z",
     "iopub.status.busy": "2025-06-11T22:51:57.937956Z",
     "iopub.status.idle": "2025-06-11T22:51:57.941557Z",
     "shell.execute_reply": "2025-06-11T22:51:57.941557Z"
    }
   },
   "outputs": [
    {
     "name": "stdout",
     "output_type": "stream",
     "text": [
      "Random variable rain has 2 states.\n"
     ]
    }
   ],
   "source": [
    "print('Random variable', rain.name, 'has', len(rain), 'states.')"
   ]
  },
  {
   "cell_type": "markdown",
   "metadata": {
    "collapsed": false
   },
   "source": [
    "Every random variable has an index (`idx`), which is its location in the PGM array of random variables."
   ]
  },
  {
   "cell_type": "code",
   "execution_count": 4,
   "metadata": {
    "collapsed": false,
    "execution": {
     "iopub.execute_input": "2025-06-11T22:51:57.969818Z",
     "iopub.status.busy": "2025-06-11T22:51:57.969818Z",
     "iopub.status.idle": "2025-06-11T22:51:57.973303Z",
     "shell.execute_reply": "2025-06-11T22:51:57.973303Z"
    }
   },
   "outputs": [
    {
     "name": "stdout",
     "output_type": "stream",
     "text": [
      "0 1 2\n"
     ]
    }
   ],
   "source": [
    "print(rain.idx, sprinkler.idx, grass.idx)"
   ]
  },
  {
   "cell_type": "markdown",
   "metadata": {
    "collapsed": false
   },
   "source": [
    "The array of PGM random variables is called `rvs`."
   ]
  },
  {
   "cell_type": "code",
   "execution_count": 5,
   "metadata": {
    "collapsed": false,
    "execution": {
     "iopub.execute_input": "2025-06-11T22:51:57.975309Z",
     "iopub.status.busy": "2025-06-11T22:51:57.975309Z",
     "iopub.status.idle": "2025-06-11T22:51:57.978362Z",
     "shell.execute_reply": "2025-06-11T22:51:57.978362Z"
    }
   },
   "outputs": [
    {
     "name": "stdout",
     "output_type": "stream",
     "text": [
      "rain sprinkler grass\n"
     ]
    }
   ],
   "source": [
    "print(pgm.rvs[0], pgm.rvs[1], pgm.rvs[2])"
   ]
  },
  {
   "cell_type": "markdown",
   "metadata": {
    "collapsed": false
   },
   "source": [
    "A random variable can be treated as a sequence of indicators. Each indicator is of type `Indicator`.\n",
    "An indicator represent the proposition that a particular random variable is in a particular state.\n",
    "\n",
    "For example, the indicator for 'sprinkler' = 'on' ..."
   ]
  },
  {
   "cell_type": "code",
   "execution_count": 6,
   "metadata": {
    "collapsed": false,
    "execution": {
     "iopub.execute_input": "2025-06-11T22:51:57.980367Z",
     "iopub.status.busy": "2025-06-11T22:51:57.980367Z",
     "iopub.status.idle": "2025-06-11T22:51:57.984569Z",
     "shell.execute_reply": "2025-06-11T22:51:57.984569Z"
    }
   },
   "outputs": [
    {
     "data": {
      "text/plain": [
       "Indicator(rv_idx=1, state_idx=1)"
      ]
     },
     "execution_count": 6,
     "metadata": {},
     "output_type": "execute_result"
    }
   ],
   "source": [
    "sprinkler[1]"
   ]
  },
  {
   "cell_type": "markdown",
   "metadata": {
    "collapsed": false
   },
   "source": [
    "An indicator in CK is a simple, hashable object. However, a PGM provides a way to render an indicator as a human-readable string."
   ]
  },
  {
   "cell_type": "code",
   "execution_count": 7,
   "metadata": {
    "collapsed": false,
    "execution": {
     "iopub.execute_input": "2025-06-11T22:51:57.986573Z",
     "iopub.status.busy": "2025-06-11T22:51:57.986573Z",
     "iopub.status.idle": "2025-06-11T22:51:57.989489Z",
     "shell.execute_reply": "2025-06-11T22:51:57.989489Z"
    }
   },
   "outputs": [
    {
     "data": {
      "text/plain": [
       "'sprinkler=1'"
      ]
     },
     "execution_count": 7,
     "metadata": {},
     "output_type": "execute_result"
    }
   ],
   "source": [
    "pgm.indicator_str(sprinkler[1])"
   ]
  },
  {
   "cell_type": "markdown",
   "metadata": {
    "collapsed": false
   },
   "source": [
    "This works for multiple indicators too."
   ]
  },
  {
   "cell_type": "code",
   "execution_count": 8,
   "metadata": {
    "collapsed": false,
    "execution": {
     "iopub.execute_input": "2025-06-11T22:51:57.991494Z",
     "iopub.status.busy": "2025-06-11T22:51:57.990494Z",
     "iopub.status.idle": "2025-06-11T22:51:57.994519Z",
     "shell.execute_reply": "2025-06-11T22:51:57.994519Z"
    }
   },
   "outputs": [
    {
     "data": {
      "text/plain": [
       "'sprinkler=1, grass=2, rain=0'"
      ]
     },
     "execution_count": 8,
     "metadata": {},
     "output_type": "execute_result"
    }
   ],
   "source": [
    "pgm.indicator_str(sprinkler[1], grass[2], rain[0])"
   ]
  },
  {
   "cell_type": "markdown",
   "metadata": {
    "collapsed": false
   },
   "source": [
    "## Instances ##\n",
    "\n",
    "Once PGM random variables are defined, it is possible to iterate over all possible worlds. Each possible world is called an _instance_. An instance is an array of states indices, where the array is co-indexed with the array of random variables."
   ]
  },
  {
   "cell_type": "code",
   "execution_count": 9,
   "metadata": {
    "collapsed": false,
    "execution": {
     "iopub.execute_input": "2025-06-11T22:51:57.996524Z",
     "iopub.status.busy": "2025-06-11T22:51:57.995524Z",
     "iopub.status.idle": "2025-06-11T22:51:57.999126Z",
     "shell.execute_reply": "2025-06-11T22:51:57.999126Z"
    }
   },
   "outputs": [
    {
     "name": "stdout",
     "output_type": "stream",
     "text": [
      "rain sprinkler grass\n",
      "(0, 0, 0)\n",
      "(0, 0, 1)\n",
      "(0, 0, 2)\n",
      "(0, 1, 0)\n",
      "(0, 1, 1)\n",
      "(0, 1, 2)\n",
      "(1, 0, 0)\n",
      "(1, 0, 1)\n",
      "(1, 0, 2)\n",
      "(1, 1, 0)\n",
      "(1, 1, 1)\n",
      "(1, 1, 2)\n"
     ]
    }
   ],
   "source": [
    "print(*pgm.rvs)\n",
    "\n",
    "for inst in pgm.instances():\n",
    "    print(inst)"
   ]
  },
  {
   "cell_type": "markdown",
   "metadata": {
    "collapsed": false
   },
   "source": [
    "We can also iterate over the instances as indicators."
   ]
  },
  {
   "cell_type": "code",
   "execution_count": 10,
   "metadata": {
    "collapsed": false,
    "execution": {
     "iopub.execute_input": "2025-06-11T22:51:58.001131Z",
     "iopub.status.busy": "2025-06-11T22:51:58.001131Z",
     "iopub.status.idle": "2025-06-11T22:51:58.003873Z",
     "shell.execute_reply": "2025-06-11T22:51:58.003873Z"
    }
   },
   "outputs": [
    {
     "name": "stdout",
     "output_type": "stream",
     "text": [
      "(Indicator(rv_idx=0, state_idx=0), Indicator(rv_idx=1, state_idx=0), Indicator(rv_idx=2, state_idx=0))\n",
      "(Indicator(rv_idx=0, state_idx=0), Indicator(rv_idx=1, state_idx=0), Indicator(rv_idx=2, state_idx=1))\n",
      "(Indicator(rv_idx=0, state_idx=0), Indicator(rv_idx=1, state_idx=0), Indicator(rv_idx=2, state_idx=2))\n",
      "(Indicator(rv_idx=0, state_idx=0), Indicator(rv_idx=1, state_idx=1), Indicator(rv_idx=2, state_idx=0))\n",
      "(Indicator(rv_idx=0, state_idx=0), Indicator(rv_idx=1, state_idx=1), Indicator(rv_idx=2, state_idx=1))\n",
      "(Indicator(rv_idx=0, state_idx=0), Indicator(rv_idx=1, state_idx=1), Indicator(rv_idx=2, state_idx=2))\n",
      "(Indicator(rv_idx=0, state_idx=1), Indicator(rv_idx=1, state_idx=0), Indicator(rv_idx=2, state_idx=0))\n",
      "(Indicator(rv_idx=0, state_idx=1), Indicator(rv_idx=1, state_idx=0), Indicator(rv_idx=2, state_idx=1))\n",
      "(Indicator(rv_idx=0, state_idx=1), Indicator(rv_idx=1, state_idx=0), Indicator(rv_idx=2, state_idx=2))\n",
      "(Indicator(rv_idx=0, state_idx=1), Indicator(rv_idx=1, state_idx=1), Indicator(rv_idx=2, state_idx=0))\n",
      "(Indicator(rv_idx=0, state_idx=1), Indicator(rv_idx=1, state_idx=1), Indicator(rv_idx=2, state_idx=1))\n",
      "(Indicator(rv_idx=0, state_idx=1), Indicator(rv_idx=1, state_idx=1), Indicator(rv_idx=2, state_idx=2))\n"
     ]
    }
   ],
   "source": [
    "for inst in pgm.instances_as_indicators():\n",
    "    print(inst)"
   ]
  },
  {
   "cell_type": "markdown",
   "metadata": {
    "collapsed": false
   },
   "source": [
    "We can pretty-print the instances using `indicator_str`."
   ]
  },
  {
   "cell_type": "code",
   "execution_count": 11,
   "metadata": {
    "collapsed": false,
    "execution": {
     "iopub.execute_input": "2025-06-11T22:51:58.005878Z",
     "iopub.status.busy": "2025-06-11T22:51:58.004878Z",
     "iopub.status.idle": "2025-06-11T22:51:58.008648Z",
     "shell.execute_reply": "2025-06-11T22:51:58.008467Z"
    }
   },
   "outputs": [
    {
     "name": "stdout",
     "output_type": "stream",
     "text": [
      "rain=0, sprinkler=0, grass=0\n",
      "rain=0, sprinkler=0, grass=1\n",
      "rain=0, sprinkler=0, grass=2\n",
      "rain=0, sprinkler=1, grass=0\n",
      "rain=0, sprinkler=1, grass=1\n",
      "rain=0, sprinkler=1, grass=2\n",
      "rain=1, sprinkler=0, grass=0\n",
      "rain=1, sprinkler=0, grass=1\n",
      "rain=1, sprinkler=0, grass=2\n",
      "rain=1, sprinkler=1, grass=0\n",
      "rain=1, sprinkler=1, grass=1\n",
      "rain=1, sprinkler=1, grass=2\n"
     ]
    }
   ],
   "source": [
    "for inst in pgm.instances_as_indicators():\n",
    "    print(pgm.indicator_str(*inst))"
   ]
  },
  {
   "cell_type": "markdown",
   "metadata": {
    "collapsed": false
   },
   "source": [
    "## Factors ##\n",
    "\n",
    "Factors are added to a PGM by creating objects of type `Factor` using method `PGM.new_factor`.\n",
    "\n",
    "When a PGM is to represent a Bayesian network, each factor is a conditional probability table (CPT). By convention, the child random variable of a CPT as first in the list of a factor's random variables."
   ]
  },
  {
   "cell_type": "code",
   "execution_count": 12,
   "metadata": {
    "collapsed": false,
    "execution": {
     "iopub.execute_input": "2025-06-11T22:51:58.009683Z",
     "iopub.status.busy": "2025-06-11T22:51:58.009683Z",
     "iopub.status.idle": "2025-06-11T22:51:58.012701Z",
     "shell.execute_reply": "2025-06-11T22:51:58.012701Z"
    }
   },
   "outputs": [],
   "source": [
    "factor_g = pgm.new_factor(grass, rain, sprinkler)          # same as a CPT with child ‘grass’\n",
    "factor_r = pgm.new_factor(rain)\n",
    "factor_s = pgm.new_factor(sprinkler)"
   ]
  },
  {
   "cell_type": "markdown",
   "metadata": {
    "collapsed": false
   },
   "source": [
    "In general, a factor defines a real number for each possible combination of states of the factor's random variables. In CK, the function from the combination of states to real number is represented by an object of type `PotentialFunction`. There are many kinds of `PotentialFunction` in CK.\n",
    "\n",
    "When a factor is first created it is supplied with a `ZeroPotentialFunction` which returns zero of every possible combination of states. This can easily be replaced with a `DensePotentialFunction` using `set_dense()`. A `DensePotentialFunction` is a (multidimensional) array of parameter values, one for each possible combination of states."
   ]
  },
  {
   "cell_type": "code",
   "execution_count": 13,
   "metadata": {
    "collapsed": false,
    "execution": {
     "iopub.execute_input": "2025-06-11T22:51:58.013809Z",
     "iopub.status.busy": "2025-06-11T22:51:58.013809Z",
     "iopub.status.idle": "2025-06-11T22:51:58.017599Z",
     "shell.execute_reply": "2025-06-11T22:51:58.017599Z"
    }
   },
   "outputs": [],
   "source": [
    "from ck.pgm import DensePotentialFunction  # included merely to show types\n",
    "\n",
    "f_g: DensePotentialFunction = factor_g.set_dense()\n",
    "f_r: DensePotentialFunction = factor_r.set_dense()\n",
    "f_s: DensePotentialFunction = factor_s.set_dense()\n",
    "\n",
    "f_r[0] = 0.8\n",
    "f_r[1] = 0.2\n",
    "\n",
    "f_s[0] = 0.9\n",
    "f_s[1] = 0.1\n",
    "\n",
    "f_g[0, 0, 0] = 0.90\n",
    "f_g[0, 0, 1] = 0.01\n",
    "f_g[0, 1, 0] = 0.02\n",
    "f_g[0, 1, 1] = 0.01\n",
    "# and so on..."
   ]
  },
  {
   "cell_type": "markdown",
   "metadata": {
    "collapsed": false
   },
   "source": [
    "Alternatively, the parameters of a dense potential function may be set all at once, using `set_flat(...)`."
   ]
  },
  {
   "cell_type": "code",
   "execution_count": 14,
   "metadata": {
    "collapsed": false,
    "execution": {
     "iopub.execute_input": "2025-06-11T22:51:58.019633Z",
     "iopub.status.busy": "2025-06-11T22:51:58.018633Z",
     "iopub.status.idle": "2025-06-11T22:51:58.022231Z",
     "shell.execute_reply": "2025-06-11T22:51:58.022231Z"
    }
   },
   "outputs": [
    {
     "name": "stdout",
     "output_type": "stream",
     "text": [
      "0.95\n"
     ]
    }
   ],
   "source": [
    "f_r.set_flat(0.8, 0.2)\n",
    "f_s.set_flat(0.9, 0.1)\n",
    "f_g.set_flat(\n",
    "    # not raining,  raining       # rain\n",
    "    # off, on,      off,   on     # sprinkler\n",
    "    0.90, 0.01,     0.02, 0.01,   # grass dry\n",
    "    0.09, 0.01,     0.08, 0.04,   # grass damp\n",
    "    0.01, 0.98,     0.90, 0.95,   # grass wet\n",
    ")\n",
    "\n",
    "# Here is an example of the set value\n",
    "print(f_g[2, 1, 1])"
   ]
  },
  {
   "cell_type": "markdown",
   "metadata": {
    "collapsed": false
   },
   "source": [
    "## Weight of an instance ##\n",
    "\n",
    "A PGM provides a weight for each instance. It is the value of the product of all factors for that instance, hence is the method `PGM.value_product`. Note that the instance is co-indexed with the PGM random variables."
   ]
  },
  {
   "cell_type": "code",
   "execution_count": 15,
   "metadata": {
    "collapsed": false,
    "execution": {
     "iopub.execute_input": "2025-06-11T22:51:58.024267Z",
     "iopub.status.busy": "2025-06-11T22:51:58.023266Z",
     "iopub.status.idle": "2025-06-11T22:51:58.027068Z",
     "shell.execute_reply": "2025-06-11T22:51:58.027068Z"
    }
   },
   "outputs": [
    {
     "data": {
      "text/plain": [
       "0.014400000000000001"
      ]
     },
     "execution_count": 15,
     "metadata": {},
     "output_type": "execute_result"
    }
   ],
   "source": [
    "pgm.value_product([1, 0, 1])  # rain=1 sprinkler=0 grass=1"
   ]
  },
  {
   "cell_type": "markdown",
   "metadata": {
    "collapsed": false
   },
   "source": [
    "You can also calculate the weight of an instance by passing indicators instead. When using indicators, the order of the indicators is not important."
   ]
  },
  {
   "cell_type": "code",
   "execution_count": 16,
   "metadata": {
    "collapsed": false,
    "execution": {
     "iopub.execute_input": "2025-06-11T22:51:58.029105Z",
     "iopub.status.busy": "2025-06-11T22:51:58.028102Z",
     "iopub.status.idle": "2025-06-11T22:51:58.031846Z",
     "shell.execute_reply": "2025-06-11T22:51:58.031846Z"
    }
   },
   "outputs": [
    {
     "data": {
      "text/plain": [
       "0.014400000000000001"
      ]
     },
     "execution_count": 16,
     "metadata": {},
     "output_type": "execute_result"
    }
   ],
   "source": [
    "\n",
    "pgm.value_product_indicators(rain[1], sprinkler[0], grass[1])"
   ]
  },
  {
   "cell_type": "markdown",
   "metadata": {
    "collapsed": false
   },
   "source": [
    "Here are the weights for all instances"
   ]
  },
  {
   "cell_type": "code",
   "execution_count": 17,
   "metadata": {
    "collapsed": false,
    "execution": {
     "iopub.execute_input": "2025-06-11T22:51:58.033884Z",
     "iopub.status.busy": "2025-06-11T22:51:58.032880Z",
     "iopub.status.idle": "2025-06-11T22:51:58.036692Z",
     "shell.execute_reply": "2025-06-11T22:51:58.036692Z"
    }
   },
   "outputs": [
    {
     "name": "stdout",
     "output_type": "stream",
     "text": [
      "rain=0, sprinkler=0, grass=0 has weight 0.6480000000000001\n",
      "rain=0, sprinkler=0, grass=1 has weight 0.0648\n",
      "rain=0, sprinkler=0, grass=2 has weight 0.007200000000000001\n",
      "rain=0, sprinkler=1, grass=0 has weight 0.0008\n",
      "rain=0, sprinkler=1, grass=1 has weight 0.0008\n",
      "rain=0, sprinkler=1, grass=2 has weight 0.07840000000000001\n",
      "rain=1, sprinkler=0, grass=0 has weight 0.0036000000000000003\n",
      "rain=1, sprinkler=0, grass=1 has weight 0.014400000000000001\n",
      "rain=1, sprinkler=0, grass=2 has weight 0.16200000000000003\n",
      "rain=1, sprinkler=1, grass=0 has weight 0.0002\n",
      "rain=1, sprinkler=1, grass=1 has weight 0.0008\n",
      "rain=1, sprinkler=1, grass=2 has weight 0.019000000000000003\n"
     ]
    }
   ],
   "source": [
    "for inst in pgm.instances_as_indicators():\n",
    "    weight = pgm.value_product_indicators(*inst)\n",
    "    print(pgm.indicator_str(*inst), 'has weight', weight)"
   ]
  },
  {
   "cell_type": "markdown",
   "metadata": {
    "collapsed": false
   },
   "source": [
    "If random variable is not mentioned in the arguments to `value_product_indicators` then the result is the sum of the value product for each possible combination of states of the unmentioned random variables.\n",
    "\n",
    "Warning: this is potentially computationally expensive if the state space of the unmentioned random variables is large.\n",
    "\n",
    "In this example, `sprinkler` is not mentioned."
   ]
  },
  {
   "cell_type": "code",
   "execution_count": 18,
   "metadata": {
    "collapsed": false,
    "execution": {
     "iopub.execute_input": "2025-06-11T22:51:58.038726Z",
     "iopub.status.busy": "2025-06-11T22:51:58.037727Z",
     "iopub.status.idle": "2025-06-11T22:51:58.041449Z",
     "shell.execute_reply": "2025-06-11T22:51:58.041449Z"
    }
   },
   "outputs": [
    {
     "data": {
      "text/plain": [
       "0.015200000000000002"
      ]
     },
     "execution_count": 18,
     "metadata": {},
     "output_type": "execute_result"
    }
   ],
   "source": [
    "pgm.value_product_indicators(rain[1], grass[1])"
   ]
  },
  {
   "cell_type": "markdown",
   "metadata": {
    "collapsed": false
   },
   "source": [
    "That is equivalent to summing over the states of `sprinker`."
   ]
  },
  {
   "cell_type": "code",
   "execution_count": 19,
   "metadata": {
    "collapsed": false,
    "execution": {
     "iopub.execute_input": "2025-06-11T22:51:58.043484Z",
     "iopub.status.busy": "2025-06-11T22:51:58.042452Z",
     "iopub.status.idle": "2025-06-11T22:51:58.046443Z",
     "shell.execute_reply": "2025-06-11T22:51:58.046443Z"
    }
   },
   "outputs": [
    {
     "data": {
      "text/plain": [
       "0.015200000000000002"
      ]
     },
     "execution_count": 19,
     "metadata": {},
     "output_type": "execute_result"
    }
   ],
   "source": [
    "sum (\n",
    "    pgm.value_product_indicators(rain[1], grass[1], sprinkler[i])\n",
    "    for i in sprinkler.state_range()\n",
    ")"
   ]
  },
  {
   "cell_type": "markdown",
   "metadata": {},
   "source": [
    "If no indicators are mentioned, then this is equivalent to computing the partition function ($z$) of the PGM."
   ]
  },
  {
   "cell_type": "code",
   "execution_count": 20,
   "metadata": {
    "execution": {
     "iopub.execute_input": "2025-06-11T22:51:58.048477Z",
     "iopub.status.busy": "2025-06-11T22:51:58.047485Z",
     "iopub.status.idle": "2025-06-11T22:51:58.051249Z",
     "shell.execute_reply": "2025-06-11T22:51:58.051249Z"
    }
   },
   "outputs": [
    {
     "data": {
      "text/plain": [
       "1.0000000000000002"
      ]
     },
     "execution_count": 20,
     "metadata": {},
     "output_type": "execute_result"
    }
   ],
   "source": [
    "pgm.value_product_indicators()  # compute the value of the partition function"
   ]
  },
  {
   "cell_type": "markdown",
   "metadata": {
    "collapsed": false
   },
   "source": [
    "## Compiling a PGM ##\n",
    "\n",
    "To perform complex queries on a probabilistic graphical model, CK requires that it be compiled into an object that can be queried. The most common object is a `WMCProgram` object, which is constructed in two steps.\n",
    "\n",
    "1. First the PGM is compiled into a circuit, using a PGM compiler, creating a `PGMCircuit` object.\n",
    "2. Second, the circuit is compiled into a program, using a circuit compiler, with is usually wrapped into some inferencing object to enable probabilistic queries.\n",
    "\n",
    "There are many different implementations of PGM compiler and circuit compiler.\n",
    "\n",
    "The default PGM compiler is available as `ck.pgm_compiler.DEFAULT_PGM_COMPILER`.\n",
    "\n",
    "Often, compilation of a circuit into a program is done automatically when an inferencing object is constructed. This will use the default circuit compiler, available as `ck.circuit_compiler.DEFAULT_CIRCUIT_COMPILER`.\n",
    "\n",
    "In the following sample code, a `WMCProgram` object is created for probabilistic queries. It uses the default circuit compiler."
   ]
  },
  {
   "cell_type": "code",
   "execution_count": 21,
   "metadata": {
    "collapsed": false,
    "execution": {
     "iopub.execute_input": "2025-06-11T22:51:58.053284Z",
     "iopub.status.busy": "2025-06-11T22:51:58.052283Z",
     "iopub.status.idle": "2025-06-11T22:51:58.133312Z",
     "shell.execute_reply": "2025-06-11T22:51:58.133312Z"
    }
   },
   "outputs": [],
   "source": [
    "from ck.pgm_compiler import DEFAULT_PGM_COMPILER as pgm_compiler\n",
    "from ck.pgm_circuit.wmc_program import WMCProgram\n",
    "from ck.pgm_circuit import PGMCircuit\n",
    "\n",
    "pgm_cct: PGMCircuit = pgm_compiler(pgm)  # Compile the PGM into an arithmetic circuit.\n",
    "\n",
    "wmc = WMCProgram(pgm_cct)     # Make a WMCProgram object, using the default circuit compiler"
   ]
  },
  {
   "cell_type": "markdown",
   "metadata": {
    "collapsed": false
   },
   "source": [
    "Now efficient probability queries are possible. Consider this query using the original PGM..."
   ]
  },
  {
   "cell_type": "code",
   "execution_count": 22,
   "metadata": {
    "collapsed": false,
    "execution": {
     "iopub.execute_input": "2025-06-11T22:51:58.135316Z",
     "iopub.status.busy": "2025-06-11T22:51:58.135316Z",
     "iopub.status.idle": "2025-06-11T22:51:58.138447Z",
     "shell.execute_reply": "2025-06-11T22:51:58.138447Z"
    }
   },
   "outputs": [
    {
     "data": {
      "text/plain": [
       "0.015200000000000002"
      ]
     },
     "execution_count": 22,
     "metadata": {},
     "output_type": "execute_result"
    }
   ],
   "source": [
    "pgm.value_product_indicators(rain[1], grass[1])"
   ]
  },
  {
   "cell_type": "markdown",
   "metadata": {
    "collapsed": false
   },
   "source": [
    "Here is the equivalent query using a `WMCProgram`."
   ]
  },
  {
   "cell_type": "code",
   "execution_count": 23,
   "metadata": {
    "collapsed": false,
    "execution": {
     "iopub.execute_input": "2025-06-11T22:51:58.140451Z",
     "iopub.status.busy": "2025-06-11T22:51:58.139451Z",
     "iopub.status.idle": "2025-06-11T22:51:58.143076Z",
     "shell.execute_reply": "2025-06-11T22:51:58.143076Z"
    }
   },
   "outputs": [
    {
     "data": {
      "text/plain": [
       "0.015200000000000002"
      ]
     },
     "execution_count": 23,
     "metadata": {},
     "output_type": "execute_result"
    }
   ],
   "source": [
    "wmc.wmc(rain[1], grass[1])"
   ]
  },
  {
   "cell_type": "markdown",
   "metadata": {},
   "source": [
    "Here is the value of the partition function using the `WMCProgram`."
   ]
  },
  {
   "cell_type": "code",
   "execution_count": 24,
   "metadata": {
    "execution": {
     "iopub.execute_input": "2025-06-11T22:51:58.145079Z",
     "iopub.status.busy": "2025-06-11T22:51:58.144080Z",
     "iopub.status.idle": "2025-06-11T22:51:58.147710Z",
     "shell.execute_reply": "2025-06-11T22:51:58.147710Z"
    }
   },
   "outputs": [
    {
     "data": {
      "text/plain": [
       "1.0"
      ]
     },
     "execution_count": 24,
     "metadata": {},
     "output_type": "execute_result"
    }
   ],
   "source": [
    "wmc.z"
   ]
  },
  {
   "cell_type": "markdown",
   "metadata": {},
   "source": [
    "For a small PGM there may be little difference in computation time. The difference can be significant for a large PGM."
   ]
  },
  {
   "cell_type": "markdown",
   "metadata": {
    "collapsed": false
   },
   "source": [
    "## Calculating probabilities ##\n",
    "\n",
    "A `WMCProgram` provides many kinds of probabilistic query. Here are some examples."
   ]
  },
  {
   "cell_type": "markdown",
   "metadata": {},
   "source": [
    "What is the probability of 'not raining' and 'sprinkler off' and 'grass damp'?\n"
   ]
  },
  {
   "cell_type": "code",
   "execution_count": 25,
   "metadata": {
    "collapsed": false,
    "execution": {
     "iopub.execute_input": "2025-06-11T22:51:58.149713Z",
     "iopub.status.busy": "2025-06-11T22:51:58.148713Z",
     "iopub.status.idle": "2025-06-11T22:51:58.152547Z",
     "shell.execute_reply": "2025-06-11T22:51:58.152547Z"
    }
   },
   "outputs": [
    {
     "data": {
      "text/plain": [
       "0.0648"
      ]
     },
     "execution_count": 25,
     "metadata": {},
     "output_type": "execute_result"
    }
   ],
   "source": [
    "wmc.probability(rain[0], sprinkler[0], grass[1])"
   ]
  },
  {
   "cell_type": "markdown",
   "metadata": {
    "collapsed": false
   },
   "source": [
    "To make things clearer to read, we will define some states."
   ]
  },
  {
   "cell_type": "code",
   "execution_count": 26,
   "metadata": {
    "collapsed": false,
    "execution": {
     "iopub.execute_input": "2025-06-11T22:51:58.154550Z",
     "iopub.status.busy": "2025-06-11T22:51:58.153550Z",
     "iopub.status.idle": "2025-06-11T22:51:58.156766Z",
     "shell.execute_reply": "2025-06-11T22:51:58.156766Z"
    }
   },
   "outputs": [],
   "source": [
    "# for rain\n",
    "not_raining = 0\n",
    "raining = 1\n",
    "\n",
    "# for sprinkler\n",
    "off = 0\n",
    "on = 1\n",
    "\n",
    "# for grass\n",
    "dry = 0\n",
    "damp = 1\n",
    "wet = 2"
   ]
  },
  {
   "cell_type": "markdown",
   "metadata": {
    "collapsed": false
   },
   "source": [
    "What is the probability of 'not raining' and 'sprinkler off' and 'grass damp'?"
   ]
  },
  {
   "cell_type": "code",
   "execution_count": 27,
   "metadata": {
    "collapsed": false,
    "execution": {
     "iopub.execute_input": "2025-06-11T22:51:58.158845Z",
     "iopub.status.busy": "2025-06-11T22:51:58.157769Z",
     "iopub.status.idle": "2025-06-11T22:51:58.161438Z",
     "shell.execute_reply": "2025-06-11T22:51:58.161438Z"
    }
   },
   "outputs": [
    {
     "data": {
      "text/plain": [
       "0.0648"
      ]
     },
     "execution_count": 27,
     "metadata": {},
     "output_type": "execute_result"
    }
   ],
   "source": [
    "wmc.probability(rain[not_raining], sprinkler[off], grass[damp])"
   ]
  },
  {
   "cell_type": "markdown",
   "metadata": {
    "collapsed": false
   },
   "source": [
    "Here is how we can calculate a marginal probability.\n",
    "\n",
    "What is the marginal probability of 'grass damp'?"
   ]
  },
  {
   "cell_type": "code",
   "execution_count": 28,
   "metadata": {
    "collapsed": false,
    "execution": {
     "iopub.execute_input": "2025-06-11T22:51:58.163443Z",
     "iopub.status.busy": "2025-06-11T22:51:58.163443Z",
     "iopub.status.idle": "2025-06-11T22:51:58.166398Z",
     "shell.execute_reply": "2025-06-11T22:51:58.166398Z"
    }
   },
   "outputs": [
    {
     "data": {
      "text/plain": [
       "0.2666"
      ]
     },
     "execution_count": 28,
     "metadata": {},
     "output_type": "execute_result"
    }
   ],
   "source": [
    "wmc.probability(grass[wet])"
   ]
  },
  {
   "cell_type": "markdown",
   "metadata": {
    "collapsed": false
   },
   "source": [
    "We can calculate a marginal probability distribution.\n",
    "\n",
    "What is the marginal probability distribution over sprinkler?"
   ]
  },
  {
   "cell_type": "code",
   "execution_count": 29,
   "metadata": {
    "collapsed": false,
    "execution": {
     "iopub.execute_input": "2025-06-11T22:51:58.168401Z",
     "iopub.status.busy": "2025-06-11T22:51:58.167402Z",
     "iopub.status.idle": "2025-06-11T22:51:58.170967Z",
     "shell.execute_reply": "2025-06-11T22:51:58.170967Z"
    }
   },
   "outputs": [
    {
     "name": "stdout",
     "output_type": "stream",
     "text": [
      "[0.9 0.1]\n"
     ]
    }
   ],
   "source": [
    "marginal = wmc.marginal_distribution(sprinkler)\n",
    "print(marginal)"
   ]
  },
  {
   "cell_type": "markdown",
   "metadata": {
    "collapsed": false
   },
   "source": [
    "The result is a numpy array with probabilities co-indexed with the states of the given random variable.\n",
    "\n",
    "Therefore, we can pretty-print the result if desired."
   ]
  },
  {
   "cell_type": "code",
   "execution_count": 30,
   "metadata": {
    "collapsed": false,
    "execution": {
     "iopub.execute_input": "2025-06-11T22:51:58.172970Z",
     "iopub.status.busy": "2025-06-11T22:51:58.171971Z",
     "iopub.status.idle": "2025-06-11T22:51:58.175384Z",
     "shell.execute_reply": "2025-06-11T22:51:58.175384Z"
    }
   },
   "outputs": [
    {
     "name": "stdout",
     "output_type": "stream",
     "text": [
      "sprinkler=0 marginal probability is 0.9\n",
      "sprinkler=1 marginal probability is 0.1\n"
     ]
    }
   ],
   "source": [
    "for state, pr in zip(sprinkler.states, marginal):\n",
    "    print(pgm.indicator_str(sprinkler[state]), 'marginal probability is', pr)"
   ]
  },
  {
   "cell_type": "markdown",
   "metadata": {
    "collapsed": false
   },
   "source": [
    "## Conditional probabilities ##\n",
    "\n",
    "Here is how you can calculate conditional probabilities with CK.\n",
    "\n",
    "What is the probability distribution of sprinkler 'on', given 'not raining' and 'grass wet'?\n",
    "\n",
    "A condition in CK is either an Indicator or a list/tuple of Indicators.\n"
   ]
  },
  {
   "cell_type": "code",
   "execution_count": 31,
   "metadata": {
    "collapsed": false,
    "execution": {
     "iopub.execute_input": "2025-06-11T22:51:58.177387Z",
     "iopub.status.busy": "2025-06-11T22:51:58.176387Z",
     "iopub.status.idle": "2025-06-11T22:51:58.180121Z",
     "shell.execute_reply": "2025-06-11T22:51:58.180121Z"
    }
   },
   "outputs": [
    {
     "data": {
      "text/plain": [
       "0.9158878504672897"
      ]
     },
     "execution_count": 31,
     "metadata": {},
     "output_type": "execute_result"
    }
   ],
   "source": [
    "wmc.probability(sprinkler[on], condition=(rain[not_raining], grass[wet]))"
   ]
  },
  {
   "cell_type": "markdown",
   "metadata": {},
   "source": [
    "Semantically, the indicators of the given condition are grouped by random variable. The condition is interpreted as the conjunction of the groups, and the disjunction of the states within each group. For example, given condition for the Student PGM,\n",
    "```\n",
    "    grade('1'), intelligent('Yes'), grade(3)\n",
    "```\n",
    "then the condition interpretation is: (grade = 1 or grade = 3) and intelligent = Yes."
   ]
  },
  {
   "cell_type": "markdown",
   "metadata": {
    "collapsed": false
   },
   "source": [
    "Marginal distributions can also be conditioned.\n",
    "\n",
    "What is the marginal probability distribution over sprinkler, given 'not raining' and 'grass wet'?"
   ]
  },
  {
   "cell_type": "code",
   "execution_count": 32,
   "metadata": {
    "collapsed": false,
    "execution": {
     "iopub.execute_input": "2025-06-11T22:51:58.182193Z",
     "iopub.status.busy": "2025-06-11T22:51:58.181125Z",
     "iopub.status.idle": "2025-06-11T22:51:58.184744Z",
     "shell.execute_reply": "2025-06-11T22:51:58.184744Z"
    }
   },
   "outputs": [
    {
     "name": "stdout",
     "output_type": "stream",
     "text": [
      "[0.08411215 0.91588785]\n"
     ]
    }
   ],
   "source": [
    "marginal = wmc.marginal_distribution(sprinkler, condition=(rain[not_raining], grass[wet]))\n",
    "print(marginal)"
   ]
  },
  {
   "cell_type": "markdown",
   "metadata": {
    "collapsed": false
   },
   "source": [
    "## Sampling a model ##\n",
    "\n",
    "Samples may be drawn from a PGM using a sampler, created from a `WMCProgram`.\n",
    "\n",
    "First create a sampler..."
   ]
  },
  {
   "cell_type": "code",
   "execution_count": 33,
   "metadata": {
    "collapsed": false,
    "execution": {
     "iopub.execute_input": "2025-06-11T22:51:58.186747Z",
     "iopub.status.busy": "2025-06-11T22:51:58.185748Z",
     "iopub.status.idle": "2025-06-11T22:51:58.188852Z",
     "shell.execute_reply": "2025-06-11T22:51:58.188852Z"
    }
   },
   "outputs": [],
   "source": [
    "sampler = wmc.sample_direct()"
   ]
  },
  {
   "cell_type": "markdown",
   "metadata": {
    "collapsed": false
   },
   "source": [
    "A sampler provides an infinite iterator over instances.\n",
    "\n",
    "In this example we limit ourselves to 8 samples."
   ]
  },
  {
   "cell_type": "code",
   "execution_count": 34,
   "metadata": {
    "collapsed": false,
    "execution": {
     "iopub.execute_input": "2025-06-11T22:51:58.190855Z",
     "iopub.status.busy": "2025-06-11T22:51:58.189855Z",
     "iopub.status.idle": "2025-06-11T22:51:58.193693Z",
     "shell.execute_reply": "2025-06-11T22:51:58.193693Z"
    }
   },
   "outputs": [
    {
     "name": "stdout",
     "output_type": "stream",
     "text": [
      "1 [0, 0, 0]\n",
      "2 [1, 0, 0]\n",
      "3 [1, 0, 2]\n",
      "4 [1, 0, 2]\n",
      "5 [0, 0, 0]\n",
      "6 [0, 0, 0]\n",
      "7 [0, 0, 0]\n",
      "8 [0, 0, 0]\n"
     ]
    }
   ],
   "source": [
    "for i, inst in enumerate(sampler, start=1):\n",
    "    print(i, inst)\n",
    "    if i == 8:\n",
    "        break"
   ]
  },
  {
   "cell_type": "markdown",
   "metadata": {
    "collapsed": false
   },
   "source": [
    "A simple way to take a limited number of samples is to use `take`."
   ]
  },
  {
   "cell_type": "code",
   "execution_count": 35,
   "metadata": {
    "collapsed": false,
    "execution": {
     "iopub.execute_input": "2025-06-11T22:51:58.195697Z",
     "iopub.status.busy": "2025-06-11T22:51:58.194697Z",
     "iopub.status.idle": "2025-06-11T22:51:58.198261Z",
     "shell.execute_reply": "2025-06-11T22:51:58.198261Z"
    }
   },
   "outputs": [
    {
     "name": "stdout",
     "output_type": "stream",
     "text": [
      "[0, 0, 0]\n",
      "[1, 0, 2]\n",
      "[0, 0, 0]\n",
      "[0, 0, 0]\n",
      "[0, 0, 0]\n",
      "[0, 0, 0]\n",
      "[0, 0, 0]\n",
      "[1, 0, 2]\n"
     ]
    }
   ],
   "source": [
    "for inst in sampler.take(8):\n",
    "    print(inst)"
   ]
  },
  {
   "cell_type": "markdown",
   "metadata": {
    "collapsed": false
   },
   "source": [
    "## MAP queries ##\n",
    "\n",
    "We can perform MAP queries (maximum _a posteriori_), however, they are not efficient for large models with a `WMCProgram`. This is because the implementation typically performs an exhaustive search over the state space."
   ]
  },
  {
   "cell_type": "code",
   "execution_count": 36,
   "metadata": {
    "collapsed": false,
    "execution": {
     "iopub.execute_input": "2025-06-11T22:51:58.200265Z",
     "iopub.status.busy": "2025-06-11T22:51:58.199266Z",
     "iopub.status.idle": "2025-06-11T22:51:58.202737Z",
     "shell.execute_reply": "2025-06-11T22:51:58.202737Z"
    }
   },
   "outputs": [
    {
     "name": "stdout",
     "output_type": "stream",
     "text": [
      "MAP(grass, sprinkler) = (0, 0), with probability 0.6516000000000001\n"
     ]
    }
   ],
   "source": [
    "pr, states = wmc.map(grass, sprinkler)\n",
    "print(f'MAP(grass, sprinkler) = {states}, with probability {pr}')"
   ]
  },
  {
   "cell_type": "markdown",
   "metadata": {
    "collapsed": false
   },
   "source": [
    "## MPE queries ##\n",
    "\n",
    "We can efficiently answer MPE queries using an `MPEProgram` object, also created from a `PGMCircuit` object. This can be practical even for large models."
   ]
  },
  {
   "cell_type": "code",
   "execution_count": 37,
   "metadata": {
    "collapsed": false,
    "execution": {
     "iopub.execute_input": "2025-06-11T22:51:58.204741Z",
     "iopub.status.busy": "2025-06-11T22:51:58.203740Z",
     "iopub.status.idle": "2025-06-11T22:51:58.218994Z",
     "shell.execute_reply": "2025-06-11T22:51:58.218994Z"
    }
   },
   "outputs": [
    {
     "name": "stdout",
     "output_type": "stream",
     "text": [
      "MPE = (0, 0, 0), with probability 0.6480000000000001\n"
     ]
    }
   ],
   "source": [
    "from ck.pgm_circuit.mpe_program import MPEProgram\n",
    "\n",
    "mpe_program = MPEProgram(pgm_cct)\n",
    "\n",
    "mpe_result = mpe_program.mpe()\n",
    "states = mpe_result.mpe\n",
    "pr = mpe_result.wmc / wmc.z\n",
    "\n",
    "print(f'MPE = {states}, with probability {pr}')\n"
   ]
  },
  {
   "cell_type": "markdown",
   "metadata": {
    "collapsed": false
   },
   "source": [
    "Here is the MPE, conditioned on grass = wet"
   ]
  },
  {
   "cell_type": "code",
   "execution_count": 38,
   "metadata": {
    "collapsed": false,
    "execution": {
     "iopub.execute_input": "2025-06-11T22:51:58.221023Z",
     "iopub.status.busy": "2025-06-11T22:51:58.221023Z",
     "iopub.status.idle": "2025-06-11T22:51:58.223820Z",
     "shell.execute_reply": "2025-06-11T22:51:58.223820Z"
    }
   },
   "outputs": [
    {
     "name": "stdout",
     "output_type": "stream",
     "text": [
      "MPE(grass wet) = (1, 0, 2), with probability 0.6076519129782447\n"
     ]
    }
   ],
   "source": [
    "condition = grass[wet]\n",
    "mpe_result = mpe_program.mpe(condition)\n",
    "states = mpe_result.mpe\n",
    "pr = mpe_result.wmc / wmc.wmc(condition)\n",
    "\n",
    "print(f'MPE(grass wet) = {states}, with probability {pr}')"
   ]
  }
 ],
 "metadata": {
  "kernelspec": {
   "display_name": "Python 3",
   "language": "python",
   "name": "python3"
  },
  "language_info": {
   "codemirror_mode": {
    "name": "ipython",
    "version": 3
   },
   "file_extension": ".py",
   "mimetype": "text/x-python",
   "name": "python",
   "nbconvert_exporter": "python",
   "pygments_lexer": "ipython3",
   "version": "3.12.10"
  }
 },
 "nbformat": 4,
 "nbformat_minor": 0
}
