{
 "cells": [
  {
   "cell_type": "markdown",
   "source": [
    "# _front matter_"
   ],
   "metadata": {
    "collapsed": false,
    "pycharm": {
     "name": "#%% md\n"
    }
   }
  },
  {
   "cell_type": "markdown",
   "source": [
    "These Jupyter notebooks form a reference for the software known as Compiled Knowledge, abbreviated as CK.\n",
    "\n",
    "They are intended for users and developers of the software to help orient them to key design points and functionality of the software.\n",
    "\n",
    "Not all sections of this documentation will be relevant for all readers. As well as covering top-level organization and usage of Compiled Knowledge, these notebooks also covers some important implementation details.\n",
    "\n",
    "This documentation is available online at\n",
    "[compiled-knowledge.readthedocs.io](https://compiled-knowledge.readthedocs.io/).\n",
    "\n",
    "The primary repository for the project is\n",
    "[github.com/ropeless/compiled_knowledge](https://github.com/ropeless/compiled_knowledge).\n",
    "\n",
    "The Python package is available on PyPi, see\n",
    "[pypi.org/project/compiled-knowledge](https://pypi.org/project/compiled-knowledge/).\n",
    "\n",
    "For more information email\n",
    "[info@compiledknowledge.org](mailto:info@compiledknowledge.org).\n"
   ],
   "metadata": {
    "collapsed": false,
    "pycharm": {
     "name": "#%% md\n"
    }
   }
  }
 ],
 "metadata": {
  "kernelspec": {
   "display_name": "Python 3",
   "language": "python",
   "name": "python3"
  },
  "language_info": {
   "codemirror_mode": {
    "name": "ipython",
    "version": 2
   },
   "file_extension": ".py",
   "mimetype": "text/x-python",
   "name": "python",
   "nbconvert_exporter": "python",
   "pygments_lexer": "ipython2",
   "version": "2.7.6"
  }
 },
 "nbformat": 4,
 "nbformat_minor": 0
}
