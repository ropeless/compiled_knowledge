{
 "cells": [
  {
   "cell_type": "markdown",
   "metadata": {},
   "source": [
    "# Machine Learning\n",
    "\n",
    "In general, _machine learning_ is the automatic creation of a model using training data.\n",
    "A common kind of model is a _classifier_ which provides a predicted value for a _target_ random variable, given values for some _source_ random variables. Within CK the most common kind of model is a probabilistic graphical model (PGM).\n",
    "\n",
    "Considering probabilistic graphical models, two kinds of learning are possible: parameter learning and structure learning."
   ]
  },
  {
   "cell_type": "markdown",
   "metadata": {},
   "source": [
    "# Parameter Learning\n",
    "\n",
    "Parameter learning describes a process where the values of the parameters of a model are set using training data.\n",
    "\n",
    "To perform parameter learning, first a model structure needs to be defined. This can be done in CK by creating a `PGM` object with random variables and factors. There is no need to set the potential functions of the factors - just leave the default potential functions, which is the `ZeroPotentialFunction`.\n",
    "\n",
    "The following code creates a PGM with the structure of the Student Bayesian network."
   ]
  },
  {
   "cell_type": "code",
   "execution_count": 1,
   "metadata": {
    "ExecuteTime": {
     "end_time": "2025-08-07T23:21:20.812984Z",
     "start_time": "2025-08-07T23:21:20.734379Z"
    },
    "execution": {
     "iopub.execute_input": "2025-08-07T23:24:21.842870Z",
     "iopub.status.busy": "2025-08-07T23:24:21.842870Z",
     "iopub.status.idle": "2025-08-07T23:24:21.856798Z",
     "shell.execute_reply": "2025-08-07T23:24:21.856798Z"
    }
   },
   "outputs": [
    {
     "name": "stdout",
     "output_type": "stream",
     "text": [
      "PGM id=2611469627472\n",
      "  name: Student\n",
      "  number of random variables: 5\n",
      "  number of indicators: 11\n",
      "  number of states: 48\n",
      "  log 2 of states: 5.585\n",
      "  number of factors: 5\n",
      "  number of functions: 5\n",
      "  number of non-zero functions: 0\n",
      "  number of parameters: 26\n",
      "  number of functions (excluding ZeroPotentialFunction): 0\n",
      "  number of parameters (excluding ZeroPotentialFunction): 0\n",
      "  Bayesian structure: True\n",
      "  CPT factors: True\n",
      "random variables (5)\n",
      "    0 'difficult' (2) ['y', 'n']\n",
      "    1 'intelligent' (2) ['y', 'n']\n",
      "    2 'grade' (3) ['low', 'medium', 'high']\n",
      "    3 'award' (2) ['y', 'n']\n",
      "    4 'letter' (2) ['y', 'n']\n",
      "factors (5)\n",
      "    0 rvs=('difficult') function=<ZeroPotentialFunction>\n",
      "    1 rvs=('intelligent') function=<ZeroPotentialFunction>\n",
      "    2 rvs=('grade', 'intelligent', 'difficult') function=<ZeroPotentialFunction>\n",
      "    3 rvs=('award', 'intelligent') function=<ZeroPotentialFunction>\n",
      "    4 rvs=('letter', 'grade') function=<ZeroPotentialFunction>\n",
      "functions, excluding ZeroPotentialFunction (0)\n",
      "end PGM id=2611469627472\n"
     ]
    }
   ],
   "source": [
    "from ck.pgm import PGM, RVMap\n",
    "\n",
    "pgm = PGM('Student')\n",
    "\n",
    "difficult = pgm.new_rv('difficult', ['y', 'n'])\n",
    "intelligent = pgm.new_rv('intelligent', ['y', 'n'])\n",
    "grade = pgm.new_rv('grade', ['low', 'medium', 'high'])\n",
    "award = pgm.new_rv('award', ['y', 'n'])\n",
    "letter = pgm.new_rv('letter', ['y', 'n'])\n",
    "\n",
    "pgm.new_factor(difficult)\n",
    "pgm.new_factor(intelligent)\n",
    "pgm.new_factor(grade, intelligent, difficult)\n",
    "pgm.new_factor(award, intelligent)\n",
    "pgm.new_factor(letter, grade)\n",
    "\n",
    "pgm.dump()"
   ]
  },
  {
   "cell_type": "markdown",
   "metadata": {},
   "source": [
    "Next we create an example training dataset, using the PGM random variables as the random variables of the dataset."
   ]
  },
  {
   "cell_type": "code",
   "execution_count": 2,
   "metadata": {
    "ExecuteTime": {
     "end_time": "2025-08-07T23:21:20.822588Z",
     "start_time": "2025-08-07T23:21:20.816248Z"
    },
    "execution": {
     "iopub.execute_input": "2025-08-07T23:24:21.884384Z",
     "iopub.status.busy": "2025-08-07T23:24:21.884384Z",
     "iopub.status.idle": "2025-08-07T23:24:21.890268Z",
     "shell.execute_reply": "2025-08-07T23:24:21.890268Z"
    }
   },
   "outputs": [
    {
     "name": "stdout",
     "output_type": "stream",
     "text": [
      "rvs: [difficult, intelligent, grade, award, letter]\n",
      "instances (9, with total weight 9.0):\n",
      "(0, 1, 2, 0, 1) * 1.0\n",
      "(1, 1, 2, 0, 1) * 1.0\n",
      "(1, 1, 2, 0, 1) * 1.0\n",
      "(0, 0, 2, 0, 0) * 1.0\n",
      "(0, 1, 1, 1, 0) * 1.0\n",
      "(1, 1, 1, 1, 1) * 1.0\n",
      "(1, 1, 0, 0, 0) * 1.0\n",
      "(1, 1, 0, 0, 1) * 1.0\n",
      "(1, 0, 0, 0, 0) * 1.0\n"
     ]
    }
   ],
   "source": [
    "from ck.dataset.dataset_from_csv import hard_dataset_from_csv\n",
    "\n",
    "rvs = (difficult, intelligent, grade, award, letter)\n",
    "\n",
    "csv = \"\"\"\n",
    "0,1,2,0,1\n",
    "1,1,2,0,1\n",
    "1,1,2,0,1\n",
    "0,0,2,0,0\n",
    "0,1,1,1,0\n",
    "1,1,1,1,1\n",
    "1,1,0,0,0\n",
    "1,1,0,0,1\n",
    "1,0,0,0,0\n",
    "\"\"\"\n",
    "\n",
    "dataset = hard_dataset_from_csv(rvs, csv.splitlines())\n",
    "\n",
    "dataset.dump()"
   ]
  },
  {
   "cell_type": "markdown",
   "metadata": {},
   "source": [
    "## Bayesian Network Maximum-likelihood Training"
   ]
  },
  {
   "cell_type": "markdown",
   "metadata": {},
   "source": [
    "Parameter training for a PGM involves determining the parameter values for its potential functions.\n",
    "\n",
    "In particular, `train_generative_bn` will assume the PGM represents a Bayesian network and provides\n",
    "parameter values representing conditional probability tables (CPTs).\n",
    "\n",
    "The returned parameter values can then be used to update the PGMs potential functions."
   ]
  },
  {
   "cell_type": "code",
   "execution_count": 3,
   "metadata": {
    "ExecuteTime": {
     "end_time": "2025-08-07T23:21:20.840316Z",
     "start_time": "2025-08-07T23:21:20.833802Z"
    },
    "execution": {
     "iopub.execute_input": "2025-08-07T23:24:21.892275Z",
     "iopub.status.busy": "2025-08-07T23:24:21.892275Z",
     "iopub.status.idle": "2025-08-07T23:24:21.898412Z",
     "shell.execute_reply": "2025-08-07T23:24:21.898412Z"
    }
   },
   "outputs": [],
   "source": [
    "from ck.learning.train_generative_bn import train_generative_bn\n",
    "\n",
    "# Learn parameters values for `pgm` using the training data `dataset`.\n",
    "# This updates the PGMs potential functions.\n",
    "train_generative_bn(pgm, dataset)\n"
   ]
  },
  {
   "cell_type": "markdown",
   "metadata": {},
   "source": [
    "Here is the updated PGM and parameter values..."
   ]
  },
  {
   "cell_type": "code",
   "execution_count": 4,
   "metadata": {
    "ExecuteTime": {
     "end_time": "2025-08-07T23:21:20.847049Z",
     "start_time": "2025-08-07T23:21:20.842510Z"
    },
    "execution": {
     "iopub.execute_input": "2025-08-07T23:24:21.900448Z",
     "iopub.status.busy": "2025-08-07T23:24:21.899410Z",
     "iopub.status.idle": "2025-08-07T23:24:21.904450Z",
     "shell.execute_reply": "2025-08-07T23:24:21.904450Z"
    }
   },
   "outputs": [
    {
     "name": "stdout",
     "output_type": "stream",
     "text": [
      "Factor: ('difficult') <class 'ck.pgm.DensePotentialFunction'>\n",
      "Factor(0,) = 0.3333333333333333\n",
      "Factor(1,) = 0.6666666666666666\n",
      "\n",
      "Factor: ('intelligent') <class 'ck.pgm.DensePotentialFunction'>\n",
      "Factor(0,) = 0.2222222222222222\n",
      "Factor(1,) = 0.7777777777777778\n",
      "\n",
      "Factor: ('grade', 'intelligent', 'difficult') <class 'ck.pgm.DensePotentialFunction'>\n",
      "Factor(0, 0, 0) = 0.0\n",
      "Factor(0, 0, 1) = 1.0\n",
      "Factor(0, 1, 0) = 0.0\n",
      "Factor(0, 1, 1) = 0.4\n",
      "Factor(1, 0, 0) = 0.0\n",
      "Factor(1, 0, 1) = 0.0\n",
      "Factor(1, 1, 0) = 0.5\n",
      "Factor(1, 1, 1) = 0.2\n",
      "Factor(2, 0, 0) = 1.0\n",
      "Factor(2, 0, 1) = 0.0\n",
      "Factor(2, 1, 0) = 0.5\n",
      "Factor(2, 1, 1) = 0.4\n",
      "\n",
      "Factor: ('award', 'intelligent') <class 'ck.pgm.DensePotentialFunction'>\n",
      "Factor(0, 0) = 1.0\n",
      "Factor(0, 1) = 0.7142857142857143\n",
      "Factor(1, 0) = 0.0\n",
      "Factor(1, 1) = 0.2857142857142857\n",
      "\n",
      "Factor: ('letter', 'grade') <class 'ck.pgm.DensePotentialFunction'>\n",
      "Factor(0, 0) = 0.6666666666666666\n",
      "Factor(0, 1) = 0.5\n",
      "Factor(0, 2) = 0.25\n",
      "Factor(1, 0) = 0.3333333333333333\n",
      "Factor(1, 1) = 0.5\n",
      "Factor(1, 2) = 0.75\n",
      "\n"
     ]
    }
   ],
   "source": [
    "for factor in pgm.factors:\n",
    "    potential_function = factor.function\n",
    "    print(f'Factor: {factor} {type(potential_function)}')\n",
    "    for instance, _, param_value in potential_function.keys_with_param:\n",
    "        print(f'Factor{instance} = {param_value}')\n",
    "    print()"
   ]
  },
  {
   "cell_type": "markdown",
   "metadata": {},
   "source": [
    "Here is an example of using the resulting trained model. (Don't try to interpret the probabilities as per the real world. The training data is fictitious.)"
   ]
  },
  {
   "cell_type": "code",
   "execution_count": 5,
   "metadata": {
    "ExecuteTime": {
     "end_time": "2025-08-07T23:21:20.933969Z",
     "start_time": "2025-08-07T23:21:20.850047Z"
    },
    "execution": {
     "iopub.execute_input": "2025-08-07T23:24:21.906450Z",
     "iopub.status.busy": "2025-08-07T23:24:21.905449Z",
     "iopub.status.idle": "2025-08-07T23:24:21.989916Z",
     "shell.execute_reply": "2025-08-07T23:24:21.989916Z"
    }
   },
   "outputs": [
    {
     "name": "stdout",
     "output_type": "stream",
     "text": [
      "Probabilities from trained PGM:\n",
      "Pr(grade | difficult=y, intelligent=y) = [0. 0. 1.]\n",
      "Pr(grade | difficult=n, intelligent=y) = [1. 0. 0.]\n",
      "Pr(grade | difficult=y, intelligent=n) = [0.  0.5 0.5]\n",
      "Pr(grade | difficult=n, intelligent=n) = [0.4 0.2 0.4]\n"
     ]
    }
   ],
   "source": [
    "from ck.pgm_circuit.wmc_program import WMCProgram\n",
    "from ck.pgm_compiler import DEFAULT_PGM_COMPILER\n",
    "\n",
    "wmc = WMCProgram(DEFAULT_PGM_COMPILER(pgm))\n",
    "\n",
    "print('Probabilities from trained PGM:')\n",
    "for i in intelligent.indicators:\n",
    "    for d in difficult.indicators:\n",
    "        w = wmc.marginal_distribution(grade, condition=(d, i))\n",
    "        print(f'Pr({grade} | {pgm.indicator_str(d, i)}) = {w}')\n"
   ]
  },
  {
   "cell_type": "markdown",
   "metadata": {},
   "source": [
    "# Structure Learning\n",
    "\n",
    "Structure learning describes a process where the structure of a model is learned from training data.\n",
    "Typically, structure learning methods will also learn parameter values for the model.\n",
    "\n",
    "\n",
    "Presently, the only structure learning method available in CK is learning from a collection of cross-tables."
   ]
  },
  {
   "cell_type": "markdown",
   "metadata": {},
   "source": "The following example runs `model_from_cross_tables` to learn a structure and parameter values, using data sampled from the example `Student` pgm."
  },
  {
   "cell_type": "code",
   "execution_count": 6,
   "metadata": {
    "ExecuteTime": {
     "end_time": "2025-08-07T23:21:21.404441Z",
     "start_time": "2025-08-07T23:21:20.940724Z"
    },
    "execution": {
     "iopub.execute_input": "2025-08-07T23:24:21.991915Z",
     "iopub.status.busy": "2025-08-07T23:24:21.991915Z",
     "iopub.status.idle": "2025-08-07T23:24:22.441878Z",
     "shell.execute_reply": "2025-08-07T23:24:22.441878Z"
    }
   },
   "outputs": [],
   "source": [
    "from ck.dataset import HardDataset\n",
    "from ck.dataset.sampled_dataset import dataset_from_sampler\n",
    "from ck import example\n",
    "\n",
    "# Create a dataset based on the \"Student\" example PGM\n",
    "number_of_samples: int = 10000  # How many instances to make for the model dataset\n",
    "model: PGM = example.Student()\n",
    "model_dataset: HardDataset = dataset_from_sampler(\n",
    "    WMCProgram(DEFAULT_PGM_COMPILER(model)).sample_direct(),\n",
    "    number_of_samples,\n",
    ")\n",
    "\n",
    "# Clone the model, without factors, and transport the dataset to the new PGM\n",
    "pgm = PGM()\n",
    "dataset = HardDataset(weights=model_dataset.weights)\n",
    "for model_rv in model.rvs:\n",
    "    rv = pgm.new_rv(model_rv.name, model_rv.states)\n",
    "    dataset.add_rv_from_state_idxs(rv, model_dataset.state_idxs(model_rv))"
   ]
  },
  {
   "cell_type": "markdown",
   "metadata": {},
   "source": [
    "For this example, we make some cross-tables from the dataset."
   ]
  },
  {
   "cell_type": "code",
   "execution_count": 7,
   "metadata": {
    "ExecuteTime": {
     "end_time": "2025-08-07T23:21:21.423526Z",
     "start_time": "2025-08-07T23:21:21.407440Z"
    },
    "execution": {
     "iopub.execute_input": "2025-08-07T23:24:22.443878Z",
     "iopub.status.busy": "2025-08-07T23:24:22.443878Z",
     "iopub.status.idle": "2025-08-07T23:24:22.459354Z",
     "shell.execute_reply": "2025-08-07T23:24:22.459354Z"
    }
   },
   "outputs": [],
   "source": [
    "from ck.dataset.cross_table import cross_table_from_hard_dataset\n",
    "\n",
    "rvs = RVMap(pgm)\n",
    "\n",
    "cross_tables = [\n",
    "    cross_table_from_hard_dataset(dataset, [rvs.grade, rvs.difficult, rvs.intelligent]),\n",
    "    cross_table_from_hard_dataset(dataset, [rvs.sat, rvs.intelligent]),\n",
    "    cross_table_from_hard_dataset(dataset, [rvs.letter, rvs.grade]),\n",
    "]"
   ]
  },
  {
   "cell_type": "markdown",
   "metadata": {},
   "source": [
    "Now add structure and parameters to the PGM from the cross-tables."
   ]
  },
  {
   "cell_type": "code",
   "execution_count": 8,
   "metadata": {
    "ExecuteTime": {
     "end_time": "2025-08-07T23:21:21.638896Z",
     "start_time": "2025-08-07T23:21:21.426524Z"
    },
    "execution": {
     "iopub.execute_input": "2025-08-07T23:24:22.461354Z",
     "iopub.status.busy": "2025-08-07T23:24:22.461354Z",
     "iopub.status.idle": "2025-08-07T23:24:22.667530Z",
     "shell.execute_reply": "2025-08-07T23:24:22.667530Z"
    }
   },
   "outputs": [
    {
     "name": "stdout",
     "output_type": "stream",
     "text": [
      "PGM id=2611474270640\n",
      "  name: PGM_2611474270640\n",
      "  number of random variables: 5\n",
      "  number of indicators: 11\n",
      "  number of states: 48\n",
      "  log 2 of states: 5.585\n",
      "  number of factors: 5\n",
      "  number of functions: 5\n",
      "  number of non-zero functions: 5\n",
      "  number of parameters: 26\n",
      "  number of functions (excluding ZeroPotentialFunction): 5\n",
      "  number of parameters (excluding ZeroPotentialFunction): 26\n",
      "  Bayesian structure: True\n",
      "  CPT factors: True\n",
      "random variables (5)\n",
      "    0 'difficult' (2) ['Yes', 'No']\n",
      "    1 'intelligent' (2) ['Yes', 'No']\n",
      "    2 'grade' (3) ['1', '2', '3']\n",
      "    3 'sat' (2) ['High', 'Low']\n",
      "    4 'letter' (2) ['Yes', 'No']\n",
      "factors (5)\n",
      "    0 rvs=('difficult') function=2611490966128: DensePotentialFunction\n",
      "    1 rvs=('intelligent') function=2611998865168: DensePotentialFunction\n",
      "    2 rvs=('grade', 'difficult', 'intelligent') function=2611998865984: DensePotentialFunction\n",
      "    3 rvs=('sat', 'intelligent') function=2611998864544: DensePotentialFunction\n",
      "    4 rvs=('letter', 'grade') function=2611998864832: DensePotentialFunction\n",
      "functions, excluding ZeroPotentialFunction (5)\n",
      "  2611490966128: DensePotentialFunction\n",
      "    usage: 1\n",
      "    rvs: 1\n",
      "    shape: (2)\n",
      "    states: 2\n",
      "    guaranteed zero: 0\n",
      "    not guaranteed zero: 2\n",
      "    parameters: 2\n",
      "  2611998864544: DensePotentialFunction\n",
      "    usage: 1\n",
      "    rvs: 2\n",
      "    shape: (2, 2)\n",
      "    states: 4\n",
      "    guaranteed zero: 0\n",
      "    not guaranteed zero: 4\n",
      "    parameters: 4\n",
      "  2611998864832: DensePotentialFunction\n",
      "    usage: 1\n",
      "    rvs: 2\n",
      "    shape: (2, 3)\n",
      "    states: 6\n",
      "    guaranteed zero: 0\n",
      "    not guaranteed zero: 6\n",
      "    parameters: 6\n",
      "  2611998865168: DensePotentialFunction\n",
      "    usage: 1\n",
      "    rvs: 1\n",
      "    shape: (2)\n",
      "    states: 2\n",
      "    guaranteed zero: 0\n",
      "    not guaranteed zero: 2\n",
      "    parameters: 2\n",
      "  2611998865984: DensePotentialFunction\n",
      "    usage: 1\n",
      "    rvs: 3\n",
      "    shape: (3, 2, 2)\n",
      "    states: 12\n",
      "    guaranteed zero: 0\n",
      "    not guaranteed zero: 12\n",
      "    parameters: 12\n",
      "end PGM id=2611474270640\n"
     ]
    }
   ],
   "source": [
    "from ck.learning.model_from_cross_tables import model_from_cross_tables\n",
    "\n",
    "model_from_cross_tables(pgm, cross_tables)\n",
    "\n",
    "pgm.dump()"
   ]
  },
  {
   "cell_type": "markdown",
   "metadata": {},
   "source": [
    "Below we compile the true model and the trained PGM, showing the trained PGM accuracy."
   ]
  },
  {
   "cell_type": "code",
   "execution_count": 9,
   "metadata": {
    "ExecuteTime": {
     "end_time": "2025-08-07T23:21:21.672481Z",
     "start_time": "2025-08-07T23:21:21.642895Z"
    },
    "execution": {
     "iopub.execute_input": "2025-08-07T23:24:22.669567Z",
     "iopub.status.busy": "2025-08-07T23:24:22.668528Z",
     "iopub.status.idle": "2025-08-07T23:24:22.676605Z",
     "shell.execute_reply": "2025-08-07T23:24:22.676605Z"
    }
   },
   "outputs": [
    {
     "name": "stdout",
     "output_type": "stream",
     "text": [
      "HI 0.982727503778387\n",
      "KL 0.0016500159561904108\n"
     ]
    }
   ],
   "source": [
    "from ck.probability import divergence\n",
    "\n",
    "model_probabilities = WMCProgram(DEFAULT_PGM_COMPILER(model))\n",
    "pgm_probabilities = WMCProgram(DEFAULT_PGM_COMPILER(pgm))\n",
    "print('HI', divergence.hi(model_probabilities, pgm_probabilities))\n",
    "print('KL', divergence.kl(model_probabilities, pgm_probabilities))"
   ]
  }
 ],
 "metadata": {
  "kernelspec": {
   "display_name": "Python 3 (ipykernel)",
   "language": "python",
   "name": "python3"
  },
  "language_info": {
   "codemirror_mode": {
    "name": "ipython",
    "version": 3
   },
   "file_extension": ".py",
   "mimetype": "text/x-python",
   "name": "python",
   "nbconvert_exporter": "python",
   "pygments_lexer": "ipython3",
   "version": "3.12.10"
  }
 },
 "nbformat": 4,
 "nbformat_minor": 1
}
