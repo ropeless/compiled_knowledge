{
 "cells": [
  {
   "cell_type": "markdown",
   "source": "# Circuits and Programs",
   "metadata": {
    "collapsed": false
   }
  },
  {
   "cell_type": "markdown",
   "source": "In CK the circuit and program functionality are directly available, independently of a PGM.",
   "metadata": {
    "collapsed": false
   }
  },
  {
   "cell_type": "markdown",
   "source": [
    "## Circuits"
   ],
   "metadata": {
    "collapsed": false
   }
  },
  {
   "cell_type": "code",
   "source": [
    "from ck.circuit import Circuit\n",
    "\n",
    "cct = Circuit()\n",
    "\n",
    "x0 = cct.new_var()  # this var will have index 0\n",
    "x1 = cct.new_var()  # this var will have index 1\n",
    "c123 = cct.const(123)\n",
    "m = cct.mul(x0, x1)\n",
    "a = cct.add(c123, m)"
   ],
   "metadata": {
    "collapsed": false,
    "ExecuteTime": {
     "end_time": "2025-05-12T23:21:49.501613Z",
     "start_time": "2025-05-12T23:21:49.485584Z"
    }
   },
   "outputs": [],
   "execution_count": 1
  },
  {
   "cell_type": "markdown",
   "source": "Every circuit variable has an index, starting from zero and counting in the order that the variables were created.",
   "metadata": {
    "collapsed": false
   }
  },
  {
   "cell_type": "code",
   "source": "print(x0.idx, x1.idx)",
   "metadata": {
    "collapsed": false,
    "ExecuteTime": {
     "end_time": "2025-05-12T23:21:49.508484Z",
     "start_time": "2025-05-12T23:21:49.501613Z"
    }
   },
   "outputs": [
    {
     "name": "stdout",
     "output_type": "stream",
     "text": [
      "0 1\n"
     ]
    }
   ],
   "execution_count": 2
  },
  {
   "cell_type": "markdown",
   "source": "Circuit variables can be accessed from the circuit by their index.",
   "metadata": {
    "collapsed": false
   }
  },
  {
   "cell_type": "code",
   "source": "cct.vars[0]",
   "metadata": {
    "collapsed": false,
    "ExecuteTime": {
     "end_time": "2025-05-12T23:21:49.684189Z",
     "start_time": "2025-05-12T23:21:49.679096Z"
    }
   },
   "outputs": [
    {
     "data": {
      "text/plain": [
       "<ck.circuit.circuit.VarNode at 0x289b72d5a00>"
      ]
     },
     "execution_count": 3,
     "metadata": {},
     "output_type": "execute_result"
    }
   ],
   "execution_count": 3
  },
  {
   "cell_type": "code",
   "source": "x0 == cct.vars[0]",
   "metadata": {
    "collapsed": false,
    "ExecuteTime": {
     "end_time": "2025-05-12T23:21:49.693586Z",
     "start_time": "2025-05-12T23:21:49.690119Z"
    }
   },
   "outputs": [
    {
     "data": {
      "text/plain": [
       "True"
      ]
     },
     "execution_count": 4,
     "metadata": {},
     "output_type": "execute_result"
    }
   ],
   "execution_count": 4
  },
  {
   "cell_type": "code",
   "source": "x0 == cct.vars[1]",
   "metadata": {
    "collapsed": false,
    "ExecuteTime": {
     "end_time": "2025-05-12T23:21:49.703026Z",
     "start_time": "2025-05-12T23:21:49.699366Z"
    }
   },
   "outputs": [
    {
     "data": {
      "text/plain": [
       "False"
      ]
     },
     "execution_count": 5,
     "metadata": {},
     "output_type": "execute_result"
    }
   ],
   "execution_count": 5
  },
  {
   "metadata": {},
   "cell_type": "markdown",
   "source": [
    "A circuit details can be dumped to a human-readable form.\n",
    "\n",
    "Op nodes are printed in the form: {operation}<{ref-number}>: {arguments}\n",
    "\n",
    "Var nodes are printed in the form: var[\\{idx\\}]\n",
    "\n",
    "Const nodes are printed merely as constant values.\n"
   ]
  },
  {
   "metadata": {
    "ExecuteTime": {
     "end_time": "2025-05-12T23:21:49.712205Z",
     "start_time": "2025-05-12T23:21:49.707960Z"
    }
   },
   "cell_type": "code",
   "source": "cct.dump()",
   "outputs": [
    {
     "name": "stdout",
     "output_type": "stream",
     "text": [
      "number of vars: 2\n",
      "number of const nodes: 3\n",
      "number of op nodes: 2\n",
      "number of operations: 2\n",
      "number of arcs: 4\n",
      "var nodes: 2\n",
      "const nodes: 3\n",
      "  0\n",
      "  1\n",
      "  123\n",
      "op nodes: 2 (arcs: 4, ops: 2)\n",
      "  add<1>: 123 mul<0>\n",
      "  mul<0>: var[0] var[1]\n"
     ]
    }
   ],
   "execution_count": 6
  },
  {
   "cell_type": "markdown",
   "source": [
    "## Programs\n",
    "\n",
    "A circuit can be compiled to a program by using a `CircuitCompiler`. A default circuit compiler is\n",
    "available as `ck.circuit_compiler.DEFAULT_CIRCUIT_COMPILER`. A circuit compiler\n",
    "takes a collection of `CircuitNode` objects and returns a `RawProgram` to calculate the values of the given circuit nodes.\n",
    "\n",
    "The following example compiles the circuit above."
   ],
   "metadata": {
    "collapsed": false
   }
  },
  {
   "cell_type": "code",
   "source": [
    "from ck.circuit_compiler import DEFAULT_CIRCUIT_COMPILER\n",
    "from ck.program import RawProgram\n",
    "\n",
    "\n",
    "raw_program: RawProgram = DEFAULT_CIRCUIT_COMPILER(a)  # `a` is the top \"addition\" node of the circuit."
   ],
   "metadata": {
    "collapsed": false,
    "ExecuteTime": {
     "end_time": "2025-05-12T23:21:49.859037Z",
     "start_time": "2025-05-12T23:21:49.717348Z"
    }
   },
   "outputs": [],
   "execution_count": 7
  },
  {
   "metadata": {},
   "cell_type": "markdown",
   "source": [
    "Every program has a numpy `dtype` which defines the numeric data type for input and output values.\n",
    "\n",
    "In this case, the default type was used, which is a C style double."
   ]
  },
  {
   "metadata": {
    "collapsed": false,
    "ExecuteTime": {
     "end_time": "2025-05-12T23:21:49.868495Z",
     "start_time": "2025-05-12T23:21:49.865130Z"
    }
   },
   "cell_type": "code",
   "source": "raw_program.dtype",
   "outputs": [
    {
     "data": {
      "text/plain": [
       "ctypes.c_double"
      ]
     },
     "execution_count": 8,
     "metadata": {},
     "output_type": "execute_result"
    }
   ],
   "execution_count": 8
  },
  {
   "metadata": {},
   "cell_type": "markdown",
   "source": "The raw program is a function from an input array to an output array."
  },
  {
   "metadata": {
    "ExecuteTime": {
     "end_time": "2025-05-12T23:21:49.883212Z",
     "start_time": "2025-05-12T23:21:49.878809Z"
    }
   },
   "cell_type": "code",
   "source": "print(raw_program([0, 1]))",
   "outputs": [
    {
     "name": "stdout",
     "output_type": "stream",
     "text": [
      "[123.]\n"
     ]
    }
   ],
   "execution_count": 9
  },
  {
   "metadata": {},
   "cell_type": "markdown",
   "source": "a raw program is typically referenced and used by other objects. For example a raw program can be wrapped in a `ProgramBuffer` which provides pre-allocated buffers for input, output, and temporary values for more efficient and convenient computations."
  },
  {
   "cell_type": "code",
   "source": [
    "from ck.program import ProgramBuffer\n",
    "\n",
    "program = ProgramBuffer(raw_program)\n",
    "\n",
    "program[0] = 123   # set the first program argument\n",
    "program[1] = 456   # set the second program argument\n",
    "\n",
    "\n",
    "print(program[0], program[1])\n"
   ],
   "metadata": {
    "collapsed": false,
    "ExecuteTime": {
     "end_time": "2025-05-12T23:21:49.891646Z",
     "start_time": "2025-05-12T23:21:49.883212Z"
    }
   },
   "outputs": [
    {
     "name": "stdout",
     "output_type": "stream",
     "text": [
      "123.0 456.0\n"
     ]
    }
   ],
   "execution_count": 10
  },
  {
   "cell_type": "markdown",
   "source": "The result of a program buffer is obtained by calling `compute`.",
   "metadata": {
    "collapsed": false
   }
  },
  {
   "cell_type": "code",
   "source": [
    "program.compute()"
   ],
   "metadata": {
    "collapsed": false,
    "ExecuteTime": {
     "end_time": "2025-05-12T23:21:49.901534Z",
     "start_time": "2025-05-12T23:21:49.897067Z"
    }
   },
   "outputs": [
    {
     "data": {
      "text/plain": [
       "array([56211.])"
      ]
     },
     "execution_count": 11,
     "metadata": {},
     "output_type": "execute_result"
    }
   ],
   "execution_count": 11
  },
  {
   "cell_type": "markdown",
   "source": "The last computed results are always available in the results buffer.",
   "metadata": {
    "collapsed": false
   }
  },
  {
   "cell_type": "code",
   "source": "program.results",
   "metadata": {
    "collapsed": false,
    "ExecuteTime": {
     "end_time": "2025-05-12T23:21:49.912049Z",
     "start_time": "2025-05-12T23:21:49.906507Z"
    }
   },
   "outputs": [
    {
     "data": {
      "text/plain": [
       "array([56211.])"
      ]
     },
     "execution_count": 12,
     "metadata": {},
     "output_type": "execute_result"
    }
   ],
   "execution_count": 12
  },
  {
   "cell_type": "markdown",
   "source": [
    "In general, a program can have multiple results, which is why results are available as a numpy array.\n",
    "\n",
    "The following example returns two values. These are from circuit nodes `m` and `a`."
   ],
   "metadata": {
    "collapsed": false
   }
  },
  {
   "cell_type": "code",
   "source": "program2 = ProgramBuffer(DEFAULT_CIRCUIT_COMPILER(m, a))",
   "metadata": {
    "collapsed": false,
    "ExecuteTime": {
     "end_time": "2025-05-12T23:21:49.928513Z",
     "start_time": "2025-05-12T23:21:49.917472Z"
    }
   },
   "outputs": [],
   "execution_count": 13
  },
  {
   "cell_type": "code",
   "source": [
    "program2.number_of_results"
   ],
   "metadata": {
    "collapsed": false,
    "ExecuteTime": {
     "end_time": "2025-05-12T23:21:49.937943Z",
     "start_time": "2025-05-12T23:21:49.933578Z"
    }
   },
   "outputs": [
    {
     "data": {
      "text/plain": [
       "2"
      ]
     },
     "execution_count": 14,
     "metadata": {},
     "output_type": "execute_result"
    }
   ],
   "execution_count": 14
  },
  {
   "cell_type": "code",
   "source": [
    "program2[0] = 30\n",
    "program2[1] = 50"
   ],
   "metadata": {
    "collapsed": false,
    "ExecuteTime": {
     "end_time": "2025-05-12T23:21:49.946800Z",
     "start_time": "2025-05-12T23:21:49.943205Z"
    }
   },
   "outputs": [],
   "execution_count": 15
  },
  {
   "cell_type": "code",
   "source": [
    "program2.compute()"
   ],
   "metadata": {
    "collapsed": false,
    "ExecuteTime": {
     "end_time": "2025-05-12T23:21:49.956771Z",
     "start_time": "2025-05-12T23:21:49.951848Z"
    }
   },
   "outputs": [
    {
     "data": {
      "text/plain": [
       "array([1500., 1623.])"
      ]
     },
     "execution_count": 16,
     "metadata": {},
     "output_type": "execute_result"
    }
   ],
   "execution_count": 16
  },
  {
   "cell_type": "markdown",
   "source": [
    "Whether a program is producing a single result or an array of results, the results are always available as an array, using 'results'."
   ],
   "metadata": {
    "collapsed": false
   }
  },
  {
   "cell_type": "code",
   "source": [
    "program.results"
   ],
   "metadata": {
    "collapsed": false,
    "ExecuteTime": {
     "end_time": "2025-05-12T23:21:49.972164Z",
     "start_time": "2025-05-12T23:21:49.961942Z"
    }
   },
   "outputs": [
    {
     "data": {
      "text/plain": [
       "array([56211.])"
      ]
     },
     "execution_count": 17,
     "metadata": {},
     "output_type": "execute_result"
    }
   ],
   "execution_count": 17
  },
  {
   "cell_type": "code",
   "source": [
    "program2.results"
   ],
   "metadata": {
    "collapsed": false,
    "ExecuteTime": {
     "end_time": "2025-05-12T23:21:50.044148Z",
     "start_time": "2025-05-12T23:21:50.039942Z"
    }
   },
   "outputs": [
    {
     "data": {
      "text/plain": [
       "array([1500., 1623.])"
      ]
     },
     "execution_count": 18,
     "metadata": {},
     "output_type": "execute_result"
    }
   ],
   "execution_count": 18
  },
  {
   "cell_type": "markdown",
   "source": "A program buffer is not thread safe because access to the buffers is unprotected. However, you can easily clone a program buffer which uses the same raw program but different memory allocations for buffers. Consequently, cloned program buffers can be safely set and computed in different threads.",
   "metadata": {
    "collapsed": false
   }
  },
  {
   "cell_type": "code",
   "source": [
    "program3 = program2.clone()\n",
    "\n",
    "program3.compute()"
   ],
   "metadata": {
    "collapsed": false,
    "ExecuteTime": {
     "end_time": "2025-05-12T23:21:50.120028Z",
     "start_time": "2025-05-12T23:21:50.108721Z"
    }
   },
   "outputs": [
    {
     "data": {
      "text/plain": [
       "array([1500., 1623.])"
      ]
     },
     "execution_count": 19,
     "metadata": {},
     "output_type": "execute_result"
    }
   ],
   "execution_count": 19
  }
 ],
 "metadata": {
  "kernelspec": {
   "display_name": "Python 3",
   "language": "python",
   "name": "python3"
  },
  "language_info": {
   "codemirror_mode": {
    "name": "ipython",
    "version": 2
   },
   "file_extension": ".py",
   "mimetype": "text/x-python",
   "name": "python",
   "nbconvert_exporter": "python",
   "pygments_lexer": "ipython2",
   "version": "2.7.6"
  }
 },
 "nbformat": 4,
 "nbformat_minor": 0
}
