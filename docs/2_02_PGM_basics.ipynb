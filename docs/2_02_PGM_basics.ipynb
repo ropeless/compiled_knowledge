{
 "cells": [
  {
   "cell_type": "markdown",
   "metadata": {
    "collapsed": false
   },
   "source": [
    "# PGM Basics"
   ]
  },
  {
   "cell_type": "markdown",
   "metadata": {
    "collapsed": false
   },
   "source": [
    "A probabilistic graphical model in Compiled Knowledge (CK) is represented by an object of type `PGM`."
   ]
  },
  {
   "cell_type": "code",
   "execution_count": 1,
   "metadata": {
    "ExecuteTime": {
     "end_time": "2025-07-04T04:40:41.109121Z",
     "start_time": "2025-07-04T04:40:41.027169Z"
    },
    "execution": {
     "iopub.execute_input": "2025-07-18T00:50:51.935060Z",
     "iopub.status.busy": "2025-07-18T00:50:51.935060Z",
     "iopub.status.idle": "2025-07-18T00:50:51.947669Z",
     "shell.execute_reply": "2025-07-18T00:50:51.947669Z"
    }
   },
   "outputs": [],
   "source": [
    "from ck.pgm import PGM\n",
    "\n",
    "pgm = PGM()"
   ]
  },
  {
   "cell_type": "markdown",
   "metadata": {
    "collapsed": false
   },
   "source": [
    "## Random variables ##\n",
    "\n",
    "Random variables are added to a PGM. Each random variable has a name and number of states. The states are indexed from zero.\n",
    "\n",
    "A random variable in CK is represented by an object of type `RandomVariable`. A random variable of a PGM is created with a name and a number of states."
   ]
  },
  {
   "cell_type": "code",
   "execution_count": 2,
   "metadata": {
    "ExecuteTime": {
     "end_time": "2025-07-04T04:40:41.328125Z",
     "start_time": "2025-07-04T04:40:41.324396Z"
    },
    "collapsed": false,
    "execution": {
     "iopub.execute_input": "2025-07-18T00:50:51.949531Z",
     "iopub.status.busy": "2025-07-18T00:50:51.949531Z",
     "iopub.status.idle": "2025-07-18T00:50:51.952600Z",
     "shell.execute_reply": "2025-07-18T00:50:51.952600Z"
    }
   },
   "outputs": [],
   "source": [
    "rain      = pgm.new_rv('rain', 2)       # 0=not raining  1=raining\n",
    "sprinkler = pgm.new_rv('sprinkler', 2)  # 0=sprinkler off  1=sprinkler on\n",
    "grass     = pgm.new_rv('grass', 3)      # 0=grass dry  1=grass damp  2=grass wet"
   ]
  },
  {
   "cell_type": "markdown",
   "metadata": {
    "collapsed": false
   },
   "source": [
    "The name of a random variable is access by its `name` property, and the number of states by `len`."
   ]
  },
  {
   "cell_type": "code",
   "execution_count": 3,
   "metadata": {
    "ExecuteTime": {
     "end_time": "2025-07-04T04:40:41.342817Z",
     "start_time": "2025-07-04T04:40:41.338988Z"
    },
    "collapsed": false,
    "execution": {
     "iopub.execute_input": "2025-07-18T00:50:51.954610Z",
     "iopub.status.busy": "2025-07-18T00:50:51.954610Z",
     "iopub.status.idle": "2025-07-18T00:50:51.957357Z",
     "shell.execute_reply": "2025-07-18T00:50:51.957357Z"
    }
   },
   "outputs": [
    {
     "name": "stdout",
     "output_type": "stream",
     "text": [
      "Random variable rain has 2 states.\n"
     ]
    }
   ],
   "source": [
    "print('Random variable', rain.name, 'has', len(rain), 'states.')"
   ]
  },
  {
   "cell_type": "markdown",
   "metadata": {
    "collapsed": false
   },
   "source": [
    "Every random variable has an index (`idx`), which is its location in the PGM array of random variables."
   ]
  },
  {
   "cell_type": "code",
   "execution_count": 4,
   "metadata": {
    "ExecuteTime": {
     "end_time": "2025-07-04T04:40:41.389324Z",
     "start_time": "2025-07-04T04:40:41.384516Z"
    },
    "collapsed": false,
    "execution": {
     "iopub.execute_input": "2025-07-18T00:50:51.984612Z",
     "iopub.status.busy": "2025-07-18T00:50:51.984612Z",
     "iopub.status.idle": "2025-07-18T00:50:51.988674Z",
     "shell.execute_reply": "2025-07-18T00:50:51.988346Z"
    }
   },
   "outputs": [
    {
     "name": "stdout",
     "output_type": "stream",
     "text": [
      "0 1 2\n"
     ]
    }
   ],
   "source": [
    "print(rain.idx, sprinkler.idx, grass.idx)"
   ]
  },
  {
   "cell_type": "markdown",
   "metadata": {
    "collapsed": false
   },
   "source": [
    "The array of PGM random variables is called `rvs`."
   ]
  },
  {
   "cell_type": "code",
   "execution_count": 5,
   "metadata": {
    "ExecuteTime": {
     "end_time": "2025-07-04T04:40:41.420320Z",
     "start_time": "2025-07-04T04:40:41.416011Z"
    },
    "collapsed": false,
    "execution": {
     "iopub.execute_input": "2025-07-18T00:50:51.989680Z",
     "iopub.status.busy": "2025-07-18T00:50:51.989680Z",
     "iopub.status.idle": "2025-07-18T00:50:51.992864Z",
     "shell.execute_reply": "2025-07-18T00:50:51.992864Z"
    }
   },
   "outputs": [
    {
     "name": "stdout",
     "output_type": "stream",
     "text": [
      "rain sprinkler grass\n"
     ]
    }
   ],
   "source": [
    "print(pgm.rvs[0], pgm.rvs[1], pgm.rvs[2])"
   ]
  },
  {
   "cell_type": "markdown",
   "metadata": {
    "collapsed": false
   },
   "source": [
    "A random variable can be treated as a sequence of indicators. Each indicator is of type `Indicator`.\n",
    "An indicator represent the proposition that a particular random variable is in a particular state.\n",
    "\n",
    "For example, the indicator for 'sprinkler' = 'on' ..."
   ]
  },
  {
   "cell_type": "code",
   "execution_count": 6,
   "metadata": {
    "ExecuteTime": {
     "end_time": "2025-07-04T04:40:41.446841Z",
     "start_time": "2025-07-04T04:40:41.439688Z"
    },
    "collapsed": false,
    "execution": {
     "iopub.execute_input": "2025-07-18T00:50:51.994869Z",
     "iopub.status.busy": "2025-07-18T00:50:51.994869Z",
     "iopub.status.idle": "2025-07-18T00:50:51.999343Z",
     "shell.execute_reply": "2025-07-18T00:50:51.999343Z"
    }
   },
   "outputs": [
    {
     "data": {
      "text/plain": [
       "Indicator(rv_idx=1, state_idx=1)"
      ]
     },
     "execution_count": 6,
     "metadata": {},
     "output_type": "execute_result"
    }
   ],
   "source": [
    "sprinkler[1]"
   ]
  },
  {
   "cell_type": "markdown",
   "metadata": {
    "collapsed": false
   },
   "source": [
    "An indicator in CK is a simple, hashable object. However, a PGM provides a way to render an indicator as a human-readable string."
   ]
  },
  {
   "cell_type": "code",
   "execution_count": 7,
   "metadata": {
    "ExecuteTime": {
     "end_time": "2025-07-04T04:40:41.485513Z",
     "start_time": "2025-07-04T04:40:41.481140Z"
    },
    "collapsed": false,
    "execution": {
     "iopub.execute_input": "2025-07-18T00:50:52.001347Z",
     "iopub.status.busy": "2025-07-18T00:50:52.001347Z",
     "iopub.status.idle": "2025-07-18T00:50:52.004529Z",
     "shell.execute_reply": "2025-07-18T00:50:52.004529Z"
    }
   },
   "outputs": [
    {
     "data": {
      "text/plain": [
       "'sprinkler=1'"
      ]
     },
     "execution_count": 7,
     "metadata": {},
     "output_type": "execute_result"
    }
   ],
   "source": [
    "pgm.indicator_str(sprinkler[1])"
   ]
  },
  {
   "cell_type": "markdown",
   "metadata": {
    "collapsed": false
   },
   "source": [
    "This works for multiple indicators too."
   ]
  },
  {
   "cell_type": "code",
   "execution_count": 8,
   "metadata": {
    "ExecuteTime": {
     "end_time": "2025-07-04T04:40:41.524769Z",
     "start_time": "2025-07-04T04:40:41.520743Z"
    },
    "collapsed": false,
    "execution": {
     "iopub.execute_input": "2025-07-18T00:50:52.006565Z",
     "iopub.status.busy": "2025-07-18T00:50:52.005536Z",
     "iopub.status.idle": "2025-07-18T00:50:52.009589Z",
     "shell.execute_reply": "2025-07-18T00:50:52.009589Z"
    }
   },
   "outputs": [
    {
     "data": {
      "text/plain": [
       "'sprinkler=1, grass=2, rain=0'"
      ]
     },
     "execution_count": 8,
     "metadata": {},
     "output_type": "execute_result"
    }
   ],
   "source": [
    "pgm.indicator_str(sprinkler[1], grass[2], rain[0])"
   ]
  },
  {
   "cell_type": "markdown",
   "metadata": {
    "collapsed": false
   },
   "source": [
    "## Instances ##\n",
    "\n",
    "Once PGM random variables are defined, it is possible to iterate over all possible worlds. Each possible world is called an _instance_. An instance is an array of states indices, where the array is co-indexed with the array of random variables."
   ]
  },
  {
   "cell_type": "code",
   "execution_count": 9,
   "metadata": {
    "ExecuteTime": {
     "end_time": "2025-07-04T04:40:41.565929Z",
     "start_time": "2025-07-04T04:40:41.561689Z"
    },
    "collapsed": false,
    "execution": {
     "iopub.execute_input": "2025-07-18T00:50:52.011594Z",
     "iopub.status.busy": "2025-07-18T00:50:52.010594Z",
     "iopub.status.idle": "2025-07-18T00:50:52.014440Z",
     "shell.execute_reply": "2025-07-18T00:50:52.014440Z"
    }
   },
   "outputs": [
    {
     "name": "stdout",
     "output_type": "stream",
     "text": [
      "rain sprinkler grass\n",
      "(0, 0, 0)\n",
      "(0, 0, 1)\n",
      "(0, 0, 2)\n",
      "(0, 1, 0)\n",
      "(0, 1, 1)\n",
      "(0, 1, 2)\n",
      "(1, 0, 0)\n",
      "(1, 0, 1)\n",
      "(1, 0, 2)\n",
      "(1, 1, 0)\n",
      "(1, 1, 1)\n",
      "(1, 1, 2)\n"
     ]
    }
   ],
   "source": [
    "print(*pgm.rvs)\n",
    "\n",
    "for inst in pgm.instances():\n",
    "    print(inst)"
   ]
  },
  {
   "cell_type": "markdown",
   "metadata": {
    "collapsed": false
   },
   "source": [
    "We can also iterate over the instances as indicators."
   ]
  },
  {
   "cell_type": "code",
   "execution_count": 10,
   "metadata": {
    "ExecuteTime": {
     "end_time": "2025-07-04T04:40:41.594988Z",
     "start_time": "2025-07-04T04:40:41.591567Z"
    },
    "collapsed": false,
    "execution": {
     "iopub.execute_input": "2025-07-18T00:50:52.016445Z",
     "iopub.status.busy": "2025-07-18T00:50:52.016445Z",
     "iopub.status.idle": "2025-07-18T00:50:52.019274Z",
     "shell.execute_reply": "2025-07-18T00:50:52.019274Z"
    }
   },
   "outputs": [
    {
     "name": "stdout",
     "output_type": "stream",
     "text": [
      "(Indicator(rv_idx=0, state_idx=0), Indicator(rv_idx=1, state_idx=0), Indicator(rv_idx=2, state_idx=0))\n",
      "(Indicator(rv_idx=0, state_idx=0), Indicator(rv_idx=1, state_idx=0), Indicator(rv_idx=2, state_idx=1))\n",
      "(Indicator(rv_idx=0, state_idx=0), Indicator(rv_idx=1, state_idx=0), Indicator(rv_idx=2, state_idx=2))\n",
      "(Indicator(rv_idx=0, state_idx=0), Indicator(rv_idx=1, state_idx=1), Indicator(rv_idx=2, state_idx=0))\n",
      "(Indicator(rv_idx=0, state_idx=0), Indicator(rv_idx=1, state_idx=1), Indicator(rv_idx=2, state_idx=1))\n",
      "(Indicator(rv_idx=0, state_idx=0), Indicator(rv_idx=1, state_idx=1), Indicator(rv_idx=2, state_idx=2))\n",
      "(Indicator(rv_idx=0, state_idx=1), Indicator(rv_idx=1, state_idx=0), Indicator(rv_idx=2, state_idx=0))\n",
      "(Indicator(rv_idx=0, state_idx=1), Indicator(rv_idx=1, state_idx=0), Indicator(rv_idx=2, state_idx=1))\n",
      "(Indicator(rv_idx=0, state_idx=1), Indicator(rv_idx=1, state_idx=0), Indicator(rv_idx=2, state_idx=2))\n",
      "(Indicator(rv_idx=0, state_idx=1), Indicator(rv_idx=1, state_idx=1), Indicator(rv_idx=2, state_idx=0))\n",
      "(Indicator(rv_idx=0, state_idx=1), Indicator(rv_idx=1, state_idx=1), Indicator(rv_idx=2, state_idx=1))\n",
      "(Indicator(rv_idx=0, state_idx=1), Indicator(rv_idx=1, state_idx=1), Indicator(rv_idx=2, state_idx=2))\n"
     ]
    }
   ],
   "source": [
    "for inst in pgm.instances_as_indicators():\n",
    "    print(inst)"
   ]
  },
  {
   "cell_type": "markdown",
   "metadata": {
    "collapsed": false
   },
   "source": [
    "We can pretty-print the instances using `indicator_str`."
   ]
  },
  {
   "cell_type": "code",
   "execution_count": 11,
   "metadata": {
    "ExecuteTime": {
     "end_time": "2025-07-04T04:40:41.630941Z",
     "start_time": "2025-07-04T04:40:41.627573Z"
    },
    "collapsed": false,
    "execution": {
     "iopub.execute_input": "2025-07-18T00:50:52.021280Z",
     "iopub.status.busy": "2025-07-18T00:50:52.020280Z",
     "iopub.status.idle": "2025-07-18T00:50:52.024004Z",
     "shell.execute_reply": "2025-07-18T00:50:52.023899Z"
    }
   },
   "outputs": [
    {
     "name": "stdout",
     "output_type": "stream",
     "text": [
      "rain=0, sprinkler=0, grass=0\n",
      "rain=0, sprinkler=0, grass=1\n",
      "rain=0, sprinkler=0, grass=2\n",
      "rain=0, sprinkler=1, grass=0\n",
      "rain=0, sprinkler=1, grass=1\n",
      "rain=0, sprinkler=1, grass=2\n",
      "rain=1, sprinkler=0, grass=0\n",
      "rain=1, sprinkler=0, grass=1\n",
      "rain=1, sprinkler=0, grass=2\n",
      "rain=1, sprinkler=1, grass=0\n",
      "rain=1, sprinkler=1, grass=1\n",
      "rain=1, sprinkler=1, grass=2\n"
     ]
    }
   ],
   "source": [
    "for inst in pgm.instances_as_indicators():\n",
    "    print(pgm.indicator_str(*inst))"
   ]
  },
  {
   "cell_type": "markdown",
   "metadata": {
    "collapsed": false
   },
   "source": [
    "## Factors ##\n",
    "\n",
    "Factors are added to a PGM by creating objects of type `Factor` using method `PGM.new_factor`.\n",
    "\n",
    "When a PGM is to represent a Bayesian network, each factor is a conditional probability table (CPT). By convention, the child random variable of a CPT as first in the list of a factor's random variables."
   ]
  },
  {
   "cell_type": "code",
   "execution_count": 12,
   "metadata": {
    "ExecuteTime": {
     "end_time": "2025-07-04T04:40:41.661450Z",
     "start_time": "2025-07-04T04:40:41.658324Z"
    },
    "collapsed": false,
    "execution": {
     "iopub.execute_input": "2025-07-18T00:50:52.025990Z",
     "iopub.status.busy": "2025-07-18T00:50:52.024990Z",
     "iopub.status.idle": "2025-07-18T00:50:52.028443Z",
     "shell.execute_reply": "2025-07-18T00:50:52.028443Z"
    }
   },
   "outputs": [],
   "source": [
    "factor_g = pgm.new_factor(grass, rain, sprinkler)          # same as a CPT with child ‘grass’\n",
    "factor_r = pgm.new_factor(rain)\n",
    "factor_s = pgm.new_factor(sprinkler)"
   ]
  },
  {
   "cell_type": "markdown",
   "metadata": {
    "collapsed": false
   },
   "source": [
    "In general, a factor defines a real number for each possible combination of states of the factor's random variables. In CK, the function from the combination of states to real number is represented by an object of type `PotentialFunction`. There are many kinds of `PotentialFunction` in CK.\n",
    "\n",
    "When a factor is first created it is supplied with a `ZeroPotentialFunction` which returns zero of every possible combination of states. This can easily be replaced with a `DensePotentialFunction` using `set_dense()`. A `DensePotentialFunction` is a (multidimensional) array of parameter values, one for each possible combination of states."
   ]
  },
  {
   "cell_type": "code",
   "execution_count": 13,
   "metadata": {
    "ExecuteTime": {
     "end_time": "2025-07-04T04:40:41.681199Z",
     "start_time": "2025-07-04T04:40:41.676566Z"
    },
    "collapsed": false,
    "execution": {
     "iopub.execute_input": "2025-07-18T00:50:52.030555Z",
     "iopub.status.busy": "2025-07-18T00:50:52.029554Z",
     "iopub.status.idle": "2025-07-18T00:50:52.033678Z",
     "shell.execute_reply": "2025-07-18T00:50:52.033678Z"
    }
   },
   "outputs": [],
   "source": [
    "from ck.pgm import DensePotentialFunction  # included merely to show types\n",
    "\n",
    "f_g: DensePotentialFunction = factor_g.set_dense()\n",
    "f_r: DensePotentialFunction = factor_r.set_dense()\n",
    "f_s: DensePotentialFunction = factor_s.set_dense()\n",
    "\n",
    "f_r[0] = 0.8\n",
    "f_r[1] = 0.2\n",
    "\n",
    "f_s[0] = 0.9\n",
    "f_s[1] = 0.1\n",
    "\n",
    "f_g[0, 0, 0] = 0.90\n",
    "f_g[0, 0, 1] = 0.01\n",
    "f_g[0, 1, 0] = 0.02\n",
    "f_g[0, 1, 1] = 0.01\n",
    "# and so on..."
   ]
  },
  {
   "cell_type": "markdown",
   "metadata": {
    "collapsed": false
   },
   "source": [
    "Alternatively, the parameters of a dense potential function may be set all at once, using `set_flat(...)`."
   ]
  },
  {
   "cell_type": "code",
   "execution_count": 14,
   "metadata": {
    "ExecuteTime": {
     "end_time": "2025-07-04T04:40:41.697496Z",
     "start_time": "2025-07-04T04:40:41.693886Z"
    },
    "collapsed": false,
    "execution": {
     "iopub.execute_input": "2025-07-18T00:50:52.035772Z",
     "iopub.status.busy": "2025-07-18T00:50:52.035772Z",
     "iopub.status.idle": "2025-07-18T00:50:52.038823Z",
     "shell.execute_reply": "2025-07-18T00:50:52.038823Z"
    }
   },
   "outputs": [
    {
     "name": "stdout",
     "output_type": "stream",
     "text": [
      "0.95\n"
     ]
    }
   ],
   "source": [
    "f_r.set_flat(0.8, 0.2)\n",
    "f_s.set_flat(0.9, 0.1)\n",
    "f_g.set_flat(\n",
    "    # not raining,  raining       # rain\n",
    "    # off, on,      off,   on     # sprinkler\n",
    "    0.90, 0.01,     0.02, 0.01,   # grass dry\n",
    "    0.09, 0.01,     0.08, 0.04,   # grass damp\n",
    "    0.01, 0.98,     0.90, 0.95,   # grass wet\n",
    ")\n",
    "\n",
    "# Here is an example of the set value\n",
    "print(f_g[2, 1, 1])"
   ]
  },
  {
   "cell_type": "markdown",
   "metadata": {
    "collapsed": false
   },
   "source": [
    "## Weight of an instance ##\n",
    "\n",
    "A PGM provides a weight for each instance. It is the value of the product of all factors for that instance, hence is the method `PGM.value_product`. Note that the instance is co-indexed with the PGM random variables."
   ]
  },
  {
   "cell_type": "code",
   "execution_count": 15,
   "metadata": {
    "ExecuteTime": {
     "end_time": "2025-07-04T04:40:41.734731Z",
     "start_time": "2025-07-04T04:40:41.730829Z"
    },
    "collapsed": false,
    "execution": {
     "iopub.execute_input": "2025-07-18T00:50:52.040926Z",
     "iopub.status.busy": "2025-07-18T00:50:52.039926Z",
     "iopub.status.idle": "2025-07-18T00:50:52.043877Z",
     "shell.execute_reply": "2025-07-18T00:50:52.043877Z"
    }
   },
   "outputs": [
    {
     "data": {
      "text/plain": [
       "0.014400000000000001"
      ]
     },
     "execution_count": 15,
     "metadata": {},
     "output_type": "execute_result"
    }
   ],
   "source": [
    "pgm.value_product([1, 0, 1])  # rain=1 sprinkler=0 grass=1"
   ]
  },
  {
   "cell_type": "markdown",
   "metadata": {
    "collapsed": false
   },
   "source": [
    "You can also calculate the weight of an instance by passing indicators instead. When using indicators, the order of the indicators is not important."
   ]
  },
  {
   "cell_type": "code",
   "execution_count": 16,
   "metadata": {
    "ExecuteTime": {
     "end_time": "2025-07-04T04:40:41.792941Z",
     "start_time": "2025-07-04T04:40:41.787638Z"
    },
    "collapsed": false,
    "execution": {
     "iopub.execute_input": "2025-07-18T00:50:52.045876Z",
     "iopub.status.busy": "2025-07-18T00:50:52.044877Z",
     "iopub.status.idle": "2025-07-18T00:50:52.048762Z",
     "shell.execute_reply": "2025-07-18T00:50:52.048762Z"
    }
   },
   "outputs": [
    {
     "data": {
      "text/plain": [
       "0.014400000000000001"
      ]
     },
     "execution_count": 16,
     "metadata": {},
     "output_type": "execute_result"
    }
   ],
   "source": [
    "\n",
    "pgm.value_product_indicators(rain[1], sprinkler[0], grass[1])"
   ]
  },
  {
   "cell_type": "markdown",
   "metadata": {
    "collapsed": false
   },
   "source": [
    "Here are the weights for all instances"
   ]
  },
  {
   "cell_type": "code",
   "execution_count": 17,
   "metadata": {
    "ExecuteTime": {
     "end_time": "2025-07-04T04:40:41.834825Z",
     "start_time": "2025-07-04T04:40:41.831196Z"
    },
    "collapsed": false,
    "execution": {
     "iopub.execute_input": "2025-07-18T00:50:52.050762Z",
     "iopub.status.busy": "2025-07-18T00:50:52.049761Z",
     "iopub.status.idle": "2025-07-18T00:50:52.053833Z",
     "shell.execute_reply": "2025-07-18T00:50:52.053833Z"
    }
   },
   "outputs": [
    {
     "name": "stdout",
     "output_type": "stream",
     "text": [
      "rain=0, sprinkler=0, grass=0 has weight 0.6480000000000001\n",
      "rain=0, sprinkler=0, grass=1 has weight 0.0648\n",
      "rain=0, sprinkler=0, grass=2 has weight 0.007200000000000001\n",
      "rain=0, sprinkler=1, grass=0 has weight 0.0008\n",
      "rain=0, sprinkler=1, grass=1 has weight 0.0008\n",
      "rain=0, sprinkler=1, grass=2 has weight 0.07840000000000001\n",
      "rain=1, sprinkler=0, grass=0 has weight 0.0036000000000000003\n",
      "rain=1, sprinkler=0, grass=1 has weight 0.014400000000000001\n",
      "rain=1, sprinkler=0, grass=2 has weight 0.16200000000000003\n",
      "rain=1, sprinkler=1, grass=0 has weight 0.0002\n",
      "rain=1, sprinkler=1, grass=1 has weight 0.0008\n",
      "rain=1, sprinkler=1, grass=2 has weight 0.019000000000000003\n"
     ]
    }
   ],
   "source": [
    "for inst in pgm.instances_as_indicators():\n",
    "    weight = pgm.value_product_indicators(*inst)\n",
    "    print(pgm.indicator_str(*inst), 'has weight', weight)"
   ]
  },
  {
   "cell_type": "markdown",
   "metadata": {
    "collapsed": false
   },
   "source": [
    "If random variable is not mentioned in the arguments to `value_product_indicators` then the result is the sum of the value product for each possible combination of states of the unmentioned random variables.\n",
    "\n",
    "Warning: this is potentially computationally expensive if the state space of the unmentioned random variables is large.\n",
    "\n",
    "In this example, `sprinkler` is not mentioned."
   ]
  },
  {
   "cell_type": "code",
   "execution_count": 18,
   "metadata": {
    "ExecuteTime": {
     "end_time": "2025-07-04T04:40:41.883006Z",
     "start_time": "2025-07-04T04:40:41.879556Z"
    },
    "collapsed": false,
    "execution": {
     "iopub.execute_input": "2025-07-18T00:50:52.055838Z",
     "iopub.status.busy": "2025-07-18T00:50:52.054838Z",
     "iopub.status.idle": "2025-07-18T00:50:52.058868Z",
     "shell.execute_reply": "2025-07-18T00:50:52.058868Z"
    }
   },
   "outputs": [
    {
     "data": {
      "text/plain": [
       "0.015200000000000002"
      ]
     },
     "execution_count": 18,
     "metadata": {},
     "output_type": "execute_result"
    }
   ],
   "source": [
    "pgm.value_product_indicators(rain[1], grass[1])"
   ]
  },
  {
   "cell_type": "markdown",
   "metadata": {
    "collapsed": false
   },
   "source": [
    "That is equivalent to summing over the states of `sprinker`."
   ]
  },
  {
   "cell_type": "code",
   "execution_count": 19,
   "metadata": {
    "ExecuteTime": {
     "end_time": "2025-07-04T04:40:41.919120Z",
     "start_time": "2025-07-04T04:40:41.914476Z"
    },
    "collapsed": false,
    "execution": {
     "iopub.execute_input": "2025-07-18T00:50:52.060873Z",
     "iopub.status.busy": "2025-07-18T00:50:52.059873Z",
     "iopub.status.idle": "2025-07-18T00:50:52.063999Z",
     "shell.execute_reply": "2025-07-18T00:50:52.063999Z"
    }
   },
   "outputs": [
    {
     "data": {
      "text/plain": [
       "0.015200000000000002"
      ]
     },
     "execution_count": 19,
     "metadata": {},
     "output_type": "execute_result"
    }
   ],
   "source": [
    "sum (\n",
    "    pgm.value_product_indicators(rain[1], grass[1], sprinkler[i])\n",
    "    for i in sprinkler.state_range()\n",
    ")"
   ]
  },
  {
   "cell_type": "markdown",
   "metadata": {},
   "source": [
    "If no indicators are mentioned, then this is equivalent to computing the partition function ($z$) of the PGM."
   ]
  },
  {
   "cell_type": "code",
   "execution_count": 20,
   "metadata": {
    "ExecuteTime": {
     "end_time": "2025-07-04T04:40:41.955373Z",
     "start_time": "2025-07-04T04:40:41.951381Z"
    },
    "execution": {
     "iopub.execute_input": "2025-07-18T00:50:52.066004Z",
     "iopub.status.busy": "2025-07-18T00:50:52.065004Z",
     "iopub.status.idle": "2025-07-18T00:50:52.068937Z",
     "shell.execute_reply": "2025-07-18T00:50:52.068937Z"
    }
   },
   "outputs": [
    {
     "data": {
      "text/plain": [
       "1.0000000000000002"
      ]
     },
     "execution_count": 20,
     "metadata": {},
     "output_type": "execute_result"
    }
   ],
   "source": [
    "pgm.value_product_indicators()  # compute the value of the partition function"
   ]
  },
  {
   "cell_type": "markdown",
   "metadata": {
    "collapsed": false
   },
   "source": [
    "## Compiling a PGM ##\n",
    "\n",
    "To perform complex queries on a probabilistic graphical model, CK requires that it be compiled into an object that can be queried. The most common object is a `WMCProgram` object, which is constructed in two steps.\n",
    "\n",
    "1. The PGM is compiled into a circuit, using a PGM compiler, creating a `PGMCircuit` object.\n",
    "2. The circuit is compiled into a program, using a circuit compiler, which is usually wrapped into some inferencing object to enable probabilistic queries (like `WMCProgram`).\n",
    "\n",
    "The rationale for compiling a PGM to a circuit is twofold. Firstly, the computational core of probabilistic queries is performing sums and products. An arithmetic circuit can represent those operations directly with any bookkeeping precalculated and other optimisations applied. Secondly, as long as the circuit is constructed to have certain properties (called _decomposable_ and _deterministic_) then summing out over random variables can be performed efficiently.\n",
    "\n",
    "The rationale for compiling a circuit to a program is similar. Firstly, calculating the values of an arithmetic circuit ultimately involves executing a series of step like load, store, sum, and multiply. A program represents these steps directly, with bookkeeping precalculated and other optimisations applied. Furthermore, some CK circuit compilers will compile a circuit to native machine code.\n",
    "\n",
    "There are many different implementations of PGM compiler and circuit compiler.\n",
    "The default PGM compiler is `ck.pgm_compiler.DEFAULT_PGM_COMPILER`.\n",
    "Often, compilation of a circuit into a program is done automatically when an inferencing object is constructed. This will use the default circuit compiler, available as `ck.circuit_compiler.DEFAULT_CIRCUIT_COMPILER`.\n",
    "\n",
    "In the following sample code, a `WMCProgram` object is created for probabilistic queries, us the default circuit compiler."
   ]
  },
  {
   "cell_type": "code",
   "execution_count": 21,
   "metadata": {
    "ExecuteTime": {
     "end_time": "2025-07-04T04:40:42.081843Z",
     "start_time": "2025-07-04T04:40:41.999487Z"
    },
    "collapsed": false,
    "execution": {
     "iopub.execute_input": "2025-07-18T00:50:52.070942Z",
     "iopub.status.busy": "2025-07-18T00:50:52.069942Z",
     "iopub.status.idle": "2025-07-18T00:50:52.152273Z",
     "shell.execute_reply": "2025-07-18T00:50:52.152273Z"
    }
   },
   "outputs": [],
   "source": [
    "from ck.pgm_compiler import DEFAULT_PGM_COMPILER as pgm_compiler\n",
    "from ck.pgm_circuit.wmc_program import WMCProgram\n",
    "from ck.pgm_circuit import PGMCircuit\n",
    "\n",
    "pgm_cct: PGMCircuit = pgm_compiler(pgm)  # Compile the PGM into an arithmetic circuit.\n",
    "\n",
    "wmc = WMCProgram(pgm_cct)     # Make a WMCProgram object, using the default circuit compiler"
   ]
  },
  {
   "cell_type": "markdown",
   "metadata": {
    "collapsed": false
   },
   "source": [
    "Now efficient probability queries are possible. Consider this query using the original PGM..."
   ]
  },
  {
   "cell_type": "code",
   "execution_count": 22,
   "metadata": {
    "ExecuteTime": {
     "end_time": "2025-07-04T04:40:42.096976Z",
     "start_time": "2025-07-04T04:40:42.093073Z"
    },
    "execution": {
     "iopub.execute_input": "2025-07-18T00:50:52.154277Z",
     "iopub.status.busy": "2025-07-18T00:50:52.154277Z",
     "iopub.status.idle": "2025-07-18T00:50:52.157453Z",
     "shell.execute_reply": "2025-07-18T00:50:52.157453Z"
    }
   },
   "outputs": [
    {
     "data": {
      "text/plain": [
       "0.20000000000000004"
      ]
     },
     "execution_count": 22,
     "metadata": {},
     "output_type": "execute_result"
    }
   ],
   "source": [
    "pgm.value_product_indicators(rain[1])"
   ]
  },
  {
   "cell_type": "code",
   "execution_count": 23,
   "metadata": {
    "ExecuteTime": {
     "end_time": "2025-07-04T04:40:44.691049Z",
     "start_time": "2025-07-04T04:40:42.144221Z"
    },
    "collapsed": false,
    "execution": {
     "iopub.execute_input": "2025-07-18T00:50:52.159458Z",
     "iopub.status.busy": "2025-07-18T00:50:52.158458Z",
     "iopub.status.idle": "2025-07-18T00:50:54.741651Z",
     "shell.execute_reply": "2025-07-18T00:50:54.741651Z"
    }
   },
   "outputs": [
    {
     "name": "stdout",
     "output_type": "stream",
     "text": [
      "31.7 μs ± 196 ns per loop (mean ± std. dev. of 7 runs, 10,000 loops each)\n"
     ]
    }
   ],
   "source": [
    "%timeit pgm.value_product_indicators(rain[1])"
   ]
  },
  {
   "cell_type": "markdown",
   "metadata": {
    "collapsed": false
   },
   "source": [
    "Here is the equivalent query using a `WMCProgram`."
   ]
  },
  {
   "cell_type": "code",
   "execution_count": 24,
   "metadata": {
    "ExecuteTime": {
     "end_time": "2025-07-04T04:40:44.719509Z",
     "start_time": "2025-07-04T04:40:44.714942Z"
    },
    "execution": {
     "iopub.execute_input": "2025-07-18T00:50:54.743679Z",
     "iopub.status.busy": "2025-07-18T00:50:54.743679Z",
     "iopub.status.idle": "2025-07-18T00:50:54.747735Z",
     "shell.execute_reply": "2025-07-18T00:50:54.747735Z"
    }
   },
   "outputs": [
    {
     "data": {
      "text/plain": [
       "0.2"
      ]
     },
     "execution_count": 24,
     "metadata": {},
     "output_type": "execute_result"
    }
   ],
   "source": [
    "wmc.wmc(rain[1])"
   ]
  },
  {
   "cell_type": "code",
   "execution_count": 25,
   "metadata": {
    "ExecuteTime": {
     "end_time": "2025-07-04T04:40:49.134731Z",
     "start_time": "2025-07-04T04:40:44.771248Z"
    },
    "collapsed": false,
    "execution": {
     "iopub.execute_input": "2025-07-18T00:50:54.749739Z",
     "iopub.status.busy": "2025-07-18T00:50:54.749739Z",
     "iopub.status.idle": "2025-07-18T00:50:59.029808Z",
     "shell.execute_reply": "2025-07-18T00:50:59.029808Z"
    }
   },
   "outputs": [
    {
     "name": "stdout",
     "output_type": "stream",
     "text": [
      "5.28 μs ± 17.2 ns per loop (mean ± std. dev. of 7 runs, 100,000 loops each)\n"
     ]
    }
   ],
   "source": [
    "%timeit wmc.wmc(rain[1])"
   ]
  },
  {
   "cell_type": "markdown",
   "metadata": {},
   "source": [
    "Here is the value of the partition function using the `WMCProgram`."
   ]
  },
  {
   "cell_type": "code",
   "execution_count": 26,
   "metadata": {
    "ExecuteTime": {
     "end_time": "2025-07-04T04:40:49.150324Z",
     "start_time": "2025-07-04T04:40:49.145046Z"
    },
    "execution": {
     "iopub.execute_input": "2025-07-18T00:50:59.031807Z",
     "iopub.status.busy": "2025-07-18T00:50:59.031807Z",
     "iopub.status.idle": "2025-07-18T00:50:59.035519Z",
     "shell.execute_reply": "2025-07-18T00:50:59.035519Z"
    }
   },
   "outputs": [
    {
     "data": {
      "text/plain": [
       "1.0"
      ]
     },
     "execution_count": 26,
     "metadata": {},
     "output_type": "execute_result"
    }
   ],
   "source": [
    "wmc.z"
   ]
  },
  {
   "cell_type": "markdown",
   "metadata": {},
   "source": [
    "For a small PGM there may be little difference in computation time. The difference can be significant for a large PGM."
   ]
  },
  {
   "cell_type": "markdown",
   "metadata": {
    "collapsed": false
   },
   "source": [
    "## Calculating probabilities ##\n",
    "\n",
    "A `WMCProgram` provides many kinds of probabilistic query. Here are some examples."
   ]
  },
  {
   "cell_type": "markdown",
   "metadata": {},
   "source": [
    "What is the probability of 'not raining' and 'sprinkler off' and 'grass damp'?\n"
   ]
  },
  {
   "cell_type": "code",
   "execution_count": 27,
   "metadata": {
    "ExecuteTime": {
     "end_time": "2025-07-04T04:40:49.182975Z",
     "start_time": "2025-07-04T04:40:49.178774Z"
    },
    "collapsed": false,
    "execution": {
     "iopub.execute_input": "2025-07-18T00:50:59.037519Z",
     "iopub.status.busy": "2025-07-18T00:50:59.037519Z",
     "iopub.status.idle": "2025-07-18T00:50:59.040896Z",
     "shell.execute_reply": "2025-07-18T00:50:59.040896Z"
    }
   },
   "outputs": [
    {
     "data": {
      "text/plain": [
       "0.0648"
      ]
     },
     "execution_count": 27,
     "metadata": {},
     "output_type": "execute_result"
    }
   ],
   "source": [
    "wmc.probability(rain[0], sprinkler[0], grass[1])"
   ]
  },
  {
   "cell_type": "markdown",
   "metadata": {
    "collapsed": false
   },
   "source": [
    "To make things clearer to read, we will define some states."
   ]
  },
  {
   "cell_type": "code",
   "execution_count": 28,
   "metadata": {
    "ExecuteTime": {
     "end_time": "2025-07-04T04:40:49.212724Z",
     "start_time": "2025-07-04T04:40:49.209018Z"
    },
    "collapsed": false,
    "execution": {
     "iopub.execute_input": "2025-07-18T00:50:59.042895Z",
     "iopub.status.busy": "2025-07-18T00:50:59.042895Z",
     "iopub.status.idle": "2025-07-18T00:50:59.046002Z",
     "shell.execute_reply": "2025-07-18T00:50:59.045895Z"
    }
   },
   "outputs": [],
   "source": [
    "# for rain\n",
    "not_raining = 0\n",
    "raining = 1\n",
    "\n",
    "# for sprinkler\n",
    "off = 0\n",
    "on = 1\n",
    "\n",
    "# for grass\n",
    "dry = 0\n",
    "damp = 1\n",
    "wet = 2"
   ]
  },
  {
   "cell_type": "markdown",
   "metadata": {
    "collapsed": false
   },
   "source": [
    "What is the probability of 'not raining' and 'sprinkler off' and 'grass damp'?"
   ]
  },
  {
   "cell_type": "code",
   "execution_count": 29,
   "metadata": {
    "ExecuteTime": {
     "end_time": "2025-07-04T04:40:49.271434Z",
     "start_time": "2025-07-04T04:40:49.266683Z"
    },
    "collapsed": false,
    "execution": {
     "iopub.execute_input": "2025-07-18T00:50:59.048002Z",
     "iopub.status.busy": "2025-07-18T00:50:59.047002Z",
     "iopub.status.idle": "2025-07-18T00:50:59.050857Z",
     "shell.execute_reply": "2025-07-18T00:50:59.050857Z"
    }
   },
   "outputs": [
    {
     "data": {
      "text/plain": [
       "0.0648"
      ]
     },
     "execution_count": 29,
     "metadata": {},
     "output_type": "execute_result"
    }
   ],
   "source": [
    "wmc.probability(rain[not_raining], sprinkler[off], grass[damp])"
   ]
  },
  {
   "cell_type": "markdown",
   "metadata": {
    "collapsed": false
   },
   "source": [
    "Here is how we can calculate a marginal probability.\n",
    "\n",
    "What is the marginal probability of 'grass damp'?"
   ]
  },
  {
   "cell_type": "code",
   "execution_count": 30,
   "metadata": {
    "ExecuteTime": {
     "end_time": "2025-07-04T04:40:49.318339Z",
     "start_time": "2025-07-04T04:40:49.313673Z"
    },
    "collapsed": false,
    "execution": {
     "iopub.execute_input": "2025-07-18T00:50:59.052953Z",
     "iopub.status.busy": "2025-07-18T00:50:59.051967Z",
     "iopub.status.idle": "2025-07-18T00:50:59.055896Z",
     "shell.execute_reply": "2025-07-18T00:50:59.055896Z"
    }
   },
   "outputs": [
    {
     "data": {
      "text/plain": [
       "0.2666"
      ]
     },
     "execution_count": 30,
     "metadata": {},
     "output_type": "execute_result"
    }
   ],
   "source": [
    "wmc.probability(grass[wet])"
   ]
  },
  {
   "cell_type": "markdown",
   "metadata": {
    "collapsed": false
   },
   "source": [
    "We can calculate a marginal probability distribution.\n",
    "\n",
    "What is the marginal probability distribution over sprinkler?"
   ]
  },
  {
   "cell_type": "code",
   "execution_count": 31,
   "metadata": {
    "ExecuteTime": {
     "end_time": "2025-07-04T04:40:49.348138Z",
     "start_time": "2025-07-04T04:40:49.343539Z"
    },
    "collapsed": false,
    "execution": {
     "iopub.execute_input": "2025-07-18T00:50:59.058005Z",
     "iopub.status.busy": "2025-07-18T00:50:59.057901Z",
     "iopub.status.idle": "2025-07-18T00:50:59.060794Z",
     "shell.execute_reply": "2025-07-18T00:50:59.060794Z"
    }
   },
   "outputs": [
    {
     "name": "stdout",
     "output_type": "stream",
     "text": [
      "[0.9 0.1]\n"
     ]
    }
   ],
   "source": [
    "marginal = wmc.marginal_distribution(sprinkler)\n",
    "print(marginal)"
   ]
  },
  {
   "cell_type": "markdown",
   "metadata": {
    "collapsed": false
   },
   "source": [
    "The result is a numpy array with probabilities co-indexed with the states of the given random variable.\n",
    "\n",
    "Therefore, we can pretty-print the result if desired."
   ]
  },
  {
   "cell_type": "code",
   "execution_count": 32,
   "metadata": {
    "ExecuteTime": {
     "end_time": "2025-07-04T04:40:49.384138Z",
     "start_time": "2025-07-04T04:40:49.380936Z"
    },
    "collapsed": false,
    "execution": {
     "iopub.execute_input": "2025-07-18T00:50:59.062798Z",
     "iopub.status.busy": "2025-07-18T00:50:59.062798Z",
     "iopub.status.idle": "2025-07-18T00:50:59.065507Z",
     "shell.execute_reply": "2025-07-18T00:50:59.065507Z"
    }
   },
   "outputs": [
    {
     "name": "stdout",
     "output_type": "stream",
     "text": [
      "sprinkler=0 marginal probability is 0.9\n",
      "sprinkler=1 marginal probability is 0.1\n"
     ]
    }
   ],
   "source": [
    "for state, pr in zip(sprinkler.states, marginal):\n",
    "    print(pgm.indicator_str(sprinkler[state]), 'marginal probability is', pr)"
   ]
  },
  {
   "cell_type": "markdown",
   "metadata": {
    "collapsed": false
   },
   "source": [
    "## Conditional probabilities ##\n",
    "\n",
    "Here is how you can calculate conditional probabilities with CK.\n",
    "\n",
    "What is the probability distribution of sprinkler 'on', given 'not raining' and 'grass wet'?\n",
    "\n",
    "A condition in CK is either an Indicator or a list/tuple of Indicators.\n"
   ]
  },
  {
   "cell_type": "code",
   "execution_count": 33,
   "metadata": {
    "ExecuteTime": {
     "end_time": "2025-07-04T04:40:49.429875Z",
     "start_time": "2025-07-04T04:40:49.426182Z"
    },
    "collapsed": false,
    "execution": {
     "iopub.execute_input": "2025-07-18T00:50:59.067512Z",
     "iopub.status.busy": "2025-07-18T00:50:59.067512Z",
     "iopub.status.idle": "2025-07-18T00:50:59.070759Z",
     "shell.execute_reply": "2025-07-18T00:50:59.070759Z"
    }
   },
   "outputs": [
    {
     "data": {
      "text/plain": [
       "0.9158878504672897"
      ]
     },
     "execution_count": 33,
     "metadata": {},
     "output_type": "execute_result"
    }
   ],
   "source": [
    "wmc.probability(sprinkler[on], condition=(rain[not_raining], grass[wet]))"
   ]
  },
  {
   "cell_type": "markdown",
   "metadata": {},
   "source": [
    "Semantically, the indicators of the given condition are grouped by random variable. The condition is interpreted as the conjunction of the groups, and the disjunction of the states within each group. For example, given condition for the Student PGM,\n",
    "```\n",
    "    grade('1'), intelligent('Yes'), grade(3)\n",
    "```\n",
    "then the condition interpretation is: (grade = 1 or grade = 3) and intelligent = Yes."
   ]
  },
  {
   "cell_type": "markdown",
   "metadata": {
    "collapsed": false
   },
   "source": [
    "Marginal distributions can also be conditioned.\n",
    "\n",
    "What is the marginal probability distribution over sprinkler, given 'not raining' and 'grass wet'?"
   ]
  },
  {
   "cell_type": "code",
   "execution_count": 34,
   "metadata": {
    "ExecuteTime": {
     "end_time": "2025-07-04T04:40:49.480807Z",
     "start_time": "2025-07-04T04:40:49.476536Z"
    },
    "collapsed": false,
    "execution": {
     "iopub.execute_input": "2025-07-18T00:50:59.072763Z",
     "iopub.status.busy": "2025-07-18T00:50:59.072763Z",
     "iopub.status.idle": "2025-07-18T00:50:59.075765Z",
     "shell.execute_reply": "2025-07-18T00:50:59.075765Z"
    }
   },
   "outputs": [
    {
     "name": "stdout",
     "output_type": "stream",
     "text": [
      "[0.08411215 0.91588785]\n"
     ]
    }
   ],
   "source": [
    "marginal = wmc.marginal_distribution(sprinkler, condition=(rain[not_raining], grass[wet]))\n",
    "print(marginal)"
   ]
  },
  {
   "cell_type": "markdown",
   "metadata": {
    "collapsed": false
   },
   "source": [
    "## Sampling a model ##\n",
    "\n",
    "Samples may be drawn from a PGM using a sampler, created from a `WMCProgram`.\n",
    "\n",
    "First create a sampler..."
   ]
  },
  {
   "cell_type": "code",
   "execution_count": 35,
   "metadata": {
    "ExecuteTime": {
     "end_time": "2025-07-04T04:40:49.521806Z",
     "start_time": "2025-07-04T04:40:49.518427Z"
    },
    "collapsed": false,
    "execution": {
     "iopub.execute_input": "2025-07-18T00:50:59.077770Z",
     "iopub.status.busy": "2025-07-18T00:50:59.076770Z",
     "iopub.status.idle": "2025-07-18T00:50:59.080095Z",
     "shell.execute_reply": "2025-07-18T00:50:59.080008Z"
    }
   },
   "outputs": [],
   "source": [
    "sampler = wmc.sample_direct()"
   ]
  },
  {
   "cell_type": "markdown",
   "metadata": {
    "collapsed": false
   },
   "source": [
    "A sampler provides an infinite iterator over instances.\n",
    "\n",
    "In this example we limit ourselves to 8 samples."
   ]
  },
  {
   "cell_type": "code",
   "execution_count": 36,
   "metadata": {
    "ExecuteTime": {
     "end_time": "2025-07-04T04:40:49.542402Z",
     "start_time": "2025-07-04T04:40:49.539081Z"
    },
    "collapsed": false,
    "execution": {
     "iopub.execute_input": "2025-07-18T00:50:59.082080Z",
     "iopub.status.busy": "2025-07-18T00:50:59.081080Z",
     "iopub.status.idle": "2025-07-18T00:50:59.084925Z",
     "shell.execute_reply": "2025-07-18T00:50:59.084925Z"
    }
   },
   "outputs": [
    {
     "name": "stdout",
     "output_type": "stream",
     "text": [
      "1 [0, 1, 2]\n",
      "2 [0, 0, 0]\n",
      "3 [1, 0, 2]\n",
      "4 [0, 0, 0]\n",
      "5 [0, 0, 0]\n",
      "6 [0, 0, 0]\n",
      "7 [0, 0, 0]\n",
      "8 [1, 0, 2]\n"
     ]
    }
   ],
   "source": [
    "for i, inst in enumerate(sampler, start=1):\n",
    "    print(i, inst)\n",
    "    if i == 8:\n",
    "        break"
   ]
  },
  {
   "cell_type": "markdown",
   "metadata": {
    "collapsed": false
   },
   "source": [
    "A simple way to take a limited number of samples is to use `take`."
   ]
  },
  {
   "cell_type": "code",
   "execution_count": 37,
   "metadata": {
    "ExecuteTime": {
     "end_time": "2025-07-04T04:40:49.582729Z",
     "start_time": "2025-07-04T04:40:49.578745Z"
    },
    "collapsed": false,
    "execution": {
     "iopub.execute_input": "2025-07-18T00:50:59.087034Z",
     "iopub.status.busy": "2025-07-18T00:50:59.086033Z",
     "iopub.status.idle": "2025-07-18T00:50:59.089845Z",
     "shell.execute_reply": "2025-07-18T00:50:59.089845Z"
    }
   },
   "outputs": [
    {
     "name": "stdout",
     "output_type": "stream",
     "text": [
      "[1, 0, 2]\n",
      "[1, 0, 2]\n",
      "[0, 0, 0]\n",
      "[0, 0, 0]\n",
      "[0, 0, 0]\n",
      "[0, 0, 0]\n",
      "[0, 0, 0]\n",
      "[0, 0, 0]\n"
     ]
    }
   ],
   "source": [
    "for inst in sampler.take(8):\n",
    "    print(inst)"
   ]
  },
  {
   "cell_type": "markdown",
   "metadata": {
    "collapsed": false
   },
   "source": [
    "## MAP queries ##\n",
    "\n",
    "We can perform MAP queries (maximum _a posteriori_), however, they are not efficient for large models with a `WMCProgram`. This is because the implementation typically performs an exhaustive search over the state space."
   ]
  },
  {
   "cell_type": "code",
   "execution_count": 38,
   "metadata": {
    "ExecuteTime": {
     "end_time": "2025-07-04T04:40:49.629084Z",
     "start_time": "2025-07-04T04:40:49.625878Z"
    },
    "collapsed": false,
    "execution": {
     "iopub.execute_input": "2025-07-18T00:50:59.091920Z",
     "iopub.status.busy": "2025-07-18T00:50:59.090849Z",
     "iopub.status.idle": "2025-07-18T00:50:59.094609Z",
     "shell.execute_reply": "2025-07-18T00:50:59.094609Z"
    }
   },
   "outputs": [
    {
     "name": "stdout",
     "output_type": "stream",
     "text": [
      "MAP(grass, sprinkler) = (0, 0), with probability 0.6516000000000001\n"
     ]
    }
   ],
   "source": [
    "pr, states = wmc.map(grass, sprinkler)\n",
    "print(f'MAP(grass, sprinkler) = {states}, with probability {pr}')"
   ]
  },
  {
   "cell_type": "markdown",
   "metadata": {
    "collapsed": false
   },
   "source": [
    "## MPE queries ##\n",
    "\n",
    "We can efficiently answer MPE queries using an `MPEProgram` object, also created from a `PGMCircuit` object. This can be practical even for large models."
   ]
  },
  {
   "cell_type": "code",
   "execution_count": 39,
   "metadata": {
    "ExecuteTime": {
     "end_time": "2025-07-04T04:40:49.676935Z",
     "start_time": "2025-07-04T04:40:49.660469Z"
    },
    "collapsed": false,
    "execution": {
     "iopub.execute_input": "2025-07-18T00:50:59.096613Z",
     "iopub.status.busy": "2025-07-18T00:50:59.095613Z",
     "iopub.status.idle": "2025-07-18T00:50:59.111065Z",
     "shell.execute_reply": "2025-07-18T00:50:59.111065Z"
    }
   },
   "outputs": [
    {
     "name": "stdout",
     "output_type": "stream",
     "text": [
      "MPE = (0, 0, 0), with probability 0.6480000000000001\n"
     ]
    }
   ],
   "source": [
    "from ck.pgm_circuit.mpe_program import MPEProgram\n",
    "\n",
    "mpe_program = MPEProgram(pgm_cct)\n",
    "\n",
    "mpe_result = mpe_program.mpe()\n",
    "states = mpe_result.mpe\n",
    "pr = mpe_result.wmc / wmc.z\n",
    "\n",
    "print(f'MPE = {states}, with probability {pr}')\n"
   ]
  },
  {
   "cell_type": "markdown",
   "metadata": {
    "collapsed": false
   },
   "source": [
    "Here is the MPE, conditioned on grass = wet"
   ]
  },
  {
   "cell_type": "code",
   "execution_count": 40,
   "metadata": {
    "ExecuteTime": {
     "end_time": "2025-07-04T04:40:49.692147Z",
     "start_time": "2025-07-04T04:40:49.688976Z"
    },
    "collapsed": false,
    "execution": {
     "iopub.execute_input": "2025-07-18T00:50:59.113099Z",
     "iopub.status.busy": "2025-07-18T00:50:59.113099Z",
     "iopub.status.idle": "2025-07-18T00:50:59.115979Z",
     "shell.execute_reply": "2025-07-18T00:50:59.115979Z"
    }
   },
   "outputs": [
    {
     "name": "stdout",
     "output_type": "stream",
     "text": [
      "MPE(grass wet) = (1, 0, 2), with probability 0.6076519129782447\n"
     ]
    }
   ],
   "source": [
    "condition = grass[wet]\n",
    "mpe_result = mpe_program.mpe(condition)\n",
    "states = mpe_result.mpe\n",
    "pr = mpe_result.wmc / wmc.wmc(condition)\n",
    "\n",
    "print(f'MPE(grass wet) = {states}, with probability {pr}')"
   ]
  }
 ],
 "metadata": {
  "kernelspec": {
   "display_name": "Python 3",
   "language": "python",
   "name": "python3"
  },
  "language_info": {
   "codemirror_mode": {
    "name": "ipython",
    "version": 3
   },
   "file_extension": ".py",
   "mimetype": "text/x-python",
   "name": "python",
   "nbconvert_exporter": "python",
   "pygments_lexer": "ipython3",
   "version": "3.12.10"
  }
 },
 "nbformat": 4,
 "nbformat_minor": 0
}
