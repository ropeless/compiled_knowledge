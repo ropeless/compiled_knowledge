{
 "cells": [
  {
   "cell_type": "markdown",
   "metadata": {
    "collapsed": false
   },
   "source": [
    "# Example PGMs"
   ]
  },
  {
   "cell_type": "markdown",
   "metadata": {
    "collapsed": false
   },
   "source": [
    "In CK a collection of predefined PGMs is provided in the `ck.example` package.\n",
    "\n",
    "Here is the Cancer example PGM."
   ]
  },
  {
   "cell_type": "code",
   "execution_count": 1,
   "metadata": {
    "ExecuteTime": {
     "end_time": "2025-05-14T01:29:58.085741Z",
     "start_time": "2025-05-14T01:29:57.984580Z"
    },
    "collapsed": false,
    "execution": {
     "iopub.execute_input": "2025-08-10T21:42:29.659539Z",
     "iopub.status.busy": "2025-08-10T21:42:29.659539Z",
     "iopub.status.idle": "2025-08-10T21:42:29.696650Z",
     "shell.execute_reply": "2025-08-10T21:42:29.696650Z"
    }
   },
   "outputs": [
    {
     "name": "stdout",
     "output_type": "stream",
     "text": [
      "Cancer\n"
     ]
    }
   ],
   "source": [
    "from ck.example import Cancer\n",
    "\n",
    "pgm = Cancer()\n",
    "\n",
    "print(pgm.name)"
   ]
  },
  {
   "cell_type": "markdown",
   "metadata": {
    "collapsed": false
   },
   "source": [
    "Here are the random variables"
   ]
  },
  {
   "cell_type": "code",
   "execution_count": 2,
   "metadata": {
    "ExecuteTime": {
     "end_time": "2025-05-14T01:29:58.091824Z",
     "start_time": "2025-05-14T01:29:58.085741Z"
    },
    "collapsed": false,
    "execution": {
     "iopub.execute_input": "2025-08-10T21:42:29.724922Z",
     "iopub.status.busy": "2025-08-10T21:42:29.724922Z",
     "iopub.status.idle": "2025-08-10T21:42:29.728615Z",
     "shell.execute_reply": "2025-08-10T21:42:29.728411Z"
    }
   },
   "outputs": [
    {
     "name": "stdout",
     "output_type": "stream",
     "text": [
      "pollution ('low', 'high')\n",
      "smoker ('True', 'False')\n",
      "cancer ('True', 'False')\n",
      "xray ('positive', 'negative')\n",
      "dyspnoea ('True', 'False')\n"
     ]
    }
   ],
   "source": [
    "for rv in pgm.rvs:\n",
    "    print(rv, rv.states)"
   ]
  },
  {
   "cell_type": "markdown",
   "metadata": {
    "collapsed": false
   },
   "source": [
    "And here are the factors"
   ]
  },
  {
   "cell_type": "code",
   "execution_count": 3,
   "metadata": {
    "ExecuteTime": {
     "end_time": "2025-05-14T01:29:58.264722Z",
     "start_time": "2025-05-14T01:29:58.261836Z"
    },
    "collapsed": false,
    "execution": {
     "iopub.execute_input": "2025-08-10T21:42:29.730620Z",
     "iopub.status.busy": "2025-08-10T21:42:29.729620Z",
     "iopub.status.idle": "2025-08-10T21:42:29.732988Z",
     "shell.execute_reply": "2025-08-10T21:42:29.732988Z"
    }
   },
   "outputs": [
    {
     "name": "stdout",
     "output_type": "stream",
     "text": [
      "('pollution')\n",
      "('smoker')\n",
      "('cancer', 'pollution', 'smoker')\n",
      "('xray', 'cancer')\n",
      "('dyspnoea', 'cancer')\n"
     ]
    }
   ],
   "source": [
    "for factor in pgm.factors:\n",
    "    print(factor)"
   ]
  },
  {
   "cell_type": "markdown",
   "metadata": {},
   "source": [
    "An `RVMap` can be used to simplify access to the random variables of an example PBM."
   ]
  },
  {
   "cell_type": "code",
   "execution_count": 4,
   "metadata": {
    "ExecuteTime": {
     "end_time": "2025-05-14T01:29:58.278564Z",
     "start_time": "2025-05-14T01:29:58.274281Z"
    },
    "execution": {
     "iopub.execute_input": "2025-08-10T21:42:29.734992Z",
     "iopub.status.busy": "2025-08-10T21:42:29.733992Z",
     "iopub.status.idle": "2025-08-10T21:42:29.737897Z",
     "shell.execute_reply": "2025-08-10T21:42:29.737897Z"
    }
   },
   "outputs": [
    {
     "name": "stdout",
     "output_type": "stream",
     "text": [
      "pollution ('low', 'high')\n",
      "smoker ('True', 'False')\n",
      "cancer ('True', 'False')\n",
      "xray ('positive', 'negative')\n",
      "dyspnoea ('True', 'False')\n"
     ]
    }
   ],
   "source": [
    "from ck.pgm import RVMap, RandomVariable\n",
    "\n",
    "rvs = RVMap(pgm)\n",
    "\n",
    "print(rvs.pollution, rvs.pollution.states)\n",
    "print(rvs.smoker, rvs.smoker.states)\n",
    "print(rvs.cancer, rvs.cancer.states)\n",
    "print(rvs.xray, rvs.xray.states)\n",
    "print(rvs.dyspnoea, rvs.dyspnoea.states)"
   ]
  },
  {
   "cell_type": "markdown",
   "metadata": {
    "collapsed": false
   },
   "source": [
    "Here we perform some probabilistic queries on the example PGM."
   ]
  },
  {
   "cell_type": "code",
   "execution_count": 5,
   "metadata": {
    "ExecuteTime": {
     "end_time": "2025-05-14T01:29:58.384137Z",
     "start_time": "2025-05-14T01:29:58.284317Z"
    },
    "collapsed": false,
    "execution": {
     "iopub.execute_input": "2025-08-10T21:42:29.739901Z",
     "iopub.status.busy": "2025-08-10T21:42:29.738902Z",
     "iopub.status.idle": "2025-08-10T21:42:29.820975Z",
     "shell.execute_reply": "2025-08-10T21:42:29.820975Z"
    }
   },
   "outputs": [
    {
     "name": "stdout",
     "output_type": "stream",
     "text": [
      "dyspnoea marginals: low 0.9, high 0.09999999999999999\n",
      "dyspnoea marginals: True 0.3, False 0.7\n",
      "dyspnoea marginals: True 0.01163, False 0.98837\n",
      "dyspnoea marginals: positive 0.20814100000000002, negative 0.7918590000000001\n",
      "dyspnoea marginals: True 0.3040705, False 0.6959295\n"
     ]
    }
   ],
   "source": [
    "from ck.pgm_circuit.wmc_program import WMCProgram\n",
    "from ck.pgm_compiler import DEFAULT_PGM_COMPILER as pgm_compiler\n",
    "\n",
    "wmc = WMCProgram(pgm_compiler(pgm))\n",
    "\n",
    "def print_marginals(rv_to_print: RandomVariable):\n",
    "    marginals = wmc.marginal_distribution(rv_to_print)\n",
    "    marginals_str = ', '.join(f'{state} {pr}' for state, pr in zip(rv_to_print.states, marginals))\n",
    "    print(rv, 'marginals:', marginals_str)\n",
    "\n",
    "print_marginals(rvs.pollution)\n",
    "print_marginals(rvs.smoker)\n",
    "print_marginals(rvs.cancer)\n",
    "print_marginals(rvs.xray)\n",
    "print_marginals(rvs.dyspnoea)\n"
   ]
  },
  {
   "cell_type": "markdown",
   "metadata": {},
   "source": [
    "The example PGM classes are also accessible using the dictionary `ALL_EXAMPLES`. Note that an `ALL_EXAMPLES` value is a class, which needs to be instantiated to make a PGM."
   ]
  },
  {
   "cell_type": "code",
   "execution_count": 6,
   "metadata": {
    "ExecuteTime": {
     "end_time": "2025-05-14T01:29:58.462526Z",
     "start_time": "2025-05-14T01:29:58.457588Z"
    },
    "execution": {
     "iopub.execute_input": "2025-08-10T21:42:29.822979Z",
     "iopub.status.busy": "2025-08-10T21:42:29.821979Z",
     "iopub.status.idle": "2025-08-10T21:42:29.826778Z",
     "shell.execute_reply": "2025-08-10T21:42:29.826778Z"
    }
   },
   "outputs": [
    {
     "name": "stdout",
     "output_type": "stream",
     "text": [
      "Alarm\n",
      "MinVol Press PAP ExpCO2 HRBP ErrLowOutput HRSat HREKG ErrCauter BP History CO HR Catechol ArtCO2 TPR Anaphylaxis SaO2 PVSat FiO2 VentAlv VentLung VentTube Disconnect VentMach MinVolSet KinkedTube Shunt Intubation PulmEmbolus InsuffAnesth PCWP CVP StrokeVolume LVEDVolume LVFailure Hypovolemia\n"
     ]
    }
   ],
   "source": [
    "from ck.example import ALL_EXAMPLES\n",
    "from ck.pgm import PGM\n",
    "\n",
    "pgm_class = ALL_EXAMPLES['Alarm']\n",
    "\n",
    "pgm: PGM = pgm_class()\n",
    "\n",
    "print(pgm.name)\n",
    "print(*pgm.rvs)"
   ]
  },
  {
   "cell_type": "markdown",
   "metadata": {},
   "source": [
    " `ALL_EXAMPLES` can be used to list all available example PGMs. Some example PGMs are well known published Bayesian networks. Others are useful test cases."
   ]
  },
  {
   "cell_type": "code",
   "execution_count": 7,
   "metadata": {
    "ExecuteTime": {
     "end_time": "2025-05-14T01:29:58.485529Z",
     "start_time": "2025-05-14T01:29:58.481981Z"
    },
    "execution": {
     "iopub.execute_input": "2025-08-10T21:42:29.828783Z",
     "iopub.status.busy": "2025-08-10T21:42:29.827783Z",
     "iopub.status.idle": "2025-08-10T21:42:29.831304Z",
     "shell.execute_reply": "2025-08-10T21:42:29.831304Z"
    }
   },
   "outputs": [
    {
     "name": "stdout",
     "output_type": "stream",
     "text": [
      "1 Alarm\n",
      "2 BinaryClique\n",
      "3 BowTie\n",
      "4 Cancer\n",
      "5 Asia\n",
      "6 Chain\n",
      "7 Child\n",
      "8 Clique\n",
      "9 CNF_PGM\n",
      "10 DiamondSquare\n",
      "11 Earthquake\n",
      "12 Empty\n",
      "13 Hailfinder\n",
      "14 Hepar2\n",
      "15 Insurance\n",
      "16 Loop\n",
      "17 Mildew\n",
      "18 Munin\n",
      "19 Pathfinder\n",
      "20 Rectangle\n",
      "21 Rain\n",
      "22 Run\n",
      "23 Sachs\n",
      "24 Sprinkler\n",
      "25 Survey\n",
      "26 Star\n",
      "27 Stress\n",
      "28 Student\n",
      "29 TriangleSquare\n",
      "30 Truss\n"
     ]
    }
   ],
   "source": [
    "for i, name in enumerate(ALL_EXAMPLES, start=1):\n",
    "    print(i, name)"
   ]
  }
 ],
 "metadata": {
  "kernelspec": {
   "display_name": "Python 3",
   "language": "python",
   "name": "python3"
  },
  "language_info": {
   "codemirror_mode": {
    "name": "ipython",
    "version": 3
   },
   "file_extension": ".py",
   "mimetype": "text/x-python",
   "name": "python",
   "nbconvert_exporter": "python",
   "pygments_lexer": "ipython3",
   "version": "3.12.10"
  }
 },
 "nbformat": 4,
 "nbformat_minor": 0
}
