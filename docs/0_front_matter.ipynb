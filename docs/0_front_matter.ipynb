{
 "cells": [
  {
   "cell_type": "markdown",
   "source": [
    "# _front matter_"
   ],
   "metadata": {
    "collapsed": false,
    "pycharm": {
     "name": "#%% md\n"
    }
   }
  },
  {
   "cell_type": "markdown",
   "source": [
    "These Jupyter notebooks form a reference for the software known as Compiled Knowledge, abbreviated as CK.\n",
    "\n",
    "They are intended for users and developers of the software to help orient them to key design points and functionality of the software.\n",
    "\n",
    "Not all sections of this document will be relevant for all readers. As well as covering top-level organization and usage of Compiled Knowledge, these notebooks also covers some important implementation details.\n",
    "\n",
    "The primary code repository for Compiled Knowledge is https://github.com/ropeless/compiled_knowledge.\n",
    "\n",
    "For more information email [info@compiledknowledge.org](mailto:info@compiledknowledge.org).\n"
   ],
   "metadata": {
    "collapsed": false,
    "pycharm": {
     "name": "#%% md\n"
    }
   }
  }
 ],
 "metadata": {
  "kernelspec": {
   "display_name": "Python 3",
   "language": "python",
   "name": "python3"
  },
  "language_info": {
   "codemirror_mode": {
    "name": "ipython",
    "version": 2
   },
   "file_extension": ".py",
   "mimetype": "text/x-python",
   "name": "python",
   "nbconvert_exporter": "python",
   "pygments_lexer": "ipython2",
   "version": "2.7.6"
  }
 },
 "nbformat": 4,
 "nbformat_minor": 0
}
