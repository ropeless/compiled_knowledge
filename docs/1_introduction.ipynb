{
 "cells": [
  {
   "cell_type": "markdown",
   "metadata": {
    "collapsed": false
   },
   "source": [
    "# Introduction"
   ]
  },
  {
   "cell_type": "markdown",
   "metadata": {
    "collapsed": false
   },
   "source": [
    "## What is Compiled Knowledge\n",
    "\n",
    "Compiled Knowledge is a software library for compiling and querying discrete probabilistic graphical models. A probabilistic graphical model (PGM) represents probabilistic relationships across a collection of random variables. A discrete PGM is one where all random variables have a fixed, finite set of possible values.\n",
    "\n",
    "The library is provided as a Python package (called `ck`). There is an additional package containing demonstration Python scripts (called `ck_demos`).\n",
    "\n",
    "Most functionality is provided directly as Python code. However, some features of the library may require installation of third-party products and/or external compilation of non-Python components.\n",
    "\n",
    "### Aim\n",
    "\n",
    "The main aim of Compiled Knowledge is to provide efficient scripting environment (using Python) to create and use probabilistic graphical models.\n",
    "\n",
    "The scope is probabilistic graphical models as factor graphs of discrete random variables.\n",
    "\n",
    "The focus is on computationally efficient inference methods, via exploiting determinism in models (i.e., sparse potential functions and common parameters), and via compilation to arithmetic circuits and optimized programs of machine instructions.\n",
    "\n",
    "### Key features\n",
    "\n",
    "CK provides a streamlined PGM compilation process, with integrated PGM query types.\n",
    "\n",
    "Compilation exploits determinism from sparse and functional factors for optimized circuits and programs.\n",
    "\n",
    "Cython and LLVM acceleration is used for crucial computational elements.\n",
    "\n",
    "Many pre-built example PGMs are provided (especially standard Bayesian networks used within the research community).\n",
    "\n",
    "CK can integrate the ACE compiler provided by the Automated Reasoning Group, University of California Los Angeles. See http://reasoning.cs.ucla.edu/ace/ for more information about ACE."
   ]
  },
  {
   "cell_type": "markdown",
   "metadata": {
    "collapsed": false
   },
   "source": [
    "## Prerequisites\n",
    "\n",
    "The following are needed for using CK:\n",
    "* Python 3.12 or later,\n",
    "* numpy,\n",
    "* llvmlite.\n",
    "\n",
    "If developing CK, you may also need:\n",
    "* cython,\n",
    "* jupyter,\n",
    "* jupyter-book,\n",
    "* toml,\n",
    "* setuptools,\n",
    "* build,\n",
    "* cibuildwheel,\n",
    "* twine,\n",
    "* coverage.\n",
    "\n",
    "If integrating ACE into CK, you will need:\n",
    "* ACE jars and executables (see http://reasoning.cs.ucla.edu/ace/),\n",
    "* Java Runtime Environment (JRE) version 8 or higher.\n",
    "\n",
    "## Installing Compiled Knowledge\n",
    "\n",
    "Install CK into your Python environment using `pip` or other Python package manager, e.g.,\n",
    "```console\n",
    "pip install compiled-knowledge\n",
    "```\n",
    "\n",
    "You can enable CK to access ACE either by setting the OS environment variable `CK_ACE_LOCATION` to configure the path of\n",
    "the default ACE installation directory, or you can copy ACE to the default ACE installation directory using the following Python script.\n",
    "If `CK_ACE_LOCATION` is not set, then the default ACE installation directory is within the CK package itself.\n",
    "```python\n",
    "from ck.pgm_compiler.ace import copy_ace_to_default_location\n",
    "SOURCE_ACE: str = r'C:\\Research\\Ace\\ace_v3.0_windows'\n",
    "copy_ace_to_default_location(SOURCE_ACE)\n",
    "```\n",
    "\n",
    "You can run the standard demo scripts as a check of the installation using the following Python script.\n",
    "```python\n",
    "from ck_demos.all_demos import main\n",
    "main()\n",
    "```\n",
    "\n",
    "For more information refer to the project online documentation (https://compiled-knowledge.readthedocs.io/).\n"
   ]
  },
  {
   "cell_type": "markdown",
   "metadata": {
    "collapsed": false
   },
   "source": [
    "## Developing Compiled Knowledge\n",
    "\n",
    "A developer installation will normally clone the origin repository. The project source code is available at https://github.com/ropeless/compiled_knowledge.\n",
    "\n",
    "The project uses [poetry](https://python-poetry.org/docs/) to manage Python dependencies.\n",
    "\n",
    "1. Clone the repository, e.g., using `git clone https://github.com/ropeless/compiled_knowledge.git` or `git clone git@github.com:ropeless/compiled_knowledge.git`.\n",
    "2. Install Python dependencies using poetry: `poetry sync`.\n",
    "   If poetry fails you may need to first run `python -m ensurepip --upgrade` for some versions of Python, to ensure `pip` is operational.\n",
    "3. Build the Cython packages using `python setup.py build_ext --inplace`.\n",
    "4. Optionally: integrate ACE into CK by running `ck.pgm_compiler.ace.copy_ace_to_default_location(ace_dir)`.\n",
    "\n",
    "A Python script called `ck_demos/all_demos.py` is available to run most demo scripts in CK (with some exclusions for practical reasons). This can be used as a smoke test.\n",
    "\n",
    "A Python script called `tests/all_test.py` is available to run all unit tests in CK. The script `tests/all_coverage.py` is available to run all unit tests with code coverage analysis.\n",
    "Unit tests are in the package `tests` and are named _something_`_test.py`, where _something_ typically is a direct reference to a `ck` module.\n",
    "\n",
    "Compiling Cython modules for developer's clone:<br>\n",
    "`python setup.py build_ext --inplace`\n",
    "\n",
    "Building a copy of the Jupyter Book documentation:<br>\n",
    "`build_docs.py`\n",
    "\n",
    "\n"
   ]
  }
 ],
 "metadata": {
  "kernelspec": {
   "display_name": "Python 3",
   "language": "python",
   "name": "python3"
  },
  "language_info": {
   "codemirror_mode": {
    "name": "ipython",
    "version": 3
   },
   "file_extension": ".py",
   "mimetype": "text/x-python",
   "name": "python",
   "nbconvert_exporter": "python",
   "pygments_lexer": "ipython3",
   "version": "3.12.10"
  }
 },
 "nbformat": 4,
 "nbformat_minor": 0
}
