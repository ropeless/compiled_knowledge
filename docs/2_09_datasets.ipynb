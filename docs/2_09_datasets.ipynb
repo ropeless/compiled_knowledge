{
 "cells": [
  {
   "cell_type": "markdown",
   "metadata": {},
   "source": [
    "# Datasets\n",
    "\n",
    "Within CK, data for machine learning and other analyses are represented using a `Dataset`.\n",
    "\n",
    "Logically a dataset is a table of data where columns represent random variables and each row represents an _instance_ (also known as a _sample_, _record_, _row_, _datapoint_, or _joint states_).\n",
    "\n",
    "The _length_ of a dataset is the number of instances in the dataset. In CK, the length of a dataset is determined at construction time, and cannot be modified. Random variables can be added to and removed from a dataset.\n",
    "\n",
    "Each instance in a dataset has an instance weight. An instance weight represents a _weight of evidence_.\n",
    "The value of an instance weight is notionally 1, but can be set to other values to represent multiple or fractional evidence.\n",
    "This is explained in detail below.\n",
    "\n",
    "The values and weights of a dataset are mutable and can be updated.\n",
    "\n",
    "A CK dataset is either a `HardDataset` or `SoftDataset`. These are explained in the following sections, with reference to the following simple PGM."
   ]
  },
  {
   "cell_type": "code",
   "execution_count": 1,
   "metadata": {
    "ExecuteTime": {
     "end_time": "2025-07-21T02:15:48.484746Z",
     "start_time": "2025-07-21T02:15:48.405150Z"
    },
    "execution": {
     "iopub.execute_input": "2025-08-07T23:40:25.573072Z",
     "iopub.status.busy": "2025-08-07T23:40:25.572066Z",
     "iopub.status.idle": "2025-08-07T23:40:25.584219Z",
     "shell.execute_reply": "2025-08-07T23:40:25.584219Z"
    }
   },
   "outputs": [],
   "source": [
    "from ck.pgm import PGM, RandomVariable\n",
    "\n",
    "pgm: PGM = PGM()\n",
    "difficult: RandomVariable = pgm.new_rv('difficult', ('Yes', 'No'))\n",
    "intelligent: RandomVariable = pgm.new_rv('intelligent', ('Yes', 'No'))\n",
    "grade: RandomVariable = pgm.new_rv('grade', ('1', '2', '3'))\n",
    "sat: RandomVariable = pgm.new_rv('sat', ('High', 'Low'))\n",
    "letter: RandomVariable = pgm.new_rv('letter', ('Yes', 'No'))\n"
   ]
  },
  {
   "cell_type": "markdown",
   "metadata": {},
   "source": [
    "## Hard Datasets\n",
    "\n",
    "A hard dataset represents instances of hard evidence for a collection of random variables. That is, for each instance, each random variable is in a specific state.\n",
    "\n",
    "There are multiple ways to initialise a dataset. Here we create a dataset of length 5, with no random variables."
   ]
  },
  {
   "cell_type": "code",
   "execution_count": 2,
   "metadata": {
    "ExecuteTime": {
     "end_time": "2025-07-21T02:15:48.731745Z",
     "start_time": "2025-07-21T02:15:48.724248Z"
    },
    "execution": {
     "iopub.execute_input": "2025-08-07T23:40:25.586364Z",
     "iopub.status.busy": "2025-08-07T23:40:25.586364Z",
     "iopub.status.idle": "2025-08-07T23:40:25.592629Z",
     "shell.execute_reply": "2025-08-07T23:40:25.592629Z"
    }
   },
   "outputs": [
    {
     "data": {
      "text/plain": [
       "5"
      ]
     },
     "execution_count": 2,
     "metadata": {},
     "output_type": "execute_result"
    }
   ],
   "source": [
    "from ck.dataset import HardDataset\n",
    "\n",
    "# Create and empty dataset - no instances and no random variables.\n",
    "dataset: HardDataset = HardDataset(length=5)\n",
    "\n",
    "len(dataset)\n"
   ]
  },
  {
   "cell_type": "markdown",
   "metadata": {},
   "source": [
    "This dataset has no random variables."
   ]
  },
  {
   "cell_type": "code",
   "execution_count": 3,
   "metadata": {
    "ExecuteTime": {
     "end_time": "2025-07-21T02:15:48.775166Z",
     "start_time": "2025-07-21T02:15:48.770518Z"
    },
    "execution": {
     "iopub.execute_input": "2025-08-07T23:40:25.620428Z",
     "iopub.status.busy": "2025-08-07T23:40:25.620428Z",
     "iopub.status.idle": "2025-08-07T23:40:25.624047Z",
     "shell.execute_reply": "2025-08-07T23:40:25.624047Z"
    }
   },
   "outputs": [
    {
     "data": {
      "text/plain": [
       "()"
      ]
     },
     "execution_count": 3,
     "metadata": {},
     "output_type": "execute_result"
    }
   ],
   "source": [
    "dataset.rvs"
   ]
  },
  {
   "cell_type": "markdown",
   "metadata": {},
   "source": [
    "## Updating Datasets\n",
    "Each random variable of a hard dataset is associated with a series, which is a 1D numpy array.\n",
    "\n",
    "The length of the series is the same as the length of the dataset, and the *i*th element that holds the state index of the random variable for the *i*th instance.\n",
    "\n",
    "One way to add a random variable to a dataset is to have the dataset allocate memory for the series, and initialise it to zero."
   ]
  },
  {
   "cell_type": "code",
   "execution_count": 4,
   "metadata": {
    "ExecuteTime": {
     "end_time": "2025-07-21T02:15:48.801826Z",
     "start_time": "2025-07-21T02:15:48.797822Z"
    },
    "execution": {
     "iopub.execute_input": "2025-08-07T23:40:25.626050Z",
     "iopub.status.busy": "2025-08-07T23:40:25.626050Z",
     "iopub.status.idle": "2025-08-07T23:40:25.628758Z",
     "shell.execute_reply": "2025-08-07T23:40:25.628758Z"
    }
   },
   "outputs": [
    {
     "name": "stdout",
     "output_type": "stream",
     "text": [
      "letter\n"
     ]
    }
   ],
   "source": [
    "letter_series = dataset.add_rv(letter)\n",
    "\n",
    "print(*dataset.rvs)"
   ]
  },
  {
   "cell_type": "code",
   "execution_count": 5,
   "metadata": {
    "ExecuteTime": {
     "end_time": "2025-07-21T02:15:48.822175Z",
     "start_time": "2025-07-21T02:15:48.818150Z"
    },
    "execution": {
     "iopub.execute_input": "2025-08-07T23:40:25.630762Z",
     "iopub.status.busy": "2025-08-07T23:40:25.629762Z",
     "iopub.status.idle": "2025-08-07T23:40:25.633710Z",
     "shell.execute_reply": "2025-08-07T23:40:25.633710Z"
    }
   },
   "outputs": [
    {
     "data": {
      "text/plain": [
       "array([0, 0, 0, 0, 0], dtype=uint8)"
      ]
     },
     "execution_count": 5,
     "metadata": {},
     "output_type": "execute_result"
    }
   ],
   "source": [
    "letter_series"
   ]
  },
  {
   "cell_type": "markdown",
   "metadata": {},
   "source": [
    "A dataset series is mutable."
   ]
  },
  {
   "cell_type": "code",
   "execution_count": 6,
   "metadata": {
    "ExecuteTime": {
     "end_time": "2025-07-21T02:15:48.851995Z",
     "start_time": "2025-07-21T02:15:48.848579Z"
    },
    "execution": {
     "iopub.execute_input": "2025-08-07T23:40:25.635713Z",
     "iopub.status.busy": "2025-08-07T23:40:25.634713Z",
     "iopub.status.idle": "2025-08-07T23:40:25.637998Z",
     "shell.execute_reply": "2025-08-07T23:40:25.637998Z"
    }
   },
   "outputs": [],
   "source": [
    "letter_series[2] = 1\n",
    "letter_series[3] = 1"
   ]
  },
  {
   "cell_type": "markdown",
   "metadata": {},
   "source": [
    "The series for a random variable can be accessed using the `state_idxs` method."
   ]
  },
  {
   "cell_type": "code",
   "execution_count": 7,
   "metadata": {
    "ExecuteTime": {
     "end_time": "2025-07-21T02:15:48.872795Z",
     "start_time": "2025-07-21T02:15:48.868158Z"
    },
    "execution": {
     "iopub.execute_input": "2025-08-07T23:40:25.640006Z",
     "iopub.status.busy": "2025-08-07T23:40:25.640006Z",
     "iopub.status.idle": "2025-08-07T23:40:25.643076Z",
     "shell.execute_reply": "2025-08-07T23:40:25.643076Z"
    }
   },
   "outputs": [
    {
     "data": {
      "text/plain": [
       "array([0, 0, 1, 1, 0], dtype=uint8)"
      ]
     },
     "execution_count": 7,
     "metadata": {},
     "output_type": "execute_result"
    }
   ],
   "source": [
    "dataset.state_idxs(letter)"
   ]
  },
  {
   "cell_type": "markdown",
   "metadata": {},
   "source": [
    "A random variable can be added with state , by state indexes. If a numpy array is given, then the dataset will keep a reference to the data, otherwise it will be copied into a new numpy array."
   ]
  },
  {
   "cell_type": "code",
   "execution_count": 8,
   "metadata": {
    "ExecuteTime": {
     "end_time": "2025-07-21T02:15:48.892901Z",
     "start_time": "2025-07-21T02:15:48.889664Z"
    },
    "execution": {
     "iopub.execute_input": "2025-08-07T23:40:25.645112Z",
     "iopub.status.busy": "2025-08-07T23:40:25.644115Z",
     "iopub.status.idle": "2025-08-07T23:40:25.647949Z",
     "shell.execute_reply": "2025-08-07T23:40:25.647949Z"
    }
   },
   "outputs": [
    {
     "name": "stdout",
     "output_type": "stream",
     "text": [
      "letter difficult\n"
     ]
    }
   ],
   "source": [
    "import numpy as np\n",
    "\n",
    "difficult_data = np.array([1, 1, 0, 1, 0])\n",
    "dataset.add_rv_from_state_idxs(difficult, difficult_data)\n",
    "\n",
    "print(*dataset.rvs)"
   ]
  },
  {
   "cell_type": "code",
   "execution_count": 9,
   "metadata": {
    "ExecuteTime": {
     "end_time": "2025-07-21T02:15:48.923804Z",
     "start_time": "2025-07-21T02:15:48.919973Z"
    },
    "execution": {
     "iopub.execute_input": "2025-08-07T23:40:25.649956Z",
     "iopub.status.busy": "2025-08-07T23:40:25.648984Z",
     "iopub.status.idle": "2025-08-07T23:40:25.652673Z",
     "shell.execute_reply": "2025-08-07T23:40:25.652673Z"
    }
   },
   "outputs": [
    {
     "data": {
      "text/plain": [
       "array([1, 1, 0, 1, 0])"
      ]
     },
     "execution_count": 9,
     "metadata": {},
     "output_type": "execute_result"
    }
   ],
   "source": [
    "dataset.state_idxs(difficult)"
   ]
  },
  {
   "cell_type": "code",
   "execution_count": 10,
   "metadata": {
    "ExecuteTime": {
     "end_time": "2025-07-21T02:15:48.951570Z",
     "start_time": "2025-07-21T02:15:48.947682Z"
    },
    "execution": {
     "iopub.execute_input": "2025-08-07T23:40:25.654678Z",
     "iopub.status.busy": "2025-08-07T23:40:25.653706Z",
     "iopub.status.idle": "2025-08-07T23:40:25.657345Z",
     "shell.execute_reply": "2025-08-07T23:40:25.657345Z"
    }
   },
   "outputs": [
    {
     "data": {
      "text/plain": [
       "array([0, 1, 0, 1, 0])"
      ]
     },
     "execution_count": 10,
     "metadata": {},
     "output_type": "execute_result"
    }
   ],
   "source": [
    "difficult_data[0] = 0\n",
    "\n",
    "dataset.state_idxs(difficult)"
   ]
  },
  {
   "cell_type": "markdown",
   "metadata": {},
   "source": [
    "A random variable can also be added using the states of a random variable, rather than state indices."
   ]
  },
  {
   "cell_type": "code",
   "execution_count": 11,
   "metadata": {
    "ExecuteTime": {
     "end_time": "2025-07-21T02:15:48.996810Z",
     "start_time": "2025-07-21T02:15:48.992010Z"
    },
    "execution": {
     "iopub.execute_input": "2025-08-07T23:40:25.659349Z",
     "iopub.status.busy": "2025-08-07T23:40:25.658350Z",
     "iopub.status.idle": "2025-08-07T23:40:25.662410Z",
     "shell.execute_reply": "2025-08-07T23:40:25.662410Z"
    }
   },
   "outputs": [
    {
     "data": {
      "text/plain": [
       "array([0, 1, 0, 1, 0], dtype=uint8)"
      ]
     },
     "execution_count": 11,
     "metadata": {},
     "output_type": "execute_result"
    }
   ],
   "source": [
    "sat_series = dataset.add_rv_from_states(sat, ['High', 'Low', 'High', 'Low', 'High'])\n",
    "\n",
    "sat_series"
   ]
  },
  {
   "cell_type": "code",
   "execution_count": 12,
   "metadata": {
    "ExecuteTime": {
     "end_time": "2025-07-21T02:15:49.038390Z",
     "start_time": "2025-07-21T02:15:49.035629Z"
    },
    "execution": {
     "iopub.execute_input": "2025-08-07T23:40:25.664415Z",
     "iopub.status.busy": "2025-08-07T23:40:25.663414Z",
     "iopub.status.idle": "2025-08-07T23:40:25.666751Z",
     "shell.execute_reply": "2025-08-07T23:40:25.666751Z"
    }
   },
   "outputs": [
    {
     "name": "stdout",
     "output_type": "stream",
     "text": [
      "letter difficult sat\n"
     ]
    }
   ],
   "source": [
    "print(*dataset.rvs)"
   ]
  },
  {
   "cell_type": "markdown",
   "metadata": {},
   "source": [
    "A random variable can be removed from a dataset."
   ]
  },
  {
   "cell_type": "code",
   "execution_count": 13,
   "metadata": {
    "ExecuteTime": {
     "end_time": "2025-07-21T02:15:49.081500Z",
     "start_time": "2025-07-21T02:15:49.077947Z"
    },
    "execution": {
     "iopub.execute_input": "2025-08-07T23:40:25.668860Z",
     "iopub.status.busy": "2025-08-07T23:40:25.667873Z",
     "iopub.status.idle": "2025-08-07T23:40:25.671167Z",
     "shell.execute_reply": "2025-08-07T23:40:25.671167Z"
    }
   },
   "outputs": [
    {
     "name": "stdout",
     "output_type": "stream",
     "text": [
      "letter sat\n"
     ]
    }
   ],
   "source": [
    "dataset.remove_rv(difficult)\n",
    "\n",
    "print(*dataset.rvs)"
   ]
  },
  {
   "cell_type": "markdown",
   "metadata": {},
   "source": [
    "## Instance Weights\n",
    "\n",
    "If two or more instances in a dataset are identical, then mathematically this may be represented in a dataset equally well by combining identical instances and noting how many of that instance was present.\n",
    "\n",
    "For example, this dataset\n",
    "\n",
    "| difficult | intelligent | grade | sat | letter |\n",
    "|-----------|-------------|-------|-----|--------|\n",
    "| 0         | 1           | 2     | 0   | 1      |\n",
    "| 1         | 1           | 2     | 0   | 1      |\n",
    "| 1         | 1           | 2     | 0   | 1      |\n",
    "| 0         | 1           | 1     | 1   | 0      |\n",
    "| 1         | 1           | 0     | 0   | 0      |\n",
    "| 1         | 1           | 0     | 0   | 0      |\n",
    "\n",
    "may be represented using weighted instances as\n",
    "\n",
    "| difficult | intelligent | grade | sat | letter | _weight_ |\n",
    "|-----------|-------------|-------|-----|--------|----------|\n",
    "| 0         | 1           | 2     | 0   | 1      | 1        |\n",
    "| 1         | 1           | 2     | 0   | 1      | 2        |\n",
    "| 0         | 1           | 1     | 1   | 0      | 1        |\n",
    "| 1         | 1           | 0     | 0   | 0      | 2        |\n",
    "\n",
    "Instances of weight zero have no effect on the meaning of a dataset and can be removed. So this example dataset is also equivalent to the above.\n",
    "\n",
    "| difficult | intelligent | grade | sat | letter | _weight_ |\n",
    "|-----------|-------------|-------|-----|--------|----------|\n",
    "| 0         | 1           | 2     | 0   | 1      | 1        |\n",
    "| 1         | 1           | 2     | 0   | 1      | 2        |\n",
    "| 0         | 1           | 1     | 1   | 0      | 1        |\n",
    "| 1         | 0           | 0     | 0   | 1      | 0        |\n",
    "| 1         | 1           | 0     | 0   | 0      | 2        |\n"
   ]
  },
  {
   "cell_type": "markdown",
   "metadata": {},
   "source": [
    "The instance weights of a dataset are access using the `weights` method, with returns a 1D numpy array with the same length as the dataset."
   ]
  },
  {
   "cell_type": "code",
   "execution_count": 14,
   "metadata": {
    "ExecuteTime": {
     "end_time": "2025-07-21T02:15:49.102197Z",
     "start_time": "2025-07-21T02:15:49.097936Z"
    },
    "execution": {
     "iopub.execute_input": "2025-08-07T23:40:25.673245Z",
     "iopub.status.busy": "2025-08-07T23:40:25.672172Z",
     "iopub.status.idle": "2025-08-07T23:40:25.676163Z",
     "shell.execute_reply": "2025-08-07T23:40:25.676163Z"
    }
   },
   "outputs": [
    {
     "data": {
      "text/plain": [
       "array([1., 1., 1., 1., 1.])"
      ]
     },
     "execution_count": 14,
     "metadata": {},
     "output_type": "execute_result"
    }
   ],
   "source": [
    "dataset.weights"
   ]
  },
  {
   "cell_type": "markdown",
   "metadata": {},
   "source": [
    "The instance weights of a dataset are directly modifiable"
   ]
  },
  {
   "cell_type": "code",
   "execution_count": 15,
   "metadata": {
    "ExecuteTime": {
     "end_time": "2025-07-21T02:15:49.132559Z",
     "start_time": "2025-07-21T02:15:49.127854Z"
    },
    "execution": {
     "iopub.execute_input": "2025-08-07T23:40:25.678169Z",
     "iopub.status.busy": "2025-08-07T23:40:25.677200Z",
     "iopub.status.idle": "2025-08-07T23:40:25.681278Z",
     "shell.execute_reply": "2025-08-07T23:40:25.681278Z"
    }
   },
   "outputs": [
    {
     "data": {
      "text/plain": [
       "array([1., 1., 1., 2., 1.])"
      ]
     },
     "execution_count": 15,
     "metadata": {},
     "output_type": "execute_result"
    }
   ],
   "source": [
    "dataset.weights[3] = 2\n",
    "\n",
    "dataset.weights"
   ]
  },
  {
   "cell_type": "markdown",
   "metadata": {
    "collapsed": false
   },
   "source": [
    "The notion of an instance weight may be generalised further by introducing the concept of _weight of evidence_. A dataset represents a _weight of evidence_ that is the count of observations which lead to the data.\n",
    "\n",
    "Multiplying the instance weights of a dataset by a constant value does not change the empirical joint probability distribution, it only changes the weight of evidence. We use this principle to define fractional weights.\n",
    "\n",
    "For a dataset with fractional weighted instances, there is some constant such that when the instance weights of a dataset are multiplied by the constant, then all instance weights are integer. The dataset with fractional weighted instances is equivalent to the dataset with integer weighted instances, but with a weight of evidence proportionally reduced by the constant.\n",
    "\n",
    "There is a Bayesian interpretation for re-weighting evidence based on conditioning events. Intuitively, it may be understood as discounting evidence represented by a dataset due to some relative misgivings about the collection process.\n",
    "\n",
    "Note that for CK, negative weights have no interpretation.\n"
   ]
  },
  {
   "cell_type": "markdown",
   "metadata": {},
   "source": [
    "The total instance weight can be calculated. Naturally, if the instance weights are all 1, then the total weight is the same as the length of the dataset."
   ]
  },
  {
   "cell_type": "code",
   "execution_count": 16,
   "metadata": {
    "ExecuteTime": {
     "end_time": "2025-07-21T02:15:49.168454Z",
     "start_time": "2025-07-21T02:15:49.164271Z"
    },
    "execution": {
     "iopub.execute_input": "2025-08-07T23:40:25.683283Z",
     "iopub.status.busy": "2025-08-07T23:40:25.682283Z",
     "iopub.status.idle": "2025-08-07T23:40:25.686270Z",
     "shell.execute_reply": "2025-08-07T23:40:25.686270Z"
    }
   },
   "outputs": [
    {
     "data": {
      "text/plain": [
       "6.0"
      ]
     },
     "execution_count": 16,
     "metadata": {},
     "output_type": "execute_result"
    }
   ],
   "source": [
    "dataset.total_weight()"
   ]
  },
  {
   "cell_type": "markdown",
   "metadata": {},
   "source": [
    "## Dataset Dump\n",
    "\n",
    "A dump of a dataset can be printed, showing state indexes and weights. This is intended for debugging, ad hoc testing and pedagogical purposes."
   ]
  },
  {
   "cell_type": "code",
   "execution_count": 17,
   "metadata": {
    "ExecuteTime": {
     "end_time": "2025-07-21T02:15:49.199163Z",
     "start_time": "2025-07-21T02:15:49.195642Z"
    },
    "execution": {
     "iopub.execute_input": "2025-08-07T23:40:25.688275Z",
     "iopub.status.busy": "2025-08-07T23:40:25.687273Z",
     "iopub.status.idle": "2025-08-07T23:40:25.690457Z",
     "shell.execute_reply": "2025-08-07T23:40:25.690457Z"
    }
   },
   "outputs": [
    {
     "name": "stdout",
     "output_type": "stream",
     "text": [
      "rvs: [letter, sat]\n",
      "instances (5, with total weight 6.0):\n",
      "(0, 0) * 1.0\n",
      "(0, 1) * 1.0\n",
      "(1, 0) * 1.0\n",
      "(1, 1) * 2.0\n",
      "(0, 0) * 1.0\n"
     ]
    }
   ],
   "source": [
    "dataset.dump()"
   ]
  },
  {
   "cell_type": "markdown",
   "metadata": {},
   "source": [
    "A hard dataset dump can show the states directly, using the `as_states` keyword argument.\n"
   ]
  },
  {
   "cell_type": "code",
   "execution_count": 18,
   "metadata": {
    "ExecuteTime": {
     "end_time": "2025-07-21T02:15:49.218415Z",
     "start_time": "2025-07-21T02:15:49.214604Z"
    },
    "execution": {
     "iopub.execute_input": "2025-08-07T23:40:25.691461Z",
     "iopub.status.busy": "2025-08-07T23:40:25.691461Z",
     "iopub.status.idle": "2025-08-07T23:40:25.694574Z",
     "shell.execute_reply": "2025-08-07T23:40:25.694574Z"
    }
   },
   "outputs": [
    {
     "name": "stdout",
     "output_type": "stream",
     "text": [
      "rvs: [letter, sat]\n",
      "instances (5, with total weight 6.0):\n",
      "('Yes', 'High') * 1.0\n",
      "('Yes', 'Low') * 1.0\n",
      "('No', 'High') * 1.0\n",
      "('No', 'Low') * 2.0\n",
      "('Yes', 'High') * 1.0\n"
     ]
    }
   ],
   "source": [
    "dataset.dump(as_states=True)"
   ]
  },
  {
   "cell_type": "markdown",
   "metadata": {},
   "source": [
    "## Soft Datasets\n",
    "\n",
    "A soft dataset represents instances of soft evidence for a set of random variables.\n",
    "For each instance, there is a distribution over the states for each random variable.\n",
    "\n",
    "Traditionally, each instance in a dataset records a single state for each random variable. In CK, a value of a random variable may be a distribution over the possible states of a random variable. When a random variable has a single state value for an instance, then the distribution has probability = 1 for one state, and all other states have zero probability.\n",
    "\n",
    "As with a hard dataset, the \"length\" of a dataset is the number of instances in the dataset. The length is determined at construction time, and cannot be modified.\n",
    "Random variables can be added to and removed from a soft dataset.\n",
    "\n",
    "There are multiple ways to initialise a soft dataset. Here we create a dataset with two random variables included at construction time."
   ]
  },
  {
   "cell_type": "code",
   "execution_count": 19,
   "metadata": {
    "ExecuteTime": {
     "end_time": "2025-07-21T02:15:49.266933Z",
     "start_time": "2025-07-21T02:15:49.261836Z"
    },
    "execution": {
     "iopub.execute_input": "2025-08-07T23:40:25.695605Z",
     "iopub.status.busy": "2025-08-07T23:40:25.695605Z",
     "iopub.status.idle": "2025-08-07T23:40:25.699967Z",
     "shell.execute_reply": "2025-08-07T23:40:25.699967Z"
    }
   },
   "outputs": [
    {
     "data": {
      "text/plain": [
       "5"
      ]
     },
     "execution_count": 19,
     "metadata": {},
     "output_type": "execute_result"
    }
   ],
   "source": [
    "from ck.dataset import SoftDataset\n",
    "\n",
    "letter_data = [\n",
    "    [0.6, 0.4],\n",
    "    [1.0, 0.0],\n",
    "    [0.0, 1.0],\n",
    "    [0.3, 0.7],\n",
    "    [0.9, 0.1],\n",
    "]\n",
    "\n",
    "grade_data = [\n",
    "    [0.6, 0.3, 0.1],\n",
    "    [0.0, 0.0, 1.0],\n",
    "    [0.0, 1.0, 0.0],\n",
    "    [0.3, 0.4, 0.3],\n",
    "    [0.8, 0.1, 0.1],\n",
    "]\n",
    "\n",
    "\n",
    "dataset: SoftDataset = SoftDataset([\n",
    "    (letter, letter_data),\n",
    "    (grade, grade_data),\n",
    "])\n",
    "\n",
    "len(dataset)"
   ]
  },
  {
   "cell_type": "markdown",
   "metadata": {
    "collapsed": false
   },
   "source": [
    "As with a hard dataset, a soft dataset has weighted instances."
   ]
  },
  {
   "cell_type": "code",
   "execution_count": 20,
   "metadata": {
    "ExecuteTime": {
     "end_time": "2025-07-21T02:15:49.287079Z",
     "start_time": "2025-07-21T02:15:49.283692Z"
    },
    "collapsed": false,
    "execution": {
     "iopub.execute_input": "2025-08-07T23:40:25.701000Z",
     "iopub.status.busy": "2025-08-07T23:40:25.701000Z",
     "iopub.status.idle": "2025-08-07T23:40:25.704634Z",
     "shell.execute_reply": "2025-08-07T23:40:25.704634Z"
    }
   },
   "outputs": [
    {
     "data": {
      "text/plain": [
       "array([1., 1., 1., 1., 1.])"
      ]
     },
     "execution_count": 20,
     "metadata": {},
     "output_type": "execute_result"
    }
   ],
   "source": [
    "dataset.weights"
   ]
  },
  {
   "cell_type": "markdown",
   "metadata": {
    "collapsed": false
   },
   "source": [
    "The instance weights can be updated."
   ]
  },
  {
   "cell_type": "code",
   "execution_count": 21,
   "metadata": {
    "ExecuteTime": {
     "end_time": "2025-07-21T02:15:49.308634Z",
     "start_time": "2025-07-21T02:15:49.304975Z"
    },
    "collapsed": false,
    "execution": {
     "iopub.execute_input": "2025-08-07T23:40:25.705638Z",
     "iopub.status.busy": "2025-08-07T23:40:25.705638Z",
     "iopub.status.idle": "2025-08-07T23:40:25.709417Z",
     "shell.execute_reply": "2025-08-07T23:40:25.709417Z"
    }
   },
   "outputs": [
    {
     "data": {
      "text/plain": [
       "array([1., 2., 1., 0., 2.])"
      ]
     },
     "execution_count": 21,
     "metadata": {},
     "output_type": "execute_result"
    }
   ],
   "source": [
    "dataset.weights[1] = 2\n",
    "dataset.weights[3] = 0\n",
    "dataset.weights[4] = 2\n",
    "\n",
    "dataset.weights"
   ]
  },
  {
   "cell_type": "markdown",
   "metadata": {
    "collapsed": false
   },
   "source": [
    "And the total instance weight can be calculated"
   ]
  },
  {
   "cell_type": "code",
   "execution_count": 22,
   "metadata": {
    "ExecuteTime": {
     "end_time": "2025-07-21T02:15:49.346699Z",
     "start_time": "2025-07-21T02:15:49.342241Z"
    },
    "collapsed": false,
    "execution": {
     "iopub.execute_input": "2025-08-07T23:40:25.710421Z",
     "iopub.status.busy": "2025-08-07T23:40:25.710421Z",
     "iopub.status.idle": "2025-08-07T23:40:25.713926Z",
     "shell.execute_reply": "2025-08-07T23:40:25.713926Z"
    }
   },
   "outputs": [
    {
     "data": {
      "text/plain": [
       "6.0"
      ]
     },
     "execution_count": 22,
     "metadata": {},
     "output_type": "execute_result"
    }
   ],
   "source": [
    "dataset.total_weight()"
   ]
  },
  {
   "cell_type": "markdown",
   "metadata": {},
   "source": [
    "When dumping a soft dataset, the state weights are printed."
   ]
  },
  {
   "cell_type": "code",
   "execution_count": 23,
   "metadata": {
    "ExecuteTime": {
     "end_time": "2025-07-21T02:15:49.388381Z",
     "start_time": "2025-07-21T02:15:49.384197Z"
    },
    "execution": {
     "iopub.execute_input": "2025-08-07T23:40:25.715932Z",
     "iopub.status.busy": "2025-08-07T23:40:25.714931Z",
     "iopub.status.idle": "2025-08-07T23:40:25.718803Z",
     "shell.execute_reply": "2025-08-07T23:40:25.718803Z"
    }
   },
   "outputs": [
    {
     "name": "stdout",
     "output_type": "stream",
     "text": [
      "rvs: [letter, grade]\n",
      "instances (5, with total weight 6.0):\n",
      "([0.6 0.4], [0.6 0.3 0.1]) * 1.0\n",
      "([1. 0.], [0. 0. 1.]) * 2.0\n",
      "([0. 1.], [0. 1. 0.]) * 1.0\n",
      "([0.3 0.7], [0.3 0.4 0.3]) * 0.0\n",
      "([0.9 0.1], [0.8 0.1 0.1]) * 2.0\n"
     ]
    }
   ],
   "source": [
    "dataset.dump()"
   ]
  },
  {
   "cell_type": "markdown",
   "metadata": {
    "collapsed": false
   },
   "source": [
    "The state weights for a random variable and instance represent _soft evidence_. The intuitive interpretation of soft evidence is that it represents uncertainty in the true value of the random variable for that instance.\n",
    "\n",
    "Formally, a soft evidence value is equivalent to replicating the instance, once for each possible value of the attribute, then multiplying the weight of the instance by the probability of the value.\n",
    "\n",
    "For example,\n",
    "\n",
    "| difficult | intelligent | grade | sat | letter | _weight_ |\n",
    "|-----------|-------------|-------|-----|--------|----------|\n",
    "| 0         | (0.2, 0.8)  | 2     | 0   | 1      | _w_      |\n",
    "\n",
    "is equivalent to\n",
    "\n",
    "| difficult | intelligent | grade | sat | letter | _weight_  |\n",
    "|-----------|-------------|-------|-----|--------|-----------|\n",
    "| 0         | 0           | 2     | 0   | 1      | _w_ × 0.2 |\n",
    "| 0         | 1           | 2     | 0   | 1      | _w_ × 0.8 |\n",
    "\n",
    "This interpretation is consistent for any non-negative weighting of values, not just probability distributions.\n",
    "However, it is not recommended to use soft evidence except as distributions over attribute values as it may make the weight of evidence difficult to see, even though the semantics is well-defined.\n",
    "\n",
    "For example,\n",
    "\n",
    "| difficult | intelligent | grade | sat | letter | _weight_ |\n",
    "|-----------|-------------|-------|-----|--------|----------|\n",
    "| 0         | (2.4, 0.1)  | 2     | 0   | 1      | _w_      |\n",
    "\n",
    "is equivalent to\n",
    "\n",
    "| difficult | intelligent | grade | sat | letter | _weight_  |\n",
    "|-----------|-------------|-------|-----|--------|-----------|\n",
    "| 0         | 0           | 2     | 0   | 1      | _w_ × 2.4 |\n",
    "| 0         | 1           | 2     | 0   | 1      | _w_ × 0.1 |\n"
   ]
  },
  {
   "cell_type": "markdown",
   "metadata": {
    "collapsed": false
   },
   "source": [
    "The formulation of soft evidence remains consistent when there are multiple attributes with soft evidence.\n",
    "\n",
    "For example,\n",
    "\n",
    "| difficult | intelligent | grade  | sat        | letter  | _weight_ |\n",
    "|-----------|-------------|--------|------------|---------|----------|\n",
    "| 0         | (0.6, 0.4)  | 2      | (0.1, 0.9) | 1       | _w_      |\n",
    "\n",
    "is equivalent to\n",
    "\n",
    "| difficult | intelligent | grade  | sat | letter  | _weight_        |\n",
    "|-----------|-------------|--------|-----|---------|-----------------|\n",
    "| 0         | 0           | 2      | 0   | 1       | _w_ × 0.6 × 0.1 |\n",
    "| 0         | 0           | 2      | 1   | 1       | _w_ × 0.6 × 0.9 |\n",
    "| 0         | 1           | 2      | 0   | 1       | _w_ × 0.4 × 0.1 |\n",
    "| 0         | 1           | 2      | 1   | 1       | _w_ × 0.4 × 0.9 |\n"
   ]
  },
  {
   "cell_type": "markdown",
   "metadata": {
    "collapsed": false
   },
   "source": [
    "Here is how we can create a dataset with soft evidence (with a single instance weight of 10)"
   ]
  },
  {
   "cell_type": "code",
   "execution_count": 24,
   "metadata": {
    "ExecuteTime": {
     "end_time": "2025-07-21T02:15:49.412190Z",
     "start_time": "2025-07-21T02:15:49.407391Z"
    },
    "execution": {
     "iopub.execute_input": "2025-08-07T23:40:25.720808Z",
     "iopub.status.busy": "2025-08-07T23:40:25.719807Z",
     "iopub.status.idle": "2025-08-07T23:40:25.724270Z",
     "shell.execute_reply": "2025-08-07T23:40:25.724270Z"
    }
   },
   "outputs": [
    {
     "name": "stdout",
     "output_type": "stream",
     "text": [
      "rvs: [difficult, intelligent, grade, sat, letter]\n",
      "instances (1, with total weight 10.0):\n",
      "([1. 0.], [2.4 0.1], [0. 0. 1.], [0.1 0.9], [0. 1.]) * 10.0\n"
     ]
    }
   ],
   "source": [
    "dataset: SoftDataset = SoftDataset(weights=[10])\n",
    "\n",
    "dataset.add_rv(difficult)[0,:] = (1, 0)         # difficult = 'Yes'\n",
    "dataset.add_rv(intelligent)[0,:] = (2.4, 0.1)   # intelligent = (2.4, 0.1)\n",
    "dataset.add_rv(grade)[0,:] = (0, 0, 1)          # grade = '3'\n",
    "dataset.add_rv(sat)[0,:] = (0.1, 0.9)           # sat = (0.1, 0.9)\n",
    "dataset.add_rv(letter)[0,:] = (0, 1)            # letter = 'No'\n",
    "\n",
    "dataset.dump()"
   ]
  },
  {
   "cell_type": "markdown",
   "metadata": {
    "collapsed": false
   },
   "source": [
    "## Normalisation\n",
    "A soft dataset is considered _normalised_ when, for each instance, either:\n",
    "1. the instance weight is zero and the state weights for every random variable are zero, or\n",
    "2. the instance weight is positive and the state weights for each random variable sum to one.\n",
    "\n",
    "For example,\n",
    "\n",
    "| difficult | intelligent | grade | sat        | letter | _weight_ |\n",
    "|-----------|-------------|-------|------------|--------|----------|\n",
    "| 0         | (2.4, 0.1)  | 2     | (0.1, 0.9) | 1      | 10       |\n",
    "\n",
    "is equivalent to the normalised dataset\n",
    "\n",
    "| difficult | intelligent  | grade  | sat        | letter  | _weight_ |\n",
    "|-----------|--------------|--------|------------|---------|----------|\n",
    "| 0         | (0.96, 0.04) | 2      | (0.1, 0.9) | 1       | 10 × 2.5 |\n"
   ]
  },
  {
   "cell_type": "code",
   "execution_count": 25,
   "metadata": {
    "ExecuteTime": {
     "end_time": "2025-07-21T02:15:49.426841Z",
     "start_time": "2025-07-21T02:15:49.422900Z"
    },
    "execution": {
     "iopub.execute_input": "2025-08-07T23:40:25.726275Z",
     "iopub.status.busy": "2025-08-07T23:40:25.725275Z",
     "iopub.status.idle": "2025-08-07T23:40:25.729288Z",
     "shell.execute_reply": "2025-08-07T23:40:25.729288Z"
    }
   },
   "outputs": [
    {
     "name": "stdout",
     "output_type": "stream",
     "text": [
      "rvs: [difficult, intelligent, grade, sat, letter]\n",
      "instances (1, with total weight 10.0):\n",
      "([1. 0.], [2.4 0.1], [0. 0. 1.], [0.1 0.9], [0. 1.]) * 10.0\n",
      "\n",
      "rvs: [difficult, intelligent, grade, sat, letter]\n",
      "instances (1, with total weight 25.0):\n",
      "([1. 0.], [0.96 0.04], [0. 0. 1.], [0.1 0.9], [0. 1.]) * 25.0\n"
     ]
    }
   ],
   "source": [
    "dataset.dump()\n",
    "print()\n",
    "\n",
    "dataset.normalise()\n",
    "\n",
    "dataset.dump()"
   ]
  },
  {
   "cell_type": "markdown",
   "metadata": {},
   "source": [
    "## Dataset Builder\n",
    "\n",
    "CK Datasets are optimised for efficiency which can make constructing ad hoc datasets a little cumbersome.\n",
    "\n",
    "A `DatasetBuilder` solves this issue by providing a flexible API for defining a dataset, which can then be converted to a `HardDataset` or `SoftDataset` as needed.\n",
    "\n",
    "A dataset builder holds all values in memory and can be a mixture of hard, soft or missing evidence.\n",
    "\n",
    "The following example uses a `DatasetBuilder` to define a dataset for two random variables."
   ]
  },
  {
   "cell_type": "code",
   "execution_count": 26,
   "metadata": {
    "ExecuteTime": {
     "end_time": "2025-07-21T02:15:49.477164Z",
     "start_time": "2025-07-21T02:15:49.468449Z"
    },
    "execution": {
     "iopub.execute_input": "2025-08-07T23:40:25.731293Z",
     "iopub.status.busy": "2025-08-07T23:40:25.730292Z",
     "iopub.status.idle": "2025-08-07T23:40:25.734565Z",
     "shell.execute_reply": "2025-08-07T23:40:25.734565Z"
    }
   },
   "outputs": [],
   "source": [
    "from ck.dataset.dataset_builder import DatasetBuilder, Record\n",
    "from ck.pgm import PGM\n",
    "\n",
    "pgm = PGM()\n",
    "x = pgm.new_rv('x', (True, False))\n",
    "y = pgm.new_rv('y', ('yes', 'no', 'maybe'))\n",
    "\n",
    "builder = DatasetBuilder([x, y])"
   ]
  },
  {
   "cell_type": "markdown",
   "metadata": {},
   "source": [
    "This dataset builder currently has no records."
   ]
  },
  {
   "cell_type": "code",
   "execution_count": 27,
   "metadata": {
    "ExecuteTime": {
     "end_time": "2025-07-21T02:15:49.500920Z",
     "start_time": "2025-07-21T02:15:49.496507Z"
    },
    "execution": {
     "iopub.execute_input": "2025-08-07T23:40:25.736569Z",
     "iopub.status.busy": "2025-08-07T23:40:25.735569Z",
     "iopub.status.idle": "2025-08-07T23:40:25.739158Z",
     "shell.execute_reply": "2025-08-07T23:40:25.739158Z"
    }
   },
   "outputs": [
    {
     "data": {
      "text/plain": [
       "0"
      ]
     },
     "execution_count": 27,
     "metadata": {},
     "output_type": "execute_result"
    }
   ],
   "source": [
    "len(builder)"
   ]
  },
  {
   "cell_type": "markdown",
   "metadata": {},
   "source": [
    "Just like a `Dataset`, a `DatasetBuilder` knows the random variables it is for."
   ]
  },
  {
   "cell_type": "code",
   "execution_count": 28,
   "metadata": {
    "ExecuteTime": {
     "end_time": "2025-07-21T02:15:49.534879Z",
     "start_time": "2025-07-21T02:15:49.531617Z"
    },
    "execution": {
     "iopub.execute_input": "2025-08-07T23:40:25.741163Z",
     "iopub.status.busy": "2025-08-07T23:40:25.740162Z",
     "iopub.status.idle": "2025-08-07T23:40:25.743309Z",
     "shell.execute_reply": "2025-08-07T23:40:25.743309Z"
    }
   },
   "outputs": [
    {
     "name": "stdout",
     "output_type": "stream",
     "text": [
      "x y\n"
     ]
    }
   ],
   "source": [
    "print(*builder.rvs)"
   ]
  },
  {
   "cell_type": "code",
   "execution_count": 29,
   "metadata": {
    "ExecuteTime": {
     "end_time": "2025-07-21T02:15:49.565820Z",
     "start_time": "2025-07-21T02:15:49.562014Z"
    },
    "execution": {
     "iopub.execute_input": "2025-08-07T23:40:25.744312Z",
     "iopub.status.busy": "2025-08-07T23:40:25.744312Z",
     "iopub.status.idle": "2025-08-07T23:40:25.747820Z",
     "shell.execute_reply": "2025-08-07T23:40:25.747820Z"
    }
   },
   "outputs": [
    {
     "data": {
      "text/plain": [
       "2"
      ]
     },
     "execution_count": 29,
     "metadata": {},
     "output_type": "execute_result"
    }
   ],
   "source": [
    "record: Record = builder.append()\n",
    "\n",
    "len(record)"
   ]
  },
  {
   "cell_type": "markdown",
   "metadata": {},
   "source": [
    "A record can be appended to the builder. The record is a sequence of values, co-indexed with the builder's random variables. Each value in a new record is \"missing\" represented by `None`."
   ]
  },
  {
   "cell_type": "code",
   "execution_count": 30,
   "metadata": {
    "ExecuteTime": {
     "end_time": "2025-07-21T02:15:49.587216Z",
     "start_time": "2025-07-21T02:15:49.583264Z"
    },
    "execution": {
     "iopub.execute_input": "2025-08-07T23:40:25.748824Z",
     "iopub.status.busy": "2025-08-07T23:40:25.748824Z",
     "iopub.status.idle": "2025-08-07T23:40:25.752505Z",
     "shell.execute_reply": "2025-08-07T23:40:25.752505Z"
    }
   },
   "outputs": [
    {
     "data": {
      "text/plain": [
       "(None, None)"
      ]
     },
     "execution_count": 30,
     "metadata": {},
     "output_type": "execute_result"
    }
   ],
   "source": [
    "record[0], record[1]"
   ]
  },
  {
   "cell_type": "markdown",
   "metadata": {},
   "source": [
    "A record also has a weight (notionally 1)."
   ]
  },
  {
   "cell_type": "code",
   "execution_count": 31,
   "metadata": {
    "ExecuteTime": {
     "end_time": "2025-07-21T02:15:49.615266Z",
     "start_time": "2025-07-21T02:15:49.610752Z"
    },
    "execution": {
     "iopub.execute_input": "2025-08-07T23:40:25.754510Z",
     "iopub.status.busy": "2025-08-07T23:40:25.753509Z",
     "iopub.status.idle": "2025-08-07T23:40:25.757390Z",
     "shell.execute_reply": "2025-08-07T23:40:25.757390Z"
    }
   },
   "outputs": [
    {
     "data": {
      "text/plain": [
       "1"
      ]
     },
     "execution_count": 31,
     "metadata": {},
     "output_type": "execute_result"
    }
   ],
   "source": [
    "record.weight"
   ]
  },
  {
   "cell_type": "markdown",
   "metadata": {},
   "source": [
    "A value can be set to hard evidence (by state index)."
   ]
  },
  {
   "cell_type": "code",
   "execution_count": 32,
   "metadata": {
    "ExecuteTime": {
     "end_time": "2025-07-21T02:15:49.665823Z",
     "start_time": "2025-07-21T02:15:49.661402Z"
    },
    "execution": {
     "iopub.execute_input": "2025-08-07T23:40:25.758395Z",
     "iopub.status.busy": "2025-08-07T23:40:25.758395Z",
     "iopub.status.idle": "2025-08-07T23:40:25.762085Z",
     "shell.execute_reply": "2025-08-07T23:40:25.762085Z"
    }
   },
   "outputs": [
    {
     "data": {
      "text/plain": [
       "(1, None)"
      ]
     },
     "execution_count": 32,
     "metadata": {},
     "output_type": "execute_result"
    }
   ],
   "source": [
    "record[0] = 1\n",
    "\n",
    "record[0], record[1]\n"
   ]
  },
  {
   "cell_type": "markdown",
   "metadata": {},
   "source": [
    "A value can also be set to soft evidence."
   ]
  },
  {
   "cell_type": "code",
   "execution_count": 33,
   "metadata": {
    "ExecuteTime": {
     "end_time": "2025-07-21T02:15:49.698245Z",
     "start_time": "2025-07-21T02:15:49.694311Z"
    },
    "execution": {
     "iopub.execute_input": "2025-08-07T23:40:25.764092Z",
     "iopub.status.busy": "2025-08-07T23:40:25.763122Z",
     "iopub.status.idle": "2025-08-07T23:40:25.766943Z",
     "shell.execute_reply": "2025-08-07T23:40:25.766833Z"
    }
   },
   "outputs": [
    {
     "data": {
      "text/plain": [
       "(1, (0.2, 0.3, 0.5))"
      ]
     },
     "execution_count": 33,
     "metadata": {},
     "output_type": "execute_result"
    }
   ],
   "source": [
    "record[1] = (0.2, 0.3, 0.5)\n",
    "\n",
    "record[0], record[1]"
   ]
  },
  {
   "cell_type": "markdown",
   "metadata": {},
   "source": [
    "A record weight can also be updated."
   ]
  },
  {
   "cell_type": "code",
   "execution_count": 34,
   "metadata": {
    "ExecuteTime": {
     "end_time": "2025-07-21T02:15:49.720509Z",
     "start_time": "2025-07-21T02:15:49.716713Z"
    },
    "execution": {
     "iopub.execute_input": "2025-08-07T23:40:25.767972Z",
     "iopub.status.busy": "2025-08-07T23:40:25.767972Z",
     "iopub.status.idle": "2025-08-07T23:40:25.771110Z",
     "shell.execute_reply": "2025-08-07T23:40:25.771110Z"
    }
   },
   "outputs": [
    {
     "name": "stdout",
     "output_type": "stream",
     "text": [
      "3\n"
     ]
    }
   ],
   "source": [
    "record.weight = 3\n",
    "\n",
    "print(record.weight)"
   ]
  },
  {
   "cell_type": "markdown",
   "metadata": {},
   "source": [
    "A record's string representation is similar to that of a `Dataset` dump, allowing for a mixture of hard and soft evidence."
   ]
  },
  {
   "cell_type": "code",
   "execution_count": 35,
   "metadata": {
    "ExecuteTime": {
     "end_time": "2025-07-21T02:15:49.765741Z",
     "start_time": "2025-07-21T02:15:49.761935Z"
    },
    "execution": {
     "iopub.execute_input": "2025-08-07T23:40:25.773116Z",
     "iopub.status.busy": "2025-08-07T23:40:25.772115Z",
     "iopub.status.idle": "2025-08-07T23:40:25.775491Z",
     "shell.execute_reply": "2025-08-07T23:40:25.775491Z"
    }
   },
   "outputs": [
    {
     "name": "stdout",
     "output_type": "stream",
     "text": [
      "(1, (0.2, 0.3, 0.5)) * 3\n"
     ]
    }
   ],
   "source": [
    "print(record)"
   ]
  },
  {
   "cell_type": "markdown",
   "metadata": {},
   "source": [
    "When appending records, values may be provided. The following adds three more records."
   ]
  },
  {
   "cell_type": "code",
   "execution_count": 36,
   "metadata": {
    "ExecuteTime": {
     "end_time": "2025-07-21T02:15:49.798717Z",
     "start_time": "2025-07-21T02:15:49.794829Z"
    },
    "execution": {
     "iopub.execute_input": "2025-08-07T23:40:25.777586Z",
     "iopub.status.busy": "2025-08-07T23:40:25.776526Z",
     "iopub.status.idle": "2025-08-07T23:40:25.779691Z",
     "shell.execute_reply": "2025-08-07T23:40:25.779691Z"
    }
   },
   "outputs": [],
   "source": [
    "builder.append(1, 2)\n",
    "builder.append(None, [0.7, 0.1, 0.2])\n",
    "builder.append(0, 1).weight = 2\n"
   ]
  },
  {
   "cell_type": "markdown",
   "metadata": {},
   "source": [
    "Here is a dump of the data so far..."
   ]
  },
  {
   "cell_type": "code",
   "execution_count": 37,
   "metadata": {
    "ExecuteTime": {
     "end_time": "2025-07-21T02:15:49.819988Z",
     "start_time": "2025-07-21T02:15:49.817166Z"
    },
    "execution": {
     "iopub.execute_input": "2025-08-07T23:40:25.781696Z",
     "iopub.status.busy": "2025-08-07T23:40:25.780695Z",
     "iopub.status.idle": "2025-08-07T23:40:25.783947Z",
     "shell.execute_reply": "2025-08-07T23:40:25.783947Z"
    }
   },
   "outputs": [
    {
     "name": "stdout",
     "output_type": "stream",
     "text": [
      "rvs: [x, y]\n",
      "instances (4, with total weight 7):\n",
      "(1, (0.2, 0.3, 0.5)) * 3\n",
      "(1, 2) * 1\n",
      "(None, [0.7, 0.1, 0.2]) * 1\n",
      "(0, 1) * 2\n"
     ]
    }
   ],
   "source": [
    "builder.dump()"
   ]
  },
  {
   "cell_type": "markdown",
   "metadata": {},
   "source": [
    "Records can also be inserted. The insert `index` has same semantics as `list.insert`."
   ]
  },
  {
   "cell_type": "code",
   "execution_count": 38,
   "metadata": {
    "ExecuteTime": {
     "end_time": "2025-07-21T02:15:49.847648Z",
     "start_time": "2025-07-21T02:15:49.844005Z"
    },
    "execution": {
     "iopub.execute_input": "2025-08-07T23:40:25.785952Z",
     "iopub.status.busy": "2025-08-07T23:40:25.784951Z",
     "iopub.status.idle": "2025-08-07T23:40:25.788216Z",
     "shell.execute_reply": "2025-08-07T23:40:25.788216Z"
    }
   },
   "outputs": [
    {
     "name": "stdout",
     "output_type": "stream",
     "text": [
      "rvs: [x, y]\n",
      "instances (6, with total weight 9):\n",
      "(None, None) * 1\n",
      "(1, (0.2, 0.3, 0.5)) * 3\n",
      "(0, 0) * 1\n",
      "(1, 2) * 1\n",
      "(None, [0.7, 0.1, 0.2]) * 1\n",
      "(0, 1) * 2\n"
     ]
    }
   ],
   "source": [
    "builder.insert(0)  # insert at the start, all values missing\n",
    "builder.insert(2, [0, 0]) # insert before index position 2, using the given values\n",
    "\n",
    "builder.dump()"
   ]
  },
  {
   "cell_type": "markdown",
   "metadata": {},
   "source": [
    "Record values can also be set using random variable states."
   ]
  },
  {
   "cell_type": "code",
   "execution_count": 39,
   "metadata": {
    "ExecuteTime": {
     "end_time": "2025-07-21T02:15:49.870032Z",
     "start_time": "2025-07-21T02:15:49.866653Z"
    },
    "execution": {
     "iopub.execute_input": "2025-08-07T23:40:25.790221Z",
     "iopub.status.busy": "2025-08-07T23:40:25.789220Z",
     "iopub.status.idle": "2025-08-07T23:40:25.792688Z",
     "shell.execute_reply": "2025-08-07T23:40:25.792688Z"
    }
   },
   "outputs": [
    {
     "name": "stdout",
     "output_type": "stream",
     "text": [
      "rvs: [x, y]\n",
      "instances (7, with total weight 10):\n",
      "(True, 'maybe') * 1\n",
      "(False, (0.2, 0.3, 0.5)) * 3\n",
      "(True, 'yes') * 1\n",
      "(False, 'maybe') * 1\n",
      "(?, [0.7, 0.1, 0.2]) * 1\n",
      "(True, 'no') * 2\n",
      "(False, 'no') * 1\n"
     ]
    }
   ],
   "source": [
    "builder[0].set_states(True, 'maybe')\n",
    "builder.append().set_states(False, 'no')\n",
    "\n",
    "builder.dump(as_states=True, missing='?')"
   ]
  },
  {
   "cell_type": "markdown",
   "metadata": {},
   "source": [
    "## Convertion Between Datasets\n",
    "\n"
   ]
  },
  {
   "cell_type": "markdown",
   "metadata": {},
   "source": [
    "### using a dataset builder\n",
    "\n",
    "A dataset builder can be converted to a hard or soft dataset.\n",
    "\n",
    "When converting to a hard dataset, the state of a random variable with soft evidence will be the state with the highest weight. Ties broken arbitrarily.\n",
    "\n",
    "Missing values are set to the number of states of the random variable. That is an invalid state index for the random variable. Alternative values can be specified. In this example the value 99 is used to make the effect clearly visible.\n",
    "\n",
    "The following examples use the dataset builder from above"
   ]
  },
  {
   "cell_type": "code",
   "execution_count": 40,
   "metadata": {
    "ExecuteTime": {
     "end_time": "2025-07-21T02:15:49.888990Z",
     "start_time": "2025-07-21T02:15:49.885831Z"
    },
    "execution": {
     "iopub.execute_input": "2025-08-07T23:40:25.794693Z",
     "iopub.status.busy": "2025-08-07T23:40:25.793692Z",
     "iopub.status.idle": "2025-08-07T23:40:25.797215Z",
     "shell.execute_reply": "2025-08-07T23:40:25.797215Z"
    }
   },
   "outputs": [
    {
     "name": "stdout",
     "output_type": "stream",
     "text": [
      "rvs: [x, y]\n",
      "instances (7, with total weight 10.0):\n",
      "(0, 2) * 1.0\n",
      "(1, 2) * 3.0\n",
      "(0, 0) * 1.0\n",
      "(1, 2) * 1.0\n",
      "(99, 0) * 1.0\n",
      "(0, 1) * 2.0\n",
      "(1, 1) * 1.0\n"
     ]
    }
   ],
   "source": [
    "from ck.dataset.dataset_builder import hard_dataset_from_builder\n",
    "\n",
    "dataset: HardDataset = hard_dataset_from_builder(builder, missing=99)\n",
    "dataset.dump()"
   ]
  },
  {
   "cell_type": "markdown",
   "metadata": {},
   "source": [
    "When converting to a soft dataset, by default missing values have state weights set to NaN."
   ]
  },
  {
   "cell_type": "code",
   "execution_count": 41,
   "metadata": {
    "ExecuteTime": {
     "end_time": "2025-07-21T02:15:49.940262Z",
     "start_time": "2025-07-21T02:15:49.935406Z"
    },
    "execution": {
     "iopub.execute_input": "2025-08-07T23:40:25.799220Z",
     "iopub.status.busy": "2025-08-07T23:40:25.798219Z",
     "iopub.status.idle": "2025-08-07T23:40:25.802620Z",
     "shell.execute_reply": "2025-08-07T23:40:25.802620Z"
    }
   },
   "outputs": [
    {
     "name": "stdout",
     "output_type": "stream",
     "text": [
      "rvs: [x, y]\n",
      "instances (7, with total weight 10.0):\n",
      "([1. 0.], [0. 0. 1.]) * 1.0\n",
      "([0. 1.], [0.2 0.3 0.5]) * 3.0\n",
      "([1. 0.], [1. 0. 0.]) * 1.0\n",
      "([0. 1.], [0. 0. 1.]) * 1.0\n",
      "([nan nan], [0.7 0.1 0.2]) * 1.0\n",
      "([1. 0.], [0. 1. 0.]) * 2.0\n",
      "([0. 1.], [0. 1. 0.]) * 1.0\n"
     ]
    }
   ],
   "source": [
    "from ck.dataset.dataset_builder import soft_dataset_from_builder\n",
    "\n",
    "dataset: SoftDataset = soft_dataset_from_builder(builder)\n",
    "dataset.dump()"
   ]
  },
  {
   "cell_type": "markdown",
   "metadata": {},
   "source": [
    "To add records to a dataset builder from a hard or soft dataset, use `DatasetBuilder.append_dataset`."
   ]
  },
  {
   "cell_type": "code",
   "execution_count": 42,
   "metadata": {
    "ExecuteTime": {
     "end_time": "2025-07-21T02:15:49.979319Z",
     "start_time": "2025-07-21T02:15:49.974599Z"
    },
    "execution": {
     "iopub.execute_input": "2025-08-07T23:40:25.804626Z",
     "iopub.status.busy": "2025-08-07T23:40:25.803625Z",
     "iopub.status.idle": "2025-08-07T23:40:25.808549Z",
     "shell.execute_reply": "2025-08-07T23:40:25.808549Z"
    }
   },
   "outputs": [
    {
     "name": "stdout",
     "output_type": "stream",
     "text": [
      "rvs: [grade, letter]\n",
      "instances (8, with total weight 14.0):\n",
      "(0, 0) * 1.0\n",
      "(1, 0) * 1.0\n",
      "(1, 1) * 1.0\n",
      "(0, 1) * 1.0\n",
      "([0.6 0.2 0.2], [0.6 0.4]) * 2.2\n",
      "([0. 0. 1.], [1. 0.]) * 1.0\n",
      "([0. 1. 0.], [0. 1.]) * 5.8\n",
      "([0.3 0.4 0.3], [0.3 0.7]) * 1.0\n"
     ]
    }
   ],
   "source": [
    "hard_dataset: HardDataset = HardDataset([\n",
    "    (letter, [0, 0, 1, 1]),\n",
    "    (grade, [0, 1, 1, 0]),\n",
    "])\n",
    "\n",
    "soft_dataset: SoftDataset = SoftDataset(\n",
    "    [\n",
    "        (letter, [[0.6, 0.4], [1.0, 0.0], [0.0, 1.0], [0.3, 0.7]]),\n",
    "        (grade, [[0.6, 0.2, 0.2], [0.0, 0.0, 1.0], [0.0, 1.0, 0.0], [0.3, 0.4, 0.3]]),\n",
    "    ],\n",
    "    weights=[2.2, 1.0, 5.8, 1.0],\n",
    ")\n",
    "\n",
    "builder: DatasetBuilder = DatasetBuilder([letter, grade])\n",
    "\n",
    "builder.append_dataset(hard_dataset)\n",
    "builder.append_dataset(soft_dataset)\n",
    "\n",
    "builder.dump()"
   ]
  },
  {
   "cell_type": "markdown",
   "metadata": {},
   "source": [
    "### direct dataset conversion\n",
    "\n",
    "While a `DatasetBuilder` can be used to convert between datasets, it is possible to directly convert between `HardDataset` and `SoftDataset` objects.\n",
    "\n",
    "When converting to a hard dataset from a soft dataset, the state of a random variable will be the state with the highest weight. Ties broken arbitrarily."
   ]
  },
  {
   "cell_type": "code",
   "execution_count": 43,
   "metadata": {
    "ExecuteTime": {
     "end_time": "2025-07-21T02:15:50.014698Z",
     "start_time": "2025-07-21T02:15:50.010446Z"
    },
    "execution": {
     "iopub.execute_input": "2025-08-07T23:40:25.810554Z",
     "iopub.status.busy": "2025-08-07T23:40:25.809552Z",
     "iopub.status.idle": "2025-08-07T23:40:25.813494Z",
     "shell.execute_reply": "2025-08-07T23:40:25.813494Z"
    }
   },
   "outputs": [
    {
     "name": "stdout",
     "output_type": "stream",
     "text": [
      "rvs: [letter, grade]\n",
      "instances (4, with total weight 4.0):\n",
      "([1. 0.], [1. 0. 0.]) * 1.0\n",
      "([1. 0.], [0. 1. 0.]) * 1.0\n",
      "([0. 1.], [0. 1. 0.]) * 1.0\n",
      "([0. 1.], [1. 0. 0.]) * 1.0\n"
     ]
    }
   ],
   "source": [
    "soft_dataset: SoftDataset = SoftDataset.from_hard_dataset(hard_dataset)\n",
    "soft_dataset.dump()"
   ]
  },
  {
   "cell_type": "code",
   "execution_count": 44,
   "metadata": {
    "ExecuteTime": {
     "end_time": "2025-07-21T02:15:50.066563Z",
     "start_time": "2025-07-21T02:15:50.062758Z"
    },
    "execution": {
     "iopub.execute_input": "2025-08-07T23:40:25.814498Z",
     "iopub.status.busy": "2025-08-07T23:40:25.814498Z",
     "iopub.status.idle": "2025-08-07T23:40:25.817830Z",
     "shell.execute_reply": "2025-08-07T23:40:25.817830Z"
    }
   },
   "outputs": [
    {
     "name": "stdout",
     "output_type": "stream",
     "text": [
      "rvs: [letter, grade]\n",
      "instances (4, with total weight 4.0):\n",
      "(0, 0) * 1.0\n",
      "(0, 1) * 1.0\n",
      "(1, 1) * 1.0\n",
      "(1, 0) * 1.0\n"
     ]
    }
   ],
   "source": [
    "hard_dataset: HardDataset = HardDataset.from_soft_dataset(soft_dataset)\n",
    "hard_dataset.dump()"
   ]
  },
  {
   "cell_type": "markdown",
   "metadata": {},
   "source": [
    "### expanding a soft dataset\n",
    "\n",
    "A hard dataset can be constructed with the same data semantics as a given soft dataset\n",
    "by expanding and cross-multiplying soft evidence (discussed above).\n",
    "\n",
    "Any state weights in the soft dataset that represents uncertainty over states\n",
    "of a random variable will be converted to an equivalent set of weighted hard\n",
    "instances. This means that the returned dataset may have a number of instances\n",
    "different to that of the given soft dataset.\n",
    "\n",
    "This implementation works by constructing a cross-table from the given soft dataset.\n",
    "(Cross-tables are explained below.) This means that the resulting hard dataset\n",
    "will have no duplicated instances and no instances with weight zero.\n",
    "\n",
    "The ordering of instances in the returned dataset is not guaranteed."
   ]
  },
  {
   "cell_type": "code",
   "execution_count": 45,
   "metadata": {
    "ExecuteTime": {
     "end_time": "2025-07-21T02:15:50.105680Z",
     "start_time": "2025-07-21T02:15:50.098900Z"
    },
    "execution": {
     "iopub.execute_input": "2025-08-07T23:40:25.819836Z",
     "iopub.status.busy": "2025-08-07T23:40:25.818835Z",
     "iopub.status.idle": "2025-08-07T23:40:25.824105Z",
     "shell.execute_reply": "2025-08-07T23:40:25.824105Z"
    }
   },
   "outputs": [
    {
     "name": "stdout",
     "output_type": "stream",
     "text": [
      "rvs: [x, y]\n",
      "instances (4, with total weight 7.449999999999999):\n",
      "(0, 0) * 2.4\n",
      "(0, 2) * 1.0\n",
      "(1, 2) * 3.45\n",
      "(1, 0) * 0.6\n"
     ]
    }
   ],
   "source": [
    "from ck.dataset.dataset_from_crosstable import expand_soft_dataset\n",
    "\n",
    "weights = [2.0, 0.0, 3.0, 5.0]\n",
    "x_data = [\n",
    "    [1.0, 0.0],\n",
    "    [0.0, 1.0],\n",
    "    [0.1, 0.8],\n",
    "    [0.2, 0.3],\n",
    "]\n",
    "y_data = [\n",
    "    [1.0, 0.0, 0.0],\n",
    "    [0.3, 0.4, 0.7],\n",
    "    [0.0, 0.0, 1.0],\n",
    "    [0.4, 0.0, 0.7],\n",
    "]\n",
    "soft_dataset = SoftDataset(\n",
    "    [\n",
    "        (x, x_data),\n",
    "        (y, y_data)\n",
    "    ],\n",
    "    weights=weights,\n",
    ")\n",
    "\n",
    "\n",
    "hard_dataset = expand_soft_dataset(soft_dataset)\n",
    "hard_dataset.dump()"
   ]
  },
  {
   "cell_type": "markdown",
   "metadata": {},
   "source": [
    "## Dataset from CSV\n",
    "\n",
    "A module is provided to create a dataset from CSV lines.\n",
    "\n",
    "Each CSV line should contain comma-separated state indices for a nominated sequence of random variables.\n",
    "(Other separators apart from commas can be used.)\n",
    "\n",
    "Whitespace around values are ignored. Blank lines and comments are ignored. By default, comments start with a hash (#).\n",
    "\n",
    "Optionally, a column of the input can be read as instance weights.\n",
    "\n",
    "Here is an example."
   ]
  },
  {
   "cell_type": "code",
   "execution_count": 46,
   "metadata": {
    "ExecuteTime": {
     "end_time": "2025-07-21T02:15:50.141059Z",
     "start_time": "2025-07-21T02:15:50.136854Z"
    },
    "execution": {
     "iopub.execute_input": "2025-08-07T23:40:25.826110Z",
     "iopub.status.busy": "2025-08-07T23:40:25.825108Z",
     "iopub.status.idle": "2025-08-07T23:40:25.829526Z",
     "shell.execute_reply": "2025-08-07T23:40:25.829526Z"
    }
   },
   "outputs": [
    {
     "name": "stdout",
     "output_type": "stream",
     "text": [
      "rvs: [x, y, z]\n",
      "instances (3, with total weight 3.0):\n",
      "(1, 2, 3) * 1.0\n",
      "(0, 1, 2) * 1.0\n",
      "(0, 0, 1) * 1.0\n"
     ]
    }
   ],
   "source": [
    "from ck.dataset.dataset_from_csv import hard_dataset_from_csv\n",
    "from ck.pgm import PGM\n",
    "\n",
    "pgm: PGM = PGM()\n",
    "x = pgm.new_rv('x', 2)\n",
    "y = pgm.new_rv('y', 3)\n",
    "z = pgm.new_rv('z', 4)\n",
    "\n",
    "lines  = [\n",
    "    '1, 2, 3  # this is a comment',\n",
    "    '', # a blank line\n",
    "    '0, 1, 2',\n",
    "    '# this is also a comment',\n",
    "    '0, 0, 1',\n",
    "]\n",
    "dataset: HardDataset = hard_dataset_from_csv(pgm.rvs, lines)\n",
    "dataset.dump()"
   ]
  },
  {
   "cell_type": "markdown",
   "metadata": {},
   "source": [
    "If the CSV data is as a single string, simply use `splitlines`."
   ]
  },
  {
   "cell_type": "code",
   "execution_count": 47,
   "metadata": {
    "ExecuteTime": {
     "end_time": "2025-07-21T02:15:50.165676Z",
     "start_time": "2025-07-21T02:15:50.161211Z"
    },
    "execution": {
     "iopub.execute_input": "2025-08-07T23:40:25.831532Z",
     "iopub.status.busy": "2025-08-07T23:40:25.830531Z",
     "iopub.status.idle": "2025-08-07T23:40:25.833905Z",
     "shell.execute_reply": "2025-08-07T23:40:25.833905Z"
    }
   },
   "outputs": [
    {
     "name": "stdout",
     "output_type": "stream",
     "text": [
      "rvs: [x, y, z]\n",
      "instances (3, with total weight 3.0):\n",
      "(1, 1, 0) * 1.0\n",
      "(1, 1, 2) * 1.0\n",
      "(0, 2, 1) * 1.0\n"
     ]
    }
   ],
   "source": [
    "csv  = \"\"\"\n",
    "    1, 1, 0  # this is a comment\n",
    "    1, 1, 2\n",
    "    0, 2, 1\n",
    "    \"\"\"\n",
    "dataset: HardDataset = hard_dataset_from_csv(pgm.rvs, csv.splitlines())\n",
    "dataset.dump()"
   ]
  },
  {
   "cell_type": "markdown",
   "metadata": {},
   "source": [
    "If a header line appears in the data, then only columns matching the random variable names will be loaded."
   ]
  },
  {
   "cell_type": "code",
   "execution_count": 48,
   "metadata": {
    "ExecuteTime": {
     "end_time": "2025-07-21T02:15:50.208147Z",
     "start_time": "2025-07-21T02:15:50.195062Z"
    },
    "execution": {
     "iopub.execute_input": "2025-08-07T23:40:25.835909Z",
     "iopub.status.busy": "2025-08-07T23:40:25.834909Z",
     "iopub.status.idle": "2025-08-07T23:40:25.838370Z",
     "shell.execute_reply": "2025-08-07T23:40:25.838370Z"
    }
   },
   "outputs": [
    {
     "name": "stdout",
     "output_type": "stream",
     "text": [
      "rvs: [x, y, z]\n",
      "instances (2, with total weight 2.0):\n",
      "(1, 2, 3) * 1.0\n",
      "(0, 1, 2) * 1.0\n"
     ]
    }
   ],
   "source": [
    "csv  = \"\"\"\n",
    "    z, Q, y, x\n",
    "    3, 7, 2, 1\n",
    "    2, 6, 1, 0\n",
    "    \"\"\"\n",
    "dataset: HardDataset = hard_dataset_from_csv(pgm.rvs, csv.splitlines())\n",
    "dataset.dump()"
   ]
  },
  {
   "cell_type": "markdown",
   "metadata": {},
   "source": [
    "Here is an example with a weight column, nominated using a column index. (Positive and negative column indices are permitted.)"
   ]
  },
  {
   "cell_type": "code",
   "execution_count": 49,
   "metadata": {
    "ExecuteTime": {
     "end_time": "2025-07-21T02:15:50.241917Z",
     "start_time": "2025-07-21T02:15:50.238008Z"
    },
    "execution": {
     "iopub.execute_input": "2025-08-07T23:40:25.840375Z",
     "iopub.status.busy": "2025-08-07T23:40:25.839374Z",
     "iopub.status.idle": "2025-08-07T23:40:25.842782Z",
     "shell.execute_reply": "2025-08-07T23:40:25.842782Z"
    }
   },
   "outputs": [
    {
     "name": "stdout",
     "output_type": "stream",
     "text": [
      "rvs: [x, y, z]\n",
      "instances (2, with total weight 5.8):\n",
      "(0, 2, 3) * 1.3\n",
      "(1, 1, 2) * 4.5\n"
     ]
    }
   ],
   "source": [
    "csv  = \"\"\"\n",
    "    0, 2, 3, 1.3\n",
    "    1, 1, 2, 4.5\n",
    "    \"\"\"\n",
    "dataset: HardDataset = hard_dataset_from_csv(pgm.rvs, csv.splitlines(), weights=-1)\n",
    "dataset.dump()\n"
   ]
  },
  {
   "cell_type": "markdown",
   "metadata": {},
   "source": [
    "A weight column can also be nominated by name, if the CSV data has a header line."
   ]
  },
  {
   "cell_type": "code",
   "execution_count": 50,
   "metadata": {
    "ExecuteTime": {
     "end_time": "2025-07-21T02:15:50.269964Z",
     "start_time": "2025-07-21T02:15:50.254283Z"
    },
    "execution": {
     "iopub.execute_input": "2025-08-07T23:40:25.844786Z",
     "iopub.status.busy": "2025-08-07T23:40:25.843786Z",
     "iopub.status.idle": "2025-08-07T23:40:25.847152Z",
     "shell.execute_reply": "2025-08-07T23:40:25.847152Z"
    }
   },
   "outputs": [
    {
     "name": "stdout",
     "output_type": "stream",
     "text": [
      "rvs: [x, y, z]\n",
      "instances (2, with total weight 7.8):\n",
      "(1, 2, 3) * 2.3\n",
      "(0, 1, 2) * 5.5\n"
     ]
    }
   ],
   "source": [
    "csv  = \"\"\"\n",
    "    Weight, z, Q, y, x\n",
    "    2.3,    3, 7, 2, 1\n",
    "    5.5,    2, 6, 1, 0\n",
    "    \"\"\"\n",
    "dataset: HardDataset = hard_dataset_from_csv(pgm.rvs, csv.splitlines(), weights='Weight')\n",
    "dataset.dump()\n"
   ]
  },
  {
   "cell_type": "markdown",
   "metadata": {},
   "source": [
    "Because a text file is an iterable of lines, one can be used directly as the data source for `hard_dataset_from_csv`. Typical usage may be something like:\n",
    "\n",
    "```\n",
    "with open('my_data.csv', 'r') as file:\n",
    "    dataset = hard_dataset_from_csv(rvs, file)\n",
    "```\n",
    "\n",
    "Here we create an in-memory file using `StringIO`."
   ]
  },
  {
   "cell_type": "code",
   "execution_count": 51,
   "metadata": {
    "ExecuteTime": {
     "end_time": "2025-07-21T02:15:50.286343Z",
     "start_time": "2025-07-21T02:15:50.282432Z"
    },
    "execution": {
     "iopub.execute_input": "2025-08-07T23:40:25.849157Z",
     "iopub.status.busy": "2025-08-07T23:40:25.848156Z",
     "iopub.status.idle": "2025-08-07T23:40:25.851637Z",
     "shell.execute_reply": "2025-08-07T23:40:25.851637Z"
    }
   },
   "outputs": [
    {
     "name": "stdout",
     "output_type": "stream",
     "text": [
      "rvs: [x, y, z]\n",
      "instances (2, with total weight 2.0):\n",
      "(1, 2, 3) * 1.0\n",
      "(0, 1, 2) * 1.0\n"
     ]
    }
   ],
   "source": [
    "from io import StringIO\n",
    "\n",
    "file = StringIO('''\n",
    "    1, 2, 3\n",
    "    0, 1, 2\n",
    "''')\n",
    "dataset: HardDataset = hard_dataset_from_csv(pgm.rvs, file)\n",
    "dataset.dump()\n"
   ]
  },
  {
   "cell_type": "markdown",
   "metadata": {},
   "source": [
    "## Sampled Datasets\n",
    "\n",
    "A hard dataset can be created from a sampler.\n",
    "\n",
    "In this example, a sampled dataset is created using the \"Student\" PGM."
   ]
  },
  {
   "cell_type": "code",
   "execution_count": 52,
   "metadata": {
    "ExecuteTime": {
     "end_time": "2025-07-21T02:15:50.434037Z",
     "start_time": "2025-07-21T02:15:50.318695Z"
    },
    "execution": {
     "iopub.execute_input": "2025-08-07T23:40:25.853641Z",
     "iopub.status.busy": "2025-08-07T23:40:25.852640Z",
     "iopub.status.idle": "2025-08-07T23:40:25.960586Z",
     "shell.execute_reply": "2025-08-07T23:40:25.960586Z"
    }
   },
   "outputs": [
    {
     "name": "stdout",
     "output_type": "stream",
     "text": [
      "difficult intelligent grade sat letter\n"
     ]
    }
   ],
   "source": [
    "from ck.example import Student\n",
    "from ck.pgm_compiler import DEFAULT_PGM_COMPILER\n",
    "from ck.pgm_circuit.wmc_program import WMCProgram\n",
    "\n",
    "pgm = Student()\n",
    "wmc = WMCProgram(DEFAULT_PGM_COMPILER(pgm))\n",
    "sampler = wmc.sample_direct()\n",
    "\n",
    "print(*sampler.rvs)"
   ]
  },
  {
   "cell_type": "code",
   "execution_count": 53,
   "metadata": {
    "ExecuteTime": {
     "end_time": "2025-07-21T02:15:50.455957Z",
     "start_time": "2025-07-21T02:15:50.451141Z"
    },
    "execution": {
     "iopub.execute_input": "2025-08-07T23:40:25.962590Z",
     "iopub.status.busy": "2025-08-07T23:40:25.961589Z",
     "iopub.status.idle": "2025-08-07T23:40:25.966398Z",
     "shell.execute_reply": "2025-08-07T23:40:25.966398Z"
    }
   },
   "outputs": [
    {
     "name": "stdout",
     "output_type": "stream",
     "text": [
      "rvs: [difficult, intelligent, grade, sat, letter]\n",
      "instances (10, with total weight 10.0):\n",
      "(0, 0, 2, 1, 0) * 1.0\n",
      "(0, 0, 1, 0, 1) * 1.0\n",
      "(1, 0, 0, 1, 1) * 1.0\n",
      "(1, 0, 0, 0, 1) * 1.0\n",
      "(0, 0, 1, 0, 0) * 1.0\n",
      "(0, 0, 0, 0, 1) * 1.0\n",
      "(0, 1, 2, 1, 0) * 1.0\n",
      "(0, 0, 1, 0, 0) * 1.0\n",
      "(0, 1, 2, 0, 0) * 1.0\n",
      "(1, 0, 0, 0, 1) * 1.0\n"
     ]
    }
   ],
   "source": [
    "from ck.dataset.sampled_dataset import dataset_from_sampler\n",
    "\n",
    "dataset = dataset_from_sampler(sampler, 10)\n",
    "\n",
    "dataset.dump()"
   ]
  },
  {
   "cell_type": "markdown",
   "metadata": {},
   "source": [
    "## Cross-tables\n",
    "\n",
    "A cross-table records the total weight for possible combinations of states for some random variables. Its primary purpose is to represent empirical distributions over joint states of the random variables.\n",
    "\n",
    "Practically, a cross-table is a mutable mapping from states of the cross-table random variables (as a tuple of state indices) to a weight (as a float). Instances with weight zero are not explicitly represented in a cross-table.\n",
    "\n",
    "Here is an example of a manually created cross-table."
   ]
  },
  {
   "cell_type": "code",
   "execution_count": 54,
   "metadata": {
    "ExecuteTime": {
     "end_time": "2025-07-21T02:15:50.476637Z",
     "start_time": "2025-07-21T02:15:50.472347Z"
    },
    "execution": {
     "iopub.execute_input": "2025-08-07T23:40:25.968403Z",
     "iopub.status.busy": "2025-08-07T23:40:25.967401Z",
     "iopub.status.idle": "2025-08-07T23:40:25.971295Z",
     "shell.execute_reply": "2025-08-07T23:40:25.971295Z"
    }
   },
   "outputs": [
    {
     "name": "stdout",
     "output_type": "stream",
     "text": [
      "(0, 0, 0, 0, 0) 3.4\n",
      "(0, 0, 0, 0, 1) 2.1\n",
      "(0, 1, 1, 0, 0) 9.3\n"
     ]
    }
   ],
   "source": [
    "from ck.dataset.cross_table import CrossTable, cross_table_from_dataset\n",
    "\n",
    "crosstab = CrossTable(rvs=[difficult, intelligent, grade, sat, letter])\n",
    "\n",
    "crosstab[(0, 0, 0, 0, 0)] = 3.4\n",
    "crosstab[(0, 0, 0, 0, 1)] = 2.1\n",
    "crosstab[(0, 1, 1, 0, 0)] = 9.3\n",
    "\n",
    "for instance, weight in crosstab.items():\n",
    "    print(instance, weight)"
   ]
  },
  {
   "cell_type": "markdown",
   "metadata": {},
   "source": [
    " A cross-table can be constructed from a dataset.\n",
    "\n",
    "This example uses the dataset created above using a sampler."
   ]
  },
  {
   "cell_type": "code",
   "execution_count": 55,
   "metadata": {
    "ExecuteTime": {
     "end_time": "2025-07-21T02:15:50.497244Z",
     "start_time": "2025-07-21T02:15:50.492916Z"
    },
    "execution": {
     "iopub.execute_input": "2025-08-07T23:40:25.973300Z",
     "iopub.status.busy": "2025-08-07T23:40:25.972300Z",
     "iopub.status.idle": "2025-08-07T23:40:25.976052Z",
     "shell.execute_reply": "2025-08-07T23:40:25.976052Z"
    }
   },
   "outputs": [
    {
     "name": "stdout",
     "output_type": "stream",
     "text": [
      "difficult"
     ]
    },
    {
     "name": "stdout",
     "output_type": "stream",
     "text": [
      " intelligent grade sat letter\n",
      "(np.uint8(0), np.uint8(0), np.uint8(2), np.uint8(1), np.uint8(0)) 1.0\n",
      "(np.uint8(0), np.uint8(0), np.uint8(1), np.uint8(0), np.uint8(1)) 1.0\n",
      "(np.uint8(1), np.uint8(0), np.uint8(0), np.uint8(1), np.uint8(1)) 1.0\n",
      "(np.uint8(1), np.uint8(0), np.uint8(0), np.uint8(0), np.uint8(1)) 2.0\n",
      "(np.uint8(0), np.uint8(0), np.uint8(1), np.uint8(0), np.uint8(0)) 2.0\n",
      "(np.uint8(0), np.uint8(0), np.uint8(0), np.uint8(0), np.uint8(1)) 1.0\n",
      "(np.uint8(0), np.uint8(1), np.uint8(2), np.uint8(1), np.uint8(0)) 1.0\n",
      "(np.uint8(0), np.uint8(1), np.uint8(2), np.uint8(0), np.uint8(0)) 1.0\n",
      "total weight: 10.0\n"
     ]
    }
   ],
   "source": [
    "crosstab = cross_table_from_dataset(dataset)\n",
    "\n",
    "print(*crosstab.rvs)\n",
    "for instance, weight in crosstab.items():\n",
    "    print(instance, weight)\n",
    "\n",
    "print('total weight:', crosstab.total_weight())"
   ]
  },
  {
   "cell_type": "markdown",
   "metadata": {},
   "source": [
    "Even though zero weighted instances are not directly represented, they can still be queried."
   ]
  },
  {
   "cell_type": "code",
   "execution_count": 56,
   "metadata": {
    "ExecuteTime": {
     "end_time": "2025-07-21T02:15:50.546015Z",
     "start_time": "2025-07-21T02:15:50.541920Z"
    },
    "execution": {
     "iopub.execute_input": "2025-08-07T23:40:25.978057Z",
     "iopub.status.busy": "2025-08-07T23:40:25.977056Z",
     "iopub.status.idle": "2025-08-07T23:40:25.980789Z",
     "shell.execute_reply": "2025-08-07T23:40:25.980789Z"
    }
   },
   "outputs": [
    {
     "data": {
      "text/plain": [
       "0"
      ]
     },
     "execution_count": 56,
     "metadata": {},
     "output_type": "execute_result"
    }
   ],
   "source": [
    "crosstab[(1, 0, 0, 0, 0)]"
   ]
  },
  {
   "cell_type": "markdown",
   "metadata": {},
   "source": [
    "Observe that a cross-table is logically equivalent to a dataset. A hard dataset can be created directly from cross-table using `dataset_from_cross_table`, like the following."
   ]
  },
  {
   "cell_type": "code",
   "execution_count": 57,
   "metadata": {
    "ExecuteTime": {
     "end_time": "2025-07-21T02:15:50.602137Z",
     "start_time": "2025-07-21T02:15:50.598189Z"
    },
    "execution": {
     "iopub.execute_input": "2025-08-07T23:40:25.982794Z",
     "iopub.status.busy": "2025-08-07T23:40:25.981794Z",
     "iopub.status.idle": "2025-08-07T23:40:25.985347Z",
     "shell.execute_reply": "2025-08-07T23:40:25.985347Z"
    }
   },
   "outputs": [
    {
     "name": "stdout",
     "output_type": "stream",
     "text": [
      "rvs: [difficult, intelligent, grade, sat, letter]\n",
      "instances (8, with total weight 10.0):\n",
      "(0, 0, 2, 1, 0) * 1.0\n",
      "(0, 0, 1, 0, 1) * 1.0\n",
      "(1, 0, 0, 1, 1) * 1.0\n",
      "(1, 0, 0, 0, 1) * 2.0\n",
      "(0, 0, 1, 0, 0) * 2.0\n",
      "(0, 0, 0, 0, 1) * 1.0\n",
      "(0, 1, 2, 1, 0) * 1.0\n",
      "(0, 1, 2, 0, 0) * 1.0\n"
     ]
    }
   ],
   "source": [
    "from ck.dataset.dataset_from_crosstable import dataset_from_cross_table\n",
    "\n",
    "dataset_2 = dataset_from_cross_table(crosstab)\n",
    "\n",
    "dataset_2.dump()"
   ]
  },
  {
   "cell_type": "markdown",
   "metadata": {},
   "source": [
    "A cross-table can also be sampled, using a `CrossTableSampler`. Instances will be drawn from the sampler according to their weight in the given cross-table.\n",
    "\n",
    "Note that if the given cross-table is modified after constructing the sampler, the sampler will not be affected."
   ]
  },
  {
   "cell_type": "code",
   "execution_count": 58,
   "metadata": {
    "ExecuteTime": {
     "end_time": "2025-07-21T02:15:50.631887Z",
     "start_time": "2025-07-21T02:15:50.628501Z"
    },
    "execution": {
     "iopub.execute_input": "2025-08-07T23:40:25.987352Z",
     "iopub.status.busy": "2025-08-07T23:40:25.986351Z",
     "iopub.status.idle": "2025-08-07T23:40:25.989858Z",
     "shell.execute_reply": "2025-08-07T23:40:25.989858Z"
    }
   },
   "outputs": [
    {
     "name": "stdout",
     "output_type": "stream",
     "text": [
      "(np.uint8(0), np.uint8(0), np.uint8(0), np.uint8(0), np.uint8(1))\n",
      "(np.uint8(0), np.uint8(0), np.uint8(2), np.uint8(1), np.uint8(0))\n",
      "(np.uint8(1), np.uint8(0), np.uint8(0), np.uint8(0), np.uint8(1))\n",
      "(np.uint8(0), np.uint8(0), np.uint8(1), np.uint8(0), np.uint8(0))\n",
      "(np.uint8(0), np.uint8(0), np.uint8(1), np.uint8(0), np.uint8(0))\n",
      "(np.uint8(1), np.uint8(0), np.uint8(0), np.uint8(1), np.uint8(1))\n",
      "(np.uint8(0), np.uint8(0), np.uint8(1), np.uint8(0), np.uint8(1))\n",
      "(np.uint8(0), np.uint8(1), np.uint8(2), np.uint8(1), np.uint8(0))\n"
     ]
    }
   ],
   "source": [
    "from ck.dataset.sampled_dataset import CrossTableSampler\n",
    "\n",
    "crosstab_sampler = CrossTableSampler(crosstab)\n",
    "\n",
    "for inst in crosstab_sampler.take(8):\n",
    "    print(inst)\n"
   ]
  }
 ],
 "metadata": {
  "kernelspec": {
   "display_name": "Python 3 (ipykernel)",
   "language": "python",
   "name": "python3"
  },
  "language_info": {
   "codemirror_mode": {
    "name": "ipython",
    "version": 3
   },
   "file_extension": ".py",
   "mimetype": "text/x-python",
   "name": "python",
   "nbconvert_exporter": "python",
   "pygments_lexer": "ipython3",
   "version": "3.12.10"
  }
 },
 "nbformat": 4,
 "nbformat_minor": 1
}
