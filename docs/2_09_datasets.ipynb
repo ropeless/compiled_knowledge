{
 "cells": [
  {
   "cell_type": "markdown",
   "metadata": {},
   "source": [
    "# Datasets\n",
    "\n",
    "Within CK, data for machine learning and other analyses are represented using a `Dataset`.\n",
    "\n",
    "Logically a dataset is a table of data where columns represent random variables and each row represents an _instance_ (also known as a _sample_, _data point_, or _joint states_).\n",
    "\n",
    "The _length_ of a dataset is the number of instances in the dataset. In CK, the length of a dataset is determined at construction time, and cannot be modified. Random variables can be added to and removed from a dataset.\n",
    "\n",
    "Each instance in a dataset has an instance weight. An instance weight represents a _weight of evidence_. The value of an instance weight is notionally 1, but can se set to other values to represent multiple or fractional evidence. This is explained in detail below.\n",
    "\n",
    "A CK dataset is either a `HardDataset` or `SoftDataset`. These are explained in the next section, with reference to the following simple PGM."
   ]
  },
  {
   "cell_type": "code",
   "execution_count": 1,
   "metadata": {
    "ExecuteTime": {
     "end_time": "2025-07-15T03:27:14.027686Z",
     "start_time": "2025-07-15T03:27:13.950949Z"
    },
    "execution": {
     "iopub.execute_input": "2025-07-15T03:55:08.687706Z",
     "iopub.status.busy": "2025-07-15T03:55:08.687706Z",
     "iopub.status.idle": "2025-07-15T03:55:08.699616Z",
     "shell.execute_reply": "2025-07-15T03:55:08.699616Z"
    }
   },
   "outputs": [],
   "source": [
    "from ck.pgm import PGM, RandomVariable\n",
    "\n",
    "pgm: PGM = PGM()\n",
    "difficult: RandomVariable = pgm.new_rv('difficult', ('Yes', 'No'))\n",
    "intelligent: RandomVariable = pgm.new_rv('intelligent', ('Yes', 'No'))\n",
    "grade: RandomVariable = pgm.new_rv('grade', ('1', '2', '3'))\n",
    "sat: RandomVariable = pgm.new_rv('sat', ('High', 'Low'))\n",
    "letter: RandomVariable = pgm.new_rv('letter', ('Yes', 'No'))\n"
   ]
  },
  {
   "cell_type": "markdown",
   "metadata": {},
   "source": [
    "## Hard Datasets\n",
    "\n",
    "A hard dataset represents instances of hard evidence for a collection of random variables. That is, for each instance, each random variable is in a specific state.\n",
    "\n",
    "There are multiple ways to initialise a dataset. Here we create a dataset of length 5, with no random variables."
   ]
  },
  {
   "cell_type": "code",
   "execution_count": 2,
   "metadata": {
    "ExecuteTime": {
     "end_time": "2025-07-15T03:27:14.269652Z",
     "start_time": "2025-07-15T03:27:14.261349Z"
    },
    "execution": {
     "iopub.execute_input": "2025-07-15T03:55:08.701624Z",
     "iopub.status.busy": "2025-07-15T03:55:08.701624Z",
     "iopub.status.idle": "2025-07-15T03:55:08.708137Z",
     "shell.execute_reply": "2025-07-15T03:55:08.708137Z"
    }
   },
   "outputs": [
    {
     "data": {
      "text/plain": [
       "5"
      ]
     },
     "execution_count": 2,
     "metadata": {},
     "output_type": "execute_result"
    }
   ],
   "source": [
    "from ck.dataset import HardDataset\n",
    "\n",
    "# Create and empty dataset - no instances and no random variables.\n",
    "dataset = HardDataset(length=5)\n",
    "\n",
    "len(dataset)\n"
   ]
  },
  {
   "cell_type": "markdown",
   "metadata": {},
   "source": [
    "This dataset has no random variables."
   ]
  },
  {
   "cell_type": "code",
   "execution_count": 3,
   "metadata": {
    "ExecuteTime": {
     "end_time": "2025-07-15T03:27:14.296518Z",
     "start_time": "2025-07-15T03:27:14.292133Z"
    },
    "execution": {
     "iopub.execute_input": "2025-07-15T03:55:08.737211Z",
     "iopub.status.busy": "2025-07-15T03:55:08.736239Z",
     "iopub.status.idle": "2025-07-15T03:55:08.740515Z",
     "shell.execute_reply": "2025-07-15T03:55:08.740515Z"
    }
   },
   "outputs": [
    {
     "data": {
      "text/plain": [
       "()"
      ]
     },
     "execution_count": 3,
     "metadata": {},
     "output_type": "execute_result"
    }
   ],
   "source": [
    "dataset.rvs"
   ]
  },
  {
   "cell_type": "markdown",
   "metadata": {},
   "source": [
    "## Updating dataset random variables\n",
    "Each random variable of a hard dataset is associated with a series, which is a 1D numpy array.\n",
    "\n",
    "The length of the series is the same as the length of the dataset, and the *i*th element that holds the state index of the random variable for the *i*th instance.\n",
    "\n",
    "One way to add a random variable to a dataset is to have the dataset allocate memory for the series, and initialise it to zero."
   ]
  },
  {
   "cell_type": "code",
   "execution_count": 4,
   "metadata": {
    "ExecuteTime": {
     "end_time": "2025-07-15T03:27:14.323107Z",
     "start_time": "2025-07-15T03:27:14.319119Z"
    },
    "execution": {
     "iopub.execute_input": "2025-07-15T03:55:08.742520Z",
     "iopub.status.busy": "2025-07-15T03:55:08.741520Z",
     "iopub.status.idle": "2025-07-15T03:55:08.745030Z",
     "shell.execute_reply": "2025-07-15T03:55:08.745030Z"
    }
   },
   "outputs": [
    {
     "name": "stdout",
     "output_type": "stream",
     "text": [
      "letter\n"
     ]
    }
   ],
   "source": [
    "letter_series = dataset.add_rv(letter)\n",
    "\n",
    "print(*dataset.rvs)"
   ]
  },
  {
   "cell_type": "code",
   "execution_count": 5,
   "metadata": {
    "ExecuteTime": {
     "end_time": "2025-07-15T03:27:14.351751Z",
     "start_time": "2025-07-15T03:27:14.346944Z"
    },
    "execution": {
     "iopub.execute_input": "2025-07-15T03:55:08.747036Z",
     "iopub.status.busy": "2025-07-15T03:55:08.746035Z",
     "iopub.status.idle": "2025-07-15T03:55:08.750134Z",
     "shell.execute_reply": "2025-07-15T03:55:08.750134Z"
    }
   },
   "outputs": [
    {
     "data": {
      "text/plain": [
       "array([0, 0, 0, 0, 0], dtype=uint8)"
      ]
     },
     "execution_count": 5,
     "metadata": {},
     "output_type": "execute_result"
    }
   ],
   "source": [
    "letter_series"
   ]
  },
  {
   "cell_type": "markdown",
   "metadata": {},
   "source": [
    "A dataset series is mutable."
   ]
  },
  {
   "cell_type": "code",
   "execution_count": 6,
   "metadata": {
    "ExecuteTime": {
     "end_time": "2025-07-15T03:27:14.377245Z",
     "start_time": "2025-07-15T03:27:14.373632Z"
    },
    "execution": {
     "iopub.execute_input": "2025-07-15T03:55:08.752138Z",
     "iopub.status.busy": "2025-07-15T03:55:08.751139Z",
     "iopub.status.idle": "2025-07-15T03:55:08.754459Z",
     "shell.execute_reply": "2025-07-15T03:55:08.754459Z"
    }
   },
   "outputs": [],
   "source": [
    "letter_series[2] = 1\n",
    "letter_series[3] = 1"
   ]
  },
  {
   "cell_type": "markdown",
   "metadata": {},
   "source": [
    "The series for a random variable can be accessed using the `states` method."
   ]
  },
  {
   "cell_type": "code",
   "execution_count": 7,
   "metadata": {
    "ExecuteTime": {
     "end_time": "2025-07-15T03:27:14.403144Z",
     "start_time": "2025-07-15T03:27:14.399177Z"
    },
    "execution": {
     "iopub.execute_input": "2025-07-15T03:55:08.756464Z",
     "iopub.status.busy": "2025-07-15T03:55:08.755463Z",
     "iopub.status.idle": "2025-07-15T03:55:08.759519Z",
     "shell.execute_reply": "2025-07-15T03:55:08.759519Z"
    }
   },
   "outputs": [
    {
     "data": {
      "text/plain": [
       "array([0, 0, 1, 1, 0], dtype=uint8)"
      ]
     },
     "execution_count": 7,
     "metadata": {},
     "output_type": "execute_result"
    }
   ],
   "source": [
    "dataset.states(letter)"
   ]
  },
  {
   "cell_type": "markdown",
   "metadata": {},
   "source": [
    "A random variable can be added with state values, by state indices. If a numpy array is given, then the dataset will keep a reference to the data, otherwise it will be copied."
   ]
  },
  {
   "cell_type": "code",
   "execution_count": 8,
   "metadata": {
    "ExecuteTime": {
     "end_time": "2025-07-15T03:27:14.418744Z",
     "start_time": "2025-07-15T03:27:14.414934Z"
    },
    "execution": {
     "iopub.execute_input": "2025-07-15T03:55:08.761524Z",
     "iopub.status.busy": "2025-07-15T03:55:08.761524Z",
     "iopub.status.idle": "2025-07-15T03:55:08.764424Z",
     "shell.execute_reply": "2025-07-15T03:55:08.764424Z"
    }
   },
   "outputs": [
    {
     "name": "stdout",
     "output_type": "stream",
     "text": [
      "letter difficult\n"
     ]
    }
   ],
   "source": [
    "import numpy as np\n",
    "\n",
    "difficult_data = np.array([1, 1, 0, 1, 0])\n",
    "dataset.add_rv_from_state_idxs(difficult, difficult_data)\n",
    "\n",
    "print(*dataset.rvs)"
   ]
  },
  {
   "cell_type": "code",
   "execution_count": 9,
   "metadata": {
    "ExecuteTime": {
     "end_time": "2025-07-15T03:27:14.442911Z",
     "start_time": "2025-07-15T03:27:14.439126Z"
    },
    "execution": {
     "iopub.execute_input": "2025-07-15T03:55:08.766429Z",
     "iopub.status.busy": "2025-07-15T03:55:08.765429Z",
     "iopub.status.idle": "2025-07-15T03:55:08.769137Z",
     "shell.execute_reply": "2025-07-15T03:55:08.769137Z"
    }
   },
   "outputs": [
    {
     "data": {
      "text/plain": [
       "array([1, 1, 0, 1, 0])"
      ]
     },
     "execution_count": 9,
     "metadata": {},
     "output_type": "execute_result"
    }
   ],
   "source": [
    "dataset.states(difficult)"
   ]
  },
  {
   "cell_type": "code",
   "execution_count": 10,
   "metadata": {
    "ExecuteTime": {
     "end_time": "2025-07-15T03:27:14.463194Z",
     "start_time": "2025-07-15T03:27:14.456411Z"
    },
    "execution": {
     "iopub.execute_input": "2025-07-15T03:55:08.771141Z",
     "iopub.status.busy": "2025-07-15T03:55:08.770141Z",
     "iopub.status.idle": "2025-07-15T03:55:08.773899Z",
     "shell.execute_reply": "2025-07-15T03:55:08.773899Z"
    }
   },
   "outputs": [
    {
     "data": {
      "text/plain": [
       "array([0, 1, 0, 1, 0])"
      ]
     },
     "execution_count": 10,
     "metadata": {},
     "output_type": "execute_result"
    }
   ],
   "source": [
    "difficult_data[0] = 0\n",
    "\n",
    "dataset.states(difficult)"
   ]
  },
  {
   "cell_type": "markdown",
   "metadata": {},
   "source": [
    "A random variable can also be added using the states of a random variable, rather than state indicies."
   ]
  },
  {
   "cell_type": "code",
   "execution_count": 11,
   "metadata": {
    "ExecuteTime": {
     "end_time": "2025-07-15T03:27:14.483311Z",
     "start_time": "2025-07-15T03:27:14.478691Z"
    },
    "execution": {
     "iopub.execute_input": "2025-07-15T03:55:08.775904Z",
     "iopub.status.busy": "2025-07-15T03:55:08.774904Z",
     "iopub.status.idle": "2025-07-15T03:55:08.778845Z",
     "shell.execute_reply": "2025-07-15T03:55:08.778845Z"
    }
   },
   "outputs": [
    {
     "data": {
      "text/plain": [
       "array([0, 1, 0, 1, 0], dtype=uint8)"
      ]
     },
     "execution_count": 11,
     "metadata": {},
     "output_type": "execute_result"
    }
   ],
   "source": [
    "sat_series = dataset.add_rv_from_states(sat, ['High', 'Low', 'High', 'Low', 'High'])\n",
    "\n",
    "sat_series"
   ]
  },
  {
   "cell_type": "code",
   "execution_count": 12,
   "metadata": {
    "ExecuteTime": {
     "end_time": "2025-07-15T03:27:14.509956Z",
     "start_time": "2025-07-15T03:27:14.505375Z"
    },
    "execution": {
     "iopub.execute_input": "2025-07-15T03:55:08.780849Z",
     "iopub.status.busy": "2025-07-15T03:55:08.779849Z",
     "iopub.status.idle": "2025-07-15T03:55:08.783043Z",
     "shell.execute_reply": "2025-07-15T03:55:08.783043Z"
    }
   },
   "outputs": [
    {
     "name": "stdout",
     "output_type": "stream",
     "text": [
      "letter difficult sat\n"
     ]
    }
   ],
   "source": [
    "print(*dataset.rvs)"
   ]
  },
  {
   "cell_type": "markdown",
   "metadata": {},
   "source": [
    "A random variable can be removed from a dataset."
   ]
  },
  {
   "cell_type": "code",
   "execution_count": 13,
   "metadata": {
    "ExecuteTime": {
     "end_time": "2025-07-15T03:27:14.537387Z",
     "start_time": "2025-07-15T03:27:14.533828Z"
    },
    "execution": {
     "iopub.execute_input": "2025-07-15T03:55:08.785048Z",
     "iopub.status.busy": "2025-07-15T03:55:08.784047Z",
     "iopub.status.idle": "2025-07-15T03:55:08.787365Z",
     "shell.execute_reply": "2025-07-15T03:55:08.787365Z"
    }
   },
   "outputs": [
    {
     "name": "stdout",
     "output_type": "stream",
     "text": [
      "letter sat\n"
     ]
    }
   ],
   "source": [
    "dataset.remove_rv(difficult)\n",
    "\n",
    "print(*dataset.rvs)"
   ]
  },
  {
   "cell_type": "markdown",
   "metadata": {},
   "source": [
    "## Instance Weights\n",
    "\n",
    "If two or more instances in a dataset are identical, then mathematically this may be represented in a dataset equally well by combining identical instances and noting how many of that instance was present.\n",
    "\n",
    "For example, this dataset\n",
    "\n",
    "| difficult | intelligent | grade | high_sat | letter |\n",
    "|-----------|-------------|-------|----------|--------|\n",
    "| 0         | 1           | 2     | 0        | 1      |\n",
    "| 1         | 1           | 2     | 0        | 1      |\n",
    "| 1         | 1           | 2     | 0        | 1      |\n",
    "| 0         | 1           | 1     | 1        | 0      |\n",
    "| 1         | 1           | 0     | 0        | 0      |\n",
    "| 1         | 1           | 0     | 0        | 0      |\n",
    "\n",
    "may be represented using weighted instances as\n",
    "\n",
    "| difficult | intelligent | grade | high_sat | letter | _weight_ |\n",
    "|-----------|-------------|-------|----------|--------|----------|\n",
    "| 0         | 1           | 2     | 0        | 1      | 1        |\n",
    "| 1         | 1           | 2     | 0        | 1      | 2        |\n",
    "| 0         | 1           | 1     | 1        | 0      | 1        |\n",
    "| 1         | 1           | 0     | 0        | 0      | 2        |\n",
    "\n",
    "Instances of weight zero have no effect on the meaning of a dataset and can be removed. So this example dataset is also equivalent to the above.\n",
    "\n",
    "| difficult | intelligent | grade | high_sat | letter | _weight_ |\n",
    "|-----------|-------------|-------|----------|--------|----------|\n",
    "| 0         | 1           | 2     | 0        | 1      | 1        |\n",
    "| 1         | 1           | 2     | 0        | 1      | 2        |\n",
    "| 0         | 1           | 1     | 1        | 0      | 1        |\n",
    "| 1         | 0           | 0     | 0        | 1      | 0        |\n",
    "| 1         | 1           | 0     | 0        | 0      | 2        |\n"
   ]
  },
  {
   "cell_type": "markdown",
   "metadata": {},
   "source": [
    "The instance weights of a dataset are access using the `weights` method, with returns a 1D numpy array with the same length as the dataset."
   ]
  },
  {
   "cell_type": "code",
   "execution_count": 14,
   "metadata": {
    "ExecuteTime": {
     "end_time": "2025-07-15T03:27:14.560974Z",
     "start_time": "2025-07-15T03:27:14.556878Z"
    },
    "execution": {
     "iopub.execute_input": "2025-07-15T03:55:08.789370Z",
     "iopub.status.busy": "2025-07-15T03:55:08.788370Z",
     "iopub.status.idle": "2025-07-15T03:55:08.792310Z",
     "shell.execute_reply": "2025-07-15T03:55:08.792310Z"
    }
   },
   "outputs": [
    {
     "data": {
      "text/plain": [
       "array([1., 1., 1., 1., 1.])"
      ]
     },
     "execution_count": 14,
     "metadata": {},
     "output_type": "execute_result"
    }
   ],
   "source": [
    "dataset.weights"
   ]
  },
  {
   "cell_type": "markdown",
   "metadata": {},
   "source": [
    "The instance weights of a dataset are directly modifiable"
   ]
  },
  {
   "cell_type": "code",
   "execution_count": 15,
   "metadata": {
    "ExecuteTime": {
     "end_time": "2025-07-15T03:27:14.587519Z",
     "start_time": "2025-07-15T03:27:14.583622Z"
    },
    "execution": {
     "iopub.execute_input": "2025-07-15T03:55:08.794315Z",
     "iopub.status.busy": "2025-07-15T03:55:08.793315Z",
     "iopub.status.idle": "2025-07-15T03:55:08.797233Z",
     "shell.execute_reply": "2025-07-15T03:55:08.797233Z"
    }
   },
   "outputs": [
    {
     "data": {
      "text/plain": [
       "array([1., 1., 1., 2., 1.])"
      ]
     },
     "execution_count": 15,
     "metadata": {},
     "output_type": "execute_result"
    }
   ],
   "source": [
    "dataset.weights[3] = 2\n",
    "\n",
    "dataset.weights"
   ]
  },
  {
   "cell_type": "markdown",
   "metadata": {
    "collapsed": false
   },
   "source": [
    "The notion of an instance weight may be generalised further by introducing the concept of _weight of evidence_. A dataset represents a _weight of evidence_ that is the count of observations which lead to the data.\n",
    "\n",
    "Multiplying the instance weights of a dataset by a constant value does not change the empirical joint probability distribution, it only changes the weight of evidence. We use this principle to define fractional weights.\n",
    "\n",
    "For a dataset with fractional weighted instances, there is some constant such that when the instance weights of a dataset are multiplied by the constant, then all instance weights are integer. The dataset with fractional weighted instances is equivalent to the dataset with integer weighted instances, but with a weight of evidence proportionally reduced by the constant.\n",
    "\n",
    "There is a Bayesian interpretation for re-weighting evidence based on conditioning events. Intuitively, it may be understood as discounting evidence represented by a dataset due to some relative misgivings about the collection process.\n",
    "\n",
    "Note that for CK, negative weights have no interpretation.\n"
   ]
  },
  {
   "cell_type": "markdown",
   "metadata": {},
   "source": [
    "The total instance weight can be calculated. Naturally, if the instance weights are all 1, then the total weight is the same as the length of the dataset."
   ]
  },
  {
   "cell_type": "code",
   "execution_count": 16,
   "metadata": {
    "ExecuteTime": {
     "end_time": "2025-07-15T03:27:14.609453Z",
     "start_time": "2025-07-15T03:27:14.605718Z"
    },
    "execution": {
     "iopub.execute_input": "2025-07-15T03:55:08.799238Z",
     "iopub.status.busy": "2025-07-15T03:55:08.798238Z",
     "iopub.status.idle": "2025-07-15T03:55:08.802104Z",
     "shell.execute_reply": "2025-07-15T03:55:08.802104Z"
    }
   },
   "outputs": [
    {
     "data": {
      "text/plain": [
       "6.0"
      ]
     },
     "execution_count": 16,
     "metadata": {},
     "output_type": "execute_result"
    }
   ],
   "source": [
    "dataset.total_weight()"
   ]
  },
  {
   "cell_type": "markdown",
   "metadata": {},
   "source": [
    "## Hard Dataset Dump\n",
    "\n",
    "A dump of a dataset can be printed, showing state indexes and weights. This is intended for debugging, ad hoc testing and pedagogical purposes."
   ]
  },
  {
   "cell_type": "code",
   "execution_count": 17,
   "metadata": {
    "ExecuteTime": {
     "end_time": "2025-07-15T03:27:14.631296Z",
     "start_time": "2025-07-15T03:27:14.625415Z"
    },
    "execution": {
     "iopub.execute_input": "2025-07-15T03:55:08.804109Z",
     "iopub.status.busy": "2025-07-15T03:55:08.803109Z",
     "iopub.status.idle": "2025-07-15T03:55:08.806415Z",
     "shell.execute_reply": "2025-07-15T03:55:08.806415Z"
    }
   },
   "outputs": [
    {
     "name": "stdout",
     "output_type": "stream",
     "text": [
      "rvs: [letter, sat]\n",
      "instances (5, with total weight 6.0):\n",
      "(0, 0) * 1.0\n",
      "(0, 1) * 1.0\n",
      "(1, 0) * 1.0\n",
      "(1, 1) * 2.0\n",
      "(0, 0) * 1.0\n"
     ]
    }
   ],
   "source": [
    "dataset.dump()"
   ]
  },
  {
   "cell_type": "markdown",
   "metadata": {},
   "source": [
    "A hard dataset dump can show the states directly, using the `as_states` keyword argument.\n"
   ]
  },
  {
   "cell_type": "code",
   "execution_count": 18,
   "metadata": {
    "ExecuteTime": {
     "end_time": "2025-07-15T03:27:14.658340Z",
     "start_time": "2025-07-15T03:27:14.654838Z"
    },
    "execution": {
     "iopub.execute_input": "2025-07-15T03:55:08.808413Z",
     "iopub.status.busy": "2025-07-15T03:55:08.807413Z",
     "iopub.status.idle": "2025-07-15T03:55:08.810796Z",
     "shell.execute_reply": "2025-07-15T03:55:08.810796Z"
    }
   },
   "outputs": [
    {
     "name": "stdout",
     "output_type": "stream",
     "text": [
      "rvs: [letter, sat]\n",
      "instances (5, with total weight 6.0):\n",
      "('Yes', 'High') * 1.0\n",
      "('Yes', 'Low') * 1.0\n",
      "('No', 'High') * 1.0\n",
      "('No', 'Low') * 2.0\n",
      "('Yes', 'High') * 1.0\n"
     ]
    }
   ],
   "source": [
    "dataset.dump(as_states=True)"
   ]
  },
  {
   "cell_type": "markdown",
   "metadata": {
    "collapsed": false
   },
   "source": [
    "## Soft Datasets\n",
    "\n",
    "A soft dataset represents instances of soft evidence for a set of random variables.\n",
    "For each instance, there is a distribution over the states for each random variable.\n",
    "\n",
    "Traditionally, each instance in a dataset records a single state for each random variable. In CK, a value of a random variable may be a distribution over the possible states of a random variable. When a random variable has a single state value for an instance, then the distribution has probability = 1 for one state, and all other states have zero probability.\n",
    "\n",
    "As with a hard dataset, the \"length\" of a dataset is the number of instances in the dataset. The length is determined at construction time, and cannot be modified.\n",
    "Similarly, random variables can be added to and removed from a soft dataset.\n",
    "\n",
    "There are multiple ways to initialise a soft dataset. Here we create a dataset with two random variables included at construction time."
   ]
  },
  {
   "cell_type": "code",
   "execution_count": 19,
   "metadata": {
    "ExecuteTime": {
     "end_time": "2025-07-15T03:27:14.684897Z",
     "start_time": "2025-07-15T03:27:14.680535Z"
    },
    "execution": {
     "iopub.execute_input": "2025-07-15T03:55:08.812795Z",
     "iopub.status.busy": "2025-07-15T03:55:08.812795Z",
     "iopub.status.idle": "2025-07-15T03:55:08.816704Z",
     "shell.execute_reply": "2025-07-15T03:55:08.816704Z"
    }
   },
   "outputs": [
    {
     "data": {
      "text/plain": [
       "5"
      ]
     },
     "execution_count": 19,
     "metadata": {},
     "output_type": "execute_result"
    }
   ],
   "source": [
    "from ck.dataset import SoftDataset\n",
    "\n",
    "letter_data = np.array([\n",
    "    [0.6, 0.4],\n",
    "    [1.0, 0.0],\n",
    "    [0.0, 1.0],\n",
    "    [0.3, 0.7],\n",
    "    [0.9, 0.1],\n",
    "])\n",
    "\n",
    "grade_data = np.array([\n",
    "    [0.6, 0.3, 0.1],\n",
    "    [0.0, 0.0, 1.0],\n",
    "    [0.0, 1.0, 0.0],\n",
    "    [0.3, 0.4, 0.3],\n",
    "    [0.8, 0.1, 0.1],\n",
    "])\n",
    "\n",
    "\n",
    "dataset = SoftDataset([\n",
    "    (letter, letter_data),\n",
    "    (grade, grade_data),\n",
    "])\n",
    "\n",
    "len(dataset)"
   ]
  },
  {
   "cell_type": "markdown",
   "metadata": {
    "collapsed": false
   },
   "source": [
    "As with a hard dataset, a soft dataset has weighted instances."
   ]
  },
  {
   "cell_type": "code",
   "execution_count": 20,
   "metadata": {
    "ExecuteTime": {
     "end_time": "2025-07-15T03:27:14.704777Z",
     "start_time": "2025-07-15T03:27:14.700652Z"
    },
    "collapsed": false,
    "execution": {
     "iopub.execute_input": "2025-07-15T03:55:08.818824Z",
     "iopub.status.busy": "2025-07-15T03:55:08.817789Z",
     "iopub.status.idle": "2025-07-15T03:55:08.821532Z",
     "shell.execute_reply": "2025-07-15T03:55:08.821532Z"
    }
   },
   "outputs": [
    {
     "data": {
      "text/plain": [
       "array([1., 1., 1., 1., 1.])"
      ]
     },
     "execution_count": 20,
     "metadata": {},
     "output_type": "execute_result"
    }
   ],
   "source": [
    "dataset.weights"
   ]
  },
  {
   "cell_type": "markdown",
   "metadata": {
    "collapsed": false
   },
   "source": [
    "The instance weights can be updated."
   ]
  },
  {
   "cell_type": "code",
   "execution_count": 21,
   "metadata": {
    "ExecuteTime": {
     "end_time": "2025-07-15T03:27:14.725579Z",
     "start_time": "2025-07-15T03:27:14.720784Z"
    },
    "collapsed": false,
    "execution": {
     "iopub.execute_input": "2025-07-15T03:55:08.823077Z",
     "iopub.status.busy": "2025-07-15T03:55:08.823077Z",
     "iopub.status.idle": "2025-07-15T03:55:08.826291Z",
     "shell.execute_reply": "2025-07-15T03:55:08.826291Z"
    }
   },
   "outputs": [
    {
     "data": {
      "text/plain": [
       "array([1., 2., 1., 0., 2.])"
      ]
     },
     "execution_count": 21,
     "metadata": {},
     "output_type": "execute_result"
    }
   ],
   "source": [
    "dataset.weights[1] = 2\n",
    "dataset.weights[3] = 0\n",
    "dataset.weights[4] = 2\n",
    "\n",
    "dataset.weights"
   ]
  },
  {
   "cell_type": "markdown",
   "metadata": {
    "collapsed": false
   },
   "source": [
    "And the total instance weight can be calculated"
   ]
  },
  {
   "cell_type": "code",
   "execution_count": 22,
   "metadata": {
    "ExecuteTime": {
     "end_time": "2025-07-15T03:27:14.739157Z",
     "start_time": "2025-07-15T03:27:14.731142Z"
    },
    "collapsed": false,
    "execution": {
     "iopub.execute_input": "2025-07-15T03:55:08.828327Z",
     "iopub.status.busy": "2025-07-15T03:55:08.827295Z",
     "iopub.status.idle": "2025-07-15T03:55:08.830919Z",
     "shell.execute_reply": "2025-07-15T03:55:08.830919Z"
    }
   },
   "outputs": [
    {
     "data": {
      "text/plain": [
       "6.0"
      ]
     },
     "execution_count": 22,
     "metadata": {},
     "output_type": "execute_result"
    }
   ],
   "source": [
    "dataset.total_weight()"
   ]
  },
  {
   "cell_type": "markdown",
   "metadata": {},
   "source": [
    "When dumping a soft dataset, the state weights are printed."
   ]
  },
  {
   "cell_type": "code",
   "execution_count": 23,
   "metadata": {
    "ExecuteTime": {
     "end_time": "2025-07-15T03:27:14.758006Z",
     "start_time": "2025-07-15T03:27:14.752500Z"
    },
    "execution": {
     "iopub.execute_input": "2025-07-15T03:55:08.832923Z",
     "iopub.status.busy": "2025-07-15T03:55:08.831924Z",
     "iopub.status.idle": "2025-07-15T03:55:08.835742Z",
     "shell.execute_reply": "2025-07-15T03:55:08.835742Z"
    }
   },
   "outputs": [
    {
     "name": "stdout",
     "output_type": "stream",
     "text": [
      "rvs: [letter, grade]\n",
      "instances (5, with total weight 6.0):\n",
      "([0.6 0.4], [0.6 0.3 0.1]) * 1.0\n",
      "([1. 0.], [0. 0. 1.]) * 2.0\n",
      "([0. 1.], [0. 1. 0.]) * 1.0\n",
      "([0.3 0.7], [0.3 0.4 0.3]) * 0.0\n",
      "([0.9 0.1], [0.8 0.1 0.1]) * 2.0\n"
     ]
    }
   ],
   "source": [
    "dataset.dump()"
   ]
  },
  {
   "cell_type": "markdown",
   "metadata": {
    "collapsed": false
   },
   "source": [
    "The state weights for a random variable and instance represent _soft evidence_. The intuitive interpretation of soft evidence is that it represents uncertainty in the true value of the random variable for that instance.\n",
    "\n",
    "Formally, a soft evidence value is equivalent to replicating the instance, once for each possible value of the attribute, then multiplying the weight of the instance by the probability of the value.\n",
    "\n",
    "For example,\n",
    "\n",
    "| difficult | intelligent | grade | high_sat | letter | _weight_ |\n",
    "|-----------|-------------|-------|----------|--------|----------|\n",
    "| 0         | (0.2, 0.8)  | 2     | 0        | 1      | _w_      |\n",
    "\n",
    "is equivalent to\n",
    "\n",
    "| difficult | intelligent | grade | high_sat | letter | _weight_  |\n",
    "|-----------|-------------|-------|----------|--------|-----------|\n",
    "| 0         | 0           | 2     | 0        | 1      | _w_ × 0.2 |\n",
    "| 0         | 1           | 2     | 0        | 1      | _w_ × 0.8 |\n",
    "\n",
    "This interpretation is consistent for any non-negative weighting of values, not just probability distributions.\n",
    "However, it is not recommended to use soft evidence except as distributions over attribute values as it may make the weight of evidence difficult to see, even though the semantics is well-defined.\n",
    "\n",
    "For example,\n",
    "\n",
    "| difficult | intelligent | grade | high_sat | letter | _weight_ |\n",
    "|-----------|-------------|-------|----------|--------|----------|\n",
    "| 0         | (2.4, 0.1)  | 2     | 0        | 1      | _w_      |\n",
    "\n",
    "is equivalent to\n",
    "\n",
    "| difficult | intelligent | grade | high_sat | letter | _weight_  |\n",
    "|-----------|-------------|-------|----------|--------|-----------|\n",
    "| 0         | 0           | 2     | 0        | 1      | _w_ × 2.4 |\n",
    "| 0         | 1           | 2     | 0        | 1      | _w_ × 0.1 |\n"
   ]
  },
  {
   "cell_type": "markdown",
   "metadata": {
    "collapsed": false
   },
   "source": [
    "The formulation of soft evidence remains consistent when there are multiple attributes with soft evidence.\n",
    "\n",
    "For example,\n",
    "\n",
    "| difficult | intelligent | grade  | high_sat   | letter  | _weight_ |\n",
    "|-----------|-------------|--------|------------|---------|----------|\n",
    "| 0         | (0.6, 0.4)  | 2      | (0.1, 0.9) | 1       | _w_      |\n",
    "\n",
    "is equivalent to\n",
    "\n",
    "| difficult | intelligent | grade  | high_sat | letter  | _weight_        |\n",
    "|-----------|-------------|--------|----------|---------|-----------------|\n",
    "| 0         | 0           | 2      | 0        | 1       | _w_ × 0.6 × 0.1 |\n",
    "| 0         | 0           | 2      | 1        | 1       | _w_ × 0.6 × 0.9 |\n",
    "| 0         | 1           | 2      | 0        | 1       | _w_ × 0.4 × 0.1 |\n",
    "| 0         | 1           | 2      | 1        | 1       | _w_ × 0.4 × 0.9 |\n"
   ]
  },
  {
   "cell_type": "markdown",
   "metadata": {
    "collapsed": false
   },
   "source": [
    "Here is how we can create a dataset with soft evidence (with a single instance weight of 10)"
   ]
  },
  {
   "cell_type": "code",
   "execution_count": 24,
   "metadata": {
    "ExecuteTime": {
     "end_time": "2025-07-15T03:27:14.785258Z",
     "start_time": "2025-07-15T03:27:14.780374Z"
    },
    "collapsed": false,
    "execution": {
     "iopub.execute_input": "2025-07-15T03:55:08.837747Z",
     "iopub.status.busy": "2025-07-15T03:55:08.836747Z",
     "iopub.status.idle": "2025-07-15T03:55:08.841164Z",
     "shell.execute_reply": "2025-07-15T03:55:08.841164Z"
    }
   },
   "outputs": [
    {
     "name": "stdout",
     "output_type": "stream",
     "text": [
      "rvs: [difficult, intelligent, grade, sat, letter]\n",
      "instances (1, with total weight 10):\n",
      "([1. 0.], [2.4 0.1], [0. 0. 1.], [0.1 0.9], [0. 1.]) * 10\n"
     ]
    }
   ],
   "source": [
    "dataset = SoftDataset(weights=[10])\n",
    "\n",
    "dataset.add_rv(difficult)[0,:] = (1, 0)         # difficult = 'Yes'\n",
    "dataset.add_rv(intelligent)[0,:] = (2.4, 0.1)   # intelligent = (2.4, 0.1)\n",
    "dataset.add_rv(grade)[0,:] = (0, 0, 1)          # grade = '3'\n",
    "dataset.add_rv(sat)[0,:] = (0.1, 0.9)           # sat = (0.1, 0.9)\n",
    "dataset.add_rv(letter)[0,:] = (0, 1)            # letter = 'No'\n",
    "\n",
    "dataset.dump()"
   ]
  },
  {
   "cell_type": "markdown",
   "metadata": {
    "collapsed": false
   },
   "source": [
    "## Normalisation\n",
    "A soft dataset is considered _normalised_ when, for each instance, either:\n",
    "1. the instance weight is zero and the state weights for every random variable are zero, or\n",
    "2. the instance weight is positive and the state weights for each random variable sum to one.\n",
    "\n",
    "For example,\n",
    "\n",
    "| difficult | intelligent | grade | high_sat   | letter | _weight_ |\n",
    "|-----------|-------------|-------|------------|--------|----------|\n",
    "| 0         | (2.4, 0.1)  | 2     | (0.1, 0.9) | 1      | 10       |\n",
    "\n",
    "is equivalent to the normalised dataset\n",
    "\n",
    "| difficult | intelligent  | grade  | high_sat   | letter  | _weight_ |\n",
    "|-----------|--------------|--------|------------|---------|----------|\n",
    "| 0         | (0.96, 0.04) | 2      | (0.1, 0.9) | 1       | 10 × 2.5 |\n"
   ]
  },
  {
   "cell_type": "code",
   "execution_count": 25,
   "metadata": {
    "ExecuteTime": {
     "end_time": "2025-07-15T03:27:14.811147Z",
     "start_time": "2025-07-15T03:27:14.806565Z"
    },
    "collapsed": false,
    "execution": {
     "iopub.execute_input": "2025-07-15T03:55:08.843169Z",
     "iopub.status.busy": "2025-07-15T03:55:08.842170Z",
     "iopub.status.idle": "2025-07-15T03:55:08.846282Z",
     "shell.execute_reply": "2025-07-15T03:55:08.846282Z"
    }
   },
   "outputs": [
    {
     "name": "stdout",
     "output_type": "stream",
     "text": [
      "rvs: [difficult, intelligent, grade, sat, letter]\n",
      "instances (1, with total weight 10):\n",
      "([1. 0.], [2.4 0.1], [0. 0. 1.], [0.1 0.9], [0. 1.]) * 10\n",
      "\n",
      "rvs: [difficult, intelligent, grade, sat, letter]\n",
      "instances (1, with total weight 25):\n",
      "([1. 0.], [0.96 0.04], [0. 0. 1.], [0.1 0.9], [0. 1.]) * 25\n"
     ]
    }
   ],
   "source": [
    "dataset.dump()\n",
    "print()\n",
    "\n",
    "dataset.normalise()\n",
    "\n",
    "dataset.dump()"
   ]
  },
  {
   "cell_type": "markdown",
   "metadata": {},
   "source": [
    "## Sampled Datasets\n",
    "\n",
    "A hard dataset can be created from a sampler.\n",
    "\n",
    "In this example, a sampled is created using the \"Student\" example PGM."
   ]
  },
  {
   "cell_type": "code",
   "execution_count": 26,
   "metadata": {
    "ExecuteTime": {
     "end_time": "2025-07-15T03:27:14.932981Z",
     "start_time": "2025-07-15T03:27:14.826855Z"
    },
    "execution": {
     "iopub.execute_input": "2025-07-15T03:55:08.848287Z",
     "iopub.status.busy": "2025-07-15T03:55:08.847287Z",
     "iopub.status.idle": "2025-07-15T03:55:08.956631Z",
     "shell.execute_reply": "2025-07-15T03:55:08.956631Z"
    }
   },
   "outputs": [
    {
     "name": "stdout",
     "output_type": "stream",
     "text": [
      "difficult intelligent grade sat letter\n"
     ]
    }
   ],
   "source": [
    "from ck.example import Student\n",
    "from ck.pgm_compiler import DEFAULT_PGM_COMPILER\n",
    "from ck.pgm_circuit.wmc_program import WMCProgram\n",
    "\n",
    "pgm = Student()\n",
    "wmc = WMCProgram(DEFAULT_PGM_COMPILER(pgm))\n",
    "sampler = wmc.sample_direct()\n",
    "\n",
    "print(*sampler.rvs)"
   ]
  },
  {
   "cell_type": "code",
   "execution_count": 27,
   "metadata": {
    "ExecuteTime": {
     "end_time": "2025-07-15T03:27:14.956836Z",
     "start_time": "2025-07-15T03:27:14.949242Z"
    },
    "execution": {
     "iopub.execute_input": "2025-07-15T03:55:08.958636Z",
     "iopub.status.busy": "2025-07-15T03:55:08.957636Z",
     "iopub.status.idle": "2025-07-15T03:55:08.963756Z",
     "shell.execute_reply": "2025-07-15T03:55:08.963756Z"
    }
   },
   "outputs": [
    {
     "name": "stdout",
     "output_type": "stream",
     "text": [
      "rvs: [difficult, intelligent, grade, sat, letter]\n",
      "instances (20, with total weight 20.0):\n",
      "(0, 1, 2, 1, 0) * 1.0\n",
      "(0, 1, 2, 0, 0) * 1.0\n",
      "(0, 0, 1, 0, 0) * 1.0\n",
      "(0, 0, 1, 0, 0) * 1.0\n",
      "(1, 1, 1, 1, 1) * 1.0\n",
      "(0, 0, 1, 0, 1) * 1.0\n",
      "(0, 1, 2, 0, 0) * 1.0\n",
      "(0, 0, 1, 1, 0) * 1.0\n",
      "(0, 0, 2, 0, 0) * 1.0\n",
      "(0, 0, 2, 0, 0) * 1.0\n",
      "(1, 0, 0, 0, 1) * 1.0\n",
      "(0, 0, 0, 0, 1) * 1.0\n",
      "(1, 1, 0, 1, 1) * 1.0\n",
      "(0, 0, 0, 0, 1) * 1.0\n",
      "(0, 0, 0, 0, 1) * 1.0\n",
      "(1, 0, 0, 0, 1) * 1.0\n",
      "(1, 0, 0, 0, 1) * 1.0\n",
      "(1, 1, 2, 1, 0) * 1.0\n",
      "(0, 0, 2, 0, 0) * 1.0\n",
      "(1, 0, 0, 1, 1) * 1.0\n"
     ]
    }
   ],
   "source": [
    "from ck.dataset.sampled_dataset import dataset_from_sampler\n",
    "\n",
    "dataset = dataset_from_sampler(sampler, 20)\n",
    "\n",
    "dataset.dump()"
   ]
  },
  {
   "cell_type": "markdown",
   "metadata": {},
   "source": [
    "## Cross Tables\n",
    "\n",
    "A cross-table records the total weight for possible combinations of states for some random variables. A cross-table is a dictionary mapping from state indices of the cross-table random variables (as a tuple) to a weight (as a float).\n",
    "\n",
    "Here is an example of a manually created cross-table."
   ]
  },
  {
   "cell_type": "code",
   "execution_count": 28,
   "metadata": {
    "ExecuteTime": {
     "end_time": "2025-07-15T03:27:14.978806Z",
     "start_time": "2025-07-15T03:27:14.974721Z"
    },
    "execution": {
     "iopub.execute_input": "2025-07-15T03:55:08.965762Z",
     "iopub.status.busy": "2025-07-15T03:55:08.964762Z",
     "iopub.status.idle": "2025-07-15T03:55:08.968900Z",
     "shell.execute_reply": "2025-07-15T03:55:08.968900Z"
    }
   },
   "outputs": [
    {
     "name": "stdout",
     "output_type": "stream",
     "text": [
      "(0, 0, 0, 0, 0) 3.4\n",
      "(0, 0, 0, 0, 1) 2.1\n",
      "(0, 1, 1, 0, 0) 9.3\n"
     ]
    }
   ],
   "source": [
    "from ck.dataset.cross_table import CrossTable, cross_table_from_dataset\n",
    "\n",
    "crosstab = CrossTable(rvs=[difficult, intelligent, grade, sat, letter])\n",
    "\n",
    "crosstab[(0, 0, 0, 0, 0)] = 3.4\n",
    "crosstab[(0, 0, 0, 0, 1)] = 2.1\n",
    "crosstab[(0, 1, 1, 0, 0)] = 9.3\n",
    "\n",
    "for instance, weight in crosstab.items():\n",
    "    print(instance, weight)"
   ]
  },
  {
   "cell_type": "markdown",
   "metadata": {},
   "source": [
    " A cross-table can be constructed from a dataset.\n",
    "\n",
    "This example uses the dataset created above using a sampler."
   ]
  },
  {
   "cell_type": "code",
   "execution_count": 29,
   "metadata": {
    "ExecuteTime": {
     "end_time": "2025-07-15T03:27:14.995162Z",
     "start_time": "2025-07-15T03:27:14.990835Z"
    },
    "execution": {
     "iopub.execute_input": "2025-07-15T03:55:08.970906Z",
     "iopub.status.busy": "2025-07-15T03:55:08.969906Z",
     "iopub.status.idle": "2025-07-15T03:55:08.973544Z",
     "shell.execute_reply": "2025-07-15T03:55:08.973544Z"
    }
   },
   "outputs": [
    {
     "name": "stdout",
     "output_type": "stream",
     "text": [
      "difficult intelligent grade sat letter\n",
      "(0, 1, 2, 1, 0) 1.0\n",
      "(0, 1, 2, 0, 0) 2.0\n",
      "(0, 0, 1, 0, 0) 2.0\n",
      "(1, 1, 1, 1, 1) 1.0\n",
      "(0, 0, 1, 0, 1) 1.0\n",
      "(0, 0, 1, 1, 0) 1.0\n",
      "(0, 0, 2, 0, 0) 3.0\n",
      "(1, 0, 0, 0, 1) 3.0\n",
      "(0, 0, 0, 0, 1) 3.0\n",
      "(1, 1, 0, 1, 1) 1.0\n",
      "(1, 1, 2, 1, 0) 1.0\n",
      "(1, 0, 0, 1, 1) 1.0\n"
     ]
    }
   ],
   "source": [
    "crosstab = cross_table_from_dataset(dataset)\n",
    "\n",
    "print(*crosstab.rvs)\n",
    "for instance, weight in crosstab.items():\n",
    "    print(instance, weight)"
   ]
  },
  {
   "cell_type": "markdown",
   "metadata": {},
   "source": [
    "Observe that a cross-table is logically equivalent to a dataset. A hard dataset can be created directly from cross-table using `dataset_from_cross_table`, like the following."
   ]
  },
  {
   "cell_type": "code",
   "execution_count": 30,
   "metadata": {
    "ExecuteTime": {
     "end_time": "2025-07-15T03:27:15.041073Z",
     "start_time": "2025-07-15T03:27:15.031065Z"
    },
    "execution": {
     "iopub.execute_input": "2025-07-15T03:55:08.975548Z",
     "iopub.status.busy": "2025-07-15T03:55:08.974548Z",
     "iopub.status.idle": "2025-07-15T03:55:08.978645Z",
     "shell.execute_reply": "2025-07-15T03:55:08.978630Z"
    }
   },
   "outputs": [
    {
     "name": "stdout",
     "output_type": "stream",
     "text": [
      "rvs: [difficult, intelligent, grade, sat, letter]\n",
      "instances (12, with total weight 20.0):\n",
      "(0, 1, 2, 1, 0) * 1.0\n",
      "(0, 1, 2, 0, 0) * 2.0\n",
      "(0, 0, 1, 0, 0) * 2.0\n",
      "(1, 1, 1, 1, 1) * 1.0\n",
      "(0, 0, 1, 0, 1) * 1.0\n",
      "(0, 0, 1, 1, 0) * 1.0\n",
      "(0, 0, 2, 0, 0) * 3.0\n",
      "(1, 0, 0, 0, 1) * 3.0\n",
      "(0, 0, 0, 0, 1) * 3.0\n",
      "(1, 1, 0, 1, 1) * 1.0\n",
      "(1, 1, 2, 1, 0) * 1.0\n",
      "(1, 0, 0, 1, 1) * 1.0\n"
     ]
    }
   ],
   "source": [
    "from ck.dataset.dataset_from_crosstable import dataset_from_cross_table\n",
    "\n",
    "dataset_2 = dataset_from_cross_table(crosstab)\n",
    "\n",
    "dataset_2.dump()"
   ]
  },
  {
   "cell_type": "markdown",
   "metadata": {},
   "source": [
    "A cross-table can also be sampled directly using a `CrossTableSampler`. Instances will be drawn from the sampler according to their weight in the given cross-table.\n",
    "\n",
    "Note that if the given cross-table is modified after constructing the sampler, the sampler will not be affected."
   ]
  },
  {
   "cell_type": "code",
   "execution_count": 31,
   "metadata": {
    "ExecuteTime": {
     "end_time": "2025-07-15T03:27:15.097621Z",
     "start_time": "2025-07-15T03:27:15.093557Z"
    },
    "execution": {
     "iopub.execute_input": "2025-07-15T03:55:08.980646Z",
     "iopub.status.busy": "2025-07-15T03:55:08.979645Z",
     "iopub.status.idle": "2025-07-15T03:55:08.983181Z",
     "shell.execute_reply": "2025-07-15T03:55:08.983181Z"
    }
   },
   "outputs": [
    {
     "name": "stdout",
     "output_type": "stream",
     "text": [
      "(0, 0, 2, 0, 0)\n",
      "(0, 0, 0, 0, 1)\n",
      "(0, 0, 1, 0, 0)\n",
      "(0, 0, 0, 0, 1)\n",
      "(1, 1, 0, 1, 1)\n",
      "(0, 0, 0, 0, 1)\n",
      "(0, 0, 2, 0, 0)\n",
      "(1, 1, 1, 1, 1)\n"
     ]
    }
   ],
   "source": [
    "from ck.dataset.sampled_dataset import CrossTableSampler\n",
    "\n",
    "crosstab_sampler = CrossTableSampler(crosstab)\n",
    "\n",
    "for inst in crosstab_sampler.take(8):\n",
    "    print(inst)\n"
   ]
  }
 ],
 "metadata": {
  "kernelspec": {
   "display_name": "Python 3 (ipykernel)",
   "language": "python",
   "name": "python3"
  },
  "language_info": {
   "codemirror_mode": {
    "name": "ipython",
    "version": 3
   },
   "file_extension": ".py",
   "mimetype": "text/x-python",
   "name": "python",
   "nbconvert_exporter": "python",
   "pygments_lexer": "ipython3",
   "version": "3.12.10"
  }
 },
 "nbformat": 4,
 "nbformat_minor": 1
}
