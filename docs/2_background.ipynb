{
 "cells": [
  {
   "cell_type": "markdown",
   "metadata": {
    "collapsed": false,
    "pycharm": {
     "name": "#%% md\n"
    }
   },
   "source": [
    "# Background #\n",
    "\n",
    "Here we briefly cover background concepts needed for using the Compiled Knowledge library. The topics covered are:\n",
    "- propositions and some essentials of propositional calculus\n",
    "- probability, including marginal and conditional probabilities\n",
    "- probabilistic models, including random variables, indicators and factors\n",
    "- arithmetic circuits and programs.\n",
    "\n",
    "People who are already familiar with this concepts may value at least skimming this section to be familiar with the terminology used by CK."
   ]
  },
  {
   "cell_type": "markdown",
   "metadata": {
    "collapsed": false,
    "pycharm": {
     "name": "#%% md\n"
    }
   },
   "source": [
    "# Propositions\n",
    "\n",
    "A _proposition_ is a sentence that is either true or false.\n",
    "\n",
    "Here are some examples.\n",
    "- It is raining (now, at my home).\n",
    "- The square of a hypotenuse is the sum of the squares of the two smaller sides.\n",
    "- The student received an ATAR > 90.\n",
    "- The student will fail the subject.\n",
    "\n",
    "Here are some counter examples (i.e., they are not propositions).\n",
    "- Is that a scalene triangle?\n",
    "- Please pass the salt.\n",
    "- Wow!\n",
    "- Car $x$ is green. (Assuming $x$ is unknown.)\n",
    "\n",
    "Propositional calculus is the mathematical representation and manipulation of propositions.\n",
    "\n",
    "In propositional calculus a proposition is labelled with a lower case letter: $p$, $q$, $r$, $s$, etc.\n",
    "\n",
    "Composite propositions are created from other propositions with operators:\n",
    "\n",
    "| operator | symbol  | note                           |\n",
    "|----------|---------|--------------------------------|\n",
    "| not      | $\\neg$  |                                |\n",
    "| and      | $\\land$ | sometimes just a comma is used |\n",
    "| or       | $\\lor$  |                                |\n",
    "\n",
    "Here are some examples of composite propositions:\n",
    "> $\\neg{p}$\n",
    "> <br>\n",
    "> ${q}\\land{r}$\n",
    "> <br>\n",
    "> ${q}\\lor{(\\neg{r}\\land{p})}$\n",
    "\n",
    "There are other operators like $\\rightarrow$, $\\leftrightarrow$. However, they all can be defined using the three operators above. There are not discussed further in this documentaiton.\n",
    "\n",
    "Collections of related propositions form a _theory_. Here is an example theory.\n",
    ">\n",
    "> ${q}\\lor{r}$\n",
    "> <br>\n",
    "> $({p}\\land \\neg{r}){\\land}({\\neg}p\\land\\neg{q})$\n",
    "> <br>\n",
    "> $p$\n",
    "where\n",
    "> $p$ = The student received a high ATAR.\n",
    "> $q$  = The student will fail the subject.\n",
    "\n",
    "Note that propositional variables, like $p$, $q$ and $r$ may refer to composite propositions, e.g., $r = p{\\land}q$, or the basic, indivisible propositions of a theory.\n",
    "\n",
    "Basic, indivisible propositions are call *atoms*.\n"
   ]
  },
  {
   "cell_type": "markdown",
   "metadata": {
    "collapsed": false,
    "pycharm": {
     "name": "#%% md\n"
    }
   },
   "source": [
    "# Probability\n",
    "\n",
    "A _probability_ says something about the truth or belief of a proposition.\n",
    "\n",
    "The probability of a proposition:\n",
    "  - quantifies the degree of belief that the proposition is true on a scale of zero to one, inclusive\n",
    "    (this is a _Bayesian_ interpretation of probability)\n",
    "\n",
    "  - quantifies the expected frequency of a proposition being true over a population or sample\n",
    "    (this is a _Frequentist_ interpretation of a probability).\n",
    "\n",
    "Note that the mathematics of probabilities is identical whether a _Bayesian_ or _Frequentist_ interpretation is used.\n",
    "\n",
    "Probabilistic calculus allows us to algebraically manipulate and interpret probabilities.\n",
    "\n",
    "Example expressions of probability using probabilistic calculus:\n",
    "> $P(q)$\n",
    "> <br>\n",
    "> $P(r{\\land}{\\neg}p)$\n",
    "> <br>\n",
    "> $P(p, q)$\n",
    "\n",
    "\n",
    "By definition $P(True) = 1$ and $P(False) = 0$.\n"
   ]
  },
  {
   "cell_type": "markdown",
   "metadata": {},
   "source": [
    "## Conditional probability\n",
    "\n",
    "We write a _conditional probability_ using the \"|\" notation, e.g.,\n",
    "> $P(p{\\;\\mid\\;}q)$\n",
    "\n",
    "which is read as, \"the probability of $p$ given $q$.\"\n",
    "\n",
    "The mathematical definition of a conditional probability is\n",
    "> $P(p{\\;\\mid\\;}q) P(q) = P(p,q)$\n",
    "equivalently\n",
    ">  $P(p{\\;\\mid\\;}q) = \\frac{P(p,q)}{P(q)}$\n",
    "\n",
    "Note that as a corollary we have\n",
    "> $P(p{\\;\\mid\\;}q) P(q) = P(p,q)$\n",
    "> <br>\n",
    "> $P(q{\\;\\mid\\;}p) P(p) = P(p,q)$\n",
    "\n",
    "and therefore\n",
    "> $P(p{\\;\\mid\\;}q) P(q) = P(q{\\;\\mid\\;}p) P(p)$\n",
    "\n",
    "which leads to the famous Bayes theorem\n",
    "> $P(p{\\;\\mid\\;}q) = \\frac{P(q{\\;\\mid\\;}p) P(p)}{P(q)}$\n",
    "\n"
   ]
  },
  {
   "cell_type": "markdown",
   "metadata": {
    "collapsed": false,
    "pycharm": {
     "name": "#%% md\n"
    }
   },
   "source": [
    "## Summing probabilities\n",
    "\n",
    "If $p$ and $q$ are mutually exclusive (i.e., $p{\\land}q$ is False) then $P(p{\\lor}q) = P(p) + P(q)$.\n",
    "\n",
    "In general, $P(p{\\lor}q) = P(p) + P(q) - P(p, q)$."
   ]
  },
  {
   "cell_type": "markdown",
   "metadata": {
    "collapsed": false,
    "pycharm": {
     "name": "#%% md\n"
    }
   },
   "source": [
    "## Multiplying probabilities\n",
    "\n",
    "If $p$ and $q$ are _independent_ then $P(p, q) = P(p) P(q)$.\n",
    "\n",
    "Thus, one definition of $p$ and $q$ being independent is:\n",
    "> $p$ and $q$ are independent if and only if $P(p, q) = P(p) P(q)$\n",
    "\n",
    "However, in general $P(p, q) = P(p) P(q)$ does not necessarily hold."
   ]
  },
  {
   "cell_type": "markdown",
   "metadata": {
    "collapsed": false,
    "pycharm": {
     "name": "#%% md\n"
    }
   },
   "source": [
    "# Probabilistic Models\n",
    "\n",
    "A probabilistic model defines a joint probability distribution over a set of random variables (explained next)."
   ]
  },
  {
   "cell_type": "markdown",
   "metadata": {
    "collapsed": false,
    "pycharm": {
     "name": "#%% md\n"
    }
   },
   "source": [
    "\n",
    "## Random variables\n",
    "\n",
    "All probabilistic models start with a set of random variables. These are variables that represent something in the world (real or hypothetical) that we want to represent in our model.\n",
    "\n",
    "Each random variable has a set of possible values (sometimes call states of the random variable).\n",
    "\n",
    "To be a proper model (and not just maths) every random variable of the model needs to be given a meaning (i.e. what does it relate to in the world), and each possible value of each random variable needs to be specified and defined.\n",
    "\n",
    "In our case we consider only _discrete_ random variables where the possible values is a finite set. Often we deal with _Boolean_ random variables that only have two possible values (true and false). Sometimes the number of possible values of a random variable may be large (e.g. 10s, 100s, or even 1000s of possible values).\n",
    "\n",
    "It is possible for a random variable to only have one possible state. However, in that case the value of that random variable is always definitely known (i.e., the only possible value). It doesn't really make sense for a PGM to contain a random variable with zero possible values.\n",
    "\n",
    "The set of random variables and their possible values do not change for a given model. If you add or remove a random variable or possible value, then you have defined a new model.\n",
    "\n",
    "In this section we have a running example that models the relationship between a student and a school subject.\n",
    "\n",
    "\n",
    "| Random variable | Possible values | Meaning                                                                     |\n",
    "|-----------------|-----------------|-----------------------------------------------------------------------------|\n",
    "| $D$             | $y, n$          | Is the subject difficult (yes or no)?                                       |\n",
    "| $I$             | $y, n$          | Is the student intelligent (yes or no)?                                     |\n",
    "| $G$             | $l, m, h$       | Grade of the student in the subject is low, medium, or high (respectively). |\n",
    "| $A$             | $y, n$          | Does the student have a high ATAR score (yes or no)?                        |\n",
    "| $L$             | $y, n$          | Does the student have a letter of recommendation (yes or no)?               |"
   ]
  },
  {
   "cell_type": "markdown",
   "metadata": {
    "collapsed": false,
    "pycharm": {
     "name": "#%% md\n"
    }
   },
   "source": [
    "## Model atoms and indicators\n",
    "\n",
    "The random variables of a model, along with their possible values, define the atomic propositions that can be expressed within the model.\n",
    "\n",
    "The example model has eleven atoms:\n",
    "> $D=y$, $D=n$, <br>\n",
    "> $I=y$, $I=n$, <br>\n",
    "> $G=l$, $G=m$, $G=h$, <br>\n",
    "> $A=y$, $A=n$, <br>\n",
    "> $L=y$, $L=n$.\n",
    "\n",
    "In CK, each atom is also called an _indicator_. Specifically, an indicator records the notion of a particular random variable being in a particular state.\n"
   ]
  },
  {
   "cell_type": "markdown",
   "metadata": {
    "collapsed": false,
    "pycharm": {
     "name": "#%% md\n"
    }
   },
   "source": [
    "## Bayesian network ##\n",
    "\n",
    "A Bayesian network is a probabilistic model, and thus describes a joint probability distribution over a set of random variables. A Bayesian network model is represented as a directed acyclic graph where each node in the graph is a random variable and the arcs are used to define conditional dependencies. The graph (random variables plus the arcs) defines what is known as the *structure* of the model.\n",
    "\n",
    "The model structure implies that each random variable will have a set of zero or more parent variables. A random variable and its parents are collectively known as a *family*. Thus, a Bayesian network of $n$ random variables has $n$ families, each family has one child variable and zero or more parent variables.\n",
    "\n",
    "Each family of a Bayesian network is associated with a *factor* which gives the conditional probability over the values of the child variable, conditioned on values of the parent variables. When all the random variable are discrete, then the factor may be represented as a table, known as a *conditional probability table* or CPT.\n",
    "\n",
    "Mathematically, it is convenient to just think of each factor as a function from the combined states of the family to a real number representing the conditional probability. For example, consider a Bayesian network with the random variables mentioned above ($D$, $I$, $G$, $A$, $L$) with an arc from $G$ to $L$, thus ${G, L}$ is a family with $L$ being the child. Let $f_L$ be the factor for that family. Here we define $f_L$ as\n",
    "> $f_L(L=y, G=l) = P(L=y \\mid G=l) = 0.1$, <br>\n",
    "> $f_L(L=n, G=l) = P(L=n \\mid G=l) = 0.9$, <br>\n",
    "> $f_L(L=y, G=m) = P(L=y \\mid G=m) = 0.4$, <br>\n",
    "> $f_L(L=n, G=m) = P(L=n \\mid G=m) = 0.6$, <br>\n",
    "> $f_L(L=y, G=h) = P(L=y \\mid G=h) = 0.99$, <br>\n",
    "> $f_L(L=n, G=h) = P(L=n \\mid G=h) = 0.01$.\n",
    "\n",
    "We can simplify notation by allowing a factor to also be a function from an instance of the possible worlds defined by the random variable. Let $X = [D, I, G, A, L]$ and let $\\Omega$ be the set of possible worlds defined by $X$. For an $x \\in \\Omega$, let $f_L(x) = f_L(L=y, G=l)$ if $L=y$ and $G=l$ in $x$.\n",
    "\n",
    "We can now define the probabilistic semantics of a Bayesian network model. Let $X$ be the random variables of the Bayesian network, and let $F$ be the set of all factors of the Bayesian network. The joint probability represented by the model is defined as $P(X=x) = \\prod_{f \\in F} f(x)$.\n"
   ]
  },
  {
   "cell_type": "markdown",
   "metadata": {
    "collapsed": false,
    "pycharm": {
     "name": "#%% md\n"
    }
   },
   "source": [
    "## Factor graphs ##\n",
    "\n",
    "The notion of a Bayesian network may be generalised to that of a *factor graph*. A factor graph is a probabilistic model, i.e., it represents a joint probability distribution over a set of random variables. A factor graph is defined by its random variables and a set of *factors*, each factor is associated with one or more random variables of the factor graph.\n",
    "\n",
    "Unlike a Bayesian network, there may be any number factors and a factor does not necessarily represent a conditional probability distribution. A factor merely provides a non-negative real number of each combination of possible states of its associated random variables.\n",
    "\n",
    "Let $X$ be the random variables of a factor graph model with possible worlds $\\Omega$. Let $F$ be the set of all factors of the factor graph.\n",
    "\n",
    "Define the *network function*, $\\phi$, of the model as a function of $x \\in \\Omega$\n",
    "> $\\phi(x) = \\prod_{f \\in F} f(x)$\n",
    "\n",
    "And define the *partition function*, $z$, as\n",
    "> $z = \\sum_{x \\in \\Omega} \\phi(x)$\n",
    "\n",
    "The joint probability distribution represented by the model is defined as\n",
    "> $P(X=x) = \\frac{1}{z} \\phi(x)$\n",
    "\n",
    "\n",
    "Note that every Bayesian network is just a special kind of factor graph. As an aside, see that for a Bayesian network, $z=1$."
   ]
  },
  {
   "cell_type": "markdown",
   "metadata": {
    "collapsed": false,
    "pycharm": {
     "name": "#%% md\n"
    }
   },
   "source": [
    "# Arithmetic Circuits and Programs #\n",
    "\n",
    "Within Compiled Knowlegde, a probabilistic graphical model is a factor graph. Most model functionality does not directly operate on a factor graph though. Instead, a model is _compiled_ into an _arithmetic circuit_ (AC). This can provide a computational advantage where regularities and structures in the model may be exploited by the compilation process to produce an efficient arithmetic circuit.\n",
    "\n",
    "An arithmetic circuit is a directed acyclic graph where each node represents an arithmetic operation, a variable (input value), or a constant value. Directed arcs connect a parent node to child nodes.\n",
    "\n",
    "Each parent node is an operation node. The value at an operation node is its operation applied to the values of its child nodes. Leaf nodes are either variables or constants. Thus, each node of an AC defines a value (when its leaves are all constants) or a function (when its leaves contain variables).\n",
    "\n",
    "Furthermore, Compiled Knowledge will translate an arithmetic circuit into a _program_. A program is executable code (e.g., a callable object) that given real-number values for its arguments (representing AC variables) returns real-number results (representing chosen AC nodes). Given an arithmetic circuit and nominated output nodes, the corresponding program provides a compact representation of the function implied by the AC.\n",
    "\n",
    "The most common use of a program in Compiled Knowledge is for calculating summed weights of selected possible worlds. This leads to efficient methods for calculating probabilistic queries.\n",
    "\n"
   ]
  }
 ],
 "metadata": {
  "kernelspec": {
   "display_name": "Python 3",
   "language": "python",
   "name": "python3"
  },
  "language_info": {
   "codemirror_mode": {
    "name": "ipython",
    "version": 3
   },
   "file_extension": ".py",
   "mimetype": "text/x-python",
   "name": "python",
   "nbconvert_exporter": "python",
   "pygments_lexer": "ipython3",
   "version": "3.12.10"
  }
 },
 "nbformat": 4,
 "nbformat_minor": 0
}
