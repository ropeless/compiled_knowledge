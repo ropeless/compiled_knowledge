{
 "cells": [
  {
   "metadata": {},
   "cell_type": "markdown",
   "source": [
    "# Datasets\n",
    "\n",
    "Within CK, data for machine learning and other analyses are represented using a `Dataset`.\n",
    "\n",
    "Logically a dataset is a table of data where columns represent random variables and each row represents an _instance_ (also known as a _sample_, _record_, _row_, _datapoint_, or _joint states_).\n",
    "\n",
    "The _length_ of a dataset is the number of instances in the dataset. In CK, the length of a dataset is determined at construction time, and cannot be modified. Random variables can be added to and removed from a dataset.\n",
    "\n",
    "Each instance in a dataset has an instance weight. An instance weight represents a _weight of evidence_.\n",
    "The value of an instance weight is notionally 1, but can be set to other values to represent multiple or fractional evidence.\n",
    "This is explained in detail below.\n",
    "\n",
    "The values and weights of a dataset are mutable and can be updated.\n",
    "\n",
    "A CK dataset is either a `HardDataset` or `SoftDataset`. These are explained in the following sections, with reference to the following simple PGM."
   ]
  },
  {
   "metadata": {
    "ExecuteTime": {
     "end_time": "2025-07-18T00:41:29.106435Z",
     "start_time": "2025-07-18T00:41:29.028214Z"
    }
   },
   "cell_type": "code",
   "source": [
    "from ck.pgm import PGM, RandomVariable\n",
    "\n",
    "pgm: PGM = PGM()\n",
    "difficult: RandomVariable = pgm.new_rv('difficult', ('Yes', 'No'))\n",
    "intelligent: RandomVariable = pgm.new_rv('intelligent', ('Yes', 'No'))\n",
    "grade: RandomVariable = pgm.new_rv('grade', ('1', '2', '3'))\n",
    "sat: RandomVariable = pgm.new_rv('sat', ('High', 'Low'))\n",
    "letter: RandomVariable = pgm.new_rv('letter', ('Yes', 'No'))\n"
   ],
   "outputs": [],
   "execution_count": 1
  },
  {
   "cell_type": "markdown",
   "metadata": {},
   "source": [
    "## Hard Datasets\n",
    "\n",
    "A hard dataset represents instances of hard evidence for a collection of random variables. That is, for each instance, each random variable is in a specific state.\n",
    "\n",
    "There are multiple ways to initialise a dataset. Here we create a dataset of length 5, with no random variables."
   ]
  },
  {
   "cell_type": "code",
   "metadata": {
    "execution": {
     "iopub.execute_input": "2025-07-18T00:25:29.783298Z",
     "iopub.status.busy": "2025-07-18T00:25:29.783298Z",
     "iopub.status.idle": "2025-07-18T00:25:29.789701Z",
     "shell.execute_reply": "2025-07-18T00:25:29.789701Z"
    },
    "ExecuteTime": {
     "end_time": "2025-07-18T00:41:29.347885Z",
     "start_time": "2025-07-18T00:41:29.340246Z"
    }
   },
   "source": [
    "from ck.dataset import HardDataset\n",
    "\n",
    "# Create and empty dataset - no instances and no random variables.\n",
    "dataset: HardDataset = HardDataset(length=5)\n",
    "\n",
    "len(dataset)\n"
   ],
   "outputs": [
    {
     "data": {
      "text/plain": [
       "5"
      ]
     },
     "execution_count": 2,
     "metadata": {},
     "output_type": "execute_result"
    }
   ],
   "execution_count": 2
  },
  {
   "cell_type": "markdown",
   "metadata": {},
   "source": [
    "This dataset has no random variables."
   ]
  },
  {
   "cell_type": "code",
   "metadata": {
    "execution": {
     "iopub.execute_input": "2025-07-18T00:25:29.817866Z",
     "iopub.status.busy": "2025-07-18T00:25:29.817866Z",
     "iopub.status.idle": "2025-07-18T00:25:29.821517Z",
     "shell.execute_reply": "2025-07-18T00:25:29.821517Z"
    },
    "ExecuteTime": {
     "end_time": "2025-07-18T00:41:29.367971Z",
     "start_time": "2025-07-18T00:41:29.363402Z"
    }
   },
   "source": [
    "dataset.rvs"
   ],
   "outputs": [
    {
     "data": {
      "text/plain": [
       "()"
      ]
     },
     "execution_count": 3,
     "metadata": {},
     "output_type": "execute_result"
    }
   ],
   "execution_count": 3
  },
  {
   "cell_type": "markdown",
   "metadata": {},
   "source": [
    "## Updating Datasets\n",
    "Each random variable of a hard dataset is associated with a series, which is a 1D numpy array.\n",
    "\n",
    "The length of the series is the same as the length of the dataset, and the *i*th element that holds the state index of the random variable for the *i*th instance.\n",
    "\n",
    "One way to add a random variable to a dataset is to have the dataset allocate memory for the series, and initialise it to zero."
   ]
  },
  {
   "cell_type": "code",
   "metadata": {
    "execution": {
     "iopub.execute_input": "2025-07-18T00:25:29.823553Z",
     "iopub.status.busy": "2025-07-18T00:25:29.822552Z",
     "iopub.status.idle": "2025-07-18T00:25:29.826164Z",
     "shell.execute_reply": "2025-07-18T00:25:29.826164Z"
    },
    "ExecuteTime": {
     "end_time": "2025-07-18T00:41:29.380336Z",
     "start_time": "2025-07-18T00:41:29.376397Z"
    }
   },
   "source": [
    "letter_series = dataset.add_rv(letter)\n",
    "\n",
    "print(*dataset.rvs)"
   ],
   "outputs": [
    {
     "name": "stdout",
     "output_type": "stream",
     "text": [
      "letter\n"
     ]
    }
   ],
   "execution_count": 4
  },
  {
   "cell_type": "code",
   "metadata": {
    "execution": {
     "iopub.execute_input": "2025-07-18T00:25:29.828198Z",
     "iopub.status.busy": "2025-07-18T00:25:29.828198Z",
     "iopub.status.idle": "2025-07-18T00:25:29.831579Z",
     "shell.execute_reply": "2025-07-18T00:25:29.831579Z"
    },
    "ExecuteTime": {
     "end_time": "2025-07-18T00:41:29.407074Z",
     "start_time": "2025-07-18T00:41:29.403397Z"
    }
   },
   "source": [
    "letter_series"
   ],
   "outputs": [
    {
     "data": {
      "text/plain": [
       "array([0, 0, 0, 0, 0], dtype=uint8)"
      ]
     },
     "execution_count": 5,
     "metadata": {},
     "output_type": "execute_result"
    }
   ],
   "execution_count": 5
  },
  {
   "cell_type": "markdown",
   "metadata": {},
   "source": [
    "A dataset series is mutable."
   ]
  },
  {
   "cell_type": "code",
   "metadata": {
    "execution": {
     "iopub.execute_input": "2025-07-18T00:25:29.833672Z",
     "iopub.status.busy": "2025-07-18T00:25:29.833672Z",
     "iopub.status.idle": "2025-07-18T00:25:29.836029Z",
     "shell.execute_reply": "2025-07-18T00:25:29.836029Z"
    },
    "ExecuteTime": {
     "end_time": "2025-07-18T00:41:29.430542Z",
     "start_time": "2025-07-18T00:41:29.427777Z"
    }
   },
   "source": [
    "letter_series[2] = 1\n",
    "letter_series[3] = 1"
   ],
   "outputs": [],
   "execution_count": 6
  },
  {
   "cell_type": "markdown",
   "metadata": {},
   "source": [
    "The series for a random variable can be accessed using the `state_idxs` method."
   ]
  },
  {
   "cell_type": "code",
   "metadata": {
    "execution": {
     "iopub.execute_input": "2025-07-18T00:25:29.838035Z",
     "iopub.status.busy": "2025-07-18T00:25:29.838035Z",
     "iopub.status.idle": "2025-07-18T00:25:29.841379Z",
     "shell.execute_reply": "2025-07-18T00:25:29.841379Z"
    },
    "ExecuteTime": {
     "end_time": "2025-07-18T00:41:29.444304Z",
     "start_time": "2025-07-18T00:41:29.440403Z"
    }
   },
   "source": [
    "dataset.state_idxs(letter)"
   ],
   "outputs": [
    {
     "data": {
      "text/plain": [
       "array([0, 0, 1, 1, 0], dtype=uint8)"
      ]
     },
     "execution_count": 7,
     "metadata": {},
     "output_type": "execute_result"
    }
   ],
   "execution_count": 7
  },
  {
   "cell_type": "markdown",
   "metadata": {},
   "source": [
    "A random variable can be added with state , by state indexes. If a numpy array is given, then the dataset will keep a reference to the data, otherwise it will be copied into a new numpy array."
   ]
  },
  {
   "cell_type": "code",
   "metadata": {
    "execution": {
     "iopub.execute_input": "2025-07-18T00:25:29.843383Z",
     "iopub.status.busy": "2025-07-18T00:25:29.843383Z",
     "iopub.status.idle": "2025-07-18T00:25:29.846279Z",
     "shell.execute_reply": "2025-07-18T00:25:29.846279Z"
    },
    "ExecuteTime": {
     "end_time": "2025-07-18T00:41:29.469749Z",
     "start_time": "2025-07-18T00:41:29.466531Z"
    }
   },
   "source": [
    "import numpy as np\n",
    "\n",
    "difficult_data = np.array([1, 1, 0, 1, 0])\n",
    "dataset.add_rv_from_state_idxs(difficult, difficult_data)\n",
    "\n",
    "print(*dataset.rvs)"
   ],
   "outputs": [
    {
     "name": "stdout",
     "output_type": "stream",
     "text": [
      "letter difficult\n"
     ]
    }
   ],
   "execution_count": 8
  },
  {
   "cell_type": "code",
   "metadata": {
    "execution": {
     "iopub.execute_input": "2025-07-18T00:25:29.848283Z",
     "iopub.status.busy": "2025-07-18T00:25:29.847284Z",
     "iopub.status.idle": "2025-07-18T00:25:29.851096Z",
     "shell.execute_reply": "2025-07-18T00:25:29.851096Z"
    },
    "ExecuteTime": {
     "end_time": "2025-07-18T00:41:29.483847Z",
     "start_time": "2025-07-18T00:41:29.479889Z"
    }
   },
   "source": [
    "dataset.state_idxs(difficult)"
   ],
   "outputs": [
    {
     "data": {
      "text/plain": [
       "array([1, 1, 0, 1, 0])"
      ]
     },
     "execution_count": 9,
     "metadata": {},
     "output_type": "execute_result"
    }
   ],
   "execution_count": 9
  },
  {
   "cell_type": "code",
   "metadata": {
    "execution": {
     "iopub.execute_input": "2025-07-18T00:25:29.853101Z",
     "iopub.status.busy": "2025-07-18T00:25:29.852101Z",
     "iopub.status.idle": "2025-07-18T00:25:29.855732Z",
     "shell.execute_reply": "2025-07-18T00:25:29.855732Z"
    },
    "ExecuteTime": {
     "end_time": "2025-07-18T00:41:29.507918Z",
     "start_time": "2025-07-18T00:41:29.504217Z"
    }
   },
   "source": [
    "difficult_data[0] = 0\n",
    "\n",
    "dataset.state_idxs(difficult)"
   ],
   "outputs": [
    {
     "data": {
      "text/plain": [
       "array([0, 1, 0, 1, 0])"
      ]
     },
     "execution_count": 10,
     "metadata": {},
     "output_type": "execute_result"
    }
   ],
   "execution_count": 10
  },
  {
   "cell_type": "markdown",
   "metadata": {},
   "source": [
    "A random variable can also be added using the states of a random variable, rather than state indices."
   ]
  },
  {
   "cell_type": "code",
   "metadata": {
    "execution": {
     "iopub.execute_input": "2025-07-18T00:25:29.857737Z",
     "iopub.status.busy": "2025-07-18T00:25:29.856737Z",
     "iopub.status.idle": "2025-07-18T00:25:29.860767Z",
     "shell.execute_reply": "2025-07-18T00:25:29.860767Z"
    },
    "ExecuteTime": {
     "end_time": "2025-07-18T00:41:29.536162Z",
     "start_time": "2025-07-18T00:41:29.522797Z"
    }
   },
   "source": [
    "sat_series = dataset.add_rv_from_states(sat, ['High', 'Low', 'High', 'Low', 'High'])\n",
    "\n",
    "sat_series"
   ],
   "outputs": [
    {
     "data": {
      "text/plain": [
       "array([0, 1, 0, 1, 0], dtype=uint8)"
      ]
     },
     "execution_count": 11,
     "metadata": {},
     "output_type": "execute_result"
    }
   ],
   "execution_count": 11
  },
  {
   "cell_type": "code",
   "metadata": {
    "execution": {
     "iopub.execute_input": "2025-07-18T00:25:29.862772Z",
     "iopub.status.busy": "2025-07-18T00:25:29.861772Z",
     "iopub.status.idle": "2025-07-18T00:25:29.865157Z",
     "shell.execute_reply": "2025-07-18T00:25:29.865157Z"
    },
    "ExecuteTime": {
     "end_time": "2025-07-18T00:41:29.568412Z",
     "start_time": "2025-07-18T00:41:29.565008Z"
    }
   },
   "source": [
    "print(*dataset.rvs)"
   ],
   "outputs": [
    {
     "name": "stdout",
     "output_type": "stream",
     "text": [
      "letter difficult sat\n"
     ]
    }
   ],
   "execution_count": 12
  },
  {
   "cell_type": "markdown",
   "metadata": {},
   "source": [
    "A random variable can be removed from a dataset."
   ]
  },
  {
   "cell_type": "code",
   "metadata": {
    "execution": {
     "iopub.execute_input": "2025-07-18T00:25:29.867161Z",
     "iopub.status.busy": "2025-07-18T00:25:29.866161Z",
     "iopub.status.idle": "2025-07-18T00:25:29.869414Z",
     "shell.execute_reply": "2025-07-18T00:25:29.869414Z"
    },
    "ExecuteTime": {
     "end_time": "2025-07-18T00:41:29.591384Z",
     "start_time": "2025-07-18T00:41:29.588350Z"
    }
   },
   "source": [
    "dataset.remove_rv(difficult)\n",
    "\n",
    "print(*dataset.rvs)"
   ],
   "outputs": [
    {
     "name": "stdout",
     "output_type": "stream",
     "text": [
      "letter sat\n"
     ]
    }
   ],
   "execution_count": 13
  },
  {
   "cell_type": "markdown",
   "metadata": {},
   "source": [
    "## Instance Weights\n",
    "\n",
    "If two or more instances in a dataset are identical, then mathematically this may be represented in a dataset equally well by combining identical instances and noting how many of that instance was present.\n",
    "\n",
    "For example, this dataset\n",
    "\n",
    "| difficult | intelligent | grade | high_sat | letter |\n",
    "|-----------|-------------|-------|----------|--------|\n",
    "| 0         | 1           | 2     | 0        | 1      |\n",
    "| 1         | 1           | 2     | 0        | 1      |\n",
    "| 1         | 1           | 2     | 0        | 1      |\n",
    "| 0         | 1           | 1     | 1        | 0      |\n",
    "| 1         | 1           | 0     | 0        | 0      |\n",
    "| 1         | 1           | 0     | 0        | 0      |\n",
    "\n",
    "may be represented using weighted instances as\n",
    "\n",
    "| difficult | intelligent | grade | high_sat | letter | _weight_ |\n",
    "|-----------|-------------|-------|----------|--------|----------|\n",
    "| 0         | 1           | 2     | 0        | 1      | 1        |\n",
    "| 1         | 1           | 2     | 0        | 1      | 2        |\n",
    "| 0         | 1           | 1     | 1        | 0      | 1        |\n",
    "| 1         | 1           | 0     | 0        | 0      | 2        |\n",
    "\n",
    "Instances of weight zero have no effect on the meaning of a dataset and can be removed. So this example dataset is also equivalent to the above.\n",
    "\n",
    "| difficult | intelligent | grade | high_sat | letter | _weight_ |\n",
    "|-----------|-------------|-------|----------|--------|----------|\n",
    "| 0         | 1           | 2     | 0        | 1      | 1        |\n",
    "| 1         | 1           | 2     | 0        | 1      | 2        |\n",
    "| 0         | 1           | 1     | 1        | 0      | 1        |\n",
    "| 1         | 0           | 0     | 0        | 1      | 0        |\n",
    "| 1         | 1           | 0     | 0        | 0      | 2        |\n"
   ]
  },
  {
   "cell_type": "markdown",
   "metadata": {},
   "source": [
    "The instance weights of a dataset are access using the `weights` method, with returns a 1D numpy array with the same length as the dataset."
   ]
  },
  {
   "cell_type": "code",
   "metadata": {
    "execution": {
     "iopub.execute_input": "2025-07-18T00:25:29.871418Z",
     "iopub.status.busy": "2025-07-18T00:25:29.871418Z",
     "iopub.status.idle": "2025-07-18T00:25:29.874539Z",
     "shell.execute_reply": "2025-07-18T00:25:29.874539Z"
    },
    "ExecuteTime": {
     "end_time": "2025-07-18T00:41:29.601878Z",
     "start_time": "2025-07-18T00:41:29.598266Z"
    }
   },
   "source": [
    "dataset.weights"
   ],
   "outputs": [
    {
     "data": {
      "text/plain": [
       "array([1., 1., 1., 1., 1.])"
      ]
     },
     "execution_count": 14,
     "metadata": {},
     "output_type": "execute_result"
    }
   ],
   "execution_count": 14
  },
  {
   "cell_type": "markdown",
   "metadata": {},
   "source": [
    "The instance weights of a dataset are directly modifiable"
   ]
  },
  {
   "cell_type": "code",
   "metadata": {
    "execution": {
     "iopub.execute_input": "2025-07-18T00:25:29.876543Z",
     "iopub.status.busy": "2025-07-18T00:25:29.875543Z",
     "iopub.status.idle": "2025-07-18T00:25:29.879476Z",
     "shell.execute_reply": "2025-07-18T00:25:29.879476Z"
    },
    "ExecuteTime": {
     "end_time": "2025-07-18T00:41:29.625703Z",
     "start_time": "2025-07-18T00:41:29.621862Z"
    }
   },
   "source": [
    "dataset.weights[3] = 2\n",
    "\n",
    "dataset.weights"
   ],
   "outputs": [
    {
     "data": {
      "text/plain": [
       "array([1., 1., 1., 2., 1.])"
      ]
     },
     "execution_count": 15,
     "metadata": {},
     "output_type": "execute_result"
    }
   ],
   "execution_count": 15
  },
  {
   "cell_type": "markdown",
   "metadata": {
    "collapsed": false
   },
   "source": [
    "The notion of an instance weight may be generalised further by introducing the concept of _weight of evidence_. A dataset represents a _weight of evidence_ that is the count of observations which lead to the data.\n",
    "\n",
    "Multiplying the instance weights of a dataset by a constant value does not change the empirical joint probability distribution, it only changes the weight of evidence. We use this principle to define fractional weights.\n",
    "\n",
    "For a dataset with fractional weighted instances, there is some constant such that when the instance weights of a dataset are multiplied by the constant, then all instance weights are integer. The dataset with fractional weighted instances is equivalent to the dataset with integer weighted instances, but with a weight of evidence proportionally reduced by the constant.\n",
    "\n",
    "There is a Bayesian interpretation for re-weighting evidence based on conditioning events. Intuitively, it may be understood as discounting evidence represented by a dataset due to some relative misgivings about the collection process.\n",
    "\n",
    "Note that for CK, negative weights have no interpretation.\n"
   ]
  },
  {
   "cell_type": "markdown",
   "metadata": {},
   "source": [
    "The total instance weight can be calculated. Naturally, if the instance weights are all 1, then the total weight is the same as the length of the dataset."
   ]
  },
  {
   "cell_type": "code",
   "metadata": {
    "execution": {
     "iopub.execute_input": "2025-07-18T00:25:29.881474Z",
     "iopub.status.busy": "2025-07-18T00:25:29.880475Z",
     "iopub.status.idle": "2025-07-18T00:25:29.884294Z",
     "shell.execute_reply": "2025-07-18T00:25:29.884294Z"
    },
    "ExecuteTime": {
     "end_time": "2025-07-18T00:41:29.648433Z",
     "start_time": "2025-07-18T00:41:29.644754Z"
    }
   },
   "source": [
    "dataset.total_weight()"
   ],
   "outputs": [
    {
     "data": {
      "text/plain": [
       "6.0"
      ]
     },
     "execution_count": 16,
     "metadata": {},
     "output_type": "execute_result"
    }
   ],
   "execution_count": 16
  },
  {
   "metadata": {},
   "cell_type": "markdown",
   "source": [
    "## Dataset Dump\n",
    "\n",
    "A dump of a dataset can be printed, showing state indexes and weights. This is intended for debugging, ad hoc testing and pedagogical purposes."
   ]
  },
  {
   "metadata": {
    "ExecuteTime": {
     "end_time": "2025-07-18T00:41:29.663751Z",
     "start_time": "2025-07-18T00:41:29.660482Z"
    }
   },
   "cell_type": "code",
   "source": "dataset.dump()",
   "outputs": [
    {
     "name": "stdout",
     "output_type": "stream",
     "text": [
      "rvs: [letter, sat]\n",
      "instances (5, with total weight 6.0):\n",
      "(0, 0) * 1.0\n",
      "(0, 1) * 1.0\n",
      "(1, 0) * 1.0\n",
      "(1, 1) * 2.0\n",
      "(0, 0) * 1.0\n"
     ]
    }
   ],
   "execution_count": 17
  },
  {
   "cell_type": "markdown",
   "metadata": {},
   "source": [
    "A hard dataset dump can show the states directly, using the `as_states` keyword argument.\n"
   ]
  },
  {
   "cell_type": "code",
   "metadata": {
    "execution": {
     "iopub.execute_input": "2025-07-18T00:25:29.890581Z",
     "iopub.status.busy": "2025-07-18T00:25:29.889581Z",
     "iopub.status.idle": "2025-07-18T00:25:29.892881Z",
     "shell.execute_reply": "2025-07-18T00:25:29.892881Z"
    },
    "ExecuteTime": {
     "end_time": "2025-07-18T00:41:29.679446Z",
     "start_time": "2025-07-18T00:41:29.676053Z"
    }
   },
   "source": [
    "dataset.dump(as_states=True)"
   ],
   "outputs": [
    {
     "name": "stdout",
     "output_type": "stream",
     "text": [
      "rvs: [letter, sat]\n",
      "instances (5, with total weight 6.0):\n",
      "('Yes', 'High') * 1.0\n",
      "('Yes', 'Low') * 1.0\n",
      "('No', 'High') * 1.0\n",
      "('No', 'Low') * 2.0\n",
      "('Yes', 'High') * 1.0\n"
     ]
    }
   ],
   "execution_count": 18
  },
  {
   "metadata": {},
   "cell_type": "markdown",
   "source": [
    "## Soft Datasets\n",
    "\n",
    "A soft dataset represents instances of soft evidence for a set of random variables.\n",
    "For each instance, there is a distribution over the states for each random variable.\n",
    "\n",
    "Traditionally, each instance in a dataset records a single state for each random variable. In CK, a value of a random variable may be a distribution over the possible states of a random variable. When a random variable has a single state value for an instance, then the distribution has probability = 1 for one state, and all other states have zero probability.\n",
    "\n",
    "As with a hard dataset, the \"length\" of a dataset is the number of instances in the dataset. The length is determined at construction time, and cannot be modified.\n",
    "Random variables can be added to and removed from a soft dataset.\n",
    "\n",
    "There are multiple ways to initialise a soft dataset. Here we create a dataset with two random variables included at construction time."
   ]
  },
  {
   "metadata": {
    "ExecuteTime": {
     "end_time": "2025-07-18T00:41:29.697722Z",
     "start_time": "2025-07-18T00:41:29.692477Z"
    }
   },
   "cell_type": "code",
   "source": [
    "from ck.dataset import SoftDataset\n",
    "\n",
    "letter_data = [\n",
    "    [0.6, 0.4],\n",
    "    [1.0, 0.0],\n",
    "    [0.0, 1.0],\n",
    "    [0.3, 0.7],\n",
    "    [0.9, 0.1],\n",
    "]\n",
    "\n",
    "grade_data = [\n",
    "    [0.6, 0.3, 0.1],\n",
    "    [0.0, 0.0, 1.0],\n",
    "    [0.0, 1.0, 0.0],\n",
    "    [0.3, 0.4, 0.3],\n",
    "    [0.8, 0.1, 0.1],\n",
    "]\n",
    "\n",
    "\n",
    "dataset: SoftDataset = SoftDataset([\n",
    "    (letter, letter_data),\n",
    "    (grade, grade_data),\n",
    "])\n",
    "\n",
    "len(dataset)"
   ],
   "outputs": [
    {
     "data": {
      "text/plain": [
       "5"
      ]
     },
     "execution_count": 19,
     "metadata": {},
     "output_type": "execute_result"
    }
   ],
   "execution_count": 19
  },
  {
   "cell_type": "markdown",
   "metadata": {
    "collapsed": false
   },
   "source": [
    "As with a hard dataset, a soft dataset has weighted instances."
   ]
  },
  {
   "cell_type": "code",
   "metadata": {
    "collapsed": false,
    "execution": {
     "iopub.execute_input": "2025-07-18T00:25:29.900616Z",
     "iopub.status.busy": "2025-07-18T00:25:29.899616Z",
     "iopub.status.idle": "2025-07-18T00:25:29.903387Z",
     "shell.execute_reply": "2025-07-18T00:25:29.903387Z"
    },
    "ExecuteTime": {
     "end_time": "2025-07-18T00:41:29.718320Z",
     "start_time": "2025-07-18T00:41:29.714083Z"
    }
   },
   "source": [
    "dataset.weights"
   ],
   "outputs": [
    {
     "data": {
      "text/plain": [
       "array([1., 1., 1., 1., 1.])"
      ]
     },
     "execution_count": 20,
     "metadata": {},
     "output_type": "execute_result"
    }
   ],
   "execution_count": 20
  },
  {
   "cell_type": "markdown",
   "metadata": {
    "collapsed": false
   },
   "source": [
    "The instance weights can be updated."
   ]
  },
  {
   "cell_type": "code",
   "metadata": {
    "collapsed": false,
    "execution": {
     "iopub.execute_input": "2025-07-18T00:25:29.905454Z",
     "iopub.status.busy": "2025-07-18T00:25:29.904391Z",
     "iopub.status.idle": "2025-07-18T00:25:29.908521Z",
     "shell.execute_reply": "2025-07-18T00:25:29.908521Z"
    },
    "ExecuteTime": {
     "end_time": "2025-07-18T00:41:29.737018Z",
     "start_time": "2025-07-18T00:41:29.733435Z"
    }
   },
   "source": [
    "dataset.weights[1] = 2\n",
    "dataset.weights[3] = 0\n",
    "dataset.weights[4] = 2\n",
    "\n",
    "dataset.weights"
   ],
   "outputs": [
    {
     "data": {
      "text/plain": [
       "array([1., 2., 1., 0., 2.])"
      ]
     },
     "execution_count": 21,
     "metadata": {},
     "output_type": "execute_result"
    }
   ],
   "execution_count": 21
  },
  {
   "cell_type": "markdown",
   "metadata": {
    "collapsed": false
   },
   "source": [
    "And the total instance weight can be calculated"
   ]
  },
  {
   "cell_type": "code",
   "metadata": {
    "collapsed": false,
    "execution": {
     "iopub.execute_input": "2025-07-18T00:25:29.910525Z",
     "iopub.status.busy": "2025-07-18T00:25:29.909525Z",
     "iopub.status.idle": "2025-07-18T00:25:29.913287Z",
     "shell.execute_reply": "2025-07-18T00:25:29.913287Z"
    },
    "ExecuteTime": {
     "end_time": "2025-07-18T00:41:29.764171Z",
     "start_time": "2025-07-18T00:41:29.760672Z"
    }
   },
   "source": [
    "dataset.total_weight()"
   ],
   "outputs": [
    {
     "data": {
      "text/plain": [
       "6.0"
      ]
     },
     "execution_count": 22,
     "metadata": {},
     "output_type": "execute_result"
    }
   ],
   "execution_count": 22
  },
  {
   "cell_type": "markdown",
   "metadata": {},
   "source": [
    "When dumping a soft dataset, the state weights are printed."
   ]
  },
  {
   "cell_type": "code",
   "metadata": {
    "execution": {
     "iopub.execute_input": "2025-07-18T00:25:29.915291Z",
     "iopub.status.busy": "2025-07-18T00:25:29.914291Z",
     "iopub.status.idle": "2025-07-18T00:25:29.918290Z",
     "shell.execute_reply": "2025-07-18T00:25:29.918290Z"
    },
    "ExecuteTime": {
     "end_time": "2025-07-18T00:41:29.785555Z",
     "start_time": "2025-07-18T00:41:29.781979Z"
    }
   },
   "source": [
    "dataset.dump()"
   ],
   "outputs": [
    {
     "name": "stdout",
     "output_type": "stream",
     "text": [
      "rvs: [letter, grade]\n",
      "instances (5, with total weight 6.0):\n",
      "([0.6 0.4], [0.6 0.3 0.1]) * 1.0\n",
      "([1. 0.], [0. 0. 1.]) * 2.0\n",
      "([0. 1.], [0. 1. 0.]) * 1.0\n",
      "([0.3 0.7], [0.3 0.4 0.3]) * 0.0\n",
      "([0.9 0.1], [0.8 0.1 0.1]) * 2.0\n"
     ]
    }
   ],
   "execution_count": 23
  },
  {
   "cell_type": "markdown",
   "metadata": {
    "collapsed": false
   },
   "source": [
    "The state weights for a random variable and instance represent _soft evidence_. The intuitive interpretation of soft evidence is that it represents uncertainty in the true value of the random variable for that instance.\n",
    "\n",
    "Formally, a soft evidence value is equivalent to replicating the instance, once for each possible value of the attribute, then multiplying the weight of the instance by the probability of the value.\n",
    "\n",
    "For example,\n",
    "\n",
    "| difficult | intelligent | grade | high_sat | letter | _weight_ |\n",
    "|-----------|-------------|-------|----------|--------|----------|\n",
    "| 0         | (0.2, 0.8)  | 2     | 0        | 1      | _w_      |\n",
    "\n",
    "is equivalent to\n",
    "\n",
    "| difficult | intelligent | grade | high_sat | letter | _weight_  |\n",
    "|-----------|-------------|-------|----------|--------|-----------|\n",
    "| 0         | 0           | 2     | 0        | 1      | _w_ × 0.2 |\n",
    "| 0         | 1           | 2     | 0        | 1      | _w_ × 0.8 |\n",
    "\n",
    "This interpretation is consistent for any non-negative weighting of values, not just probability distributions.\n",
    "However, it is not recommended to use soft evidence except as distributions over attribute values as it may make the weight of evidence difficult to see, even though the semantics is well-defined.\n",
    "\n",
    "For example,\n",
    "\n",
    "| difficult | intelligent | grade | high_sat | letter | _weight_ |\n",
    "|-----------|-------------|-------|----------|--------|----------|\n",
    "| 0         | (2.4, 0.1)  | 2     | 0        | 1      | _w_      |\n",
    "\n",
    "is equivalent to\n",
    "\n",
    "| difficult | intelligent | grade | high_sat | letter | _weight_  |\n",
    "|-----------|-------------|-------|----------|--------|-----------|\n",
    "| 0         | 0           | 2     | 0        | 1      | _w_ × 2.4 |\n",
    "| 0         | 1           | 2     | 0        | 1      | _w_ × 0.1 |\n"
   ]
  },
  {
   "cell_type": "markdown",
   "metadata": {
    "collapsed": false
   },
   "source": [
    "The formulation of soft evidence remains consistent when there are multiple attributes with soft evidence.\n",
    "\n",
    "For example,\n",
    "\n",
    "| difficult | intelligent | grade  | high_sat   | letter  | _weight_ |\n",
    "|-----------|-------------|--------|------------|---------|----------|\n",
    "| 0         | (0.6, 0.4)  | 2      | (0.1, 0.9) | 1       | _w_      |\n",
    "\n",
    "is equivalent to\n",
    "\n",
    "| difficult | intelligent | grade  | high_sat | letter  | _weight_        |\n",
    "|-----------|-------------|--------|----------|---------|-----------------|\n",
    "| 0         | 0           | 2      | 0        | 1       | _w_ × 0.6 × 0.1 |\n",
    "| 0         | 0           | 2      | 1        | 1       | _w_ × 0.6 × 0.9 |\n",
    "| 0         | 1           | 2      | 0        | 1       | _w_ × 0.4 × 0.1 |\n",
    "| 0         | 1           | 2      | 1        | 1       | _w_ × 0.4 × 0.9 |\n"
   ]
  },
  {
   "cell_type": "markdown",
   "metadata": {
    "collapsed": false
   },
   "source": [
    "Here is how we can create a dataset with soft evidence (with a single instance weight of 10)"
   ]
  },
  {
   "cell_type": "code",
   "metadata": {
    "execution": {
     "iopub.execute_input": "2025-07-18T00:25:29.920295Z",
     "iopub.status.busy": "2025-07-18T00:25:29.920295Z",
     "iopub.status.idle": "2025-07-18T00:25:29.923865Z",
     "shell.execute_reply": "2025-07-18T00:25:29.923865Z"
    },
    "ExecuteTime": {
     "end_time": "2025-07-18T00:41:29.801375Z",
     "start_time": "2025-07-18T00:41:29.797367Z"
    }
   },
   "source": [
    "dataset: SoftDataset = SoftDataset(weights=[10])\n",
    "\n",
    "dataset.add_rv(difficult)[0,:] = (1, 0)         # difficult = 'Yes'\n",
    "dataset.add_rv(intelligent)[0,:] = (2.4, 0.1)   # intelligent = (2.4, 0.1)\n",
    "dataset.add_rv(grade)[0,:] = (0, 0, 1)          # grade = '3'\n",
    "dataset.add_rv(sat)[0,:] = (0.1, 0.9)           # sat = (0.1, 0.9)\n",
    "dataset.add_rv(letter)[0,:] = (0, 1)            # letter = 'No'\n",
    "\n",
    "dataset.dump()"
   ],
   "outputs": [
    {
     "name": "stdout",
     "output_type": "stream",
     "text": [
      "rvs: [difficult, intelligent, grade, sat, letter]\n",
      "instances (1, with total weight 10.0):\n",
      "([1. 0.], [2.4 0.1], [0. 0. 1.], [0.1 0.9], [0. 1.]) * 10.0\n"
     ]
    }
   ],
   "execution_count": 24
  },
  {
   "cell_type": "markdown",
   "metadata": {
    "collapsed": false
   },
   "source": [
    "## Normalisation\n",
    "A soft dataset is considered _normalised_ when, for each instance, either:\n",
    "1. the instance weight is zero and the state weights for every random variable are zero, or\n",
    "2. the instance weight is positive and the state weights for each random variable sum to one.\n",
    "\n",
    "For example,\n",
    "\n",
    "| difficult | intelligent | grade | high_sat   | letter | _weight_ |\n",
    "|-----------|-------------|-------|------------|--------|----------|\n",
    "| 0         | (2.4, 0.1)  | 2     | (0.1, 0.9) | 1      | 10       |\n",
    "\n",
    "is equivalent to the normalised dataset\n",
    "\n",
    "| difficult | intelligent  | grade  | high_sat   | letter  | _weight_ |\n",
    "|-----------|--------------|--------|------------|---------|----------|\n",
    "| 0         | (0.96, 0.04) | 2      | (0.1, 0.9) | 1       | 10 × 2.5 |\n"
   ]
  },
  {
   "cell_type": "code",
   "metadata": {
    "execution": {
     "iopub.execute_input": "2025-07-18T00:25:29.925869Z",
     "iopub.status.busy": "2025-07-18T00:25:29.924869Z",
     "iopub.status.idle": "2025-07-18T00:25:29.928917Z",
     "shell.execute_reply": "2025-07-18T00:25:29.928917Z"
    },
    "ExecuteTime": {
     "end_time": "2025-07-18T00:41:29.837696Z",
     "start_time": "2025-07-18T00:41:29.833716Z"
    }
   },
   "source": [
    "dataset.dump()\n",
    "print()\n",
    "\n",
    "dataset.normalise()\n",
    "\n",
    "dataset.dump()"
   ],
   "outputs": [
    {
     "name": "stdout",
     "output_type": "stream",
     "text": [
      "rvs: [difficult, intelligent, grade, sat, letter]\n",
      "instances (1, with total weight 10.0):\n",
      "([1. 0.], [2.4 0.1], [0. 0. 1.], [0.1 0.9], [0. 1.]) * 10.0\n",
      "\n",
      "rvs: [difficult, intelligent, grade, sat, letter]\n",
      "instances (1, with total weight 25.0):\n",
      "([1. 0.], [0.96 0.04], [0. 0. 1.], [0.1 0.9], [0. 1.]) * 25.0\n"
     ]
    }
   ],
   "execution_count": 25
  },
  {
   "cell_type": "markdown",
   "metadata": {},
   "source": [
    "## Dataset Builder\n",
    "\n",
    "CK Datasets are optimised for efficiency which can make constructing ad hoc datasets a little cumbersome.\n",
    "\n",
    "A `DatasetBuilder` solves this issue by providing a flexible API for defining a dataset, which can then be converted to a `HardDataset` or `SoftDataset` as needed.\n",
    "\n",
    "A dataset builder holds all values in memory and can be a mixture of hard, soft or missing evidence.\n",
    "\n",
    "The following example uses a `DatasetBuilder` to define a dataset for two random variables."
   ]
  },
  {
   "cell_type": "code",
   "metadata": {
    "execution": {
     "iopub.execute_input": "2025-07-18T00:25:29.930922Z",
     "iopub.status.busy": "2025-07-18T00:25:29.929922Z",
     "iopub.status.idle": "2025-07-18T00:25:29.934292Z",
     "shell.execute_reply": "2025-07-18T00:25:29.934292Z"
    },
    "ExecuteTime": {
     "end_time": "2025-07-18T00:41:29.851878Z",
     "start_time": "2025-07-18T00:41:29.847696Z"
    }
   },
   "source": [
    "from ck.dataset.dataset_builder import DatasetBuilder, Record\n",
    "from ck.pgm import PGM\n",
    "\n",
    "pgm = PGM()\n",
    "x = pgm.new_rv('x', (True, False))\n",
    "y = pgm.new_rv('y', ('yes', 'no', 'maybe'))\n",
    "\n",
    "builder = DatasetBuilder([x, y])"
   ],
   "outputs": [],
   "execution_count": 26
  },
  {
   "cell_type": "markdown",
   "metadata": {},
   "source": [
    "This dataset builder currently has no records."
   ]
  },
  {
   "cell_type": "code",
   "metadata": {
    "execution": {
     "iopub.execute_input": "2025-07-18T00:25:29.936296Z",
     "iopub.status.busy": "2025-07-18T00:25:29.935296Z",
     "iopub.status.idle": "2025-07-18T00:25:29.939137Z",
     "shell.execute_reply": "2025-07-18T00:25:29.939137Z"
    },
    "ExecuteTime": {
     "end_time": "2025-07-18T00:41:29.866111Z",
     "start_time": "2025-07-18T00:41:29.862884Z"
    }
   },
   "source": [
    "len(builder)"
   ],
   "outputs": [
    {
     "data": {
      "text/plain": [
       "0"
      ]
     },
     "execution_count": 27,
     "metadata": {},
     "output_type": "execute_result"
    }
   ],
   "execution_count": 27
  },
  {
   "cell_type": "markdown",
   "metadata": {},
   "source": [
    "Just like a `Dataset`, a `DatasetBuilder` knows the random variables it is for."
   ]
  },
  {
   "cell_type": "code",
   "metadata": {
    "execution": {
     "iopub.execute_input": "2025-07-18T00:25:29.941141Z",
     "iopub.status.busy": "2025-07-18T00:25:29.940141Z",
     "iopub.status.idle": "2025-07-18T00:25:29.943384Z",
     "shell.execute_reply": "2025-07-18T00:25:29.943384Z"
    },
    "ExecuteTime": {
     "end_time": "2025-07-18T00:41:29.880121Z",
     "start_time": "2025-07-18T00:41:29.877266Z"
    }
   },
   "source": [
    "print(*builder.rvs)"
   ],
   "outputs": [
    {
     "name": "stdout",
     "output_type": "stream",
     "text": [
      "x y\n"
     ]
    }
   ],
   "execution_count": 28
  },
  {
   "cell_type": "code",
   "metadata": {
    "execution": {
     "iopub.execute_input": "2025-07-18T00:25:29.945388Z",
     "iopub.status.busy": "2025-07-18T00:25:29.944389Z",
     "iopub.status.idle": "2025-07-18T00:25:29.948069Z",
     "shell.execute_reply": "2025-07-18T00:25:29.948069Z"
    },
    "ExecuteTime": {
     "end_time": "2025-07-18T00:41:29.897365Z",
     "start_time": "2025-07-18T00:41:29.893947Z"
    }
   },
   "source": [
    "record: Record = builder.append()\n",
    "\n",
    "len(record)"
   ],
   "outputs": [
    {
     "data": {
      "text/plain": [
       "2"
      ]
     },
     "execution_count": 29,
     "metadata": {},
     "output_type": "execute_result"
    }
   ],
   "execution_count": 29
  },
  {
   "cell_type": "markdown",
   "metadata": {},
   "source": [
    "A record can be appended to the builder. The record is a sequence of values, co-indexed with the builder's random variables. Each value in a new record is \"missing\" represented by `None`."
   ]
  },
  {
   "cell_type": "code",
   "metadata": {
    "execution": {
     "iopub.execute_input": "2025-07-18T00:25:29.950074Z",
     "iopub.status.busy": "2025-07-18T00:25:29.949074Z",
     "iopub.status.idle": "2025-07-18T00:25:29.953027Z",
     "shell.execute_reply": "2025-07-18T00:25:29.953027Z"
    },
    "ExecuteTime": {
     "end_time": "2025-07-18T00:41:29.916832Z",
     "start_time": "2025-07-18T00:41:29.912728Z"
    }
   },
   "source": [
    "record[0], record[1]"
   ],
   "outputs": [
    {
     "data": {
      "text/plain": [
       "(None, None)"
      ]
     },
     "execution_count": 30,
     "metadata": {},
     "output_type": "execute_result"
    }
   ],
   "execution_count": 30
  },
  {
   "cell_type": "markdown",
   "metadata": {},
   "source": [
    "A record also has a weight (notionally 1)."
   ]
  },
  {
   "cell_type": "code",
   "metadata": {
    "execution": {
     "iopub.execute_input": "2025-07-18T00:25:29.955067Z",
     "iopub.status.busy": "2025-07-18T00:25:29.955067Z",
     "iopub.status.idle": "2025-07-18T00:25:29.958333Z",
     "shell.execute_reply": "2025-07-18T00:25:29.958333Z"
    },
    "ExecuteTime": {
     "end_time": "2025-07-18T00:41:29.955286Z",
     "start_time": "2025-07-18T00:41:29.949909Z"
    }
   },
   "source": [
    "record.weight"
   ],
   "outputs": [
    {
     "data": {
      "text/plain": [
       "1"
      ]
     },
     "execution_count": 31,
     "metadata": {},
     "output_type": "execute_result"
    }
   ],
   "execution_count": 31
  },
  {
   "cell_type": "markdown",
   "metadata": {},
   "source": [
    "A value can be set to hard evidence (by state index)."
   ]
  },
  {
   "cell_type": "code",
   "metadata": {
    "execution": {
     "iopub.execute_input": "2025-07-18T00:25:29.960373Z",
     "iopub.status.busy": "2025-07-18T00:25:29.959339Z",
     "iopub.status.idle": "2025-07-18T00:25:29.963196Z",
     "shell.execute_reply": "2025-07-18T00:25:29.963196Z"
    },
    "ExecuteTime": {
     "end_time": "2025-07-18T00:41:29.979126Z",
     "start_time": "2025-07-18T00:41:29.975712Z"
    }
   },
   "source": [
    "record[0] = 1\n",
    "\n",
    "record[0], record[1]\n"
   ],
   "outputs": [
    {
     "data": {
      "text/plain": [
       "(1, None)"
      ]
     },
     "execution_count": 32,
     "metadata": {},
     "output_type": "execute_result"
    }
   ],
   "execution_count": 32
  },
  {
   "cell_type": "markdown",
   "metadata": {},
   "source": [
    "A value can also be set to soft evidence."
   ]
  },
  {
   "cell_type": "code",
   "metadata": {
    "execution": {
     "iopub.execute_input": "2025-07-18T00:25:29.965200Z",
     "iopub.status.busy": "2025-07-18T00:25:29.964200Z",
     "iopub.status.idle": "2025-07-18T00:25:29.967980Z",
     "shell.execute_reply": "2025-07-18T00:25:29.967980Z"
    },
    "ExecuteTime": {
     "end_time": "2025-07-18T00:41:30.004880Z",
     "start_time": "2025-07-18T00:41:30.000131Z"
    }
   },
   "source": [
    "record[1] = (0.2, 0.3, 0.5)\n",
    "\n",
    "record[0], record[1]"
   ],
   "outputs": [
    {
     "data": {
      "text/plain": [
       "(1, (0.2, 0.3, 0.5))"
      ]
     },
     "execution_count": 33,
     "metadata": {},
     "output_type": "execute_result"
    }
   ],
   "execution_count": 33
  },
  {
   "cell_type": "markdown",
   "metadata": {},
   "source": [
    "A record weight can also be updated."
   ]
  },
  {
   "cell_type": "code",
   "metadata": {
    "execution": {
     "iopub.execute_input": "2025-07-18T00:25:29.969984Z",
     "iopub.status.busy": "2025-07-18T00:25:29.968984Z",
     "iopub.status.idle": "2025-07-18T00:25:29.972204Z",
     "shell.execute_reply": "2025-07-18T00:25:29.972204Z"
    },
    "ExecuteTime": {
     "end_time": "2025-07-18T00:41:30.018532Z",
     "start_time": "2025-07-18T00:41:30.015518Z"
    }
   },
   "source": [
    "record.weight = 3\n",
    "\n",
    "print(record.weight)"
   ],
   "outputs": [
    {
     "name": "stdout",
     "output_type": "stream",
     "text": [
      "3\n"
     ]
    }
   ],
   "execution_count": 34
  },
  {
   "cell_type": "markdown",
   "metadata": {},
   "source": [
    "A record's string representation is similar to that of a `Dataset` dump, however allowing a mixture of hard and soft evidence."
   ]
  },
  {
   "cell_type": "code",
   "metadata": {
    "execution": {
     "iopub.execute_input": "2025-07-18T00:25:29.974209Z",
     "iopub.status.busy": "2025-07-18T00:25:29.973208Z",
     "iopub.status.idle": "2025-07-18T00:25:29.976382Z",
     "shell.execute_reply": "2025-07-18T00:25:29.976382Z"
    },
    "ExecuteTime": {
     "end_time": "2025-07-18T00:41:30.040674Z",
     "start_time": "2025-07-18T00:41:30.037323Z"
    }
   },
   "source": [
    "print(record)"
   ],
   "outputs": [
    {
     "name": "stdout",
     "output_type": "stream",
     "text": [
      "(1, (0.2, 0.3, 0.5)) * 3\n"
     ]
    }
   ],
   "execution_count": 35
  },
  {
   "cell_type": "markdown",
   "metadata": {},
   "source": [
    "When appending records, values may be provided. The following adds four more records."
   ]
  },
  {
   "cell_type": "code",
   "metadata": {
    "execution": {
     "iopub.execute_input": "2025-07-18T00:25:29.978387Z",
     "iopub.status.busy": "2025-07-18T00:25:29.977387Z",
     "iopub.status.idle": "2025-07-18T00:25:29.980489Z",
     "shell.execute_reply": "2025-07-18T00:25:29.980489Z"
    },
    "ExecuteTime": {
     "end_time": "2025-07-18T00:41:30.080385Z",
     "start_time": "2025-07-18T00:41:30.076712Z"
    }
   },
   "source": [
    "builder.append(1, 2)\n",
    "builder.append(None, [0.7, 0.1, 0.2])\n",
    "builder.append(0, 1).weight = 2\n"
   ],
   "outputs": [],
   "execution_count": 36
  },
  {
   "cell_type": "markdown",
   "metadata": {},
   "source": [
    "Here is a dump of the data so far..."
   ]
  },
  {
   "cell_type": "code",
   "metadata": {
    "execution": {
     "iopub.execute_input": "2025-07-18T00:25:29.982488Z",
     "iopub.status.busy": "2025-07-18T00:25:29.981488Z",
     "iopub.status.idle": "2025-07-18T00:25:29.984674Z",
     "shell.execute_reply": "2025-07-18T00:25:29.984674Z"
    },
    "ExecuteTime": {
     "end_time": "2025-07-18T00:41:30.104449Z",
     "start_time": "2025-07-18T00:41:30.101097Z"
    }
   },
   "source": [
    "builder.dump()"
   ],
   "outputs": [
    {
     "name": "stdout",
     "output_type": "stream",
     "text": [
      "rvs: [x, y]\n",
      "instances (4, with total weight 7):\n",
      "(1, (0.2, 0.3, 0.5)) * 3\n",
      "(1, 2) * 1\n",
      "(None, [0.7, 0.1, 0.2]) * 1\n",
      "(0, 1) * 2\n"
     ]
    }
   ],
   "execution_count": 37
  },
  {
   "cell_type": "markdown",
   "metadata": {},
   "source": [
    "Records can also be inserted. The insert `index` has same semantics as `list.insert`."
   ]
  },
  {
   "cell_type": "code",
   "metadata": {
    "execution": {
     "iopub.execute_input": "2025-07-18T00:25:29.986673Z",
     "iopub.status.busy": "2025-07-18T00:25:29.985673Z",
     "iopub.status.idle": "2025-07-18T00:25:29.989074Z",
     "shell.execute_reply": "2025-07-18T00:25:29.989074Z"
    },
    "ExecuteTime": {
     "end_time": "2025-07-18T00:41:30.129089Z",
     "start_time": "2025-07-18T00:41:30.115670Z"
    }
   },
   "source": [
    "builder.insert(0)  # insert at the start, all values missing\n",
    "builder.insert(2, [0, 0]) # insert before index position 2, using the given values\n",
    "\n",
    "builder.dump()"
   ],
   "outputs": [
    {
     "name": "stdout",
     "output_type": "stream",
     "text": [
      "rvs: [x, y]\n",
      "instances (6, with total weight 9):\n",
      "(None, None) * 1\n",
      "(1, (0.2, 0.3, 0.5)) * 3\n",
      "(0, 0) * 1\n",
      "(1, 2) * 1\n",
      "(None, [0.7, 0.1, 0.2]) * 1\n",
      "(0, 1) * 2\n"
     ]
    }
   ],
   "execution_count": 38
  },
  {
   "cell_type": "markdown",
   "metadata": {},
   "source": [
    "Record values can also be set using random variable states."
   ]
  },
  {
   "cell_type": "code",
   "metadata": {
    "execution": {
     "iopub.execute_input": "2025-07-18T00:25:29.991073Z",
     "iopub.status.busy": "2025-07-18T00:25:29.990073Z",
     "iopub.status.idle": "2025-07-18T00:25:29.993584Z",
     "shell.execute_reply": "2025-07-18T00:25:29.993584Z"
    },
    "ExecuteTime": {
     "end_time": "2025-07-18T00:41:30.141937Z",
     "start_time": "2025-07-18T00:41:30.138549Z"
    }
   },
   "source": [
    "builder[0].set_states(True, 'maybe')\n",
    "builder.append().set_states(False, 'no')\n",
    "\n",
    "builder.dump(as_states=True, missing='?')"
   ],
   "outputs": [
    {
     "name": "stdout",
     "output_type": "stream",
     "text": [
      "rvs: [x, y]\n",
      "instances (7, with total weight 10):\n",
      "(True, 'maybe') * 1\n",
      "(False, (0.2, 0.3, 0.5)) * 3\n",
      "(True, 'yes') * 1\n",
      "(False, 'maybe') * 1\n",
      "(?, [0.7, 0.1, 0.2]) * 1\n",
      "(True, 'no') * 2\n",
      "(False, 'no') * 1\n"
     ]
    }
   ],
   "execution_count": 39
  },
  {
   "cell_type": "markdown",
   "metadata": {},
   "source": [
    "## Convertion Between Datasets\n",
    "\n",
    "A dataset builder can be converted to a hard or soft dataset.\n",
    "\n",
    "When converting to a hard dataset, missing values are set to the number of states of the random variable. That is an invalid state index for the random variable. Alternative values can be specified.\n",
    "\n",
    "When converting to a hard dataset, missing values are set to NaN. Alternative values can be specified.\n"
   ]
  },
  {
   "cell_type": "code",
   "metadata": {
    "execution": {
     "iopub.execute_input": "2025-07-18T00:25:29.995090Z",
     "iopub.status.busy": "2025-07-18T00:25:29.995090Z",
     "iopub.status.idle": "2025-07-18T00:25:29.998059Z",
     "shell.execute_reply": "2025-07-18T00:25:29.998059Z"
    },
    "ExecuteTime": {
     "end_time": "2025-07-18T00:41:30.165058Z",
     "start_time": "2025-07-18T00:41:30.161015Z"
    }
   },
   "source": [
    "from ck.dataset.dataset_builder import hard_dataset_from_builder\n",
    "\n",
    "dataset: HardDataset = hard_dataset_from_builder(builder)\n",
    "dataset.dump()"
   ],
   "outputs": [
    {
     "name": "stdout",
     "output_type": "stream",
     "text": [
      "rvs: [x, y]\n",
      "instances (7, with total weight 10.0):\n",
      "(0, 2) * 1.0\n",
      "(1, 2) * 3.0\n",
      "(0, 0) * 1.0\n",
      "(1, 2) * 1.0\n",
      "(2, 0) * 1.0\n",
      "(0, 1) * 2.0\n",
      "(1, 1) * 1.0\n"
     ]
    }
   ],
   "execution_count": 40
  },
  {
   "cell_type": "code",
   "metadata": {
    "execution": {
     "iopub.execute_input": "2025-07-18T00:25:30.000064Z",
     "iopub.status.busy": "2025-07-18T00:25:29.999064Z",
     "iopub.status.idle": "2025-07-18T00:25:30.003441Z",
     "shell.execute_reply": "2025-07-18T00:25:30.003441Z"
    },
    "ExecuteTime": {
     "end_time": "2025-07-18T00:41:30.199620Z",
     "start_time": "2025-07-18T00:41:30.195303Z"
    }
   },
   "source": [
    "from ck.dataset.dataset_builder import soft_dataset_from_builder\n",
    "\n",
    "dataset: SoftDataset = soft_dataset_from_builder(builder)\n",
    "dataset.dump()"
   ],
   "outputs": [
    {
     "name": "stdout",
     "output_type": "stream",
     "text": [
      "rvs: [x, y]\n",
      "instances (7, with total weight 10.0):\n",
      "([1. 0.], [0. 0. 1.]) * 1.0\n",
      "([0. 1.], [0.2 0.3 0.5]) * 3.0\n",
      "([1. 0.], [1. 0. 0.]) * 1.0\n",
      "([0. 1.], [0. 0. 1.]) * 1.0\n",
      "([nan nan], [0.7 0.1 0.2]) * 1.0\n",
      "([1. 0.], [0. 1. 0.]) * 2.0\n",
      "([0. 1.], [0. 1. 0.]) * 1.0\n"
     ]
    }
   ],
   "execution_count": 41
  },
  {
   "cell_type": "markdown",
   "metadata": {},
   "source": [
    "To add records to a dataset builder from a hard or soft dataset, use ``."
   ]
  },
  {
   "cell_type": "code",
   "metadata": {
    "execution": {
     "iopub.execute_input": "2025-07-18T00:25:30.005445Z",
     "iopub.status.busy": "2025-07-18T00:25:30.004445Z",
     "iopub.status.idle": "2025-07-18T00:25:30.009435Z",
     "shell.execute_reply": "2025-07-18T00:25:30.009435Z"
    },
    "ExecuteTime": {
     "end_time": "2025-07-18T00:41:30.221915Z",
     "start_time": "2025-07-18T00:41:30.216870Z"
    }
   },
   "source": [
    "hard_dataset: HardDataset = HardDataset([\n",
    "    (letter, [0, 0, 1, 1]),\n",
    "    (grade, [0, 1, 1, 0]),\n",
    "])\n",
    "\n",
    "soft_dataset: SoftDataset = SoftDataset(\n",
    "    [\n",
    "        (letter, [[0.6, 0.4], [1.0, 0.0], [0.0, 1.0], [0.3, 0.7]]),\n",
    "        (grade, [[0.6, 0.2, 0.2], [0.0, 0.0, 1.0], [0.0, 1.0, 0.0], [0.3, 0.4, 0.3]]),\n",
    "    ],\n",
    "    weights=[2.2, 1.0, 5.8, 1.0],\n",
    ")\n",
    "\n",
    "builder: DatasetBuilder = DatasetBuilder([letter, grade])\n",
    "\n",
    "builder.append_dataset(hard_dataset)\n",
    "builder.append_dataset(soft_dataset)\n",
    "\n",
    "builder.dump()"
   ],
   "outputs": [
    {
     "name": "stdout",
     "output_type": "stream",
     "text": [
      "rvs: [grade, letter]\n",
      "instances (8, with total weight 14.0):\n",
      "(0, 0) * 1.0\n",
      "(1, 0) * 1.0\n",
      "(1, 1) * 1.0\n",
      "(0, 1) * 1.0\n",
      "([0.6 0.2 0.2], [0.6 0.4]) * 2.2\n",
      "([0. 0. 1.], [1. 0.]) * 1.0\n",
      "([0. 1. 0.], [0. 1.]) * 5.8\n",
      "([0.3 0.4 0.3], [0.3 0.7]) * 1.0\n"
     ]
    }
   ],
   "execution_count": 42
  },
  {
   "cell_type": "markdown",
   "metadata": {},
   "source": [
    "While a `DatasetBuilder` can be used to convert between datasets, it is possible to directly convert between `HardDataset` and `SoftDataset` objects."
   ]
  },
  {
   "cell_type": "code",
   "metadata": {
    "execution": {
     "iopub.execute_input": "2025-07-18T00:25:30.011440Z",
     "iopub.status.busy": "2025-07-18T00:25:30.010440Z",
     "iopub.status.idle": "2025-07-18T00:25:30.014296Z",
     "shell.execute_reply": "2025-07-18T00:25:30.014296Z"
    },
    "ExecuteTime": {
     "end_time": "2025-07-18T00:41:30.245109Z",
     "start_time": "2025-07-18T00:41:30.241310Z"
    }
   },
   "source": [
    "dataset: SoftDataset = SoftDataset.from_hard_dataset(hard_dataset)\n",
    "dataset.dump()"
   ],
   "outputs": [
    {
     "name": "stdout",
     "output_type": "stream",
     "text": [
      "rvs: [letter, grade]\n",
      "instances (4, with total weight 4.0):\n",
      "([1. 0.], [1. 0. 0.]) * 1.0\n",
      "([1. 0.], [0. 1. 0.]) * 1.0\n",
      "([0. 1.], [0. 1. 0.]) * 1.0\n",
      "([0. 1.], [1. 0. 0.]) * 1.0\n"
     ]
    }
   ],
   "execution_count": 43
  },
  {
   "cell_type": "code",
   "metadata": {
    "execution": {
     "iopub.execute_input": "2025-07-18T00:25:30.016300Z",
     "iopub.status.busy": "2025-07-18T00:25:30.015300Z",
     "iopub.status.idle": "2025-07-18T00:25:30.018641Z",
     "shell.execute_reply": "2025-07-18T00:25:30.018641Z"
    },
    "ExecuteTime": {
     "end_time": "2025-07-18T00:41:30.264669Z",
     "start_time": "2025-07-18T00:41:30.261055Z"
    }
   },
   "source": [
    "dataset: HardDataset = HardDataset.from_soft_dataset(soft_dataset)\n",
    "dataset.dump()"
   ],
   "outputs": [
    {
     "name": "stdout",
     "output_type": "stream",
     "text": [
      "rvs: [letter, grade]\n",
      "instances (4, with total weight 10.0):\n",
      "(0, 0) * 2.2\n",
      "(0, 2) * 1.0\n",
      "(1, 1) * 5.8\n",
      "(1, 1) * 1.0\n"
     ]
    }
   ],
   "execution_count": 44
  },
  {
   "metadata": {},
   "cell_type": "markdown",
   "source": [
    "## Dataset from CSV\n",
    "\n",
    "A module is provided to create a dataset from CSV lines.\n",
    "\n",
    "Each CSV line should contain comma-separated state indices for a nominated sequence of random variables.\n",
    "(Other separators apart from commas can be used.)\n",
    "\n",
    "Whitespace around values are ignored. Blank lines and comments are ignored. By default, comments start with a hash (#).\n",
    "\n",
    "Optionally, a column of the input can be read as instance weights.\n",
    "\n",
    "Here is an example."
   ]
  },
  {
   "metadata": {
    "ExecuteTime": {
     "end_time": "2025-07-18T00:41:30.291786Z",
     "start_time": "2025-07-18T00:41:30.286899Z"
    }
   },
   "cell_type": "code",
   "source": [
    "from ck.dataset.dataset_from_csv import hard_dataset_from_csv\n",
    "from ck.pgm import PGM\n",
    "\n",
    "pgm: PGM = PGM()\n",
    "x = pgm.new_rv('x', 2)\n",
    "y = pgm.new_rv('y', 3)\n",
    "z = pgm.new_rv('z', 4)\n",
    "\n",
    "lines  = [\n",
    "    '1, 2, 3  # this is a comment',\n",
    "    '', # a blank line\n",
    "    '0, 1, 2',\n",
    "    '# this is also a comment',\n",
    "    '0, 0, 1',\n",
    "]\n",
    "dataset: HardDataset = hard_dataset_from_csv(pgm.rvs, lines)\n",
    "dataset.dump()"
   ],
   "outputs": [
    {
     "name": "stdout",
     "output_type": "stream",
     "text": [
      "rvs: [x, y, z]\n",
      "instances (3, with total weight 3.0):\n",
      "(1, 2, 3) * 1.0\n",
      "(0, 1, 2) * 1.0\n",
      "(0, 0, 1) * 1.0\n"
     ]
    }
   ],
   "execution_count": 45
  },
  {
   "cell_type": "markdown",
   "metadata": {},
   "source": [
    "If the CSV data is as a single string, simply use `splitlines`."
   ]
  },
  {
   "cell_type": "code",
   "metadata": {
    "execution": {
     "iopub.execute_input": "2025-07-18T00:25:30.026153Z",
     "iopub.status.busy": "2025-07-18T00:25:30.025153Z",
     "iopub.status.idle": "2025-07-18T00:25:30.028568Z",
     "shell.execute_reply": "2025-07-18T00:25:30.028568Z"
    },
    "ExecuteTime": {
     "end_time": "2025-07-18T00:41:30.315460Z",
     "start_time": "2025-07-18T00:41:30.311747Z"
    }
   },
   "source": [
    "csv  = \"\"\"\n",
    "    1, 1, 0  # this is a comment\n",
    "    1, 1, 2\n",
    "    0, 2, 1\n",
    "    \"\"\"\n",
    "dataset: HardDataset = hard_dataset_from_csv(pgm.rvs, csv.splitlines())\n",
    "dataset.dump()"
   ],
   "outputs": [
    {
     "name": "stdout",
     "output_type": "stream",
     "text": [
      "rvs: [x, y, z]\n",
      "instances (3, with total weight 3.0):\n",
      "(1, 1, 0) * 1.0\n",
      "(1, 1, 2) * 1.0\n",
      "(0, 2, 1) * 1.0\n"
     ]
    }
   ],
   "execution_count": 46
  },
  {
   "cell_type": "markdown",
   "metadata": {},
   "source": [
    "If a header line appears in the data, then only columns matching the random variable names will be loaded."
   ]
  },
  {
   "cell_type": "code",
   "metadata": {
    "execution": {
     "iopub.execute_input": "2025-07-18T00:25:30.030573Z",
     "iopub.status.busy": "2025-07-18T00:25:30.029573Z",
     "iopub.status.idle": "2025-07-18T00:25:30.033069Z",
     "shell.execute_reply": "2025-07-18T00:25:30.033069Z"
    },
    "ExecuteTime": {
     "end_time": "2025-07-18T00:41:30.347959Z",
     "start_time": "2025-07-18T00:41:30.343755Z"
    }
   },
   "source": [
    "csv  = \"\"\"\n",
    "    z, Q, y, x\n",
    "    3, 7, 2, 1\n",
    "    2, 6, 1, 0\n",
    "    \"\"\"\n",
    "dataset: HardDataset = hard_dataset_from_csv(pgm.rvs, csv.splitlines())\n",
    "dataset.dump()"
   ],
   "outputs": [
    {
     "name": "stdout",
     "output_type": "stream",
     "text": [
      "rvs: [x, y, z]\n",
      "instances (2, with total weight 2.0):\n",
      "(1, 2, 3) * 1.0\n",
      "(0, 1, 2) * 1.0\n"
     ]
    }
   ],
   "execution_count": 47
  },
  {
   "metadata": {},
   "cell_type": "markdown",
   "source": "Here is an example with a weight column, nominated using a column index. (Positive and negative column indices are permitted.)"
  },
  {
   "metadata": {
    "ExecuteTime": {
     "end_time": "2025-07-18T00:41:30.368516Z",
     "start_time": "2025-07-18T00:41:30.364963Z"
    }
   },
   "cell_type": "code",
   "source": [
    "csv  = \"\"\"\n",
    "    0, 2, 3, 1.3\n",
    "    1, 1, 2, 4.5\n",
    "    \"\"\"\n",
    "dataset: HardDataset = hard_dataset_from_csv(pgm.rvs, csv.splitlines(), weights=-1)\n",
    "dataset.dump()\n"
   ],
   "outputs": [
    {
     "name": "stdout",
     "output_type": "stream",
     "text": [
      "rvs: [x, y, z]\n",
      "instances (2, with total weight 5.8):\n",
      "(0, 2, 3) * 1.3\n",
      "(1, 1, 2) * 4.5\n"
     ]
    }
   ],
   "execution_count": 48
  },
  {
   "cell_type": "markdown",
   "metadata": {},
   "source": [
    "A weight column can also be nominated by name, if the CSV data has a header line."
   ]
  },
  {
   "metadata": {
    "ExecuteTime": {
     "end_time": "2025-07-18T00:41:30.390670Z",
     "start_time": "2025-07-18T00:41:30.387378Z"
    }
   },
   "cell_type": "code",
   "source": [
    "csv  = \"\"\"\n",
    "    Weight, z, Q, y, x\n",
    "    2.3,    3, 7, 2, 1\n",
    "    5.5,    2, 6, 1, 0\n",
    "    \"\"\"\n",
    "dataset: HardDataset = hard_dataset_from_csv(pgm.rvs, csv.splitlines(), weights='Weight')\n",
    "dataset.dump()\n"
   ],
   "outputs": [
    {
     "name": "stdout",
     "output_type": "stream",
     "text": [
      "rvs: [x, y, z]\n",
      "instances (2, with total weight 7.8):\n",
      "(1, 2, 3) * 2.3\n",
      "(0, 1, 2) * 5.5\n"
     ]
    }
   ],
   "execution_count": 49
  },
  {
   "cell_type": "markdown",
   "metadata": {},
   "source": [
    "Because a text file is an iterable of lines, one can be used directly as the data source for `hard_dataset_from_csv`. Typical usage may be something like:\n",
    "\n",
    "```\n",
    "with open('my_data.csv', 'r') as file:\n",
    "    dataset = hard_dataset_from_csv(rvs, file)\n",
    "```\n",
    "\n",
    "Here we create an in-memory file using `StringIO`."
   ]
  },
  {
   "cell_type": "code",
   "metadata": {
    "execution": {
     "iopub.execute_input": "2025-07-18T00:25:30.043931Z",
     "iopub.status.busy": "2025-07-18T00:25:30.042931Z",
     "iopub.status.idle": "2025-07-18T00:25:30.046393Z",
     "shell.execute_reply": "2025-07-18T00:25:30.046393Z"
    },
    "ExecuteTime": {
     "end_time": "2025-07-18T00:41:30.415001Z",
     "start_time": "2025-07-18T00:41:30.411306Z"
    }
   },
   "source": [
    "from io import StringIO\n",
    "\n",
    "file = StringIO('''\n",
    "    1, 2, 3\n",
    "    0, 1, 2\n",
    "''')\n",
    "dataset: HardDataset = hard_dataset_from_csv(pgm.rvs, file)\n",
    "dataset.dump()\n"
   ],
   "outputs": [
    {
     "name": "stdout",
     "output_type": "stream",
     "text": [
      "rvs: [x, y, z]\n",
      "instances (2, with total weight 2.0):\n",
      "(1, 2, 3) * 1.0\n",
      "(0, 1, 2) * 1.0\n"
     ]
    }
   ],
   "execution_count": 50
  },
  {
   "cell_type": "markdown",
   "metadata": {},
   "source": [
    "## Sampled Datasets\n",
    "\n",
    "A hard dataset can be created from a sampler.\n",
    "\n",
    "In this example, a sampled dataset is created using the \"Student\" PGM."
   ]
  },
  {
   "cell_type": "code",
   "metadata": {
    "execution": {
     "iopub.execute_input": "2025-07-18T00:25:30.048397Z",
     "iopub.status.busy": "2025-07-18T00:25:30.047397Z",
     "iopub.status.idle": "2025-07-18T00:25:30.153476Z",
     "shell.execute_reply": "2025-07-18T00:25:30.153476Z"
    },
    "ExecuteTime": {
     "end_time": "2025-07-18T00:41:30.550884Z",
     "start_time": "2025-07-18T00:41:30.441729Z"
    }
   },
   "source": [
    "from ck.example import Student\n",
    "from ck.pgm_compiler import DEFAULT_PGM_COMPILER\n",
    "from ck.pgm_circuit.wmc_program import WMCProgram\n",
    "\n",
    "pgm = Student()\n",
    "wmc = WMCProgram(DEFAULT_PGM_COMPILER(pgm))\n",
    "sampler = wmc.sample_direct()\n",
    "\n",
    "print(*sampler.rvs)"
   ],
   "outputs": [
    {
     "name": "stdout",
     "output_type": "stream",
     "text": [
      "difficult intelligent grade sat letter\n"
     ]
    }
   ],
   "execution_count": 51
  },
  {
   "cell_type": "code",
   "metadata": {
    "execution": {
     "iopub.execute_input": "2025-07-18T00:25:30.155508Z",
     "iopub.status.busy": "2025-07-18T00:25:30.155508Z",
     "iopub.status.idle": "2025-07-18T00:25:30.164817Z",
     "shell.execute_reply": "2025-07-18T00:25:30.164817Z"
    },
    "ExecuteTime": {
     "end_time": "2025-07-18T00:41:30.572382Z",
     "start_time": "2025-07-18T00:41:30.566097Z"
    }
   },
   "source": [
    "from ck.dataset.sampled_dataset import dataset_from_sampler\n",
    "\n",
    "dataset = dataset_from_sampler(sampler, 10)\n",
    "\n",
    "dataset.dump()"
   ],
   "outputs": [
    {
     "name": "stdout",
     "output_type": "stream",
     "text": [
      "rvs: [difficult, intelligent, grade, sat, letter]\n",
      "instances (10, with total weight 10.0):\n",
      "(0, 0, 2, 0, 0) * 1.0\n",
      "(0, 0, 1, 0, 0) * 1.0\n",
      "(0, 1, 2, 1, 0) * 1.0\n",
      "(0, 1, 0, 1, 0) * 1.0\n",
      "(0, 0, 0, 0, 1) * 1.0\n",
      "(1, 0, 0, 0, 1) * 1.0\n",
      "(0, 0, 2, 0, 0) * 1.0\n",
      "(0, 0, 1, 0, 1) * 1.0\n",
      "(1, 0, 0, 0, 1) * 1.0\n",
      "(1, 0, 0, 0, 1) * 1.0\n"
     ]
    }
   ],
   "execution_count": 52
  },
  {
   "metadata": {},
   "cell_type": "markdown",
   "source": [
    "## Cross-tables\n",
    "\n",
    "A cross-table records the total weight for possible combinations of states for some random variables. Its primary purpose is to represent empirical distributions over joint states of the random variables.\n",
    "\n",
    "Practically, a cross-table is a mutable mapping from states of the cross-table random variables (as a tuple of state indices) to a weight (as a float). Instances with weight zero are not explicitly represented in a cross-table.\n",
    "\n",
    "Here is an example of a manually created cross-table."
   ]
  },
  {
   "metadata": {},
   "cell_type": "code",
   "outputs": [],
   "execution_count": null,
   "source": [
    "from ck.dataset.cross_table import CrossTable, cross_table_from_dataset\n",
    "\n",
    "crosstab = CrossTable(rvs=[difficult, intelligent, grade, sat, letter])\n",
    "\n",
    "crosstab[(0, 0, 0, 0, 0)] = 3.4\n",
    "crosstab[(0, 0, 0, 0, 1)] = 2.1\n",
    "crosstab[(0, 1, 1, 0, 0)] = 9.3\n",
    "\n",
    "for instance, weight in crosstab.items():\n",
    "    print(instance, weight)"
   ]
  },
  {
   "cell_type": "markdown",
   "metadata": {},
   "source": [
    " A cross-table can be constructed from a dataset.\n",
    "\n",
    "This example uses the dataset created above using a sampler."
   ]
  },
  {
   "cell_type": "code",
   "metadata": {
    "execution": {
     "iopub.execute_input": "2025-07-18T00:25:30.172391Z",
     "iopub.status.busy": "2025-07-18T00:25:30.171392Z",
     "iopub.status.idle": "2025-07-18T00:25:30.175182Z",
     "shell.execute_reply": "2025-07-18T00:25:30.175182Z"
    },
    "ExecuteTime": {
     "end_time": "2025-07-18T00:41:30.614127Z",
     "start_time": "2025-07-18T00:41:30.610223Z"
    }
   },
   "source": [
    "crosstab = cross_table_from_dataset(dataset)\n",
    "\n",
    "print(*crosstab.rvs)\n",
    "for instance, weight in crosstab.items():\n",
    "    print(instance, weight)\n",
    "\n",
    "print('total weight:', crosstab.total_weight())"
   ],
   "outputs": [
    {
     "name": "stdout",
     "output_type": "stream",
     "text": [
      "difficult intelligent grade sat letter\n",
      "(0, 0, 2, 0, 0) 2.0\n",
      "(0, 0, 1, 0, 0) 1.0\n",
      "(0, 1, 2, 1, 0) 1.0\n",
      "(0, 1, 0, 1, 0) 1.0\n",
      "(0, 0, 0, 0, 1) 1.0\n",
      "(1, 0, 0, 0, 1) 3.0\n",
      "(0, 0, 1, 0, 1) 1.0\n",
      "total weight: 10.0\n"
     ]
    }
   ],
   "execution_count": 54
  },
  {
   "cell_type": "markdown",
   "metadata": {},
   "source": [
    "Even though zero weighted instances are not directly represented, they can still be queried."
   ]
  },
  {
   "cell_type": "code",
   "metadata": {
    "execution": {
     "iopub.execute_input": "2025-07-18T00:25:30.177186Z",
     "iopub.status.busy": "2025-07-18T00:25:30.176186Z",
     "iopub.status.idle": "2025-07-18T00:25:30.179934Z",
     "shell.execute_reply": "2025-07-18T00:25:30.179934Z"
    },
    "ExecuteTime": {
     "end_time": "2025-07-18T00:41:30.630361Z",
     "start_time": "2025-07-18T00:41:30.626108Z"
    }
   },
   "source": [
    "crosstab[(1, 0, 0, 0, 0)]"
   ],
   "outputs": [
    {
     "data": {
      "text/plain": [
       "0"
      ]
     },
     "execution_count": 55,
     "metadata": {},
     "output_type": "execute_result"
    }
   ],
   "execution_count": 55
  },
  {
   "cell_type": "markdown",
   "metadata": {},
   "source": [
    "Observe that a cross-table is logically equivalent to a dataset. A hard dataset can be created directly from cross-table using `dataset_from_cross_table`, like the following."
   ]
  },
  {
   "cell_type": "code",
   "metadata": {
    "execution": {
     "iopub.execute_input": "2025-07-18T00:25:30.181932Z",
     "iopub.status.busy": "2025-07-18T00:25:30.180931Z",
     "iopub.status.idle": "2025-07-18T00:25:30.184906Z",
     "shell.execute_reply": "2025-07-18T00:25:30.184906Z"
    },
    "ExecuteTime": {
     "end_time": "2025-07-18T00:41:30.656107Z",
     "start_time": "2025-07-18T00:41:30.651667Z"
    }
   },
   "source": [
    "from ck.dataset.dataset_from_crosstable import dataset_from_cross_table\n",
    "\n",
    "dataset_2 = dataset_from_cross_table(crosstab)\n",
    "\n",
    "dataset_2.dump()"
   ],
   "outputs": [
    {
     "name": "stdout",
     "output_type": "stream",
     "text": [
      "rvs: [difficult, intelligent, grade, sat, letter]\n",
      "instances (7, with total weight 10.0):\n",
      "(0, 0, 2, 0, 0) * 2.0\n",
      "(0, 0, 1, 0, 0) * 1.0\n",
      "(0, 1, 2, 1, 0) * 1.0\n",
      "(0, 1, 0, 1, 0) * 1.0\n",
      "(0, 0, 0, 0, 1) * 1.0\n",
      "(1, 0, 0, 0, 1) * 3.0\n",
      "(0, 0, 1, 0, 1) * 1.0\n"
     ]
    }
   ],
   "execution_count": 56
  },
  {
   "cell_type": "markdown",
   "metadata": {},
   "source": [
    "A cross-table can also be sampled, using a `CrossTableSampler`. Instances will be drawn from the sampler according to their weight in the given cross-table.\n",
    "\n",
    "Note that if the given cross-table is modified after constructing the sampler, the sampler will not be affected."
   ]
  },
  {
   "cell_type": "code",
   "metadata": {
    "execution": {
     "iopub.execute_input": "2025-07-18T00:25:30.186905Z",
     "iopub.status.busy": "2025-07-18T00:25:30.185905Z",
     "iopub.status.idle": "2025-07-18T00:25:30.189473Z",
     "shell.execute_reply": "2025-07-18T00:25:30.189473Z"
    },
    "ExecuteTime": {
     "end_time": "2025-07-18T00:41:30.667391Z",
     "start_time": "2025-07-18T00:41:30.663856Z"
    }
   },
   "source": [
    "from ck.dataset.sampled_dataset import CrossTableSampler\n",
    "\n",
    "crosstab_sampler = CrossTableSampler(crosstab)\n",
    "\n",
    "for inst in crosstab_sampler.take(8):\n",
    "    print(inst)\n"
   ],
   "outputs": [
    {
     "name": "stdout",
     "output_type": "stream",
     "text": [
      "(0, 0, 1, 0, 1)\n",
      "(0, 0, 1, 0, 0)\n",
      "(1, 0, 0, 0, 1)\n",
      "(0, 0, 1, 0, 0)\n",
      "(0, 0, 1, 0, 0)\n",
      "(0, 0, 1, 0, 1)\n",
      "(1, 0, 0, 0, 1)\n",
      "(0, 0, 2, 0, 0)\n"
     ]
    }
   ],
   "execution_count": 57
  }
 ],
 "metadata": {
  "kernelspec": {
   "display_name": "Python 3 (ipykernel)",
   "language": "python",
   "name": "python3"
  },
  "language_info": {
   "codemirror_mode": {
    "name": "ipython",
    "version": 3
   },
   "file_extension": ".py",
   "mimetype": "text/x-python",
   "name": "python",
   "nbconvert_exporter": "python",
   "pygments_lexer": "ipython3",
   "version": "3.12.10"
  }
 },
 "nbformat": 4,
 "nbformat_minor": 1
}
