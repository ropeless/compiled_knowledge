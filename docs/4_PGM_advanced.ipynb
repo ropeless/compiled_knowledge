{
 "cells": [
  {
   "cell_type": "markdown",
   "metadata": {
    "collapsed": false
   },
   "source": [
    "# PGM Advanced Topics\n",
    "\n",
    "This section describes details and advanced uses of PGMs (and compiled PGMs)."
   ]
  },
  {
   "cell_type": "markdown",
   "metadata": {},
   "source": [
    "## Overview\n",
    "\n",
    "The primary module for PGMs is `ck.pgm` which supports the in-memory creation of probabilistic graphical models.\n",
    "\n",
    "A probabilistic graphical model (PGM) defines a joint probability distribution over\n",
    "a set of random variables. Specifically, a `PGM` object represents a factor graph with\n",
    "discrete random variables.\n",
    "\n",
    "A random variable is represented by a `RandomVariable` object. Each random variable has a\n",
    "fixed, finite number of states. Many algorithms will assume at least two states.\n",
    "Every `RandomVariable` object belongs to exactly one `PGM` object. A random variable\n",
    "has a name (for human convenience) and its states are indexed by integers, counting\n",
    "from zero. The states of a random variables optionally may be given names (for human\n",
    "convenience).\n",
    "\n",
    "A PGM also has factors, represented by `Factor` objects. Each `Factor` of a `PGM` connects\n",
    "a set of `RandomVariable` objects of the PGM. In general, the order of the random variables\n",
    "of a factor is functionally irrelevant, but is practically relevant for operating with `Factor`\n",
    "objects, thus the random variables of a factor form a list. The \"shape\"\n",
    "of a factor is the list of the numbers of states of the factor's random variables (co-indexed\n",
    "with the list of random variables of the factor).\n",
    "\n",
    "If a `PGM` object is representing a Bayesian network, then each factor represents a conditional\n",
    "probability table (CPT) and the first random variable of each factor is taken to be the child\n",
    "random variable, with the remaining random variables being the parents.\n",
    "\n",
    "Every `Factor` has associated with it a potential function, represented by a `PotentialFunction` object.\n",
    "A potential function maps each combination of states of the factor's random variables to a value (of type float).\n",
    "A combination of states of random variables is represented as a `Key`. A `Key` is essentially\n",
    "a list of state indexes, co-indexed with the factor's random variables.\n",
    "\n",
    "A potential function is a map from all possible keys (according to the potential function's\n",
    "shape) to a float value. Each potential function has zero or more \"parameters\" which may be\n",
    "adjusted to change the potential function's mapping. The parameters of a potential function\n",
    "are indexed sequentially from zero.\n",
    "\n",
    "In a simple case, there is a parameter for each key, and each parameter may be independently\n",
    "set by a user of the potential function. I.e., setting a parameter of a potential function\n",
    "sets the value of the potential function for that key. However, the relationship between\n",
    "parameters and keys may be more complicated, and sometimes parameters are not adjustable\n",
    "by the user. How parameters work for a particular potential function depends on its\n",
    "concrete subclass of the abstract `PotentialFunction` class.\n",
    "\n",
    "Each parameter of a potential function is always associated with one or more keys. The value of the\n",
    "parameter is the value of the potential function for it's associated keys. Conversely, each\n",
    "key of a potential function is associate with zero or one parameters. That is, it is possible\n",
    "that a potential function maps multiple keys to the same parameter.\n",
    "\n",
    "If a key of a potential function is associated with a parameter, then the value of\n",
    "the potential function for that key is the value of the parameter.\n",
    "\n",
    "If a key of a potential function is not associated with a parameter, then the value of\n",
    "the potential function for that key is zero. Furthermore, the key is referred to as\n",
    "\"guaranteed-zero\", meaning that no change in the parameter values of the potential function\n",
    "will change the value for that key away from zero.\n",
    "\n",
    "`RandomVariable` objects are immutable and hashable. States of random variables are\n",
    " also immutable and hashable.\n",
    "\n",
    "A `Factor` object is associated with random variables at construction time and that\n",
    "association cannot change for the lifetime of the object. However, the `PotentialFunction`\n",
    "associated with a `Factor` may be updated.\n",
    "\n",
    "Factors may share a `PotentialFunction` object, so long as the factors have the same shape.\n",
    "\n",
    "`PotentialFunction` objects cannot change their shape, but may be otherwise mutable and\n",
    "are generally not hashable. A particular class of `PotentialFunction` may allow updating\n",
    "of: (1) its number of parameters, (2) its parameter values,and (3) its relationship between\n",
    "parameters and keys.\n",
    "\n",
    "There are many kinds of potential function.\n",
    "\n",
    "A `DensePotentialFunction` has exactly one parameter for each possible key (no \"guaranteed-zero\" keys)\n",
    "and there are no shared parameters. Internally, a `DensePotentialFunction` is an array that stores\n",
    "the potential function value for each possible key. I.e., is store the function value for each possible\n",
    "combination of states of the random variables.\n",
    "\n",
    "There is a special class of potential function called a `ZeroPotentialFunction` which\n",
    "(like `DensePotentialFunction`) has a parameter for each possible key (and thus no\n",
    "key is \"guaranteed-zero\"). However, the value of each parameter is set to zero and there\n",
    "is no mechanism to update these parameter values. A `ZeroPotentialFunction` is the default\n",
    "potential function for a factor. It gets used as a light-weight placeholder until replaced\n",
    "by some other potential function. In particular a `ZeroPotentialFunction` behaves exactly\n",
    "like a `DensePotentialFunction` except parameter values cannot be updated away from the\n",
    "initial value of zero, which is useful for some machine learning methods.\n",
    "\n",
    "A `SparsePotentialFunction` only has parameters for explicitly mentioned keys. That is,\n",
    "if a value for a given key is zero, then it has no parameter associated with the key and is\n",
    "\"guaranteed-zero\". However, the value for any key may be set to any float value and the\n",
    "parameters will be automatically adjusted as needed. Setting the value for a key to zero\n",
    "disassociates the key from its parameter and thus makes that key \"guaranteed zero\".\n",
    "\n",
    "A `CompactPotentialFunction` function is sparse, where values for keys\n",
    "that are same value are represented by a single parameter.\n",
    "There is one parameter for each unique, non-zero key value.\n",
    "The user may set the value for any key and parameters will\n",
    "be automatically reconfigured as needed. Setting the value for\n",
    "a key to zero disassociates the key from its parameter and\n",
    "thus makes that key \"guaranteed zero\".\n",
    "\n",
    "A `ClausePotentialFunction` represents a clause from a CNF formula.\n",
    "I.e. a clause over variables X, Y, Z, is a disjunction of the form: 'X=x or Y=y or Z=z'.\n",
    "A clause potential function is guaranteed zero for a key where the clause is false,\n",
    "i.e., when 'X != x and Y != y and Z != z'.\n",
    "For keys where the clause is true, the value of the potential function\n",
    "is given by the only parameter of the potential function. That parameter\n",
    "is called the clause 'weight' and is notionally 1.\n",
    "The weight of a clause is permitted to be zero, but that is _not_ equivalent to\n",
    "guaranteed-zero.\n",
    "\n",
    "A `CPTPotentialFunction` implements a sparse Conditional Probability Table (CPT).\n",
    "The first random variable in the signature is the child, and the remaining random\n",
    "variables are parents. For each instantiation of the parent random variables there is a Conditioned Probability Distribution (CPD) over the states of the child random variable.\n",
    "If a CPD is not provided for a parent instantiation, then that parent instantiation\n",
    "is taken to have probability zero (i.e., all values of the CPD are \"guaranteed zero\").\n",
    "\n",
    "Each `RandomVariable` has an index (`idx`) which is a sequence number, starting from zero,\n",
    "indicating when that `RandomVariable` was added to its `PGM`. Random variables cannot\n",
    "be removed from a PGM once added, so for some random variable, `rv`, it is always true\n",
    "that `rv.pgm.rvs[rv.idx] is rv`.\n",
    "\n",
    "A `RandomVariable` can be treated as a sequence of `Indicator` objects, that are\n",
    "co-indexed with states of the random variable. Each `Indicator` object represent\n",
    " a particular random variable being in a particular state.\n",
    "`Indicator` objects are immutable and hashable. They only record the random variable's\n",
    "index and the state's index. Thus, if a PGM is copied, then the indicators of the\n",
    "copy are functionally interchangeable with the indicators of the original.\n",
    "\n",
    "Each `Factor` has an  index (`idx`) which is a sequence number, starting from zero,\n",
    "indicating when that Factor was added to its PGM. Factors cannot\n",
    "be removed from a PGM once added, so for some factor, `f`, it is always true\n",
    "that `f.pgm.factors[f.idx] is f`.\n"
   ]
  },
  {
   "cell_type": "markdown",
   "metadata": {
    "collapsed": false
   },
   "source": [
    "## PGM name ##\n",
    "\n",
    "In CK, it is possible to give a PGM a name."
   ]
  },
  {
   "cell_type": "code",
   "execution_count": 1,
   "metadata": {
    "ExecuteTime": {
     "end_time": "2025-05-14T01:25:43.005344Z",
     "start_time": "2025-05-14T01:25:42.885483Z"
    },
    "collapsed": false,
    "execution": {
     "iopub.execute_input": "2025-06-11T22:52:02.442017Z",
     "iopub.status.busy": "2025-06-11T22:52:02.442017Z",
     "iopub.status.idle": "2025-06-11T22:52:02.453897Z",
     "shell.execute_reply": "2025-06-11T22:52:02.453897Z"
    }
   },
   "outputs": [
    {
     "name": "stdout",
     "output_type": "stream",
     "text": [
      "cancer\n"
     ]
    }
   ],
   "source": [
    "from ck.pgm import PGM\n",
    "\n",
    "pgm = PGM('cancer')\n",
    "\n",
    "print(pgm.name)"
   ]
  },
  {
   "cell_type": "markdown",
   "metadata": {
    "collapsed": false
   },
   "source": [
    "## State names ##\n",
    "\n",
    "The states of random variables can also be given names, either as a tuple or list. State names can be a mix of types: `int`, `str`, `bool`, `float`, or `None`.\n",
    "In fact, the default names are integers, 0, 1, ..., $n - 1$, for $n$ number of states."
   ]
  },
  {
   "cell_type": "code",
   "execution_count": 2,
   "metadata": {
    "ExecuteTime": {
     "end_time": "2025-05-14T01:25:43.012150Z",
     "start_time": "2025-05-14T01:25:43.005344Z"
    },
    "collapsed": false,
    "execution": {
     "iopub.execute_input": "2025-06-11T22:52:02.481341Z",
     "iopub.status.busy": "2025-06-11T22:52:02.481341Z",
     "iopub.status.idle": "2025-06-11T22:52:02.484679Z",
     "shell.execute_reply": "2025-06-11T22:52:02.484679Z"
    }
   },
   "outputs": [],
   "source": [
    "pollution = pgm.new_rv('pollution', ('low', 'high'))\n",
    "smoker = pgm.new_rv('smoker', ('true', 'false'))\n",
    "cancer = pgm.new_rv('cancer', ('true', 'false'))\n",
    "xray = pgm.new_rv('xray', ('positive', 'negative'))\n",
    "dyspnoea = pgm.new_rv('dyspnoea', ('true', 'false'))\n"
   ]
  },
  {
   "cell_type": "markdown",
   "metadata": {
    "collapsed": false
   },
   "source": [
    "Remember that a random variable behaves like a list of indicators..."
   ]
  },
  {
   "cell_type": "code",
   "execution_count": 3,
   "metadata": {
    "ExecuteTime": {
     "end_time": "2025-05-14T01:25:43.188740Z",
     "start_time": "2025-05-14T01:25:43.183285Z"
    },
    "collapsed": false,
    "execution": {
     "iopub.execute_input": "2025-06-11T22:52:02.486689Z",
     "iopub.status.busy": "2025-06-11T22:52:02.486689Z",
     "iopub.status.idle": "2025-06-11T22:52:02.491551Z",
     "shell.execute_reply": "2025-06-11T22:52:02.491551Z"
    }
   },
   "outputs": [
    {
     "data": {
      "text/plain": [
       "2"
      ]
     },
     "execution_count": 3,
     "metadata": {},
     "output_type": "execute_result"
    }
   ],
   "source": [
    "len(pollution)"
   ]
  },
  {
   "cell_type": "code",
   "execution_count": 4,
   "metadata": {
    "ExecuteTime": {
     "end_time": "2025-05-14T01:25:43.220643Z",
     "start_time": "2025-05-14T01:25:43.211415Z"
    },
    "collapsed": false,
    "execution": {
     "iopub.execute_input": "2025-06-11T22:52:02.493556Z",
     "iopub.status.busy": "2025-06-11T22:52:02.493556Z",
     "iopub.status.idle": "2025-06-11T22:52:02.496642Z",
     "shell.execute_reply": "2025-06-11T22:52:02.496642Z"
    }
   },
   "outputs": [
    {
     "data": {
      "text/plain": [
       "[Indicator(rv_idx=0, state_idx=0), Indicator(rv_idx=0, state_idx=1)]"
      ]
     },
     "execution_count": 4,
     "metadata": {},
     "output_type": "execute_result"
    }
   ],
   "source": [
    "list(pollution)"
   ]
  },
  {
   "cell_type": "markdown",
   "metadata": {
    "collapsed": false
   },
   "source": [
    "It is possible to directly access the indicators of a random variable..."
   ]
  },
  {
   "cell_type": "code",
   "execution_count": 5,
   "metadata": {
    "ExecuteTime": {
     "end_time": "2025-05-14T01:25:43.233036Z",
     "start_time": "2025-05-14T01:25:43.229142Z"
    },
    "collapsed": false,
    "execution": {
     "iopub.execute_input": "2025-06-11T22:52:02.498659Z",
     "iopub.status.busy": "2025-06-11T22:52:02.498659Z",
     "iopub.status.idle": "2025-06-11T22:52:02.501994Z",
     "shell.execute_reply": "2025-06-11T22:52:02.501994Z"
    }
   },
   "outputs": [
    {
     "data": {
      "text/plain": [
       "(Indicator(rv_idx=0, state_idx=0), Indicator(rv_idx=0, state_idx=1))"
      ]
     },
     "execution_count": 5,
     "metadata": {},
     "output_type": "execute_result"
    }
   ],
   "source": [
    "pollution.indicators"
   ]
  },
  {
   "cell_type": "markdown",
   "metadata": {
    "collapsed": false
   },
   "source": [
    "We also have access to the states names of a random variable."
   ]
  },
  {
   "cell_type": "code",
   "execution_count": 6,
   "metadata": {
    "ExecuteTime": {
     "end_time": "2025-05-14T01:25:43.258155Z",
     "start_time": "2025-05-14T01:25:43.253532Z"
    },
    "collapsed": false,
    "execution": {
     "iopub.execute_input": "2025-06-11T22:52:02.503999Z",
     "iopub.status.busy": "2025-06-11T22:52:02.503999Z",
     "iopub.status.idle": "2025-06-11T22:52:02.506990Z",
     "shell.execute_reply": "2025-06-11T22:52:02.506990Z"
    }
   },
   "outputs": [
    {
     "data": {
      "text/plain": [
       "('low', 'high')"
      ]
     },
     "execution_count": 6,
     "metadata": {},
     "output_type": "execute_result"
    }
   ],
   "source": [
    "pollution.states"
   ]
  },
  {
   "cell_type": "markdown",
   "metadata": {
    "collapsed": false
   },
   "source": [
    "It is possible to access a random variable's indicators by state index or state name..."
   ]
  },
  {
   "cell_type": "code",
   "execution_count": 7,
   "metadata": {
    "ExecuteTime": {
     "end_time": "2025-05-14T01:25:43.283410Z",
     "start_time": "2025-05-14T01:25:43.278626Z"
    },
    "execution": {
     "iopub.execute_input": "2025-06-11T22:52:02.508995Z",
     "iopub.status.busy": "2025-06-11T22:52:02.507996Z",
     "iopub.status.idle": "2025-06-11T22:52:02.511819Z",
     "shell.execute_reply": "2025-06-11T22:52:02.511819Z"
    }
   },
   "outputs": [
    {
     "data": {
      "text/plain": [
       "Indicator(rv_idx=0, state_idx=0)"
      ]
     },
     "execution_count": 7,
     "metadata": {},
     "output_type": "execute_result"
    }
   ],
   "source": [
    "pollution[0]  # access by state index using square brackets"
   ]
  },
  {
   "cell_type": "code",
   "execution_count": 8,
   "metadata": {
    "ExecuteTime": {
     "end_time": "2025-05-14T01:25:43.307394Z",
     "start_time": "2025-05-14T01:25:43.294749Z"
    },
    "collapsed": false,
    "execution": {
     "iopub.execute_input": "2025-06-11T22:52:02.513843Z",
     "iopub.status.busy": "2025-06-11T22:52:02.512844Z",
     "iopub.status.idle": "2025-06-11T22:52:02.516604Z",
     "shell.execute_reply": "2025-06-11T22:52:02.516604Z"
    }
   },
   "outputs": [
    {
     "data": {
      "text/plain": [
       "Indicator(rv_idx=0, state_idx=0)"
      ]
     },
     "execution_count": 8,
     "metadata": {},
     "output_type": "execute_result"
    }
   ],
   "source": [
    "pollution('low')  # access by state name using round brackets"
   ]
  },
  {
   "cell_type": "markdown",
   "metadata": {
    "collapsed": false
   },
   "source": [
    "State names are also used when pretty-printing indicators."
   ]
  },
  {
   "cell_type": "code",
   "execution_count": 9,
   "metadata": {
    "ExecuteTime": {
     "end_time": "2025-05-14T01:25:43.332534Z",
     "start_time": "2025-05-14T01:25:43.327746Z"
    },
    "collapsed": false,
    "execution": {
     "iopub.execute_input": "2025-06-11T22:52:02.518609Z",
     "iopub.status.busy": "2025-06-11T22:52:02.517637Z",
     "iopub.status.idle": "2025-06-11T22:52:02.521715Z",
     "shell.execute_reply": "2025-06-11T22:52:02.521715Z"
    }
   },
   "outputs": [
    {
     "data": {
      "text/plain": [
       "'cancer=true, smoker=false'"
      ]
     },
     "execution_count": 9,
     "metadata": {},
     "output_type": "execute_result"
    }
   ],
   "source": [
    "pgm.indicator_str(cancer('true'), smoker('false'))"
   ]
  },
  {
   "cell_type": "markdown",
   "metadata": {
    "collapsed": false
   },
   "source": [
    "## Random variable index and offset ##\n",
    "\n",
    "Every random variable has an index, which is its location in the PGM array of random variables."
   ]
  },
  {
   "cell_type": "code",
   "execution_count": 10,
   "metadata": {
    "ExecuteTime": {
     "end_time": "2025-05-14T01:25:43.349778Z",
     "start_time": "2025-05-14T01:25:43.345937Z"
    },
    "collapsed": false,
    "execution": {
     "iopub.execute_input": "2025-06-11T22:52:02.523720Z",
     "iopub.status.busy": "2025-06-11T22:52:02.522719Z",
     "iopub.status.idle": "2025-06-11T22:52:02.526243Z",
     "shell.execute_reply": "2025-06-11T22:52:02.526243Z"
    }
   },
   "outputs": [
    {
     "name": "stdout",
     "output_type": "stream",
     "text": [
      "0 1 2 3 4\n"
     ]
    }
   ],
   "source": [
    "print(pollution.idx, smoker.idx, cancer.idx, xray.idx, dyspnoea.idx)"
   ]
  },
  {
   "cell_type": "markdown",
   "metadata": {
    "collapsed": false
   },
   "source": [
    "The index of a random variable says where it appears in its PGM `rvs` array."
   ]
  },
  {
   "cell_type": "code",
   "execution_count": 11,
   "metadata": {
    "ExecuteTime": {
     "end_time": "2025-05-14T01:25:43.370657Z",
     "start_time": "2025-05-14T01:25:43.366724Z"
    },
    "collapsed": false,
    "execution": {
     "iopub.execute_input": "2025-06-11T22:52:02.528277Z",
     "iopub.status.busy": "2025-06-11T22:52:02.527277Z",
     "iopub.status.idle": "2025-06-11T22:52:02.530783Z",
     "shell.execute_reply": "2025-06-11T22:52:02.530783Z"
    }
   },
   "outputs": [
    {
     "name": "stdout",
     "output_type": "stream",
     "text": [
      "['pollution', 'smoker', 'cancer', 'xray', 'dyspnoea']\n"
     ]
    }
   ],
   "source": [
    "print([str(rv) for rv in pgm.rvs])"
   ]
  },
  {
   "cell_type": "markdown",
   "metadata": {
    "collapsed": false
   },
   "source": [
    "The `offset` of a random variable is the sum of lengths of random variables that have a lower index than it. This can be useful when indicators of a PGM are laid out in random variable order, then the indicators of a random variable `rv` will be in the range `rv.offset` to `rv.offset + len(rv) - 1`."
   ]
  },
  {
   "cell_type": "code",
   "execution_count": 12,
   "metadata": {
    "ExecuteTime": {
     "end_time": "2025-05-14T01:25:43.392693Z",
     "start_time": "2025-05-14T01:25:43.389507Z"
    },
    "collapsed": false,
    "execution": {
     "iopub.execute_input": "2025-06-11T22:52:02.532818Z",
     "iopub.status.busy": "2025-06-11T22:52:02.531822Z",
     "iopub.status.idle": "2025-06-11T22:52:02.535389Z",
     "shell.execute_reply": "2025-06-11T22:52:02.535389Z"
    }
   },
   "outputs": [
    {
     "name": "stdout",
     "output_type": "stream",
     "text": [
      "0 2 4 6 8\n"
     ]
    }
   ],
   "source": [
    "print(pollution.offset, smoker.offset, cancer.offset, xray.offset, dyspnoea.offset)"
   ]
  },
  {
   "cell_type": "markdown",
   "metadata": {
    "collapsed": false
   },
   "source": [
    "## Advanced use of WMCProgram ##\n",
    "\n",
    "Let's add some factors to the PGM and compile it to a `WMCProgram`."
   ]
  },
  {
   "cell_type": "code",
   "execution_count": 13,
   "metadata": {
    "ExecuteTime": {
     "end_time": "2025-05-14T01:25:43.419598Z",
     "start_time": "2025-05-14T01:25:43.413515Z"
    },
    "collapsed": false,
    "execution": {
     "iopub.execute_input": "2025-06-11T22:52:02.537409Z",
     "iopub.status.busy": "2025-06-11T22:52:02.536393Z",
     "iopub.status.idle": "2025-06-11T22:52:02.541655Z",
     "shell.execute_reply": "2025-06-11T22:52:02.541552Z"
    }
   },
   "outputs": [
    {
     "data": {
      "text/plain": [
       "<ck.pgm.CPTPotentialFunction at 0x1ad7fbf82c0>"
      ]
     },
     "execution_count": 13,
     "metadata": {},
     "output_type": "execute_result"
    }
   ],
   "source": [
    "pgm.new_factor(pollution).set_cpt().set_cpd((), (0.9, 0.1))\n",
    "pgm.new_factor(smoker).set_cpt().set_cpd((), (0.3, 0.7))\n",
    "pgm.new_factor(cancer, pollution, smoker).set_cpt().set(\n",
    "    ((0, 0), (0.03,  0.97)),\n",
    "    ((1, 0), (0.05,  0.95)),\n",
    "    ((0, 1), (0.001, 0.999)),\n",
    "    ((1, 1), (0.02,  0.98)),\n",
    ")\n",
    "pgm.new_factor(xray, cancer).set_cpt().set(\n",
    "    (0, (0.9, 0.1)),\n",
    "    (1, (0.2, 0.8)),\n",
    ")\n",
    "pgm.new_factor(dyspnoea, cancer).set_cpt().set(\n",
    "    (0, (0.65, 0.35)),\n",
    "    (1, (0.3,  0.7)),\n",
    ")\n"
   ]
  },
  {
   "cell_type": "code",
   "execution_count": 14,
   "metadata": {
    "ExecuteTime": {
     "end_time": "2025-05-14T01:25:43.534780Z",
     "start_time": "2025-05-14T01:25:43.444201Z"
    },
    "execution": {
     "iopub.execute_input": "2025-06-11T22:52:02.543684Z",
     "iopub.status.busy": "2025-06-11T22:52:02.542685Z",
     "iopub.status.idle": "2025-06-11T22:52:02.625123Z",
     "shell.execute_reply": "2025-06-11T22:52:02.625123Z"
    }
   },
   "outputs": [],
   "source": [
    "from ck.pgm_circuit.wmc_program import WMCProgram\n",
    "from ck.pgm_compiler import DEFAULT_PGM_COMPILER as pgm_compiler\n",
    "\n",
    "wmc = WMCProgram(pgm_compiler(pgm))"
   ]
  },
  {
   "cell_type": "markdown",
   "metadata": {
    "collapsed": false
   },
   "source": [
    "State names can make probability queries more intuitive."
   ]
  },
  {
   "cell_type": "code",
   "execution_count": 15,
   "metadata": {
    "ExecuteTime": {
     "end_time": "2025-05-14T01:25:43.544286Z",
     "start_time": "2025-05-14T01:25:43.539931Z"
    },
    "collapsed": false,
    "execution": {
     "iopub.execute_input": "2025-06-11T22:52:02.627155Z",
     "iopub.status.busy": "2025-06-11T22:52:02.627155Z",
     "iopub.status.idle": "2025-06-11T22:52:02.630199Z",
     "shell.execute_reply": "2025-06-11T22:52:02.630199Z"
    }
   },
   "outputs": [
    {
     "data": {
      "text/plain": [
       "0.0029000000000000002"
      ]
     },
     "execution_count": 15,
     "metadata": {},
     "output_type": "execute_result"
    }
   ],
   "source": [
    "wmc.probability(cancer('true'), condition=smoker('false'))"
   ]
  },
  {
   "cell_type": "markdown",
   "metadata": {
    "collapsed": false
   },
   "source": [
    "A `WMCProgram` uses a `ProbabilityMixin` to provide many additional queries based on probabilities.\n",
    "\n",
    "For example, consider a marginal distribution, which is returned as a numpy array..."
   ]
  },
  {
   "cell_type": "code",
   "execution_count": 16,
   "metadata": {
    "ExecuteTime": {
     "end_time": "2025-05-14T01:25:43.555767Z",
     "start_time": "2025-05-14T01:25:43.549187Z"
    },
    "collapsed": false,
    "execution": {
     "iopub.execute_input": "2025-06-11T22:52:02.632233Z",
     "iopub.status.busy": "2025-06-11T22:52:02.631203Z",
     "iopub.status.idle": "2025-06-11T22:52:02.635117Z",
     "shell.execute_reply": "2025-06-11T22:52:02.635117Z"
    }
   },
   "outputs": [
    {
     "data": {
      "text/plain": [
       "array([0.01163, 0.98837])"
      ]
     },
     "execution_count": 16,
     "metadata": {},
     "output_type": "execute_result"
    }
   ],
   "source": [
    "wmc.marginal_distribution(cancer)"
   ]
  },
  {
   "cell_type": "markdown",
   "metadata": {
    "collapsed": false
   },
   "source": [
    "Let's make that more pretty..."
   ]
  },
  {
   "cell_type": "code",
   "execution_count": 17,
   "metadata": {
    "ExecuteTime": {
     "end_time": "2025-05-14T01:25:43.568986Z",
     "start_time": "2025-05-14T01:25:43.560697Z"
    },
    "collapsed": false,
    "execution": {
     "iopub.execute_input": "2025-06-11T22:52:02.637121Z",
     "iopub.status.busy": "2025-06-11T22:52:02.636121Z",
     "iopub.status.idle": "2025-06-11T22:52:02.639532Z",
     "shell.execute_reply": "2025-06-11T22:52:02.639532Z"
    }
   },
   "outputs": [
    {
     "name": "stdout",
     "output_type": "stream",
     "text": [
      "P(cancer=true) is 0.01163\n",
      "P(cancer=false) is 0.98837\n"
     ]
    }
   ],
   "source": [
    "for state, pr in zip(cancer.states, wmc.marginal_distribution(cancer)):\n",
    "    print(f'P({cancer}={state}) is {pr}')"
   ]
  },
  {
   "cell_type": "markdown",
   "metadata": {
    "collapsed": false
   },
   "source": [
    "MAP calculation are also possible using functionality from `ProbabilityMixin`"
   ]
  },
  {
   "cell_type": "code",
   "execution_count": 18,
   "metadata": {
    "ExecuteTime": {
     "end_time": "2025-05-14T01:25:43.604546Z",
     "start_time": "2025-05-14T01:25:43.595948Z"
    },
    "collapsed": false,
    "execution": {
     "iopub.execute_input": "2025-06-11T22:52:02.641536Z",
     "iopub.status.busy": "2025-06-11T22:52:02.640535Z",
     "iopub.status.idle": "2025-06-11T22:52:02.644614Z",
     "shell.execute_reply": "2025-06-11T22:52:02.644614Z"
    }
   },
   "outputs": [
    {
     "data": {
      "text/plain": [
       "'cancer=false, xray=negative with probability 0.7744'"
      ]
     },
     "execution_count": 18,
     "metadata": {},
     "output_type": "execute_result"
    }
   ],
   "source": [
    "pr, states = wmc.map(cancer, xray, condition=smoker('true'))\n",
    "pgm.indicator_str(cancer[states[0]], xray[states[1]]) + f' with probability {pr}'"
   ]
  },
  {
   "cell_type": "markdown",
   "metadata": {
    "collapsed": false
   },
   "source": [
    "Many other probabilistic calculations are possible."
   ]
  },
  {
   "cell_type": "code",
   "execution_count": 19,
   "metadata": {
    "ExecuteTime": {
     "end_time": "2025-05-14T01:25:43.624766Z",
     "start_time": "2025-05-14T01:25:43.609560Z"
    },
    "collapsed": false,
    "execution": {
     "iopub.execute_input": "2025-06-11T22:52:02.646620Z",
     "iopub.status.busy": "2025-06-11T22:52:02.645620Z",
     "iopub.status.idle": "2025-06-11T22:52:02.651278Z",
     "shell.execute_reply": "2025-06-11T22:52:02.651278Z"
    }
   },
   "outputs": [
    {
     "name": "stdout",
     "output_type": "stream",
     "text": [
      "correlation = 0.12438070141828558\n",
      "total_correlation = 0.11027571817587367\n",
      "entropy = 0.09141503487673329\n",
      "conditional entropy = 0.08133417625362895\n",
      "joint entropy = 0.9626250754843215\n",
      "mutual information = 0.010080858623104302\n",
      "covariant normalised mutual information = 0.03551641048843064\n",
      "uncertainty = 0.011438741319017601\n",
      "symmetric uncertainty = 0.020727453734215563\n",
      "information quality ratio = 0.010472258493819478\n"
     ]
    }
   ],
   "source": [
    "print('correlation =', wmc.correlation(cancer[0], smoker[0]))\n",
    "print('total_correlation =', wmc.total_correlation(cancer, smoker))\n",
    "print('entropy =', wmc.entropy(cancer))\n",
    "print('conditional entropy =', wmc.conditional_entropy(cancer, smoker))\n",
    "print('joint entropy =', wmc.joint_entropy(cancer, smoker))\n",
    "print('mutual information =', wmc.mutual_information(cancer, smoker))\n",
    "print('covariant normalised mutual information =', wmc.covariant_normalised_mutual_information(cancer, smoker))\n",
    "print('uncertainty =', wmc.uncertainty(cancer, smoker))\n",
    "print('symmetric uncertainty =', wmc.symmetric_uncertainty(cancer, smoker))\n",
    "print('information quality ratio =', wmc.iqr(cancer, smoker))\n",
    "\n"
   ]
  },
  {
   "cell_type": "markdown",
   "metadata": {
    "collapsed": false
   },
   "source": [
    "There are two underlying methods used for many probabilistic queries.\n",
    "\n",
    "The first is `wmc` which provides the weight of worlds matching given indicators."
   ]
  },
  {
   "cell_type": "code",
   "execution_count": 20,
   "metadata": {
    "ExecuteTime": {
     "end_time": "2025-05-14T01:25:43.636902Z",
     "start_time": "2025-05-14T01:25:43.629626Z"
    },
    "collapsed": false,
    "execution": {
     "iopub.execute_input": "2025-06-11T22:52:02.653284Z",
     "iopub.status.busy": "2025-06-11T22:52:02.652284Z",
     "iopub.status.idle": "2025-06-11T22:52:02.656112Z",
     "shell.execute_reply": "2025-06-11T22:52:02.656112Z"
    }
   },
   "outputs": [
    {
     "data": {
      "text/plain": [
       "0.0096"
      ]
     },
     "execution_count": 20,
     "metadata": {},
     "output_type": "execute_result"
    }
   ],
   "source": [
    "wmc.wmc(cancer[0], smoker[0])"
   ]
  },
  {
   "cell_type": "markdown",
   "metadata": {
    "collapsed": false
   },
   "source": [
    "The second is `z` which returns the summed weight of all possible worlds.\n",
    "\n",
    "In this case `z` is 1, but that is not always the case for a PGM."
   ]
  },
  {
   "cell_type": "code",
   "execution_count": 21,
   "metadata": {
    "ExecuteTime": {
     "end_time": "2025-05-14T01:25:43.650182Z",
     "start_time": "2025-05-14T01:25:43.646473Z"
    },
    "collapsed": false,
    "execution": {
     "iopub.execute_input": "2025-06-11T22:52:02.658116Z",
     "iopub.status.busy": "2025-06-11T22:52:02.657116Z",
     "iopub.status.idle": "2025-06-11T22:52:02.660653Z",
     "shell.execute_reply": "2025-06-11T22:52:02.660653Z"
    }
   },
   "outputs": [
    {
     "data": {
      "text/plain": [
       "1.0"
      ]
     },
     "execution_count": 21,
     "metadata": {},
     "output_type": "execute_result"
    }
   ],
   "source": [
    "wmc.z"
   ]
  },
  {
   "cell_type": "markdown",
   "metadata": {
    "collapsed": false
   },
   "source": [
    "## Extra PGM methods ##\n",
    "\n",
    "\n",
    "A PGM (and related objects) also have other useful methods.\n",
    "\n",
    "Here are the factors of the PGM..."
   ]
  },
  {
   "cell_type": "code",
   "execution_count": 22,
   "metadata": {
    "ExecuteTime": {
     "end_time": "2025-05-14T01:25:43.665675Z",
     "start_time": "2025-05-14T01:25:43.661817Z"
    },
    "collapsed": false,
    "execution": {
     "iopub.execute_input": "2025-06-11T22:52:02.662657Z",
     "iopub.status.busy": "2025-06-11T22:52:02.661656Z",
     "iopub.status.idle": "2025-06-11T22:52:02.665212Z",
     "shell.execute_reply": "2025-06-11T22:52:02.665212Z"
    }
   },
   "outputs": [
    {
     "data": {
      "text/plain": [
       "(<ck.pgm.Factor at 0x1ad7fbf9af0>,\n",
       " <ck.pgm.Factor at 0x1ad7fbf97c0>,\n",
       " <ck.pgm.Factor at 0x1ad7fbf80e0>,\n",
       " <ck.pgm.Factor at 0x1ad7fbf8f80>,\n",
       " <ck.pgm.Factor at 0x1ad7fbf9310>)"
      ]
     },
     "execution_count": 22,
     "metadata": {},
     "output_type": "execute_result"
    }
   ],
   "source": [
    "pgm.factors"
   ]
  },
  {
   "cell_type": "code",
   "execution_count": 23,
   "metadata": {
    "ExecuteTime": {
     "end_time": "2025-05-14T01:25:43.696643Z",
     "start_time": "2025-05-14T01:25:43.693420Z"
    },
    "collapsed": false,
    "execution": {
     "iopub.execute_input": "2025-06-11T22:52:02.666216Z",
     "iopub.status.busy": "2025-06-11T22:52:02.666216Z",
     "iopub.status.idle": "2025-06-11T22:52:02.669302Z",
     "shell.execute_reply": "2025-06-11T22:52:02.669302Z"
    }
   },
   "outputs": [
    {
     "name": "stdout",
     "output_type": "stream",
     "text": [
      "('pollution')\n",
      "('smoker')\n",
      "('cancer', 'pollution', 'smoker')\n",
      "('xray', 'cancer')\n",
      "('dyspnoea', 'cancer')\n"
     ]
    }
   ],
   "source": [
    "for factor in pgm.factors:\n",
    "    print(factor)"
   ]
  },
  {
   "cell_type": "markdown",
   "metadata": {
    "collapsed": false
   },
   "source": [
    "We can iterate over all the factors connected to a random variable..."
   ]
  },
  {
   "cell_type": "code",
   "execution_count": 24,
   "metadata": {
    "ExecuteTime": {
     "end_time": "2025-05-14T01:25:43.714985Z",
     "start_time": "2025-05-14T01:25:43.711419Z"
    },
    "collapsed": false,
    "execution": {
     "iopub.execute_input": "2025-06-11T22:52:02.671306Z",
     "iopub.status.busy": "2025-06-11T22:52:02.670306Z",
     "iopub.status.idle": "2025-06-11T22:52:02.673439Z",
     "shell.execute_reply": "2025-06-11T22:52:02.673439Z"
    }
   },
   "outputs": [
    {
     "name": "stdout",
     "output_type": "stream",
     "text": [
      "('pollution')\n",
      "('cancer', 'pollution', 'smoker')\n"
     ]
    }
   ],
   "source": [
    "for factor in pollution.factors():\n",
    "    print(factor)"
   ]
  },
  {
   "cell_type": "markdown",
   "metadata": {
    "collapsed": false
   },
   "source": [
    "We can get the Markov blanket of a random variable, which is the set of random variables directly connected to it by a factor."
   ]
  },
  {
   "cell_type": "code",
   "execution_count": 25,
   "metadata": {
    "ExecuteTime": {
     "end_time": "2025-05-14T01:25:43.741640Z",
     "start_time": "2025-05-14T01:25:43.729334Z"
    },
    "collapsed": false,
    "execution": {
     "iopub.execute_input": "2025-06-11T22:52:02.675444Z",
     "iopub.status.busy": "2025-06-11T22:52:02.674444Z",
     "iopub.status.idle": "2025-06-11T22:52:02.678028Z",
     "shell.execute_reply": "2025-06-11T22:52:02.678028Z"
    }
   },
   "outputs": [
    {
     "data": {
      "text/plain": [
       "{<ck.pgm.RandomVariable at 0x1ad7fb7f2c0>,\n",
       " <ck.pgm.RandomVariable at 0x1ad7fb7f320>}"
      ]
     },
     "execution_count": 25,
     "metadata": {},
     "output_type": "execute_result"
    }
   ],
   "source": [
    "pollution.markov_blanket()"
   ]
  },
  {
   "cell_type": "code",
   "execution_count": 26,
   "metadata": {
    "ExecuteTime": {
     "end_time": "2025-05-14T01:25:43.760670Z",
     "start_time": "2025-05-14T01:25:43.747024Z"
    },
    "collapsed": false,
    "execution": {
     "iopub.execute_input": "2025-06-11T22:52:02.679032Z",
     "iopub.status.busy": "2025-06-11T22:52:02.679032Z",
     "iopub.status.idle": "2025-06-11T22:52:02.682120Z",
     "shell.execute_reply": "2025-06-11T22:52:02.682120Z"
    }
   },
   "outputs": [
    {
     "name": "stdout",
     "output_type": "stream",
     "text": [
      "smoker\n",
      "cancer\n"
     ]
    }
   ],
   "source": [
    "for rv in pollution.markov_blanket():\n",
    "    print(rv)"
   ]
  }
 ],
 "metadata": {
  "kernelspec": {
   "display_name": "Python 3",
   "language": "python",
   "name": "python3"
  },
  "language_info": {
   "codemirror_mode": {
    "name": "ipython",
    "version": 3
   },
   "file_extension": ".py",
   "mimetype": "text/x-python",
   "name": "python",
   "nbconvert_exporter": "python",
   "pygments_lexer": "ipython3",
   "version": "3.12.10"
  }
 },
 "nbformat": 4,
 "nbformat_minor": 0
}
