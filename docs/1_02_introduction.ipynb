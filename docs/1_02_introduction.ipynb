{
 "cells": [
  {
   "cell_type": "markdown",
   "metadata": {
    "collapsed": false
   },
   "source": [
    "# Introduction"
   ]
  },
  {
   "cell_type": "markdown",
   "metadata": {
    "collapsed": false
   },
   "source": [
    "## What is Compiled Knowledge\n",
    "\n",
    "Compiled Knowledge is a software library for compiling and querying discrete probabilistic graphical models. A probabilistic graphical model (PGM) represents probabilistic relationships across a collection of random variables. A discrete PGM is one where all random variables have a fixed, finite set of possible values.\n",
    "\n",
    "The library is provided as a Python package (called `ck`). There is an additional package containing demonstration Python scripts (called `ck_demos`).\n",
    "\n",
    "Most functionality is provided directly as Python code. However, some features of the library may require installation of third-party products and/or external compilation of non-Python components.\n",
    "\n",
    "### Aim\n",
    "\n",
    "The main aim of Compiled Knowledge is to provide efficient scripting environment (using Python) to create and use probabilistic graphical models.\n",
    "\n",
    "The scope is probabilistic graphical models as factor graphs of discrete random variables.\n",
    "\n",
    "The focus is on computationally efficient inference methods, via exploiting determinism in models (i.e., sparse potential functions and common parameters), and via compilation to arithmetic circuits and optimized programs of machine instructions.\n",
    "\n",
    "### Key features\n",
    "\n",
    "CK provides a streamlined PGM compilation process, with integrated PGM query types.\n",
    "\n",
    "Compilation exploits determinism from sparse and functional factors for optimized circuits and programs.\n",
    "\n",
    "Cython and LLVM acceleration is used for crucial computational elements.\n",
    "\n",
    "Many pre-built example PGMs are provided (especially standard Bayesian networks used within the research community).\n",
    "\n",
    "CK can integrate the ACE compiler provided by the Automated Reasoning Group, University of California Los Angeles. See http://reasoning.cs.ucla.edu/ace/ for more information about ACE."
   ]
  }
 ],
 "metadata": {
  "kernelspec": {
   "display_name": "Python 3",
   "language": "python",
   "name": "python3"
  },
  "language_info": {
   "codemirror_mode": {
    "name": "ipython",
    "version": 3
   },
   "file_extension": ".py",
   "mimetype": "text/x-python",
   "name": "python",
   "nbconvert_exporter": "python",
   "pygments_lexer": "ipython3",
   "version": "3.12.10"
  }
 },
 "nbformat": 4,
 "nbformat_minor": 0
}
