{
 "cells": [
  {
   "cell_type": "markdown",
   "metadata": {},
   "source": [
    "# Machine Learning\n",
    "\n",
    "In general, _machine learning_ is the automatic creation of a model using training data.\n",
    "A common kind of model is a _classifier_ which provides a predicted value for a _target_ random variable, given values for some _source_ random variables. Within CK the most common kind of model is a probabilistic graphical model (PGM).\n",
    "\n",
    "Considering probabilistic graphical models, two kinds of learning are possible: parameter learning and structure learning."
   ]
  },
  {
   "cell_type": "markdown",
   "metadata": {},
   "source": [
    "# <a name=\"ParameterLearning\"></a>Parameter Learning\n",
    "\n",
    "Parameter learning describes a process where the values of the parameters of a model are set using training data.\n",
    "\n",
    "To perform parameter learning, first a model structure needs to be defined. This can be done in CK by creating a `PGM` object with random variables and factors. There is no need to set the potential functions of the factors - just leave the default potential functions, which is the `ZeroPotentialFunction`.\n",
    "\n",
    "The following code creates a PGM with the structure of the Student Bayesian network."
   ]
  },
  {
   "cell_type": "code",
   "execution_count": 1,
   "metadata": {
    "ExecuteTime": {
     "end_time": "2025-07-15T02:36:45.321584Z",
     "start_time": "2025-07-15T02:36:45.237720Z"
    },
    "execution": {
     "iopub.execute_input": "2025-07-15T03:55:13.438717Z",
     "iopub.status.busy": "2025-07-15T03:55:13.438717Z",
     "iopub.status.idle": "2025-07-15T03:55:13.454006Z",
     "shell.execute_reply": "2025-07-15T03:55:13.454006Z"
    }
   },
   "outputs": [
    {
     "name": "stdout",
     "output_type": "stream",
     "text": [
      "PGM id=2830421507440 name='Student'\n",
      "  name: Student\n",
      "  number of random variables: 5\n",
      "  number of indicators: 11\n",
      "  number of states: 48\n",
      "  log 2 of states: 5.585\n",
      "  number of factors: 5\n",
      "  number of functions: 5\n",
      "  number of non-zero functions: 0\n",
      "  number of parameters: 26\n",
      "  number of functions (excluding ZeroPotentialFunction): 0\n",
      "  number of parameters (excluding ZeroPotentialFunction): 0\n",
      "  Bayesian structure: True\n",
      "  CPT factors: True\n",
      "random variables (5)\n",
      "    0 'difficult' (2) ['y', 'n']\n",
      "    1 'intelligent' (2) ['y', 'n']\n",
      "    2 'grade' (3) ['low', 'medium', 'high']\n",
      "    3 'award' (2) ['y', 'n']\n",
      "    4 'letter' (2) ['y', 'n']\n",
      "factors (5)\n",
      "    0 rvs=[0] function=<zero>\n",
      "    1 rvs=[1] function=<zero>\n",
      "    2 rvs=[2, 1, 0] function=<zero>\n",
      "    3 rvs=[3, 1] function=<zero>\n",
      "    4 rvs=[4, 2] function=<zero>\n",
      "functions (5)\n",
      "end PGM id=2830421507440\n"
     ]
    }
   ],
   "source": [
    "from ck.pgm import PGM\n",
    "\n",
    "pgm = PGM('Student')\n",
    "\n",
    "difficult = pgm.new_rv('difficult', ['y', 'n'])\n",
    "intelligent = pgm.new_rv('intelligent', ['y', 'n'])\n",
    "grade = pgm.new_rv('grade', ['low', 'medium', 'high'])\n",
    "award = pgm.new_rv('award', ['y', 'n'])\n",
    "letter = pgm.new_rv('letter', ['y', 'n'])\n",
    "\n",
    "pgm.new_factor(difficult)\n",
    "pgm.new_factor(intelligent)\n",
    "pgm.new_factor(grade, intelligent, difficult)\n",
    "pgm.new_factor(award, intelligent)\n",
    "pgm.new_factor(letter, grade)\n",
    "\n",
    "pgm.dump()"
   ]
  },
  {
   "cell_type": "markdown",
   "metadata": {},
   "source": [
    "Next we create an example training dataset, using the PGM random variables as the random variables of the dataset."
   ]
  },
  {
   "cell_type": "code",
   "execution_count": 2,
   "metadata": {
    "ExecuteTime": {
     "end_time": "2025-07-15T02:36:45.564411Z",
     "start_time": "2025-07-15T02:36:45.557422Z"
    },
    "execution": {
     "iopub.execute_input": "2025-07-15T03:55:13.481189Z",
     "iopub.status.busy": "2025-07-15T03:55:13.481189Z",
     "iopub.status.idle": "2025-07-15T03:55:13.487231Z",
     "shell.execute_reply": "2025-07-15T03:55:13.486888Z"
    }
   },
   "outputs": [
    {
     "name": "stdout",
     "output_type": "stream",
     "text": [
      "rvs: [difficult, intelligent, grade, award, letter]\n",
      "instances (9, with total weight 9.0):\n",
      "(0, 1, 2, 0, 1) * 1.0\n",
      "(1, 1, 2, 0, 1) * 1.0\n",
      "(1, 1, 2, 0, 1) * 1.0\n",
      "(0, 0, 2, 0, 0) * 1.0\n",
      "(0, 1, 1, 1, 0) * 1.0\n",
      "(1, 1, 1, 1, 1) * 1.0\n",
      "(1, 1, 0, 0, 0) * 1.0\n",
      "(1, 1, 0, 0, 1) * 1.0\n",
      "(1, 0, 0, 0, 0) * 1.0\n"
     ]
    }
   ],
   "source": [
    "from ck.dataset.dataset_from_csv import hard_dataset_from_csv\n",
    "\n",
    "rvs = (difficult, intelligent, grade, award, letter)\n",
    "\n",
    "csv = \"\"\"\n",
    "0,1,2,0,1\n",
    "1,1,2,0,1\n",
    "1,1,2,0,1\n",
    "0,0,2,0,0\n",
    "0,1,1,1,0\n",
    "1,1,1,1,1\n",
    "1,1,0,0,0\n",
    "1,1,0,0,1\n",
    "1,0,0,0,0\n",
    "\"\"\"\n",
    "\n",
    "dataset = hard_dataset_from_csv(rvs, csv.splitlines())\n",
    "\n",
    "dataset.dump()"
   ]
  },
  {
   "cell_type": "markdown",
   "metadata": {},
   "source": [
    "## Bayesian Network Maximum-likelihood Training"
   ]
  },
  {
   "cell_type": "markdown",
   "metadata": {},
   "source": [
    "Parameter training for a PGM involves determining the parameter values for its potential functions.\n",
    "\n",
    "In particular, `train_generative_bn` will assume the PGM represents a Bayesian network and provides\n",
    "parameter values representing conditional probability tables (CPTs).\n",
    "\n",
    "The returned parameter values can then be used to update the PGMs potential functions."
   ]
  },
  {
   "cell_type": "code",
   "execution_count": 3,
   "metadata": {
    "ExecuteTime": {
     "end_time": "2025-07-15T02:36:48.073234Z",
     "start_time": "2025-07-15T02:36:48.060970Z"
    },
    "execution": {
     "iopub.execute_input": "2025-07-15T03:55:13.489236Z",
     "iopub.status.busy": "2025-07-15T03:55:13.489236Z",
     "iopub.status.idle": "2025-07-15T03:55:13.494566Z",
     "shell.execute_reply": "2025-07-15T03:55:13.494566Z"
    }
   },
   "outputs": [],
   "source": [
    "from ck.learning.train_generative import train_generative_bn, ParameterValues\n",
    "\n",
    "# Learn parameters values for `pgm` using the training data `dataset`.\n",
    "parameter_values: ParameterValues = train_generative_bn(pgm, dataset)\n",
    "\n",
    "# Use the resulting parameter values to update the PGM potential functions.\n",
    "parameter_values.set_sparse()\n"
   ]
  },
  {
   "cell_type": "markdown",
   "metadata": {},
   "source": [
    "Here is the updated PGM and parameter values..."
   ]
  },
  {
   "cell_type": "code",
   "execution_count": 4,
   "metadata": {
    "ExecuteTime": {
     "end_time": "2025-07-15T02:36:54.033999Z",
     "start_time": "2025-07-15T02:36:54.028943Z"
    },
    "execution": {
     "iopub.execute_input": "2025-07-15T03:55:13.496617Z",
     "iopub.status.busy": "2025-07-15T03:55:13.496617Z",
     "iopub.status.idle": "2025-07-15T03:55:13.500450Z",
     "shell.execute_reply": "2025-07-15T03:55:13.500450Z"
    }
   },
   "outputs": [
    {
     "name": "stdout",
     "output_type": "stream",
     "text": [
      "PGM id=2830421507440 name='Student'\n",
      "  name: Student\n",
      "  number of random variables: 5\n",
      "  number of indicators: 11\n",
      "  number of states: 48\n",
      "  log 2 of states: 5.585\n",
      "  number of factors: 5\n",
      "  number of functions: 5\n",
      "  number of non-zero functions: 5\n",
      "  number of parameters: 20\n",
      "  number of functions (excluding ZeroPotentialFunction): 5\n",
      "  number of parameters (excluding ZeroPotentialFunction): 20\n",
      "  Bayesian structure: True\n",
      "  CPT factors: True\n",
      "random variables (5)\n",
      "    0 'difficult' (2) ['y', 'n']\n",
      "    1 'intelligent' (2) ['y', 'n']\n",
      "    2 'grade' (3) ['low', 'medium', 'high']\n",
      "    3 'award' (2) ['y', 'n']\n",
      "    4 'letter' (2) ['y', 'n']\n",
      "factors (5)\n",
      "    0 rvs=[0] function=2830422134416: SparsePotentialFunction\n",
      "    1 rvs=[1] function=2830422144736: SparsePotentialFunction\n",
      "    2 rvs=[2, 1, 0] function=2830422144784: SparsePotentialFunction\n",
      "    3 rvs=[3, 1] function=2830422144832: SparsePotentialFunction\n",
      "    4 rvs=[4, 2] function=2830422144880: SparsePotentialFunction\n",
      "functions (5)\n",
      "  2830422134416: SparsePotentialFunction\n",
      "    usage: 1\n",
      "    rvs: 1\n",
      "    shape: (2)\n",
      "    states: 2\n",
      "    guaranteed zero: 0\n",
      "    not guaranteed zero: 2\n",
      "    parameters: 2\n",
      "  2830422144736: SparsePotentialFunction\n",
      "    usage: 1\n",
      "    rvs: 1\n",
      "    shape: (2)\n",
      "    states: 2\n",
      "    guaranteed zero: 0\n",
      "    not guaranteed zero: 2\n",
      "    parameters: 2\n",
      "  2830422144784: SparsePotentialFunction\n",
      "    usage: 1\n",
      "    rvs: 3\n",
      "    shape: (3, 2, 2)\n",
      "    states: 12\n",
      "    guaranteed zero: 5\n",
      "    not guaranteed zero: 7\n",
      "    parameters: 7\n",
      "  2830422144832: SparsePotentialFunction\n",
      "    usage: 1\n",
      "    rvs: 2\n",
      "    shape: (2, 2)\n",
      "    states: 4\n",
      "    guaranteed zero: 1\n",
      "    not guaranteed zero: 3\n",
      "    parameters: 3\n",
      "  2830422144880: SparsePotentialFunction\n",
      "    usage: 1\n",
      "    rvs: 2\n",
      "    shape: (2, 3)\n",
      "    states: 6\n",
      "    guaranteed zero: 0\n",
      "    not guaranteed zero: 6\n",
      "    parameters: 6\n",
      "end PGM id=2830421507440\n",
      "\n",
      "('difficult')(0,) = 0.3333333333333333\n",
      "('difficult')(1,) = 0.6666666666666666\n",
      "('intelligent')(0,) = 0.2222222222222222\n",
      "('intelligent')(1,) = 0.7777777777777778\n",
      "('grade', 'intelligent', 'difficult')(1, 1, 0) = 0.5\n",
      "('grade', 'intelligent', 'difficult')(2, 1, 0) = 0.5\n",
      "('grade', 'intelligent', 'difficult')(0, 1, 1) = 0.4\n",
      "('grade', 'intelligent', 'difficult')(1, 1, 1) = 0.2\n",
      "('grade', 'intelligent', 'difficult')(2, 1, 1) = 0.4\n",
      "('grade', 'intelligent', 'difficult')(2, 0, 0) = 1.0\n",
      "('grade', 'intelligent', 'difficult')(0, 0, 1) = 1.0\n",
      "('award', 'intelligent')(0, 1) = 0.7142857142857143\n",
      "('award', 'intelligent')(1, 1) = 0.2857142857142857\n",
      "('award', 'intelligent')(0, 0) = 1.0\n",
      "('letter', 'grade')(0, 2) = 0.25\n",
      "('letter', 'grade')(1, 2) = 0.75\n",
      "('letter', 'grade')(0, 1) = 0.5\n",
      "('letter', 'grade')(1, 1) = 0.5\n",
      "('letter', 'grade')(0, 0) = 0.6666666666666666\n",
      "('letter', 'grade')(1, 0) = 0.3333333333333333\n"
     ]
    }
   ],
   "source": [
    "pgm.dump()\n",
    "print()\n",
    "\n",
    "for factor in pgm.factors:\n",
    "    function = factor.function\n",
    "    for instance, _, param_value in function.keys_with_param:\n",
    "        print(f'{factor}{instance} = {param_value}')"
   ]
  },
  {
   "cell_type": "markdown",
   "metadata": {},
   "source": [
    "Here is an example of using the resulting trained model. (Don't try to interpret the probabilities as per the real world. The training data is fictitious.)"
   ]
  },
  {
   "cell_type": "code",
   "execution_count": 5,
   "metadata": {
    "ExecuteTime": {
     "end_time": "2025-07-15T02:37:13.017480Z",
     "start_time": "2025-07-15T02:37:12.931837Z"
    },
    "execution": {
     "iopub.execute_input": "2025-07-15T03:55:13.502454Z",
     "iopub.status.busy": "2025-07-15T03:55:13.501454Z",
     "iopub.status.idle": "2025-07-15T03:55:13.585839Z",
     "shell.execute_reply": "2025-07-15T03:55:13.585839Z"
    }
   },
   "outputs": [
    {
     "name": "stdout",
     "output_type": "stream",
     "text": [
      "Probabilities from trained PGM:\n",
      "Pr(grade | difficult=y, intelligent=y) = [0. 0. 1.]\n",
      "Pr(grade | difficult=n, intelligent=y) = [1. 0. 0.]\n",
      "Pr(grade | difficult=y, intelligent=n) = [0.  0.5 0.5]\n",
      "Pr(grade | difficult=n, intelligent=n) = [0.4 0.2 0.4]\n"
     ]
    }
   ],
   "source": [
    "from ck.pgm_circuit.wmc_program import WMCProgram\n",
    "from ck.pgm_compiler import DEFAULT_PGM_COMPILER\n",
    "\n",
    "wmc = WMCProgram(DEFAULT_PGM_COMPILER(pgm))\n",
    "\n",
    "print('Probabilities from trained PGM:')\n",
    "for i in intelligent.indicators:\n",
    "    for d in difficult.indicators:\n",
    "        w = wmc.marginal_distribution(grade, condition=(d, i))\n",
    "        print(f'Pr({grade} | {pgm.indicator_str(d, i)}) = {w}')\n"
   ]
  }
 ],
 "metadata": {
  "kernelspec": {
   "display_name": "Python 3 (ipykernel)",
   "language": "python",
   "name": "python3"
  },
  "language_info": {
   "codemirror_mode": {
    "name": "ipython",
    "version": 3
   },
   "file_extension": ".py",
   "mimetype": "text/x-python",
   "name": "python",
   "nbconvert_exporter": "python",
   "pygments_lexer": "ipython3",
   "version": "3.12.10"
  }
 },
 "nbformat": 4,
 "nbformat_minor": 1
}
