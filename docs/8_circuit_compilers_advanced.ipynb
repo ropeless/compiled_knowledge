{
 "cells": [
  {
   "metadata": {},
   "cell_type": "markdown",
   "source": "# Circuit Compilers Advanced Topics",
   "id": "8f29b522c2c2aa91"
  },
  {
   "metadata": {},
   "cell_type": "markdown",
   "source": [
    "Recall a circuit compiler is a function that takes an arithmetic circuit and compiles it into a program, specifically a `RawProgram` object.\n",
    "\n",
    "There are several circuit compilers provided by CK, and it is possible to write custom circuit compilers. A circuit compiler is a callable with the signature:\n",
    "```\n",
    "def my_circuit_compiler(\n",
    "    *result: CircuitNode,\n",
    "    input_vars: InputVars = InferVars.ALL,\n",
    "    circuit: Optional[Circuit] = None,\n",
    ") -> RawProgram:\n",
    "```\n",
    "\n",
    "That is, the callable takes zero or more arguments, the circuit result nodes, and optional keyword arguments. The results nodes must be from the same circuit.\n",
    "\n",
    "Parameter `input_vars` specifies how to determine the function input variables. Default is to use all circuit variables, in index order. Other options are documented in the module `ck.circuit_compiler.support.input_vars`.\n",
    "\n",
    "Parameter `circuit` is rarely needed as each result node keeps track of the circuit it belongs to. However, in some circumstances, when there are no result nodes, the circuit needs to be provided. If the `circuit` parameter is used, then the supplied circuit must be the same as that of the result nodes.\n"
   ],
   "id": "a20485070f585fee"
  },
  {
   "metadata": {},
   "cell_type": "markdown",
   "source": [
    "CK provides many circuit compilers, each using different algorithms. Each provided circuit compiler is a `NamedCircuitCompiler` enum member.\n",
    "\n",
    "Here are the named circuit compilers, which are explained in the next sections."
   ],
   "id": "5c4c03553c390e93"
  },
  {
   "metadata": {
    "ExecuteTime": {
     "end_time": "2025-05-14T01:56:51.461788Z",
     "start_time": "2025-05-14T01:56:51.336766Z"
    }
   },
   "cell_type": "code",
   "source": [
    "from ck.circuit_compiler import NamedCircuitCompiler\n",
    "\n",
    "for compiler in NamedCircuitCompiler:\n",
    "    print(compiler.name)"
   ],
   "id": "765f26c747c1aaa3",
   "outputs": [
    {
     "name": "stdout",
     "output_type": "stream",
     "text": [
      "LLVM_STACK\n",
      "LLVM_TMPS\n",
      "LLVM_VM\n",
      "CYTHON_VM\n",
      "INTERPRET\n"
     ]
    }
   ],
   "execution_count": 1
  },
  {
   "metadata": {},
   "cell_type": "markdown",
   "source": [
    "## LLVM_STACK\n",
    "Use the LLVM compiler to compile to a native binary function, where no temporary working memory is explicitly allocated at compile time or requested at run time. All temporary variables are allocated on the stack as determined by the LLVM compiler.\n",
    "\n",
    "This compiler creates an extremely efficient run time. However, the compile time can be prohibitive for even moderately sized circuits.\n",
    "\n",
    "## LLVM_TMPS\n",
    "Use the LLVM compiler to compile to a native binary function, where  temporary working memory is allocated at compile time.\n",
    "\n",
    "##  LLVM_VM\n",
    "Use the LLVM compiler to compile a virtual CPU as native binary function, where  instructions for the virtual CPU are determined by traversing the circuit and stored as a constant array by the LLVM compiler.\n",
    "\n",
    "This compiler creates a moderately efficient run time. The compile times can be significantly better than `LLVM_STACK` and `LLVM_TMPS`.\n",
    "\n",
    "##  CYTHON_VM\n",
    "Use a Cython implementation of a virtual CPU as native binary function, where  instructions for the virtual CPU are determined by traversing the circuit and provided to the Cythonised virtual CPU by the raw program.\n",
    "\n",
    "This compiler creates a moderately efficient run time. he compile times are generally very fast, and are significantly better than LLVM compilers.\n",
    "\n",
    "##  INTERPRET\n",
    "Use a Python implementation of a virtual CPU as native binary function, where  instructions for the virtual CPU are determined by traversing the circuit and provided to the virtual CPU by the raw program.\n",
    "\n",
    "This compiler creates an inefficient run time, but is easy to inspect and debug (As it is Python). The compile times are generally very fast."
   ],
   "id": "d0bba7d7d4b71fa1"
  },
  {
   "metadata": {},
   "cell_type": "markdown",
   "source": "Here is a demonstration of the named circuit compilers. This code show the compile time and program execution time for each compiler, using a circuit created from an example PGM.",
   "id": "26028e22e4fc5c22"
  },
  {
   "metadata": {
    "ExecuteTime": {
     "end_time": "2025-05-14T01:56:57.435629Z",
     "start_time": "2025-05-14T01:56:51.461788Z"
    }
   },
   "cell_type": "code",
   "source": [
    "import timeit\n",
    "from ck.example import Insurance\n",
    "from ck.pgm_compiler import DEFAULT_PGM_COMPILER\n",
    "from ck.pgm_circuit import PGMCircuit\n",
    "from ck.circuit import CircuitNode\n",
    "from ck.program.program_buffer import ProgramBuffer\n",
    "\n",
    "pgm = Insurance()\n",
    "pgm_cct: PGMCircuit = DEFAULT_PGM_COMPILER(pgm)\n",
    "top: CircuitNode = pgm_cct.circuit_top\n",
    "\n",
    "for compiler in NamedCircuitCompiler:\n",
    "    # Time compilation\n",
    "    start_time = timeit.default_timer()\n",
    "    raw_program = compiler(top)\n",
    "    stop_time = timeit.default_timer()\n",
    "    compile_time = (stop_time - start_time) * 1000  # as milliseconds\n",
    "\n",
    "    # Time c running the program\n",
    "    program = ProgramBuffer(raw_program)\n",
    "    start_time = timeit.default_timer()\n",
    "    program.compute()\n",
    "    stop_time = timeit.default_timer()\n",
    "    run_time = (stop_time - start_time) * 1000  # as milliseconds\n",
    "\n",
    "    print(f'{compiler.name:>10}  {compile_time:8.3f}ms {run_time:8.3f}ms')\n"
   ],
   "id": "6f7f50778532973f",
   "outputs": [
    {
     "name": "stdout",
     "output_type": "stream",
     "text": [
      "LLVM_STACK  2633.044ms    0.019ms\n",
      " LLVM_TMPS  2952.220ms    0.068ms\n",
      "   LLVM_VM    90.165ms    0.172ms\n",
      " CYTHON_VM    52.294ms    0.723ms\n",
      " INTERPRET    41.915ms   17.731ms\n"
     ]
    }
   ],
   "execution_count": 2
  },
  {
   "metadata": {},
   "cell_type": "markdown",
   "source": "The default circuit compiler is available as `DEFAULT_CIRCUIT_COMPILER`, which is a `NamedCircuitCompiler` enum member.",
   "id": "33b7edbd08b6b27d"
  },
  {
   "metadata": {
    "ExecuteTime": {
     "end_time": "2025-05-14T01:56:57.610478Z",
     "start_time": "2025-05-14T01:56:57.605526Z"
    }
   },
   "cell_type": "code",
   "source": [
    "from ck.circuit_compiler import DEFAULT_CIRCUIT_COMPILER\n",
    "\n",
    "DEFAULT_CIRCUIT_COMPILER.name"
   ],
   "id": "87ee01242173dcca",
   "outputs": [
    {
     "data": {
      "text/plain": [
       "'LLVM_VM'"
      ]
     },
     "execution_count": 3,
     "metadata": {},
     "output_type": "execute_result"
    }
   ],
   "execution_count": 3
  }
 ],
 "metadata": {
  "kernelspec": {
   "display_name": "Python 3",
   "language": "python",
   "name": "python3"
  },
  "language_info": {
   "codemirror_mode": {
    "name": "ipython",
    "version": 2
   },
   "file_extension": ".py",
   "mimetype": "text/x-python",
   "name": "python",
   "nbconvert_exporter": "python",
   "pygments_lexer": "ipython2",
   "version": "2.7.6"
  }
 },
 "nbformat": 4,
 "nbformat_minor": 5
}
